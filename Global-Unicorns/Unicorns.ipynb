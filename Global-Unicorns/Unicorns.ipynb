{
 "cells": [
  {
   "cell_type": "markdown",
   "id": "23fbad49",
   "metadata": {},
   "source": [
    "## Preamble, Set Up and Data Cleaning"
   ]
  },
  {
   "cell_type": "code",
   "execution_count": 327,
   "id": "94a1adf3",
   "metadata": {},
   "outputs": [],
   "source": [
    "import qgrid\n",
    "qgrid.set_grid_option('forceFitColumns', False)\n",
    "import pandas as pd\n",
    "import numpy as np\n",
    "import statsmodels.api as sm\n",
    "import seaborn as sns\n",
    "import matplotlib.pyplot as plt"
   ]
  },
  {
   "cell_type": "code",
   "execution_count": 328,
   "id": "800050a5",
   "metadata": {},
   "outputs": [],
   "source": [
    "df = pd.read_csv('/Users/enochosei/Library/Mobile Documents/com~apple~CloudDocs/Data Science/unicorn_startup_companies (1).csv')"
   ]
  },
  {
   "cell_type": "code",
   "execution_count": 329,
   "id": "f3f36232",
   "metadata": {
    "scrolled": true
   },
   "outputs": [],
   "source": [
    "# qgrid.show_grid(df)"
   ]
  },
  {
   "cell_type": "code",
   "execution_count": 330,
   "id": "2b9ad35d",
   "metadata": {},
   "outputs": [
    {
     "data": {
      "text/html": [
       "<div>\n",
       "<style scoped>\n",
       "    .dataframe tbody tr th:only-of-type {\n",
       "        vertical-align: middle;\n",
       "    }\n",
       "\n",
       "    .dataframe tbody tr th {\n",
       "        vertical-align: top;\n",
       "    }\n",
       "\n",
       "    .dataframe thead th {\n",
       "        text-align: right;\n",
       "    }\n",
       "</style>\n",
       "<table border=\"1\" class=\"dataframe\">\n",
       "  <thead>\n",
       "    <tr style=\"text-align: right;\">\n",
       "      <th></th>\n",
       "      <th>Unnamed: 0</th>\n",
       "      <th>Company</th>\n",
       "      <th>Valuation ($B)</th>\n",
       "      <th>Date Joined</th>\n",
       "      <th>Country</th>\n",
       "      <th>City</th>\n",
       "      <th>Industry</th>\n",
       "      <th>Select Investors</th>\n",
       "    </tr>\n",
       "  </thead>\n",
       "  <tbody>\n",
       "    <tr>\n",
       "      <th>0</th>\n",
       "      <td>0</td>\n",
       "      <td>ByteDance</td>\n",
       "      <td>$225</td>\n",
       "      <td>4/7/2017</td>\n",
       "      <td>China</td>\n",
       "      <td>Beijing</td>\n",
       "      <td>Media &amp; Entertainment</td>\n",
       "      <td>Sequoia Capital China, SIG Asia Investments, S...</td>\n",
       "    </tr>\n",
       "    <tr>\n",
       "      <th>1</th>\n",
       "      <td>1</td>\n",
       "      <td>SpaceX</td>\n",
       "      <td>$137</td>\n",
       "      <td>12/1/2012</td>\n",
       "      <td>United States</td>\n",
       "      <td>Hawthorne</td>\n",
       "      <td>Industrials</td>\n",
       "      <td>Founders Fund, Draper Fisher Jurvetson, Rothen...</td>\n",
       "    </tr>\n",
       "    <tr>\n",
       "      <th>2</th>\n",
       "      <td>2</td>\n",
       "      <td>SHEIN</td>\n",
       "      <td>$66</td>\n",
       "      <td>7/3/2018</td>\n",
       "      <td>China</td>\n",
       "      <td>Shenzhen</td>\n",
       "      <td>Consumer &amp; Retail</td>\n",
       "      <td>Tiger Global Management, Sequoia Capital China...</td>\n",
       "    </tr>\n",
       "    <tr>\n",
       "      <th>3</th>\n",
       "      <td>3</td>\n",
       "      <td>Stripe</td>\n",
       "      <td>$50</td>\n",
       "      <td>1/23/2014</td>\n",
       "      <td>United States</td>\n",
       "      <td>San Francisco</td>\n",
       "      <td>Financial Services</td>\n",
       "      <td>Khosla Ventures, LowercaseCapital, capitalG</td>\n",
       "    </tr>\n",
       "    <tr>\n",
       "      <th>4</th>\n",
       "      <td>4</td>\n",
       "      <td>Canva</td>\n",
       "      <td>$40</td>\n",
       "      <td>1/8/2018</td>\n",
       "      <td>Australia</td>\n",
       "      <td>Surry Hills</td>\n",
       "      <td>Enterprise Tech</td>\n",
       "      <td>Sequoia Capital China, Blackbird Ventures, Mat...</td>\n",
       "    </tr>\n",
       "  </tbody>\n",
       "</table>\n",
       "</div>"
      ],
      "text/plain": [
       "   Unnamed: 0    Company Valuation ($B) Date Joined        Country  \\\n",
       "0           0  ByteDance           $225    4/7/2017          China   \n",
       "1           1     SpaceX           $137   12/1/2012  United States   \n",
       "2           2      SHEIN            $66    7/3/2018          China   \n",
       "3           3     Stripe            $50   1/23/2014  United States   \n",
       "4           4      Canva            $40    1/8/2018      Australia   \n",
       "\n",
       "            City               Industry  \\\n",
       "0        Beijing  Media & Entertainment   \n",
       "1      Hawthorne            Industrials   \n",
       "2       Shenzhen      Consumer & Retail   \n",
       "3  San Francisco     Financial Services   \n",
       "4    Surry Hills        Enterprise Tech   \n",
       "\n",
       "                                    Select Investors  \n",
       "0  Sequoia Capital China, SIG Asia Investments, S...  \n",
       "1  Founders Fund, Draper Fisher Jurvetson, Rothen...  \n",
       "2  Tiger Global Management, Sequoia Capital China...  \n",
       "3        Khosla Ventures, LowercaseCapital, capitalG  \n",
       "4  Sequoia Capital China, Blackbird Ventures, Mat...  "
      ]
     },
     "execution_count": 330,
     "metadata": {},
     "output_type": "execute_result"
    }
   ],
   "source": [
    "df.head()"
   ]
  },
  {
   "cell_type": "code",
   "execution_count": 331,
   "id": "ff1ab6f1",
   "metadata": {},
   "outputs": [
    {
     "name": "stdout",
     "output_type": "stream",
     "text": [
      "Index(['Unnamed: 0', 'Company', 'Valuation ($B)', 'Date Joined', 'Country',\n",
      "       'City', 'Industry', 'Select Investors'],\n",
      "      dtype='object')\n"
     ]
    }
   ],
   "source": [
    "print(df.columns)"
   ]
  },
  {
   "cell_type": "code",
   "execution_count": 332,
   "id": "85c91d68",
   "metadata": {},
   "outputs": [],
   "source": [
    "# Drop Unnecessary Column \n",
    "df = df.drop(\"Unnamed: 0\", axis=1)"
   ]
  },
  {
   "cell_type": "code",
   "execution_count": 333,
   "id": "ceb9e474",
   "metadata": {},
   "outputs": [
    {
     "data": {
      "text/plain": [
       "Company             object\n",
       "Valuation ($B)      object\n",
       "Date Joined         object\n",
       "Country             object\n",
       "City                object\n",
       "Industry            object\n",
       "Select Investors    object\n",
       "dtype: object"
      ]
     },
     "execution_count": 333,
     "metadata": {},
     "output_type": "execute_result"
    }
   ],
   "source": [
    "# Check column datatypes\n",
    "df.dtypes"
   ]
  },
  {
   "cell_type": "code",
   "execution_count": 334,
   "id": "da8df360",
   "metadata": {},
   "outputs": [
    {
     "name": "stderr",
     "output_type": "stream",
     "text": [
      "/var/folders/qm/41v4pccs7bz2kwmbyfkprfgr0000gn/T/ipykernel_13366/3865639692.py:2: FutureWarning:\n",
      "\n",
      "The default value of regex will change from True to False in a future version. In addition, single character regular expressions will *not* be treated as literal strings when regex=True.\n",
      "\n"
     ]
    }
   ],
   "source": [
    "# Convert relevant columns to workable types\n",
    "df['Valuation ($B)'] = df['Valuation ($B)'].str.replace('$', '').astype(float)\n",
    "df['Date Joined'] = pd.to_datetime(df['Date Joined'])"
   ]
  },
  {
   "cell_type": "code",
   "execution_count": 335,
   "id": "8f558c71",
   "metadata": {},
   "outputs": [
    {
     "data": {
      "text/plain": [
       "Company                     object\n",
       "Valuation ($B)             float64\n",
       "Date Joined         datetime64[ns]\n",
       "Country                     object\n",
       "City                        object\n",
       "Industry                    object\n",
       "Select Investors            object\n",
       "dtype: object"
      ]
     },
     "execution_count": 335,
     "metadata": {},
     "output_type": "execute_result"
    }
   ],
   "source": [
    "# Confirm dtype changes  \n",
    "df.dtypes"
   ]
  },
  {
   "cell_type": "code",
   "execution_count": 336,
   "id": "cb82f1e5",
   "metadata": {},
   "outputs": [],
   "source": [
    "# Get standardized 3 character country codes \n",
    "import pycountry"
   ]
  },
  {
   "cell_type": "code",
   "execution_count": 337,
   "id": "ffa2cd85",
   "metadata": {},
   "outputs": [],
   "source": [
    "# Create a mapping of country names to country codes\n",
    "mapping = {country.name: country.alpha_3 for country in pycountry.countries}\n",
    "\n",
    "# Apply the mapping to your data frame column\n",
    "df['Country Code'] = df['Country'].apply(lambda x: mapping.get(x))"
   ]
  },
  {
   "cell_type": "code",
   "execution_count": 338,
   "id": "4172cc82",
   "metadata": {
    "scrolled": true
   },
   "outputs": [
    {
     "data": {
      "text/plain": [
       "91         South Korea\n",
       "189        South Korea\n",
       "262        South Korea\n",
       "303            Vietnam\n",
       "334        South Korea\n",
       "393        South Korea\n",
       "401            Vietnam\n",
       "407        South Korea\n",
       "517        South Korea\n",
       "531        South Korea\n",
       "718        South Korea\n",
       "742        South Korea\n",
       "744        South Korea\n",
       "825     Czech Republic\n",
       "851        South Korea\n",
       "1017       South Korea\n",
       "1065            London\n",
       "1138       South Korea\n",
       "Name: Country, dtype: object"
      ]
     },
     "execution_count": 338,
     "metadata": {},
     "output_type": "execute_result"
    }
   ],
   "source": [
    "# Countries where the mapping failed\n",
    "df[df['Country Code'].isnull()]['Country']"
   ]
  },
  {
   "cell_type": "code",
   "execution_count": 339,
   "id": "f1a65033",
   "metadata": {},
   "outputs": [],
   "source": [
    "# Apply the fuzzy search to fill the missing countries (takes a minute to run)\n",
    "df['Country Code'] = df['Country Code'].fillna(df['Country'].apply(lambda x: pycountry.countries.search_fuzzy(x)[0].alpha_3))"
   ]
  },
  {
   "cell_type": "code",
   "execution_count": 340,
   "id": "c27f008b",
   "metadata": {},
   "outputs": [
    {
     "data": {
      "text/plain": [
       "Series([], Name: Country, dtype: object)"
      ]
     },
     "execution_count": 340,
     "metadata": {},
     "output_type": "execute_result"
    }
   ],
   "source": [
    "# Check if fuzzy mapping worked (should return and empty list)\n",
    "df[df['Country Code'].isnull()]['Country']"
   ]
  },
  {
   "cell_type": "markdown",
   "id": "a93834fe",
   "metadata": {},
   "source": [
    "## Data Starting Point"
   ]
  },
  {
   "cell_type": "code",
   "execution_count": 341,
   "id": "b2af7f3b",
   "metadata": {},
   "outputs": [],
   "source": [
    "# qgrid.show_grid(df)"
   ]
  },
  {
   "cell_type": "code",
   "execution_count": 351,
   "id": "a31fac8d",
   "metadata": {},
   "outputs": [
    {
     "data": {
      "text/html": [
       "<div>\n",
       "<style scoped>\n",
       "    .dataframe tbody tr th:only-of-type {\n",
       "        vertical-align: middle;\n",
       "    }\n",
       "\n",
       "    .dataframe tbody tr th {\n",
       "        vertical-align: top;\n",
       "    }\n",
       "\n",
       "    .dataframe thead th {\n",
       "        text-align: right;\n",
       "    }\n",
       "</style>\n",
       "<table border=\"1\" class=\"dataframe\">\n",
       "  <thead>\n",
       "    <tr style=\"text-align: right;\">\n",
       "      <th></th>\n",
       "      <th>Date Joined</th>\n",
       "      <th>Date Since Joined</th>\n",
       "      <th>Company</th>\n",
       "      <th>Valuation ($B)</th>\n",
       "      <th>Country</th>\n",
       "      <th>City</th>\n",
       "      <th>Industry</th>\n",
       "      <th>Select Investors</th>\n",
       "      <th>Country Code</th>\n",
       "      <th>Decacorn</th>\n",
       "      <th>Hectocorn</th>\n",
       "    </tr>\n",
       "  </thead>\n",
       "  <tbody>\n",
       "    <tr>\n",
       "      <th>0</th>\n",
       "      <td>2017-04-07</td>\n",
       "      <td>2345</td>\n",
       "      <td>ByteDance</td>\n",
       "      <td>225.0</td>\n",
       "      <td>China</td>\n",
       "      <td>Beijing</td>\n",
       "      <td>Media &amp; Entertainment</td>\n",
       "      <td>Sequoia Capital China, SIG Asia Investments, S...</td>\n",
       "      <td>CHN</td>\n",
       "      <td>1</td>\n",
       "      <td>1</td>\n",
       "    </tr>\n",
       "    <tr>\n",
       "      <th>1</th>\n",
       "      <td>2012-12-01</td>\n",
       "      <td>3933</td>\n",
       "      <td>SpaceX</td>\n",
       "      <td>137.0</td>\n",
       "      <td>United States</td>\n",
       "      <td>Hawthorne</td>\n",
       "      <td>Industrials</td>\n",
       "      <td>Founders Fund, Draper Fisher Jurvetson, Rothen...</td>\n",
       "      <td>USA</td>\n",
       "      <td>1</td>\n",
       "      <td>1</td>\n",
       "    </tr>\n",
       "    <tr>\n",
       "      <th>2</th>\n",
       "      <td>2018-07-03</td>\n",
       "      <td>1893</td>\n",
       "      <td>SHEIN</td>\n",
       "      <td>66.0</td>\n",
       "      <td>China</td>\n",
       "      <td>Shenzhen</td>\n",
       "      <td>Consumer &amp; Retail</td>\n",
       "      <td>Tiger Global Management, Sequoia Capital China...</td>\n",
       "      <td>CHN</td>\n",
       "      <td>1</td>\n",
       "      <td>0</td>\n",
       "    </tr>\n",
       "    <tr>\n",
       "      <th>3</th>\n",
       "      <td>2014-01-23</td>\n",
       "      <td>3515</td>\n",
       "      <td>Stripe</td>\n",
       "      <td>50.0</td>\n",
       "      <td>United States</td>\n",
       "      <td>San Francisco</td>\n",
       "      <td>Financial Services</td>\n",
       "      <td>Khosla Ventures, LowercaseCapital, capitalG</td>\n",
       "      <td>USA</td>\n",
       "      <td>1</td>\n",
       "      <td>0</td>\n",
       "    </tr>\n",
       "    <tr>\n",
       "      <th>4</th>\n",
       "      <td>2018-01-08</td>\n",
       "      <td>2069</td>\n",
       "      <td>Canva</td>\n",
       "      <td>40.0</td>\n",
       "      <td>Australia</td>\n",
       "      <td>Surry Hills</td>\n",
       "      <td>Enterprise Tech</td>\n",
       "      <td>Sequoia Capital China, Blackbird Ventures, Mat...</td>\n",
       "      <td>AUS</td>\n",
       "      <td>1</td>\n",
       "      <td>0</td>\n",
       "    </tr>\n",
       "  </tbody>\n",
       "</table>\n",
       "</div>"
      ],
      "text/plain": [
       "  Date Joined  Date Since Joined    Company  Valuation ($B)        Country  \\\n",
       "0  2017-04-07               2345  ByteDance           225.0          China   \n",
       "1  2012-12-01               3933     SpaceX           137.0  United States   \n",
       "2  2018-07-03               1893      SHEIN            66.0          China   \n",
       "3  2014-01-23               3515     Stripe            50.0  United States   \n",
       "4  2018-01-08               2069      Canva            40.0      Australia   \n",
       "\n",
       "            City               Industry  \\\n",
       "0        Beijing  Media & Entertainment   \n",
       "1      Hawthorne            Industrials   \n",
       "2       Shenzhen      Consumer & Retail   \n",
       "3  San Francisco     Financial Services   \n",
       "4    Surry Hills        Enterprise Tech   \n",
       "\n",
       "                                    Select Investors Country Code  Decacorn  \\\n",
       "0  Sequoia Capital China, SIG Asia Investments, S...          CHN         1   \n",
       "1  Founders Fund, Draper Fisher Jurvetson, Rothen...          USA         1   \n",
       "2  Tiger Global Management, Sequoia Capital China...          CHN         1   \n",
       "3        Khosla Ventures, LowercaseCapital, capitalG          USA         1   \n",
       "4  Sequoia Capital China, Blackbird Ventures, Mat...          AUS         1   \n",
       "\n",
       "   Hectocorn  \n",
       "0          1  \n",
       "1          1  \n",
       "2          0  \n",
       "3          0  \n",
       "4          0  "
      ]
     },
     "execution_count": 351,
     "metadata": {},
     "output_type": "execute_result"
    }
   ],
   "source": [
    "df.head()"
   ]
  },
  {
   "cell_type": "markdown",
   "id": "6a37c315",
   "metadata": {},
   "source": [
    "## Feature Engineering and Data Enrichment\n"
   ]
  },
  {
   "cell_type": "code",
   "execution_count": 343,
   "id": "5177c325",
   "metadata": {},
   "outputs": [],
   "source": [
    "# Calculating the no of days since the company became a 'Unicorn'\n",
    "\n",
    "df['Date Since Joined'] = (pd.to_datetime('today') - df['Date Joined']).dt.days\n",
    "df = df.reindex(columns=['Date Joined', 'Date Since Joined'] + list(df.columns.drop(['Date Joined', 'Date Since Joined'])))"
   ]
  },
  {
   "cell_type": "code",
   "execution_count": 344,
   "id": "63661970",
   "metadata": {},
   "outputs": [],
   "source": [
    "# Sub-designating a unicorns as 'Decacorns' and 'Hectocorns'\n",
    "\n",
    "df['Decacorn'] = (df['Valuation ($B)'] >= 10).astype(int)\n",
    "df['Hectocorn'] = (df['Valuation ($B)'] >= 100).astype(int)"
   ]
  },
  {
   "cell_type": "code",
   "execution_count": 345,
   "id": "bb94fa54",
   "metadata": {},
   "outputs": [
    {
     "data": {
      "text/plain": [
       "Index(['Date Joined', 'Date Since Joined', 'Company', 'Valuation ($B)',\n",
       "       'Country', 'City', 'Industry', 'Select Investors', 'Country Code',\n",
       "       'Decacorn', 'Hectocorn'],\n",
       "      dtype='object')"
      ]
     },
     "execution_count": 345,
     "metadata": {},
     "output_type": "execute_result"
    }
   ],
   "source": [
    "df.columns"
   ]
  },
  {
   "cell_type": "markdown",
   "id": "0ff4b17d",
   "metadata": {},
   "source": [
    "### Adding Macro Variables to the Data Set"
   ]
  },
  {
   "cell_type": "markdown",
   "id": "a9970e63",
   "metadata": {},
   "source": [
    "#### Adding Macro data from the World Bank API"
   ]
  },
  {
   "cell_type": "code",
   "execution_count": 346,
   "id": "f5e7090b",
   "metadata": {},
   "outputs": [],
   "source": [
    "import pandas_datareader.data as web\n",
    "import wbdata\n",
    "from datetime import datetime\n",
    "import wbgapi as wb"
   ]
  },
  {
   "cell_type": "code",
   "execution_count": 347,
   "id": "0297d320",
   "metadata": {},
   "outputs": [
    {
     "name": "stdout",
     "output_type": "stream",
     "text": [
      "['BMU', 'THA', 'TUR', 'MEX', 'ITA', 'SEN', 'HRV', 'FIN', 'BEL', 'VNM', 'CHE', 'AUS', 'CZE', 'BRA', 'GRC', 'KOR', 'ECU', 'IRL', 'SYC', 'PHL', 'SWE', 'CHN', 'DEU', 'CAN', 'IND', 'EGY', 'AUT', 'USA', 'EST', 'MYS', 'ARE', 'DNK', 'LUX', 'NLD', 'SGP', 'HKG', 'ZAF', 'CHL', 'ESP', 'IDN', 'ARG', 'GBR', 'FRA', 'LTU', 'JPN', 'COL', 'NGA', 'NOR', 'ISR', 'LIE']\n"
     ]
    }
   ],
   "source": [
    "#Make a list of the country codes in the data\n",
    "country_codes = df['Country Code'].tolist()\n",
    "distinct_codes = set(country_codes)\n",
    "distinct_codes = list(distinct_codes)\n",
    "# distinct_codes.remove(None)\n",
    "print(distinct_codes)"
   ]
  },
  {
   "cell_type": "code",
   "execution_count": 348,
   "id": "0fbc2ff2",
   "metadata": {},
   "outputs": [
    {
     "name": "stdout",
     "output_type": "stream",
     "text": [
      "                             GDP  Lending interest rate  Inflation rate  \\\n",
      "country       date                                                        \n",
      "Canada        2022  2.139840e+12                    NaN        6.802801   \n",
      "Mexico        2022  1.414187e+12               8.179167        7.896276   \n",
      "United States 2022  2.546270e+13                    NaN        8.002800   \n",
      "\n",
      "                   Corporation tax  \n",
      "country       date                  \n",
      "Canada        2022            None  \n",
      "Mexico        2022            None  \n",
      "United States 2022            None  \n"
     ]
    }
   ],
   "source": [
    "# Test World Bank Data Extraction\n",
    "\n",
    "# Test list of countries\n",
    "countries = [\"USA\", \"CAN\", \"MEX\"]\n",
    "\n",
    "# Create a list of indicators\n",
    "\n",
    "\n",
    "indicators_per_cap = {\"NY.GDP.PCAP.CD\": \"Current GDP per capita\"}\n",
    "\n",
    "# Create a list of indicators\n",
    "indicators = {\"NY.GDP.MKTP.CD\": \"GDP\", \"FR.INR.LEND\": \"Lending interest rate\", \"FP.CPI.TOTL.ZG\": \"Inflation rate\", \"IC.TAX.TOTL.CP.ZS\": \"Corporation tax\"}\n",
    "\n",
    "\n",
    "past_indicators = {\"NY.GDP.MKTP.CD\": \"GDP\"}\n",
    "past_indicators_per_cap = {\"NY.GDP.PCAP.CD\": \"GDP per capita\"}\n",
    "\n",
    "data_date = datetime.strptime(\"2022\", \"%Y\")\n",
    "\n",
    "# Get the data for the most recent year available\n",
    "df2 =  wbdata.get_dataframe(indicators, country=countries,data_date=data_date, keep_levels=True)\n",
    "\n",
    "print(df2.head())"
   ]
  },
  {
   "cell_type": "code",
   "execution_count": 349,
   "id": "9eb5f005",
   "metadata": {},
   "outputs": [],
   "source": [
    "#Define relevant time period for GDP data \n",
    "prev_years = (datetime(2006, 1, 1), datetime(2022,1, 1))"
   ]
  },
  {
   "cell_type": "code",
   "execution_count": 350,
   "id": "8eb26be9",
   "metadata": {},
   "outputs": [],
   "source": [
    "#Dataframe for of Macro variables\n",
    "\n",
    "df3 = wbdata.get_dataframe(indicators, country=distinct_codes, data_date=prev_years, keep_levels=True)\n",
    "\n",
    "#Dataframe for per-capita GDP (Unused from henceforth)\n",
    "df4 = wbdata.get_dataframe(past_indicators_per_cap, country=distinct_codes, data_date=prev_years, keep_levels=True)"
   ]
  },
  {
   "cell_type": "code",
   "execution_count": 244,
   "id": "1a0b209e",
   "metadata": {
    "scrolled": true
   },
   "outputs": [
    {
     "name": "stderr",
     "output_type": "stream",
     "text": [
      "/Users/enochosei/opt/anaconda3/lib/python3.9/site-packages/qgrid/grid.py:1329: FutureWarning:\n",
      "\n",
      "inplace is deprecated and will be removed in a future version.\n",
      "\n",
      "/Users/enochosei/opt/anaconda3/lib/python3.9/site-packages/qgrid/grid.py:1329: FutureWarning:\n",
      "\n",
      "inplace is deprecated and will be removed in a future version.\n",
      "\n"
     ]
    },
    {
     "data": {
      "application/vnd.jupyter.widget-view+json": {
       "model_id": "f2c970cb80ef462688651a4db606b742",
       "version_major": 2,
       "version_minor": 0
      },
      "text/plain": [
       "QgridWidget(grid_options={'fullWidthRows': True, 'syncColumnCellResize': True, 'forceFitColumns': False, 'defa…"
      ]
     },
     "metadata": {},
     "output_type": "display_data"
    },
    {
     "name": "stderr",
     "output_type": "stream",
     "text": [
      "/Users/enochosei/opt/anaconda3/lib/python3.9/site-packages/qgrid/grid.py:1329: FutureWarning:\n",
      "\n",
      "inplace is deprecated and will be removed in a future version.\n",
      "\n",
      "/Users/enochosei/opt/anaconda3/lib/python3.9/site-packages/qgrid/grid.py:1329: FutureWarning:\n",
      "\n",
      "inplace is deprecated and will be removed in a future version.\n",
      "\n",
      "/Users/enochosei/opt/anaconda3/lib/python3.9/site-packages/qgrid/grid.py:1329: FutureWarning:\n",
      "\n",
      "inplace is deprecated and will be removed in a future version.\n",
      "\n",
      "/Users/enochosei/opt/anaconda3/lib/python3.9/site-packages/qgrid/grid.py:1329: FutureWarning:\n",
      "\n",
      "inplace is deprecated and will be removed in a future version.\n",
      "\n",
      "/Users/enochosei/opt/anaconda3/lib/python3.9/site-packages/qgrid/grid.py:1329: FutureWarning:\n",
      "\n",
      "inplace is deprecated and will be removed in a future version.\n",
      "\n",
      "/Users/enochosei/opt/anaconda3/lib/python3.9/site-packages/qgrid/grid.py:1329: FutureWarning:\n",
      "\n",
      "inplace is deprecated and will be removed in a future version.\n",
      "\n",
      "/Users/enochosei/opt/anaconda3/lib/python3.9/site-packages/qgrid/grid.py:1329: FutureWarning:\n",
      "\n",
      "inplace is deprecated and will be removed in a future version.\n",
      "\n",
      "/Users/enochosei/opt/anaconda3/lib/python3.9/site-packages/qgrid/grid.py:1329: FutureWarning:\n",
      "\n",
      "inplace is deprecated and will be removed in a future version.\n",
      "\n",
      "/Users/enochosei/opt/anaconda3/lib/python3.9/site-packages/qgrid/grid.py:1329: FutureWarning:\n",
      "\n",
      "inplace is deprecated and will be removed in a future version.\n",
      "\n",
      "/Users/enochosei/opt/anaconda3/lib/python3.9/site-packages/qgrid/grid.py:1329: FutureWarning:\n",
      "\n",
      "inplace is deprecated and will be removed in a future version.\n",
      "\n"
     ]
    }
   ],
   "source": [
    "qgrid.show_grid(df3)"
   ]
  },
  {
   "cell_type": "code",
   "execution_count": 246,
   "id": "bece59cf",
   "metadata": {
    "scrolled": true
   },
   "outputs": [
    {
     "name": "stderr",
     "output_type": "stream",
     "text": [
      "/Users/enochosei/opt/anaconda3/lib/python3.9/site-packages/qgrid/grid.py:1329: FutureWarning:\n",
      "\n",
      "inplace is deprecated and will be removed in a future version.\n",
      "\n",
      "/Users/enochosei/opt/anaconda3/lib/python3.9/site-packages/qgrid/grid.py:1329: FutureWarning:\n",
      "\n",
      "inplace is deprecated and will be removed in a future version.\n",
      "\n"
     ]
    },
    {
     "data": {
      "application/vnd.jupyter.widget-view+json": {
       "model_id": "4435e12937854406810121c5188757ca",
       "version_major": 2,
       "version_minor": 0
      },
      "text/plain": [
       "QgridWidget(grid_options={'fullWidthRows': True, 'syncColumnCellResize': True, 'forceFitColumns': False, 'defa…"
      ]
     },
     "metadata": {},
     "output_type": "display_data"
    },
    {
     "name": "stderr",
     "output_type": "stream",
     "text": [
      "/Users/enochosei/opt/anaconda3/lib/python3.9/site-packages/qgrid/grid.py:1329: FutureWarning:\n",
      "\n",
      "inplace is deprecated and will be removed in a future version.\n",
      "\n",
      "/Users/enochosei/opt/anaconda3/lib/python3.9/site-packages/qgrid/grid.py:1329: FutureWarning:\n",
      "\n",
      "inplace is deprecated and will be removed in a future version.\n",
      "\n",
      "/Users/enochosei/opt/anaconda3/lib/python3.9/site-packages/qgrid/grid.py:1329: FutureWarning:\n",
      "\n",
      "inplace is deprecated and will be removed in a future version.\n",
      "\n",
      "/Users/enochosei/opt/anaconda3/lib/python3.9/site-packages/qgrid/grid.py:1329: FutureWarning:\n",
      "\n",
      "inplace is deprecated and will be removed in a future version.\n",
      "\n"
     ]
    }
   ],
   "source": [
    "# Attach Country Codes to the Dataframe of Macro data\n",
    "\n",
    "df3 = pd.DataFrame(df3)\n",
    "df3['Country Code'] = df3.index.map(lambda x: mapping.get(x[0]))\n",
    "qgrid.show_grid(df3)"
   ]
  },
  {
   "cell_type": "code",
   "execution_count": 28,
   "id": "f9d9baa1",
   "metadata": {},
   "outputs": [
    {
     "data": {
      "text/plain": [
       "(Index(['GDP', 'Lending interest rate', 'Inflation rate', 'Corporation tax',\n",
       "        'Country Code'],\n",
       "       dtype='object'),\n",
       " GDP                      float64\n",
       " Lending interest rate    float64\n",
       " Inflation rate           float64\n",
       " Corporation tax          float64\n",
       " Country Code              object\n",
       " dtype: object)"
      ]
     },
     "execution_count": 28,
     "metadata": {},
     "output_type": "execute_result"
    }
   ],
   "source": [
    "df3.columns, df3.dtypes"
   ]
  },
  {
   "cell_type": "code",
   "execution_count": 247,
   "id": "19079a1e",
   "metadata": {},
   "outputs": [],
   "source": [
    "# Pivot the dataframe\n",
    "\n",
    "df3 = df3.reset_index()\n",
    "df3 = df3.pivot(index='country', columns='date', values=['GDP', 'Lending interest rate', 'Inflation rate', 'Corporation tax'])"
   ]
  },
  {
   "cell_type": "code",
   "execution_count": 248,
   "id": "e1540075",
   "metadata": {},
   "outputs": [],
   "source": [
    "df3['Country Code'] = df3.index.map(mapping)"
   ]
  },
  {
   "cell_type": "code",
   "execution_count": 249,
   "id": "6e9c0af2",
   "metadata": {},
   "outputs": [
    {
     "data": {
      "text/plain": [
       "Index(['Egypt, Arab Rep.', 'Hong Kong SAR, China', 'Korea, Rep.', 'Turkiye',\n",
       "       'Vietnam'],\n",
       "      dtype='object', name='country')"
      ]
     },
     "execution_count": 249,
     "metadata": {},
     "output_type": "execute_result"
    }
   ],
   "source": [
    "# Identify countries with no country code\n",
    "\n",
    "df3[df3['Country Code'].isnull()].index"
   ]
  },
  {
   "cell_type": "code",
   "execution_count": 250,
   "id": "5528794e",
   "metadata": {},
   "outputs": [],
   "source": [
    "#Manually fill the missing country codes\n",
    "\n",
    "df3['Country Code'] = df3['Country Code'].fillna({'Egypt, Arab Rep.': 'EGY', 'Hong Kong SAR, China': 'HKG', 'Korea, Rep.': 'KOR', 'Turkiye': 'TUR', 'Vietnam': 'VNM'})"
   ]
  },
  {
   "cell_type": "code",
   "execution_count": 251,
   "id": "99679715",
   "metadata": {
    "scrolled": true
   },
   "outputs": [
    {
     "data": {
      "text/html": [
       "<div>\n",
       "<style scoped>\n",
       "    .dataframe tbody tr th:only-of-type {\n",
       "        vertical-align: middle;\n",
       "    }\n",
       "\n",
       "    .dataframe tbody tr th {\n",
       "        vertical-align: top;\n",
       "    }\n",
       "\n",
       "    .dataframe thead tr th {\n",
       "        text-align: left;\n",
       "    }\n",
       "\n",
       "    .dataframe thead tr:last-of-type th {\n",
       "        text-align: right;\n",
       "    }\n",
       "</style>\n",
       "<table border=\"1\" class=\"dataframe\">\n",
       "  <thead>\n",
       "    <tr>\n",
       "      <th></th>\n",
       "      <th colspan=\"10\" halign=\"left\">GDP</th>\n",
       "      <th>...</th>\n",
       "      <th colspan=\"9\" halign=\"left\">Corporation tax</th>\n",
       "      <th>Country Code</th>\n",
       "    </tr>\n",
       "    <tr>\n",
       "      <th>date</th>\n",
       "      <th>2006</th>\n",
       "      <th>2007</th>\n",
       "      <th>2008</th>\n",
       "      <th>2009</th>\n",
       "      <th>2010</th>\n",
       "      <th>2011</th>\n",
       "      <th>2012</th>\n",
       "      <th>2013</th>\n",
       "      <th>2014</th>\n",
       "      <th>2015</th>\n",
       "      <th>...</th>\n",
       "      <th>2014</th>\n",
       "      <th>2015</th>\n",
       "      <th>2016</th>\n",
       "      <th>2017</th>\n",
       "      <th>2018</th>\n",
       "      <th>2019</th>\n",
       "      <th>2020</th>\n",
       "      <th>2021</th>\n",
       "      <th>2022</th>\n",
       "      <th></th>\n",
       "    </tr>\n",
       "    <tr>\n",
       "      <th>country</th>\n",
       "      <th></th>\n",
       "      <th></th>\n",
       "      <th></th>\n",
       "      <th></th>\n",
       "      <th></th>\n",
       "      <th></th>\n",
       "      <th></th>\n",
       "      <th></th>\n",
       "      <th></th>\n",
       "      <th></th>\n",
       "      <th></th>\n",
       "      <th></th>\n",
       "      <th></th>\n",
       "      <th></th>\n",
       "      <th></th>\n",
       "      <th></th>\n",
       "      <th></th>\n",
       "      <th></th>\n",
       "      <th></th>\n",
       "      <th></th>\n",
       "      <th></th>\n",
       "    </tr>\n",
       "  </thead>\n",
       "  <tbody>\n",
       "    <tr>\n",
       "      <th>Argentina</th>\n",
       "      <td>2.325573e+11</td>\n",
       "      <td>2.875305e+11</td>\n",
       "      <td>3.615580e+11</td>\n",
       "      <td>3.329765e+11</td>\n",
       "      <td>4.236274e+11</td>\n",
       "      <td>5.301582e+11</td>\n",
       "      <td>5.459824e+11</td>\n",
       "      <td>5.520251e+11</td>\n",
       "      <td>5.263197e+11</td>\n",
       "      <td>5.947493e+11</td>\n",
       "      <td>...</td>\n",
       "      <td>137.4</td>\n",
       "      <td>137.6</td>\n",
       "      <td>106.0</td>\n",
       "      <td>106.0</td>\n",
       "      <td>106.0</td>\n",
       "      <td>106.3</td>\n",
       "      <td>NaN</td>\n",
       "      <td>NaN</td>\n",
       "      <td>NaN</td>\n",
       "      <td>ARG</td>\n",
       "    </tr>\n",
       "    <tr>\n",
       "      <th>Australia</th>\n",
       "      <td>7.479074e+11</td>\n",
       "      <td>8.544273e+11</td>\n",
       "      <td>1.055686e+12</td>\n",
       "      <td>9.286298e+11</td>\n",
       "      <td>1.148570e+12</td>\n",
       "      <td>1.398456e+12</td>\n",
       "      <td>1.546953e+12</td>\n",
       "      <td>1.576330e+12</td>\n",
       "      <td>1.467590e+12</td>\n",
       "      <td>1.350580e+12</td>\n",
       "      <td>...</td>\n",
       "      <td>47.4</td>\n",
       "      <td>47.6</td>\n",
       "      <td>47.6</td>\n",
       "      <td>47.5</td>\n",
       "      <td>47.4</td>\n",
       "      <td>47.4</td>\n",
       "      <td>NaN</td>\n",
       "      <td>NaN</td>\n",
       "      <td>NaN</td>\n",
       "      <td>AUS</td>\n",
       "    </tr>\n",
       "    <tr>\n",
       "      <th>Austria</th>\n",
       "      <td>3.362801e+11</td>\n",
       "      <td>3.891856e+11</td>\n",
       "      <td>4.320519e+11</td>\n",
       "      <td>4.017587e+11</td>\n",
       "      <td>3.922751e+11</td>\n",
       "      <td>4.316852e+11</td>\n",
       "      <td>4.094018e+11</td>\n",
       "      <td>4.301910e+11</td>\n",
       "      <td>4.425848e+11</td>\n",
       "      <td>3.819711e+11</td>\n",
       "      <td>...</td>\n",
       "      <td>51.7</td>\n",
       "      <td>51.7</td>\n",
       "      <td>51.6</td>\n",
       "      <td>51.8</td>\n",
       "      <td>51.5</td>\n",
       "      <td>51.4</td>\n",
       "      <td>NaN</td>\n",
       "      <td>NaN</td>\n",
       "      <td>NaN</td>\n",
       "      <td>AUT</td>\n",
       "    </tr>\n",
       "    <tr>\n",
       "      <th>Belgium</th>\n",
       "      <td>4.082598e+11</td>\n",
       "      <td>4.709222e+11</td>\n",
       "      <td>5.173281e+11</td>\n",
       "      <td>4.832542e+11</td>\n",
       "      <td>4.814209e+11</td>\n",
       "      <td>5.233304e+11</td>\n",
       "      <td>4.961529e+11</td>\n",
       "      <td>5.217910e+11</td>\n",
       "      <td>5.353902e+11</td>\n",
       "      <td>4.623356e+11</td>\n",
       "      <td>...</td>\n",
       "      <td>58.4</td>\n",
       "      <td>58.4</td>\n",
       "      <td>58.7</td>\n",
       "      <td>57.1</td>\n",
       "      <td>57.7</td>\n",
       "      <td>55.4</td>\n",
       "      <td>NaN</td>\n",
       "      <td>NaN</td>\n",
       "      <td>NaN</td>\n",
       "      <td>BEL</td>\n",
       "    </tr>\n",
       "    <tr>\n",
       "      <th>Bermuda</th>\n",
       "      <td>6.144000e+09</td>\n",
       "      <td>6.767000e+09</td>\n",
       "      <td>6.980000e+09</td>\n",
       "      <td>6.656000e+09</td>\n",
       "      <td>6.634526e+09</td>\n",
       "      <td>6.312691e+09</td>\n",
       "      <td>6.378188e+09</td>\n",
       "      <td>6.465756e+09</td>\n",
       "      <td>6.413988e+09</td>\n",
       "      <td>6.654541e+09</td>\n",
       "      <td>...</td>\n",
       "      <td>NaN</td>\n",
       "      <td>NaN</td>\n",
       "      <td>NaN</td>\n",
       "      <td>NaN</td>\n",
       "      <td>NaN</td>\n",
       "      <td>NaN</td>\n",
       "      <td>NaN</td>\n",
       "      <td>NaN</td>\n",
       "      <td>NaN</td>\n",
       "      <td>BMU</td>\n",
       "    </tr>\n",
       "    <tr>\n",
       "      <th>Brazil</th>\n",
       "      <td>1.107627e+12</td>\n",
       "      <td>1.397114e+12</td>\n",
       "      <td>1.695855e+12</td>\n",
       "      <td>1.666996e+12</td>\n",
       "      <td>2.208838e+12</td>\n",
       "      <td>2.616157e+12</td>\n",
       "      <td>2.465228e+12</td>\n",
       "      <td>2.472819e+12</td>\n",
       "      <td>2.456044e+12</td>\n",
       "      <td>1.802212e+12</td>\n",
       "      <td>...</td>\n",
       "      <td>66.0</td>\n",
       "      <td>65.6</td>\n",
       "      <td>65.3</td>\n",
       "      <td>65.1</td>\n",
       "      <td>65.1</td>\n",
       "      <td>65.1</td>\n",
       "      <td>NaN</td>\n",
       "      <td>NaN</td>\n",
       "      <td>NaN</td>\n",
       "      <td>BRA</td>\n",
       "    </tr>\n",
       "    <tr>\n",
       "      <th>Canada</th>\n",
       "      <td>1.319265e+12</td>\n",
       "      <td>1.468820e+12</td>\n",
       "      <td>1.552990e+12</td>\n",
       "      <td>1.374625e+12</td>\n",
       "      <td>1.617343e+12</td>\n",
       "      <td>1.793327e+12</td>\n",
       "      <td>1.828366e+12</td>\n",
       "      <td>1.846597e+12</td>\n",
       "      <td>1.805750e+12</td>\n",
       "      <td>1.556509e+12</td>\n",
       "      <td>...</td>\n",
       "      <td>21.1</td>\n",
       "      <td>21.1</td>\n",
       "      <td>21.0</td>\n",
       "      <td>20.9</td>\n",
       "      <td>20.5</td>\n",
       "      <td>24.5</td>\n",
       "      <td>NaN</td>\n",
       "      <td>NaN</td>\n",
       "      <td>NaN</td>\n",
       "      <td>CAN</td>\n",
       "    </tr>\n",
       "    <tr>\n",
       "      <th>Chile</th>\n",
       "      <td>1.538401e+11</td>\n",
       "      <td>1.725659e+11</td>\n",
       "      <td>1.796634e+11</td>\n",
       "      <td>1.714126e+11</td>\n",
       "      <td>2.171054e+11</td>\n",
       "      <td>2.512249e+11</td>\n",
       "      <td>2.671759e+11</td>\n",
       "      <td>2.772395e+11</td>\n",
       "      <td>2.594052e+11</td>\n",
       "      <td>2.424967e+11</td>\n",
       "      <td>...</td>\n",
       "      <td>28.9</td>\n",
       "      <td>29.9</td>\n",
       "      <td>31.4</td>\n",
       "      <td>33.0</td>\n",
       "      <td>34.0</td>\n",
       "      <td>34.0</td>\n",
       "      <td>NaN</td>\n",
       "      <td>NaN</td>\n",
       "      <td>NaN</td>\n",
       "      <td>CHL</td>\n",
       "    </tr>\n",
       "    <tr>\n",
       "      <th>China</th>\n",
       "      <td>2.752119e+12</td>\n",
       "      <td>3.550328e+12</td>\n",
       "      <td>4.594337e+12</td>\n",
       "      <td>5.101691e+12</td>\n",
       "      <td>6.087192e+12</td>\n",
       "      <td>7.551545e+12</td>\n",
       "      <td>8.532186e+12</td>\n",
       "      <td>9.570471e+12</td>\n",
       "      <td>1.047562e+13</td>\n",
       "      <td>1.106157e+13</td>\n",
       "      <td>...</td>\n",
       "      <td>68.6</td>\n",
       "      <td>67.9</td>\n",
       "      <td>68.2</td>\n",
       "      <td>66.5</td>\n",
       "      <td>64.0</td>\n",
       "      <td>59.2</td>\n",
       "      <td>NaN</td>\n",
       "      <td>NaN</td>\n",
       "      <td>NaN</td>\n",
       "      <td>CHN</td>\n",
       "    </tr>\n",
       "    <tr>\n",
       "      <th>Colombia</th>\n",
       "      <td>1.617930e+11</td>\n",
       "      <td>2.062295e+11</td>\n",
       "      <td>2.425042e+11</td>\n",
       "      <td>2.324687e+11</td>\n",
       "      <td>2.864985e+11</td>\n",
       "      <td>3.349661e+11</td>\n",
       "      <td>3.706911e+11</td>\n",
       "      <td>3.820937e+11</td>\n",
       "      <td>3.812409e+11</td>\n",
       "      <td>2.934924e+11</td>\n",
       "      <td>...</td>\n",
       "      <td>79.9</td>\n",
       "      <td>72.3</td>\n",
       "      <td>72.2</td>\n",
       "      <td>72.3</td>\n",
       "      <td>71.9</td>\n",
       "      <td>71.2</td>\n",
       "      <td>NaN</td>\n",
       "      <td>NaN</td>\n",
       "      <td>NaN</td>\n",
       "      <td>COL</td>\n",
       "    </tr>\n",
       "    <tr>\n",
       "      <th>Croatia</th>\n",
       "      <td>4.953259e+10</td>\n",
       "      <td>5.917290e+10</td>\n",
       "      <td>6.834206e+10</td>\n",
       "      <td>6.194147e+10</td>\n",
       "      <td>5.869361e+10</td>\n",
       "      <td>6.259978e+10</td>\n",
       "      <td>5.723146e+10</td>\n",
       "      <td>5.936312e+10</td>\n",
       "      <td>5.921446e+10</td>\n",
       "      <td>5.074209e+10</td>\n",
       "      <td>...</td>\n",
       "      <td>18.4</td>\n",
       "      <td>20.0</td>\n",
       "      <td>20.9</td>\n",
       "      <td>20.6</td>\n",
       "      <td>20.5</td>\n",
       "      <td>20.5</td>\n",
       "      <td>NaN</td>\n",
       "      <td>NaN</td>\n",
       "      <td>NaN</td>\n",
       "      <td>HRV</td>\n",
       "    </tr>\n",
       "    <tr>\n",
       "      <th>Czechia</th>\n",
       "      <td>1.562642e+11</td>\n",
       "      <td>1.901841e+11</td>\n",
       "      <td>2.368169e+11</td>\n",
       "      <td>2.074343e+11</td>\n",
       "      <td>2.090699e+11</td>\n",
       "      <td>2.295627e+11</td>\n",
       "      <td>2.088577e+11</td>\n",
       "      <td>2.116856e+11</td>\n",
       "      <td>2.093588e+11</td>\n",
       "      <td>1.880331e+11</td>\n",
       "      <td>...</td>\n",
       "      <td>46.5</td>\n",
       "      <td>46.5</td>\n",
       "      <td>46.1</td>\n",
       "      <td>46.1</td>\n",
       "      <td>46.1</td>\n",
       "      <td>46.1</td>\n",
       "      <td>NaN</td>\n",
       "      <td>NaN</td>\n",
       "      <td>NaN</td>\n",
       "      <td>CZE</td>\n",
       "    </tr>\n",
       "    <tr>\n",
       "      <th>Denmark</th>\n",
       "      <td>2.828860e+11</td>\n",
       "      <td>3.194234e+11</td>\n",
       "      <td>3.533589e+11</td>\n",
       "      <td>3.212433e+11</td>\n",
       "      <td>3.219953e+11</td>\n",
       "      <td>3.440031e+11</td>\n",
       "      <td>3.271489e+11</td>\n",
       "      <td>3.435844e+11</td>\n",
       "      <td>3.529936e+11</td>\n",
       "      <td>3.026731e+11</td>\n",
       "      <td>...</td>\n",
       "      <td>25.4</td>\n",
       "      <td>23.9</td>\n",
       "      <td>24.4</td>\n",
       "      <td>23.8</td>\n",
       "      <td>23.8</td>\n",
       "      <td>23.8</td>\n",
       "      <td>NaN</td>\n",
       "      <td>NaN</td>\n",
       "      <td>NaN</td>\n",
       "      <td>DNK</td>\n",
       "    </tr>\n",
       "    <tr>\n",
       "      <th>Ecuador</th>\n",
       "      <td>4.680204e+10</td>\n",
       "      <td>5.100778e+10</td>\n",
       "      <td>6.176264e+10</td>\n",
       "      <td>6.251969e+10</td>\n",
       "      <td>6.955537e+10</td>\n",
       "      <td>7.927666e+10</td>\n",
       "      <td>8.792454e+10</td>\n",
       "      <td>9.512966e+10</td>\n",
       "      <td>1.017263e+11</td>\n",
       "      <td>9.929038e+10</td>\n",
       "      <td>...</td>\n",
       "      <td>32.8</td>\n",
       "      <td>32.8</td>\n",
       "      <td>32.5</td>\n",
       "      <td>32.5</td>\n",
       "      <td>32.3</td>\n",
       "      <td>34.4</td>\n",
       "      <td>NaN</td>\n",
       "      <td>NaN</td>\n",
       "      <td>NaN</td>\n",
       "      <td>ECU</td>\n",
       "    </tr>\n",
       "    <tr>\n",
       "      <th>Egypt, Arab Rep.</th>\n",
       "      <td>1.074261e+11</td>\n",
       "      <td>1.304378e+11</td>\n",
       "      <td>1.628182e+11</td>\n",
       "      <td>1.891470e+11</td>\n",
       "      <td>2.189837e+11</td>\n",
       "      <td>2.359897e+11</td>\n",
       "      <td>2.791167e+11</td>\n",
       "      <td>2.884341e+11</td>\n",
       "      <td>3.055954e+11</td>\n",
       "      <td>3.293666e+11</td>\n",
       "      <td>...</td>\n",
       "      <td>44.7</td>\n",
       "      <td>44.9</td>\n",
       "      <td>43.5</td>\n",
       "      <td>45.8</td>\n",
       "      <td>46.9</td>\n",
       "      <td>44.4</td>\n",
       "      <td>NaN</td>\n",
       "      <td>NaN</td>\n",
       "      <td>NaN</td>\n",
       "      <td>EGY</td>\n",
       "    </tr>\n",
       "    <tr>\n",
       "      <th>Estonia</th>\n",
       "      <td>1.702287e+10</td>\n",
       "      <td>2.244913e+10</td>\n",
       "      <td>2.434168e+10</td>\n",
       "      <td>1.963303e+10</td>\n",
       "      <td>1.952348e+10</td>\n",
       "      <td>2.321399e+10</td>\n",
       "      <td>2.301915e+10</td>\n",
       "      <td>2.511575e+10</td>\n",
       "      <td>2.663408e+10</td>\n",
       "      <td>2.289076e+10</td>\n",
       "      <td>...</td>\n",
       "      <td>49.2</td>\n",
       "      <td>49.2</td>\n",
       "      <td>48.5</td>\n",
       "      <td>48.5</td>\n",
       "      <td>48.5</td>\n",
       "      <td>47.8</td>\n",
       "      <td>NaN</td>\n",
       "      <td>NaN</td>\n",
       "      <td>NaN</td>\n",
       "      <td>EST</td>\n",
       "    </tr>\n",
       "    <tr>\n",
       "      <th>Finland</th>\n",
       "      <td>2.170893e+11</td>\n",
       "      <td>2.563781e+11</td>\n",
       "      <td>2.857163e+11</td>\n",
       "      <td>2.534975e+11</td>\n",
       "      <td>2.494243e+11</td>\n",
       "      <td>2.756044e+11</td>\n",
       "      <td>2.582901e+11</td>\n",
       "      <td>2.713624e+11</td>\n",
       "      <td>2.748628e+11</td>\n",
       "      <td>2.345344e+11</td>\n",
       "      <td>...</td>\n",
       "      <td>40.1</td>\n",
       "      <td>37.9</td>\n",
       "      <td>38.1</td>\n",
       "      <td>38.4</td>\n",
       "      <td>37.3</td>\n",
       "      <td>36.6</td>\n",
       "      <td>NaN</td>\n",
       "      <td>NaN</td>\n",
       "      <td>NaN</td>\n",
       "      <td>FIN</td>\n",
       "    </tr>\n",
       "    <tr>\n",
       "      <th>France</th>\n",
       "      <td>2.320536e+12</td>\n",
       "      <td>2.660591e+12</td>\n",
       "      <td>2.930304e+12</td>\n",
       "      <td>2.700887e+12</td>\n",
       "      <td>2.645188e+12</td>\n",
       "      <td>2.865158e+12</td>\n",
       "      <td>2.683672e+12</td>\n",
       "      <td>2.811877e+12</td>\n",
       "      <td>2.855964e+12</td>\n",
       "      <td>2.439189e+12</td>\n",
       "      <td>...</td>\n",
       "      <td>71.3</td>\n",
       "      <td>64.9</td>\n",
       "      <td>64.1</td>\n",
       "      <td>62.6</td>\n",
       "      <td>60.4</td>\n",
       "      <td>60.7</td>\n",
       "      <td>NaN</td>\n",
       "      <td>NaN</td>\n",
       "      <td>NaN</td>\n",
       "      <td>FRA</td>\n",
       "    </tr>\n",
       "    <tr>\n",
       "      <th>Germany</th>\n",
       "      <td>2.994704e+12</td>\n",
       "      <td>3.425578e+12</td>\n",
       "      <td>3.745264e+12</td>\n",
       "      <td>3.411261e+12</td>\n",
       "      <td>3.399668e+12</td>\n",
       "      <td>3.749315e+12</td>\n",
       "      <td>3.527143e+12</td>\n",
       "      <td>3.733805e+12</td>\n",
       "      <td>3.889093e+12</td>\n",
       "      <td>3.357586e+12</td>\n",
       "      <td>...</td>\n",
       "      <td>48.8</td>\n",
       "      <td>48.8</td>\n",
       "      <td>48.9</td>\n",
       "      <td>48.9</td>\n",
       "      <td>49.0</td>\n",
       "      <td>48.8</td>\n",
       "      <td>NaN</td>\n",
       "      <td>NaN</td>\n",
       "      <td>NaN</td>\n",
       "      <td>DEU</td>\n",
       "    </tr>\n",
       "    <tr>\n",
       "      <th>Greece</th>\n",
       "      <td>2.735467e+11</td>\n",
       "      <td>3.189028e+11</td>\n",
       "      <td>3.559087e+11</td>\n",
       "      <td>3.313085e+11</td>\n",
       "      <td>2.971250e+11</td>\n",
       "      <td>2.829959e+11</td>\n",
       "      <td>2.420293e+11</td>\n",
       "      <td>2.389077e+11</td>\n",
       "      <td>2.354581e+11</td>\n",
       "      <td>1.956835e+11</td>\n",
       "      <td>...</td>\n",
       "      <td>50.7</td>\n",
       "      <td>49.6</td>\n",
       "      <td>50.7</td>\n",
       "      <td>51.7</td>\n",
       "      <td>51.9</td>\n",
       "      <td>51.9</td>\n",
       "      <td>NaN</td>\n",
       "      <td>NaN</td>\n",
       "      <td>NaN</td>\n",
       "      <td>GRC</td>\n",
       "    </tr>\n",
       "    <tr>\n",
       "      <th>Hong Kong SAR, China</th>\n",
       "      <td>1.935354e+11</td>\n",
       "      <td>2.115970e+11</td>\n",
       "      <td>2.192787e+11</td>\n",
       "      <td>2.140478e+11</td>\n",
       "      <td>2.286387e+11</td>\n",
       "      <td>2.485136e+11</td>\n",
       "      <td>2.626289e+11</td>\n",
       "      <td>2.756969e+11</td>\n",
       "      <td>2.914600e+11</td>\n",
       "      <td>3.093856e+11</td>\n",
       "      <td>...</td>\n",
       "      <td>22.8</td>\n",
       "      <td>22.8</td>\n",
       "      <td>22.9</td>\n",
       "      <td>22.9</td>\n",
       "      <td>22.9</td>\n",
       "      <td>21.9</td>\n",
       "      <td>NaN</td>\n",
       "      <td>NaN</td>\n",
       "      <td>NaN</td>\n",
       "      <td>HKG</td>\n",
       "    </tr>\n",
       "    <tr>\n",
       "      <th>India</th>\n",
       "      <td>9.402599e+11</td>\n",
       "      <td>1.216736e+12</td>\n",
       "      <td>1.198895e+12</td>\n",
       "      <td>1.341888e+12</td>\n",
       "      <td>1.675616e+12</td>\n",
       "      <td>1.823052e+12</td>\n",
       "      <td>1.827638e+12</td>\n",
       "      <td>1.856721e+12</td>\n",
       "      <td>2.039126e+12</td>\n",
       "      <td>2.103588e+12</td>\n",
       "      <td>...</td>\n",
       "      <td>55.5</td>\n",
       "      <td>55.5</td>\n",
       "      <td>56.2</td>\n",
       "      <td>56.2</td>\n",
       "      <td>52.1</td>\n",
       "      <td>49.7</td>\n",
       "      <td>NaN</td>\n",
       "      <td>NaN</td>\n",
       "      <td>NaN</td>\n",
       "      <td>IND</td>\n",
       "    </tr>\n",
       "    <tr>\n",
       "      <th>Indonesia</th>\n",
       "      <td>3.645705e+11</td>\n",
       "      <td>4.322167e+11</td>\n",
       "      <td>5.102286e+11</td>\n",
       "      <td>5.395801e+11</td>\n",
       "      <td>7.550942e+11</td>\n",
       "      <td>8.929691e+11</td>\n",
       "      <td>9.178699e+11</td>\n",
       "      <td>9.125241e+11</td>\n",
       "      <td>8.908148e+11</td>\n",
       "      <td>8.608542e+11</td>\n",
       "      <td>...</td>\n",
       "      <td>31.4</td>\n",
       "      <td>29.7</td>\n",
       "      <td>30.6</td>\n",
       "      <td>30.0</td>\n",
       "      <td>30.1</td>\n",
       "      <td>30.1</td>\n",
       "      <td>NaN</td>\n",
       "      <td>NaN</td>\n",
       "      <td>NaN</td>\n",
       "      <td>IDN</td>\n",
       "    </tr>\n",
       "    <tr>\n",
       "      <th>Ireland</th>\n",
       "      <td>2.321806e+11</td>\n",
       "      <td>2.700793e+11</td>\n",
       "      <td>2.754475e+11</td>\n",
       "      <td>2.364431e+11</td>\n",
       "      <td>2.219136e+11</td>\n",
       "      <td>2.390031e+11</td>\n",
       "      <td>2.256287e+11</td>\n",
       "      <td>2.383409e+11</td>\n",
       "      <td>2.591709e+11</td>\n",
       "      <td>2.917752e+11</td>\n",
       "      <td>...</td>\n",
       "      <td>26.0</td>\n",
       "      <td>26.0</td>\n",
       "      <td>26.0</td>\n",
       "      <td>26.0</td>\n",
       "      <td>26.0</td>\n",
       "      <td>26.1</td>\n",
       "      <td>NaN</td>\n",
       "      <td>NaN</td>\n",
       "      <td>NaN</td>\n",
       "      <td>IRL</td>\n",
       "    </tr>\n",
       "    <tr>\n",
       "      <th>Israel</th>\n",
       "      <td>1.586702e+11</td>\n",
       "      <td>1.840529e+11</td>\n",
       "      <td>2.205298e+11</td>\n",
       "      <td>2.119681e+11</td>\n",
       "      <td>2.383641e+11</td>\n",
       "      <td>2.667919e+11</td>\n",
       "      <td>2.622823e+11</td>\n",
       "      <td>2.977328e+11</td>\n",
       "      <td>3.143301e+11</td>\n",
       "      <td>3.034143e+11</td>\n",
       "      <td>...</td>\n",
       "      <td>26.7</td>\n",
       "      <td>27.9</td>\n",
       "      <td>28.1</td>\n",
       "      <td>27.0</td>\n",
       "      <td>26.2</td>\n",
       "      <td>25.3</td>\n",
       "      <td>NaN</td>\n",
       "      <td>NaN</td>\n",
       "      <td>NaN</td>\n",
       "      <td>ISR</td>\n",
       "    </tr>\n",
       "    <tr>\n",
       "      <th>Italy</th>\n",
       "      <td>1.949552e+12</td>\n",
       "      <td>2.213102e+12</td>\n",
       "      <td>2.408655e+12</td>\n",
       "      <td>2.199929e+12</td>\n",
       "      <td>2.136100e+12</td>\n",
       "      <td>2.294994e+12</td>\n",
       "      <td>2.086958e+12</td>\n",
       "      <td>2.141924e+12</td>\n",
       "      <td>2.162010e+12</td>\n",
       "      <td>1.836638e+12</td>\n",
       "      <td>...</td>\n",
       "      <td>65.2</td>\n",
       "      <td>64.8</td>\n",
       "      <td>62.0</td>\n",
       "      <td>48.0</td>\n",
       "      <td>53.1</td>\n",
       "      <td>59.1</td>\n",
       "      <td>NaN</td>\n",
       "      <td>NaN</td>\n",
       "      <td>NaN</td>\n",
       "      <td>ITA</td>\n",
       "    </tr>\n",
       "    <tr>\n",
       "      <th>Japan</th>\n",
       "      <td>4.601663e+12</td>\n",
       "      <td>4.579750e+12</td>\n",
       "      <td>5.106679e+12</td>\n",
       "      <td>5.289494e+12</td>\n",
       "      <td>5.759072e+12</td>\n",
       "      <td>6.233147e+12</td>\n",
       "      <td>6.272363e+12</td>\n",
       "      <td>5.212328e+12</td>\n",
       "      <td>4.896994e+12</td>\n",
       "      <td>4.444931e+12</td>\n",
       "      <td>...</td>\n",
       "      <td>50.3</td>\n",
       "      <td>50.4</td>\n",
       "      <td>48.8</td>\n",
       "      <td>47.4</td>\n",
       "      <td>46.7</td>\n",
       "      <td>46.7</td>\n",
       "      <td>NaN</td>\n",
       "      <td>NaN</td>\n",
       "      <td>NaN</td>\n",
       "      <td>JPN</td>\n",
       "    </tr>\n",
       "    <tr>\n",
       "      <th>Korea, Rep.</th>\n",
       "      <td>1.053217e+12</td>\n",
       "      <td>1.172614e+12</td>\n",
       "      <td>1.047339e+12</td>\n",
       "      <td>9.439419e+11</td>\n",
       "      <td>1.144067e+12</td>\n",
       "      <td>1.253223e+12</td>\n",
       "      <td>1.278428e+12</td>\n",
       "      <td>1.370795e+12</td>\n",
       "      <td>1.484318e+12</td>\n",
       "      <td>1.465773e+12</td>\n",
       "      <td>...</td>\n",
       "      <td>33.2</td>\n",
       "      <td>33.2</td>\n",
       "      <td>33.1</td>\n",
       "      <td>33.1</td>\n",
       "      <td>33.1</td>\n",
       "      <td>33.2</td>\n",
       "      <td>NaN</td>\n",
       "      <td>NaN</td>\n",
       "      <td>NaN</td>\n",
       "      <td>KOR</td>\n",
       "    </tr>\n",
       "    <tr>\n",
       "      <th>Liechtenstein</th>\n",
       "      <td>4.000101e+09</td>\n",
       "      <td>4.601431e+09</td>\n",
       "      <td>5.081480e+09</td>\n",
       "      <td>4.504377e+09</td>\n",
       "      <td>5.082339e+09</td>\n",
       "      <td>5.739706e+09</td>\n",
       "      <td>5.456100e+09</td>\n",
       "      <td>6.391711e+09</td>\n",
       "      <td>6.657527e+09</td>\n",
       "      <td>6.268513e+09</td>\n",
       "      <td>...</td>\n",
       "      <td>NaN</td>\n",
       "      <td>NaN</td>\n",
       "      <td>NaN</td>\n",
       "      <td>NaN</td>\n",
       "      <td>21.6</td>\n",
       "      <td>21.6</td>\n",
       "      <td>NaN</td>\n",
       "      <td>NaN</td>\n",
       "      <td>NaN</td>\n",
       "      <td>LIE</td>\n",
       "    </tr>\n",
       "    <tr>\n",
       "      <th>Lithuania</th>\n",
       "      <td>3.018358e+10</td>\n",
       "      <td>3.969789e+10</td>\n",
       "      <td>4.779755e+10</td>\n",
       "      <td>3.738812e+10</td>\n",
       "      <td>3.712869e+10</td>\n",
       "      <td>4.353505e+10</td>\n",
       "      <td>4.292745e+10</td>\n",
       "      <td>4.652342e+10</td>\n",
       "      <td>4.853366e+10</td>\n",
       "      <td>4.143553e+10</td>\n",
       "      <td>...</td>\n",
       "      <td>42.4</td>\n",
       "      <td>42.6</td>\n",
       "      <td>42.6</td>\n",
       "      <td>42.7</td>\n",
       "      <td>42.6</td>\n",
       "      <td>42.6</td>\n",
       "      <td>NaN</td>\n",
       "      <td>NaN</td>\n",
       "      <td>NaN</td>\n",
       "      <td>LTU</td>\n",
       "    </tr>\n",
       "    <tr>\n",
       "      <th>Luxembourg</th>\n",
       "      <td>4.291015e+10</td>\n",
       "      <td>5.158740e+10</td>\n",
       "      <td>5.884428e+10</td>\n",
       "      <td>5.446729e+10</td>\n",
       "      <td>5.621399e+10</td>\n",
       "      <td>6.169628e+10</td>\n",
       "      <td>5.977638e+10</td>\n",
       "      <td>6.520328e+10</td>\n",
       "      <td>6.880481e+10</td>\n",
       "      <td>6.007158e+10</td>\n",
       "      <td>...</td>\n",
       "      <td>20.6</td>\n",
       "      <td>20.6</td>\n",
       "      <td>20.8</td>\n",
       "      <td>20.5</td>\n",
       "      <td>20.5</td>\n",
       "      <td>20.4</td>\n",
       "      <td>NaN</td>\n",
       "      <td>NaN</td>\n",
       "      <td>NaN</td>\n",
       "      <td>LUX</td>\n",
       "    </tr>\n",
       "    <tr>\n",
       "      <th>Malaysia</th>\n",
       "      <td>1.626923e+11</td>\n",
       "      <td>1.935495e+11</td>\n",
       "      <td>2.308116e+11</td>\n",
       "      <td>2.022575e+11</td>\n",
       "      <td>2.550176e+11</td>\n",
       "      <td>2.979517e+11</td>\n",
       "      <td>3.144431e+11</td>\n",
       "      <td>3.232763e+11</td>\n",
       "      <td>3.380661e+11</td>\n",
       "      <td>3.013548e+11</td>\n",
       "      <td>...</td>\n",
       "      <td>39.3</td>\n",
       "      <td>40.0</td>\n",
       "      <td>40.0</td>\n",
       "      <td>39.2</td>\n",
       "      <td>39.2</td>\n",
       "      <td>38.7</td>\n",
       "      <td>NaN</td>\n",
       "      <td>NaN</td>\n",
       "      <td>NaN</td>\n",
       "      <td>MYS</td>\n",
       "    </tr>\n",
       "    <tr>\n",
       "      <th>Mexico</th>\n",
       "      <td>9.753834e+11</td>\n",
       "      <td>1.052697e+12</td>\n",
       "      <td>1.109987e+12</td>\n",
       "      <td>9.000470e+11</td>\n",
       "      <td>1.057801e+12</td>\n",
       "      <td>1.180487e+12</td>\n",
       "      <td>1.201094e+12</td>\n",
       "      <td>1.274444e+12</td>\n",
       "      <td>1.315356e+12</td>\n",
       "      <td>1.171870e+12</td>\n",
       "      <td>...</td>\n",
       "      <td>53.4</td>\n",
       "      <td>53.5</td>\n",
       "      <td>52.9</td>\n",
       "      <td>53.4</td>\n",
       "      <td>55.7</td>\n",
       "      <td>55.1</td>\n",
       "      <td>NaN</td>\n",
       "      <td>NaN</td>\n",
       "      <td>NaN</td>\n",
       "      <td>MEX</td>\n",
       "    </tr>\n",
       "    <tr>\n",
       "      <th>Netherlands</th>\n",
       "      <td>7.339553e+11</td>\n",
       "      <td>8.485589e+11</td>\n",
       "      <td>9.518700e+11</td>\n",
       "      <td>8.715186e+11</td>\n",
       "      <td>8.473809e+11</td>\n",
       "      <td>9.052706e+11</td>\n",
       "      <td>8.389233e+11</td>\n",
       "      <td>8.771728e+11</td>\n",
       "      <td>8.921680e+11</td>\n",
       "      <td>7.655728e+11</td>\n",
       "      <td>...</td>\n",
       "      <td>39.0</td>\n",
       "      <td>41.0</td>\n",
       "      <td>40.4</td>\n",
       "      <td>40.7</td>\n",
       "      <td>40.8</td>\n",
       "      <td>41.2</td>\n",
       "      <td>NaN</td>\n",
       "      <td>NaN</td>\n",
       "      <td>NaN</td>\n",
       "      <td>NLD</td>\n",
       "    </tr>\n",
       "    <tr>\n",
       "      <th>Nigeria</th>\n",
       "      <td>2.384550e+11</td>\n",
       "      <td>2.782608e+11</td>\n",
       "      <td>3.394762e+11</td>\n",
       "      <td>2.950088e+11</td>\n",
       "      <td>3.669905e+11</td>\n",
       "      <td>4.144665e+11</td>\n",
       "      <td>4.639710e+11</td>\n",
       "      <td>5.201172e+11</td>\n",
       "      <td>5.741838e+11</td>\n",
       "      <td>4.930268e+11</td>\n",
       "      <td>...</td>\n",
       "      <td>33.0</td>\n",
       "      <td>33.9</td>\n",
       "      <td>34.9</td>\n",
       "      <td>34.8</td>\n",
       "      <td>34.8</td>\n",
       "      <td>34.8</td>\n",
       "      <td>NaN</td>\n",
       "      <td>NaN</td>\n",
       "      <td>NaN</td>\n",
       "      <td>NGA</td>\n",
       "    </tr>\n",
       "    <tr>\n",
       "      <th>Norway</th>\n",
       "      <td>3.469134e+11</td>\n",
       "      <td>4.026456e+11</td>\n",
       "      <td>4.649176e+11</td>\n",
       "      <td>3.879743e+11</td>\n",
       "      <td>4.310521e+11</td>\n",
       "      <td>5.013605e+11</td>\n",
       "      <td>5.127773e+11</td>\n",
       "      <td>5.260145e+11</td>\n",
       "      <td>5.017365e+11</td>\n",
       "      <td>3.881595e+11</td>\n",
       "      <td>...</td>\n",
       "      <td>40.4</td>\n",
       "      <td>39.5</td>\n",
       "      <td>39.5</td>\n",
       "      <td>37.7</td>\n",
       "      <td>37.0</td>\n",
       "      <td>36.2</td>\n",
       "      <td>NaN</td>\n",
       "      <td>NaN</td>\n",
       "      <td>NaN</td>\n",
       "      <td>NOR</td>\n",
       "    </tr>\n",
       "    <tr>\n",
       "      <th>Philippines</th>\n",
       "      <td>1.276529e+11</td>\n",
       "      <td>1.559804e+11</td>\n",
       "      <td>1.816246e+11</td>\n",
       "      <td>1.759748e+11</td>\n",
       "      <td>2.083689e+11</td>\n",
       "      <td>2.342167e+11</td>\n",
       "      <td>2.619205e+11</td>\n",
       "      <td>2.839028e+11</td>\n",
       "      <td>2.974836e+11</td>\n",
       "      <td>3.064459e+11</td>\n",
       "      <td>...</td>\n",
       "      <td>42.5</td>\n",
       "      <td>42.9</td>\n",
       "      <td>42.9</td>\n",
       "      <td>42.9</td>\n",
       "      <td>42.9</td>\n",
       "      <td>43.1</td>\n",
       "      <td>NaN</td>\n",
       "      <td>NaN</td>\n",
       "      <td>NaN</td>\n",
       "      <td>PHL</td>\n",
       "    </tr>\n",
       "    <tr>\n",
       "      <th>Senegal</th>\n",
       "      <td>1.169792e+10</td>\n",
       "      <td>1.399422e+10</td>\n",
       "      <td>1.685399e+10</td>\n",
       "      <td>1.614587e+10</td>\n",
       "      <td>1.612132e+10</td>\n",
       "      <td>1.781428e+10</td>\n",
       "      <td>1.766087e+10</td>\n",
       "      <td>1.891867e+10</td>\n",
       "      <td>1.979725e+10</td>\n",
       "      <td>1.777477e+10</td>\n",
       "      <td>...</td>\n",
       "      <td>45.1</td>\n",
       "      <td>47.3</td>\n",
       "      <td>45.1</td>\n",
       "      <td>45.1</td>\n",
       "      <td>45.1</td>\n",
       "      <td>44.8</td>\n",
       "      <td>NaN</td>\n",
       "      <td>NaN</td>\n",
       "      <td>NaN</td>\n",
       "      <td>SEN</td>\n",
       "    </tr>\n",
       "    <tr>\n",
       "      <th>Seychelles</th>\n",
       "      <td>1.081441e+09</td>\n",
       "      <td>1.077309e+09</td>\n",
       "      <td>9.795974e+08</td>\n",
       "      <td>8.510643e+08</td>\n",
       "      <td>9.819180e+08</td>\n",
       "      <td>1.059250e+09</td>\n",
       "      <td>1.089881e+09</td>\n",
       "      <td>1.324915e+09</td>\n",
       "      <td>1.387576e+09</td>\n",
       "      <td>1.391428e+09</td>\n",
       "      <td>...</td>\n",
       "      <td>29.8</td>\n",
       "      <td>30.1</td>\n",
       "      <td>30.1</td>\n",
       "      <td>30.1</td>\n",
       "      <td>30.1</td>\n",
       "      <td>30.1</td>\n",
       "      <td>NaN</td>\n",
       "      <td>NaN</td>\n",
       "      <td>NaN</td>\n",
       "      <td>SYC</td>\n",
       "    </tr>\n",
       "    <tr>\n",
       "      <th>Singapore</th>\n",
       "      <td>1.486273e+11</td>\n",
       "      <td>1.809417e+11</td>\n",
       "      <td>1.936173e+11</td>\n",
       "      <td>1.941503e+11</td>\n",
       "      <td>2.398079e+11</td>\n",
       "      <td>2.793565e+11</td>\n",
       "      <td>2.950928e+11</td>\n",
       "      <td>3.075764e+11</td>\n",
       "      <td>3.148636e+11</td>\n",
       "      <td>3.079985e+11</td>\n",
       "      <td>...</td>\n",
       "      <td>18.0</td>\n",
       "      <td>18.0</td>\n",
       "      <td>19.1</td>\n",
       "      <td>20.3</td>\n",
       "      <td>20.6</td>\n",
       "      <td>21.0</td>\n",
       "      <td>NaN</td>\n",
       "      <td>NaN</td>\n",
       "      <td>NaN</td>\n",
       "      <td>SGP</td>\n",
       "    </tr>\n",
       "    <tr>\n",
       "      <th>South Africa</th>\n",
       "      <td>3.038587e+11</td>\n",
       "      <td>3.330771e+11</td>\n",
       "      <td>3.161312e+11</td>\n",
       "      <td>3.297541e+11</td>\n",
       "      <td>4.173638e+11</td>\n",
       "      <td>4.581995e+11</td>\n",
       "      <td>4.344005e+11</td>\n",
       "      <td>4.008860e+11</td>\n",
       "      <td>3.811989e+11</td>\n",
       "      <td>3.467098e+11</td>\n",
       "      <td>...</td>\n",
       "      <td>28.9</td>\n",
       "      <td>28.8</td>\n",
       "      <td>28.8</td>\n",
       "      <td>28.9</td>\n",
       "      <td>29.1</td>\n",
       "      <td>29.2</td>\n",
       "      <td>NaN</td>\n",
       "      <td>NaN</td>\n",
       "      <td>NaN</td>\n",
       "      <td>ZAF</td>\n",
       "    </tr>\n",
       "    <tr>\n",
       "      <th>Spain</th>\n",
       "      <td>1.260399e+12</td>\n",
       "      <td>1.474003e+12</td>\n",
       "      <td>1.631863e+12</td>\n",
       "      <td>1.491473e+12</td>\n",
       "      <td>1.422108e+12</td>\n",
       "      <td>1.480710e+12</td>\n",
       "      <td>1.324751e+12</td>\n",
       "      <td>1.355580e+12</td>\n",
       "      <td>1.371821e+12</td>\n",
       "      <td>1.196157e+12</td>\n",
       "      <td>...</td>\n",
       "      <td>57.9</td>\n",
       "      <td>49.8</td>\n",
       "      <td>48.7</td>\n",
       "      <td>46.9</td>\n",
       "      <td>47.0</td>\n",
       "      <td>47.0</td>\n",
       "      <td>NaN</td>\n",
       "      <td>NaN</td>\n",
       "      <td>NaN</td>\n",
       "      <td>ESP</td>\n",
       "    </tr>\n",
       "    <tr>\n",
       "      <th>Sweden</th>\n",
       "      <td>4.230906e+11</td>\n",
       "      <td>4.912548e+11</td>\n",
       "      <td>5.177062e+11</td>\n",
       "      <td>4.365359e+11</td>\n",
       "      <td>4.958126e+11</td>\n",
       "      <td>5.740941e+11</td>\n",
       "      <td>5.524837e+11</td>\n",
       "      <td>5.868418e+11</td>\n",
       "      <td>5.819640e+11</td>\n",
       "      <td>5.051038e+11</td>\n",
       "      <td>...</td>\n",
       "      <td>49.1</td>\n",
       "      <td>49.1</td>\n",
       "      <td>49.1</td>\n",
       "      <td>49.1</td>\n",
       "      <td>49.1</td>\n",
       "      <td>49.1</td>\n",
       "      <td>NaN</td>\n",
       "      <td>NaN</td>\n",
       "      <td>NaN</td>\n",
       "      <td>SWE</td>\n",
       "    </tr>\n",
       "    <tr>\n",
       "      <th>Switzerland</th>\n",
       "      <td>4.416194e+11</td>\n",
       "      <td>4.907547e+11</td>\n",
       "      <td>5.672730e+11</td>\n",
       "      <td>5.541917e+11</td>\n",
       "      <td>5.988510e+11</td>\n",
       "      <td>7.158881e+11</td>\n",
       "      <td>6.864202e+11</td>\n",
       "      <td>7.062349e+11</td>\n",
       "      <td>7.265378e+11</td>\n",
       "      <td>6.941182e+11</td>\n",
       "      <td>...</td>\n",
       "      <td>28.8</td>\n",
       "      <td>28.8</td>\n",
       "      <td>28.8</td>\n",
       "      <td>28.8</td>\n",
       "      <td>28.8</td>\n",
       "      <td>28.8</td>\n",
       "      <td>NaN</td>\n",
       "      <td>NaN</td>\n",
       "      <td>NaN</td>\n",
       "      <td>CHE</td>\n",
       "    </tr>\n",
       "    <tr>\n",
       "      <th>Thailand</th>\n",
       "      <td>2.217583e+11</td>\n",
       "      <td>2.629426e+11</td>\n",
       "      <td>2.913830e+11</td>\n",
       "      <td>2.817106e+11</td>\n",
       "      <td>3.411048e+11</td>\n",
       "      <td>3.708187e+11</td>\n",
       "      <td>3.975583e+11</td>\n",
       "      <td>4.203337e+11</td>\n",
       "      <td>4.073390e+11</td>\n",
       "      <td>4.012962e+11</td>\n",
       "      <td>...</td>\n",
       "      <td>26.0</td>\n",
       "      <td>26.8</td>\n",
       "      <td>29.6</td>\n",
       "      <td>28.7</td>\n",
       "      <td>29.5</td>\n",
       "      <td>29.5</td>\n",
       "      <td>NaN</td>\n",
       "      <td>NaN</td>\n",
       "      <td>NaN</td>\n",
       "      <td>THA</td>\n",
       "    </tr>\n",
       "    <tr>\n",
       "      <th>Turkiye</th>\n",
       "      <td>5.570760e+11</td>\n",
       "      <td>6.813212e+11</td>\n",
       "      <td>7.704493e+11</td>\n",
       "      <td>6.492894e+11</td>\n",
       "      <td>7.769675e+11</td>\n",
       "      <td>8.387855e+11</td>\n",
       "      <td>8.805559e+11</td>\n",
       "      <td>9.577990e+11</td>\n",
       "      <td>9.389344e+11</td>\n",
       "      <td>8.643140e+11</td>\n",
       "      <td>...</td>\n",
       "      <td>39.8</td>\n",
       "      <td>40.5</td>\n",
       "      <td>40.5</td>\n",
       "      <td>40.4</td>\n",
       "      <td>40.4</td>\n",
       "      <td>42.3</td>\n",
       "      <td>NaN</td>\n",
       "      <td>NaN</td>\n",
       "      <td>NaN</td>\n",
       "      <td>TUR</td>\n",
       "    </tr>\n",
       "    <tr>\n",
       "      <th>United Arab Emirates</th>\n",
       "      <td>2.221165e+11</td>\n",
       "      <td>2.579161e+11</td>\n",
       "      <td>3.154746e+11</td>\n",
       "      <td>2.535474e+11</td>\n",
       "      <td>2.897875e+11</td>\n",
       "      <td>3.506661e+11</td>\n",
       "      <td>3.846101e+11</td>\n",
       "      <td>4.002185e+11</td>\n",
       "      <td>4.141054e+11</td>\n",
       "      <td>3.702755e+11</td>\n",
       "      <td>...</td>\n",
       "      <td>14.8</td>\n",
       "      <td>15.9</td>\n",
       "      <td>15.9</td>\n",
       "      <td>15.9</td>\n",
       "      <td>15.9</td>\n",
       "      <td>15.9</td>\n",
       "      <td>NaN</td>\n",
       "      <td>NaN</td>\n",
       "      <td>NaN</td>\n",
       "      <td>ARE</td>\n",
       "    </tr>\n",
       "    <tr>\n",
       "      <th>United Kingdom</th>\n",
       "      <td>2.709978e+12</td>\n",
       "      <td>3.092996e+12</td>\n",
       "      <td>2.931684e+12</td>\n",
       "      <td>2.417566e+12</td>\n",
       "      <td>2.491397e+12</td>\n",
       "      <td>2.666403e+12</td>\n",
       "      <td>2.706341e+12</td>\n",
       "      <td>2.786315e+12</td>\n",
       "      <td>3.065223e+12</td>\n",
       "      <td>2.934858e+12</td>\n",
       "      <td>...</td>\n",
       "      <td>33.5</td>\n",
       "      <td>32.0</td>\n",
       "      <td>30.9</td>\n",
       "      <td>30.7</td>\n",
       "      <td>30.0</td>\n",
       "      <td>30.6</td>\n",
       "      <td>NaN</td>\n",
       "      <td>NaN</td>\n",
       "      <td>NaN</td>\n",
       "      <td>GBR</td>\n",
       "    </tr>\n",
       "    <tr>\n",
       "      <th>United States</th>\n",
       "      <td>1.381559e+13</td>\n",
       "      <td>1.447423e+13</td>\n",
       "      <td>1.476986e+13</td>\n",
       "      <td>1.447806e+13</td>\n",
       "      <td>1.504896e+13</td>\n",
       "      <td>1.559973e+13</td>\n",
       "      <td>1.625397e+13</td>\n",
       "      <td>1.684319e+13</td>\n",
       "      <td>1.755068e+13</td>\n",
       "      <td>1.820602e+13</td>\n",
       "      <td>...</td>\n",
       "      <td>43.8</td>\n",
       "      <td>43.9</td>\n",
       "      <td>44.0</td>\n",
       "      <td>43.8</td>\n",
       "      <td>43.8</td>\n",
       "      <td>36.6</td>\n",
       "      <td>NaN</td>\n",
       "      <td>NaN</td>\n",
       "      <td>NaN</td>\n",
       "      <td>USA</td>\n",
       "    </tr>\n",
       "    <tr>\n",
       "      <th>Vietnam</th>\n",
       "      <td>6.637166e+10</td>\n",
       "      <td>7.741443e+10</td>\n",
       "      <td>9.913030e+10</td>\n",
       "      <td>1.060147e+11</td>\n",
       "      <td>1.472012e+11</td>\n",
       "      <td>1.725950e+11</td>\n",
       "      <td>1.955906e+11</td>\n",
       "      <td>2.137088e+11</td>\n",
       "      <td>2.334515e+11</td>\n",
       "      <td>2.392583e+11</td>\n",
       "      <td>...</td>\n",
       "      <td>40.8</td>\n",
       "      <td>39.4</td>\n",
       "      <td>39.4</td>\n",
       "      <td>38.1</td>\n",
       "      <td>37.8</td>\n",
       "      <td>37.6</td>\n",
       "      <td>NaN</td>\n",
       "      <td>NaN</td>\n",
       "      <td>NaN</td>\n",
       "      <td>VNM</td>\n",
       "    </tr>\n",
       "  </tbody>\n",
       "</table>\n",
       "<p>50 rows × 69 columns</p>\n",
       "</div>"
      ],
      "text/plain": [
       "                               GDP                                            \\\n",
       "date                          2006          2007          2008          2009   \n",
       "country                                                                        \n",
       "Argentina             2.325573e+11  2.875305e+11  3.615580e+11  3.329765e+11   \n",
       "Australia             7.479074e+11  8.544273e+11  1.055686e+12  9.286298e+11   \n",
       "Austria               3.362801e+11  3.891856e+11  4.320519e+11  4.017587e+11   \n",
       "Belgium               4.082598e+11  4.709222e+11  5.173281e+11  4.832542e+11   \n",
       "Bermuda               6.144000e+09  6.767000e+09  6.980000e+09  6.656000e+09   \n",
       "Brazil                1.107627e+12  1.397114e+12  1.695855e+12  1.666996e+12   \n",
       "Canada                1.319265e+12  1.468820e+12  1.552990e+12  1.374625e+12   \n",
       "Chile                 1.538401e+11  1.725659e+11  1.796634e+11  1.714126e+11   \n",
       "China                 2.752119e+12  3.550328e+12  4.594337e+12  5.101691e+12   \n",
       "Colombia              1.617930e+11  2.062295e+11  2.425042e+11  2.324687e+11   \n",
       "Croatia               4.953259e+10  5.917290e+10  6.834206e+10  6.194147e+10   \n",
       "Czechia               1.562642e+11  1.901841e+11  2.368169e+11  2.074343e+11   \n",
       "Denmark               2.828860e+11  3.194234e+11  3.533589e+11  3.212433e+11   \n",
       "Ecuador               4.680204e+10  5.100778e+10  6.176264e+10  6.251969e+10   \n",
       "Egypt, Arab Rep.      1.074261e+11  1.304378e+11  1.628182e+11  1.891470e+11   \n",
       "Estonia               1.702287e+10  2.244913e+10  2.434168e+10  1.963303e+10   \n",
       "Finland               2.170893e+11  2.563781e+11  2.857163e+11  2.534975e+11   \n",
       "France                2.320536e+12  2.660591e+12  2.930304e+12  2.700887e+12   \n",
       "Germany               2.994704e+12  3.425578e+12  3.745264e+12  3.411261e+12   \n",
       "Greece                2.735467e+11  3.189028e+11  3.559087e+11  3.313085e+11   \n",
       "Hong Kong SAR, China  1.935354e+11  2.115970e+11  2.192787e+11  2.140478e+11   \n",
       "India                 9.402599e+11  1.216736e+12  1.198895e+12  1.341888e+12   \n",
       "Indonesia             3.645705e+11  4.322167e+11  5.102286e+11  5.395801e+11   \n",
       "Ireland               2.321806e+11  2.700793e+11  2.754475e+11  2.364431e+11   \n",
       "Israel                1.586702e+11  1.840529e+11  2.205298e+11  2.119681e+11   \n",
       "Italy                 1.949552e+12  2.213102e+12  2.408655e+12  2.199929e+12   \n",
       "Japan                 4.601663e+12  4.579750e+12  5.106679e+12  5.289494e+12   \n",
       "Korea, Rep.           1.053217e+12  1.172614e+12  1.047339e+12  9.439419e+11   \n",
       "Liechtenstein         4.000101e+09  4.601431e+09  5.081480e+09  4.504377e+09   \n",
       "Lithuania             3.018358e+10  3.969789e+10  4.779755e+10  3.738812e+10   \n",
       "Luxembourg            4.291015e+10  5.158740e+10  5.884428e+10  5.446729e+10   \n",
       "Malaysia              1.626923e+11  1.935495e+11  2.308116e+11  2.022575e+11   \n",
       "Mexico                9.753834e+11  1.052697e+12  1.109987e+12  9.000470e+11   \n",
       "Netherlands           7.339553e+11  8.485589e+11  9.518700e+11  8.715186e+11   \n",
       "Nigeria               2.384550e+11  2.782608e+11  3.394762e+11  2.950088e+11   \n",
       "Norway                3.469134e+11  4.026456e+11  4.649176e+11  3.879743e+11   \n",
       "Philippines           1.276529e+11  1.559804e+11  1.816246e+11  1.759748e+11   \n",
       "Senegal               1.169792e+10  1.399422e+10  1.685399e+10  1.614587e+10   \n",
       "Seychelles            1.081441e+09  1.077309e+09  9.795974e+08  8.510643e+08   \n",
       "Singapore             1.486273e+11  1.809417e+11  1.936173e+11  1.941503e+11   \n",
       "South Africa          3.038587e+11  3.330771e+11  3.161312e+11  3.297541e+11   \n",
       "Spain                 1.260399e+12  1.474003e+12  1.631863e+12  1.491473e+12   \n",
       "Sweden                4.230906e+11  4.912548e+11  5.177062e+11  4.365359e+11   \n",
       "Switzerland           4.416194e+11  4.907547e+11  5.672730e+11  5.541917e+11   \n",
       "Thailand              2.217583e+11  2.629426e+11  2.913830e+11  2.817106e+11   \n",
       "Turkiye               5.570760e+11  6.813212e+11  7.704493e+11  6.492894e+11   \n",
       "United Arab Emirates  2.221165e+11  2.579161e+11  3.154746e+11  2.535474e+11   \n",
       "United Kingdom        2.709978e+12  3.092996e+12  2.931684e+12  2.417566e+12   \n",
       "United States         1.381559e+13  1.447423e+13  1.476986e+13  1.447806e+13   \n",
       "Vietnam               6.637166e+10  7.741443e+10  9.913030e+10  1.060147e+11   \n",
       "\n",
       "                                                                              \\\n",
       "date                          2010          2011          2012          2013   \n",
       "country                                                                        \n",
       "Argentina             4.236274e+11  5.301582e+11  5.459824e+11  5.520251e+11   \n",
       "Australia             1.148570e+12  1.398456e+12  1.546953e+12  1.576330e+12   \n",
       "Austria               3.922751e+11  4.316852e+11  4.094018e+11  4.301910e+11   \n",
       "Belgium               4.814209e+11  5.233304e+11  4.961529e+11  5.217910e+11   \n",
       "Bermuda               6.634526e+09  6.312691e+09  6.378188e+09  6.465756e+09   \n",
       "Brazil                2.208838e+12  2.616157e+12  2.465228e+12  2.472819e+12   \n",
       "Canada                1.617343e+12  1.793327e+12  1.828366e+12  1.846597e+12   \n",
       "Chile                 2.171054e+11  2.512249e+11  2.671759e+11  2.772395e+11   \n",
       "China                 6.087192e+12  7.551545e+12  8.532186e+12  9.570471e+12   \n",
       "Colombia              2.864985e+11  3.349661e+11  3.706911e+11  3.820937e+11   \n",
       "Croatia               5.869361e+10  6.259978e+10  5.723146e+10  5.936312e+10   \n",
       "Czechia               2.090699e+11  2.295627e+11  2.088577e+11  2.116856e+11   \n",
       "Denmark               3.219953e+11  3.440031e+11  3.271489e+11  3.435844e+11   \n",
       "Ecuador               6.955537e+10  7.927666e+10  8.792454e+10  9.512966e+10   \n",
       "Egypt, Arab Rep.      2.189837e+11  2.359897e+11  2.791167e+11  2.884341e+11   \n",
       "Estonia               1.952348e+10  2.321399e+10  2.301915e+10  2.511575e+10   \n",
       "Finland               2.494243e+11  2.756044e+11  2.582901e+11  2.713624e+11   \n",
       "France                2.645188e+12  2.865158e+12  2.683672e+12  2.811877e+12   \n",
       "Germany               3.399668e+12  3.749315e+12  3.527143e+12  3.733805e+12   \n",
       "Greece                2.971250e+11  2.829959e+11  2.420293e+11  2.389077e+11   \n",
       "Hong Kong SAR, China  2.286387e+11  2.485136e+11  2.626289e+11  2.756969e+11   \n",
       "India                 1.675616e+12  1.823052e+12  1.827638e+12  1.856721e+12   \n",
       "Indonesia             7.550942e+11  8.929691e+11  9.178699e+11  9.125241e+11   \n",
       "Ireland               2.219136e+11  2.390031e+11  2.256287e+11  2.383409e+11   \n",
       "Israel                2.383641e+11  2.667919e+11  2.622823e+11  2.977328e+11   \n",
       "Italy                 2.136100e+12  2.294994e+12  2.086958e+12  2.141924e+12   \n",
       "Japan                 5.759072e+12  6.233147e+12  6.272363e+12  5.212328e+12   \n",
       "Korea, Rep.           1.144067e+12  1.253223e+12  1.278428e+12  1.370795e+12   \n",
       "Liechtenstein         5.082339e+09  5.739706e+09  5.456100e+09  6.391711e+09   \n",
       "Lithuania             3.712869e+10  4.353505e+10  4.292745e+10  4.652342e+10   \n",
       "Luxembourg            5.621399e+10  6.169628e+10  5.977638e+10  6.520328e+10   \n",
       "Malaysia              2.550176e+11  2.979517e+11  3.144431e+11  3.232763e+11   \n",
       "Mexico                1.057801e+12  1.180487e+12  1.201094e+12  1.274444e+12   \n",
       "Netherlands           8.473809e+11  9.052706e+11  8.389233e+11  8.771728e+11   \n",
       "Nigeria               3.669905e+11  4.144665e+11  4.639710e+11  5.201172e+11   \n",
       "Norway                4.310521e+11  5.013605e+11  5.127773e+11  5.260145e+11   \n",
       "Philippines           2.083689e+11  2.342167e+11  2.619205e+11  2.839028e+11   \n",
       "Senegal               1.612132e+10  1.781428e+10  1.766087e+10  1.891867e+10   \n",
       "Seychelles            9.819180e+08  1.059250e+09  1.089881e+09  1.324915e+09   \n",
       "Singapore             2.398079e+11  2.793565e+11  2.950928e+11  3.075764e+11   \n",
       "South Africa          4.173638e+11  4.581995e+11  4.344005e+11  4.008860e+11   \n",
       "Spain                 1.422108e+12  1.480710e+12  1.324751e+12  1.355580e+12   \n",
       "Sweden                4.958126e+11  5.740941e+11  5.524837e+11  5.868418e+11   \n",
       "Switzerland           5.988510e+11  7.158881e+11  6.864202e+11  7.062349e+11   \n",
       "Thailand              3.411048e+11  3.708187e+11  3.975583e+11  4.203337e+11   \n",
       "Turkiye               7.769675e+11  8.387855e+11  8.805559e+11  9.577990e+11   \n",
       "United Arab Emirates  2.897875e+11  3.506661e+11  3.846101e+11  4.002185e+11   \n",
       "United Kingdom        2.491397e+12  2.666403e+12  2.706341e+12  2.786315e+12   \n",
       "United States         1.504896e+13  1.559973e+13  1.625397e+13  1.684319e+13   \n",
       "Vietnam               1.472012e+11  1.725950e+11  1.955906e+11  2.137088e+11   \n",
       "\n",
       "                                                  ... Corporation tax         \\\n",
       "date                          2014          2015  ...            2014   2015   \n",
       "country                                           ...                          \n",
       "Argentina             5.263197e+11  5.947493e+11  ...           137.4  137.6   \n",
       "Australia             1.467590e+12  1.350580e+12  ...            47.4   47.6   \n",
       "Austria               4.425848e+11  3.819711e+11  ...            51.7   51.7   \n",
       "Belgium               5.353902e+11  4.623356e+11  ...            58.4   58.4   \n",
       "Bermuda               6.413988e+09  6.654541e+09  ...             NaN    NaN   \n",
       "Brazil                2.456044e+12  1.802212e+12  ...            66.0   65.6   \n",
       "Canada                1.805750e+12  1.556509e+12  ...            21.1   21.1   \n",
       "Chile                 2.594052e+11  2.424967e+11  ...            28.9   29.9   \n",
       "China                 1.047562e+13  1.106157e+13  ...            68.6   67.9   \n",
       "Colombia              3.812409e+11  2.934924e+11  ...            79.9   72.3   \n",
       "Croatia               5.921446e+10  5.074209e+10  ...            18.4   20.0   \n",
       "Czechia               2.093588e+11  1.880331e+11  ...            46.5   46.5   \n",
       "Denmark               3.529936e+11  3.026731e+11  ...            25.4   23.9   \n",
       "Ecuador               1.017263e+11  9.929038e+10  ...            32.8   32.8   \n",
       "Egypt, Arab Rep.      3.055954e+11  3.293666e+11  ...            44.7   44.9   \n",
       "Estonia               2.663408e+10  2.289076e+10  ...            49.2   49.2   \n",
       "Finland               2.748628e+11  2.345344e+11  ...            40.1   37.9   \n",
       "France                2.855964e+12  2.439189e+12  ...            71.3   64.9   \n",
       "Germany               3.889093e+12  3.357586e+12  ...            48.8   48.8   \n",
       "Greece                2.354581e+11  1.956835e+11  ...            50.7   49.6   \n",
       "Hong Kong SAR, China  2.914600e+11  3.093856e+11  ...            22.8   22.8   \n",
       "India                 2.039126e+12  2.103588e+12  ...            55.5   55.5   \n",
       "Indonesia             8.908148e+11  8.608542e+11  ...            31.4   29.7   \n",
       "Ireland               2.591709e+11  2.917752e+11  ...            26.0   26.0   \n",
       "Israel                3.143301e+11  3.034143e+11  ...            26.7   27.9   \n",
       "Italy                 2.162010e+12  1.836638e+12  ...            65.2   64.8   \n",
       "Japan                 4.896994e+12  4.444931e+12  ...            50.3   50.4   \n",
       "Korea, Rep.           1.484318e+12  1.465773e+12  ...            33.2   33.2   \n",
       "Liechtenstein         6.657527e+09  6.268513e+09  ...             NaN    NaN   \n",
       "Lithuania             4.853366e+10  4.143553e+10  ...            42.4   42.6   \n",
       "Luxembourg            6.880481e+10  6.007158e+10  ...            20.6   20.6   \n",
       "Malaysia              3.380661e+11  3.013548e+11  ...            39.3   40.0   \n",
       "Mexico                1.315356e+12  1.171870e+12  ...            53.4   53.5   \n",
       "Netherlands           8.921680e+11  7.655728e+11  ...            39.0   41.0   \n",
       "Nigeria               5.741838e+11  4.930268e+11  ...            33.0   33.9   \n",
       "Norway                5.017365e+11  3.881595e+11  ...            40.4   39.5   \n",
       "Philippines           2.974836e+11  3.064459e+11  ...            42.5   42.9   \n",
       "Senegal               1.979725e+10  1.777477e+10  ...            45.1   47.3   \n",
       "Seychelles            1.387576e+09  1.391428e+09  ...            29.8   30.1   \n",
       "Singapore             3.148636e+11  3.079985e+11  ...            18.0   18.0   \n",
       "South Africa          3.811989e+11  3.467098e+11  ...            28.9   28.8   \n",
       "Spain                 1.371821e+12  1.196157e+12  ...            57.9   49.8   \n",
       "Sweden                5.819640e+11  5.051038e+11  ...            49.1   49.1   \n",
       "Switzerland           7.265378e+11  6.941182e+11  ...            28.8   28.8   \n",
       "Thailand              4.073390e+11  4.012962e+11  ...            26.0   26.8   \n",
       "Turkiye               9.389344e+11  8.643140e+11  ...            39.8   40.5   \n",
       "United Arab Emirates  4.141054e+11  3.702755e+11  ...            14.8   15.9   \n",
       "United Kingdom        3.065223e+12  2.934858e+12  ...            33.5   32.0   \n",
       "United States         1.755068e+13  1.820602e+13  ...            43.8   43.9   \n",
       "Vietnam               2.334515e+11  2.392583e+11  ...            40.8   39.4   \n",
       "\n",
       "                                                                Country Code  \n",
       "date                   2016   2017   2018   2019 2020 2021 2022               \n",
       "country                                                                       \n",
       "Argentina             106.0  106.0  106.0  106.3  NaN  NaN  NaN          ARG  \n",
       "Australia              47.6   47.5   47.4   47.4  NaN  NaN  NaN          AUS  \n",
       "Austria                51.6   51.8   51.5   51.4  NaN  NaN  NaN          AUT  \n",
       "Belgium                58.7   57.1   57.7   55.4  NaN  NaN  NaN          BEL  \n",
       "Bermuda                 NaN    NaN    NaN    NaN  NaN  NaN  NaN          BMU  \n",
       "Brazil                 65.3   65.1   65.1   65.1  NaN  NaN  NaN          BRA  \n",
       "Canada                 21.0   20.9   20.5   24.5  NaN  NaN  NaN          CAN  \n",
       "Chile                  31.4   33.0   34.0   34.0  NaN  NaN  NaN          CHL  \n",
       "China                  68.2   66.5   64.0   59.2  NaN  NaN  NaN          CHN  \n",
       "Colombia               72.2   72.3   71.9   71.2  NaN  NaN  NaN          COL  \n",
       "Croatia                20.9   20.6   20.5   20.5  NaN  NaN  NaN          HRV  \n",
       "Czechia                46.1   46.1   46.1   46.1  NaN  NaN  NaN          CZE  \n",
       "Denmark                24.4   23.8   23.8   23.8  NaN  NaN  NaN          DNK  \n",
       "Ecuador                32.5   32.5   32.3   34.4  NaN  NaN  NaN          ECU  \n",
       "Egypt, Arab Rep.       43.5   45.8   46.9   44.4  NaN  NaN  NaN          EGY  \n",
       "Estonia                48.5   48.5   48.5   47.8  NaN  NaN  NaN          EST  \n",
       "Finland                38.1   38.4   37.3   36.6  NaN  NaN  NaN          FIN  \n",
       "France                 64.1   62.6   60.4   60.7  NaN  NaN  NaN          FRA  \n",
       "Germany                48.9   48.9   49.0   48.8  NaN  NaN  NaN          DEU  \n",
       "Greece                 50.7   51.7   51.9   51.9  NaN  NaN  NaN          GRC  \n",
       "Hong Kong SAR, China   22.9   22.9   22.9   21.9  NaN  NaN  NaN          HKG  \n",
       "India                  56.2   56.2   52.1   49.7  NaN  NaN  NaN          IND  \n",
       "Indonesia              30.6   30.0   30.1   30.1  NaN  NaN  NaN          IDN  \n",
       "Ireland                26.0   26.0   26.0   26.1  NaN  NaN  NaN          IRL  \n",
       "Israel                 28.1   27.0   26.2   25.3  NaN  NaN  NaN          ISR  \n",
       "Italy                  62.0   48.0   53.1   59.1  NaN  NaN  NaN          ITA  \n",
       "Japan                  48.8   47.4   46.7   46.7  NaN  NaN  NaN          JPN  \n",
       "Korea, Rep.            33.1   33.1   33.1   33.2  NaN  NaN  NaN          KOR  \n",
       "Liechtenstein           NaN    NaN   21.6   21.6  NaN  NaN  NaN          LIE  \n",
       "Lithuania              42.6   42.7   42.6   42.6  NaN  NaN  NaN          LTU  \n",
       "Luxembourg             20.8   20.5   20.5   20.4  NaN  NaN  NaN          LUX  \n",
       "Malaysia               40.0   39.2   39.2   38.7  NaN  NaN  NaN          MYS  \n",
       "Mexico                 52.9   53.4   55.7   55.1  NaN  NaN  NaN          MEX  \n",
       "Netherlands            40.4   40.7   40.8   41.2  NaN  NaN  NaN          NLD  \n",
       "Nigeria                34.9   34.8   34.8   34.8  NaN  NaN  NaN          NGA  \n",
       "Norway                 39.5   37.7   37.0   36.2  NaN  NaN  NaN          NOR  \n",
       "Philippines            42.9   42.9   42.9   43.1  NaN  NaN  NaN          PHL  \n",
       "Senegal                45.1   45.1   45.1   44.8  NaN  NaN  NaN          SEN  \n",
       "Seychelles             30.1   30.1   30.1   30.1  NaN  NaN  NaN          SYC  \n",
       "Singapore              19.1   20.3   20.6   21.0  NaN  NaN  NaN          SGP  \n",
       "South Africa           28.8   28.9   29.1   29.2  NaN  NaN  NaN          ZAF  \n",
       "Spain                  48.7   46.9   47.0   47.0  NaN  NaN  NaN          ESP  \n",
       "Sweden                 49.1   49.1   49.1   49.1  NaN  NaN  NaN          SWE  \n",
       "Switzerland            28.8   28.8   28.8   28.8  NaN  NaN  NaN          CHE  \n",
       "Thailand               29.6   28.7   29.5   29.5  NaN  NaN  NaN          THA  \n",
       "Turkiye                40.5   40.4   40.4   42.3  NaN  NaN  NaN          TUR  \n",
       "United Arab Emirates   15.9   15.9   15.9   15.9  NaN  NaN  NaN          ARE  \n",
       "United Kingdom         30.9   30.7   30.0   30.6  NaN  NaN  NaN          GBR  \n",
       "United States          44.0   43.8   43.8   36.6  NaN  NaN  NaN          USA  \n",
       "Vietnam                39.4   38.1   37.8   37.6  NaN  NaN  NaN          VNM  \n",
       "\n",
       "[50 rows x 69 columns]"
      ]
     },
     "execution_count": 251,
     "metadata": {},
     "output_type": "execute_result"
    }
   ],
   "source": [
    "df3"
   ]
  },
  {
   "cell_type": "code",
   "execution_count": 35,
   "id": "1f364767",
   "metadata": {},
   "outputs": [],
   "source": [
    "# new_columns = [(str(col)) for col in df3.columns if col != 'Country Code']\n",
    "# df3.columns = new_columns"
   ]
  },
  {
   "cell_type": "code",
   "execution_count": 252,
   "id": "c1fa4011",
   "metadata": {},
   "outputs": [],
   "source": [
    "# Format the column names properly\n",
    "\n",
    "new_columns = [(str(col).replace(\"'\", '').strip('()')) for col in df3.columns if col != 'Country Code']\n",
    "df3.columns = new_columns"
   ]
  },
  {
   "cell_type": "code",
   "execution_count": 267,
   "id": "84c60a87",
   "metadata": {
    "scrolled": true
   },
   "outputs": [],
   "source": [
    "# df3.columns"
   ]
  },
  {
   "cell_type": "code",
   "execution_count": 266,
   "id": "c0708d10",
   "metadata": {
    "scrolled": true
   },
   "outputs": [],
   "source": [
    "# qgrid.show_grid(df3)"
   ]
  },
  {
   "cell_type": "code",
   "execution_count": 255,
   "id": "9c98af77",
   "metadata": {
    "scrolled": true
   },
   "outputs": [
    {
     "data": {
      "text/plain": [
       "GDP, 2006                float64\n",
       "GDP, 2007                float64\n",
       "GDP, 2008                float64\n",
       "GDP, 2009                float64\n",
       "GDP, 2010                float64\n",
       "                          ...   \n",
       "Corporation tax, 2019    float64\n",
       "Corporation tax, 2020    float64\n",
       "Corporation tax, 2021    float64\n",
       "Corporation tax, 2022    float64\n",
       "Country Code,             object\n",
       "Length: 69, dtype: object"
      ]
     },
     "execution_count": 255,
     "metadata": {},
     "output_type": "execute_result"
    }
   ],
   "source": [
    "df3.dtypes"
   ]
  },
  {
   "cell_type": "code",
   "execution_count": 256,
   "id": "a47ae640",
   "metadata": {},
   "outputs": [],
   "source": [
    "# Creating GDP Growth Variables for the years\n",
    "\n",
    "gdp_columns = [col for col in df3.columns if 'GDP' in col]\n",
    "df3_growth = (df3[gdp_columns].pct_change(axis=1))*100\n",
    "df3_growth = df3_growth.assign(Mean_GDP_Growth = df3_growth.mean(axis=1), Variance_GDP_Growth = df3_growth.var(axis=1))"
   ]
  },
  {
   "cell_type": "code",
   "execution_count": null,
   "id": "8ebba66c",
   "metadata": {
    "scrolled": true
   },
   "outputs": [],
   "source": []
  },
  {
   "cell_type": "code",
   "execution_count": 258,
   "id": "608493fb",
   "metadata": {},
   "outputs": [],
   "source": [
    "df3 = df3.join(df3_growth, rsuffix=' Growth')"
   ]
  },
  {
   "cell_type": "code",
   "execution_count": 259,
   "id": "6eb42e8c",
   "metadata": {},
   "outputs": [],
   "source": [
    "#Create Columns for the mean values across the years \n",
    "\n",
    "lending_columns = [col for col in df3.columns if 'Lending interest rate' in col]\n",
    "inflation_columns = [col for col in df3.columns if 'Inflation rate' in col]\n",
    "tax_columns = [col for col in df3.columns if 'Corporation tax' in col]\n",
    "\n",
    "df3['Mean_Lending_Rate'] = df3[lending_columns].mean(axis=1)\n",
    "df3['Mean_Inflation_Rate'] = df3[inflation_columns].mean(axis=1)\n",
    "df3['Mean_Corporation_Tax_Rate'] = df3[tax_columns].mean(axis=1)\n"
   ]
  },
  {
   "cell_type": "code",
   "execution_count": 260,
   "id": "ff2a1983",
   "metadata": {},
   "outputs": [
    {
     "data": {
      "application/vnd.jupyter.widget-view+json": {
       "model_id": "6518db4d183d4c4195bad3ce7b41a280",
       "version_major": 2,
       "version_minor": 0
      },
      "text/plain": [
       "QgridWidget(grid_options={'fullWidthRows': True, 'syncColumnCellResize': True, 'forceFitColumns': False, 'defa…"
      ]
     },
     "metadata": {},
     "output_type": "display_data"
    }
   ],
   "source": [
    "qgrid.show_grid(df3)"
   ]
  },
  {
   "cell_type": "code",
   "execution_count": null,
   "id": "5d650d33",
   "metadata": {
    "scrolled": true
   },
   "outputs": [],
   "source": []
  },
  {
   "cell_type": "code",
   "execution_count": 261,
   "id": "b6114278",
   "metadata": {},
   "outputs": [],
   "source": [
    "df3 = df3.rename(columns={'Country Code, ': 'Country Code'})"
   ]
  },
  {
   "cell_type": "code",
   "execution_count": 263,
   "id": "eb5b622e",
   "metadata": {},
   "outputs": [
    {
     "name": "stdout",
     "output_type": "stream",
     "text": [
      "Countries with null values for mean lending rate:\n",
      "Index(['Austria', 'Belgium', 'Bermuda', 'Denmark', 'Ecuador', 'Estonia',\n",
      "       'Finland', 'France', 'Germany', 'Greece', 'Ireland', 'Liechtenstein',\n",
      "       'Lithuania', 'Luxembourg', 'Spain', 'Turkiye', 'United Arab Emirates'],\n",
      "      dtype='object', name='country')\n",
      "Countries with null values for mean inflation rate:\n",
      "Index(['Argentina', 'Bermuda', 'Liechtenstein'], dtype='object', name='country')\n",
      "Countries with null values for mean corporation tax rate:\n",
      "Index(['Bermuda'], dtype='object', name='country')\n"
     ]
    }
   ],
   "source": [
    "# Identify countries with null values in the mean macro varibles\n",
    "\n",
    "lending_nulls = df3['Mean_Lending_Rate'].isnull()\n",
    "inflation_nulls = df3['Mean_Inflation_Rate'].isnull()\n",
    "tax_nulls = df3['Mean_Corporation_Tax_Rate'].isnull()\n",
    "\n",
    "countries_with_lending_nulls = df3.index[lending_nulls]\n",
    "countries_with_inflation_nulls = df3.index[inflation_nulls]\n",
    "countries_with_tax_nulls = df3.index[tax_nulls]\n",
    "\n",
    "print('Countries with null values for mean lending rate:')\n",
    "print(countries_with_lending_nulls)\n",
    "print('Countries with null values for mean inflation rate:')\n",
    "print(countries_with_inflation_nulls)\n",
    "print('Countries with null values for mean corporation tax rate:')\n",
    "print(countries_with_tax_nulls)\n"
   ]
  },
  {
   "cell_type": "code",
   "execution_count": 265,
   "id": "56cf92d2",
   "metadata": {},
   "outputs": [],
   "source": [
    "# df3.head()"
   ]
  },
  {
   "cell_type": "code",
   "execution_count": 268,
   "id": "d3f211a4",
   "metadata": {
    "scrolled": true
   },
   "outputs": [
    {
     "data": {
      "text/html": [
       "<div>\n",
       "<style scoped>\n",
       "    .dataframe tbody tr th:only-of-type {\n",
       "        vertical-align: middle;\n",
       "    }\n",
       "\n",
       "    .dataframe tbody tr th {\n",
       "        vertical-align: top;\n",
       "    }\n",
       "\n",
       "    .dataframe thead th {\n",
       "        text-align: right;\n",
       "    }\n",
       "</style>\n",
       "<table border=\"1\" class=\"dataframe\">\n",
       "  <thead>\n",
       "    <tr style=\"text-align: right;\">\n",
       "      <th></th>\n",
       "      <th>GDP, 2006</th>\n",
       "      <th>GDP, 2007</th>\n",
       "      <th>GDP, 2008</th>\n",
       "      <th>GDP, 2009</th>\n",
       "      <th>GDP, 2010</th>\n",
       "      <th>GDP, 2011</th>\n",
       "      <th>GDP, 2012</th>\n",
       "      <th>GDP, 2013</th>\n",
       "      <th>GDP, 2014</th>\n",
       "      <th>GDP, 2015</th>\n",
       "      <th>...</th>\n",
       "      <th>GDP, 2018 Growth</th>\n",
       "      <th>GDP, 2019 Growth</th>\n",
       "      <th>GDP, 2020 Growth</th>\n",
       "      <th>GDP, 2021 Growth</th>\n",
       "      <th>GDP, 2022 Growth</th>\n",
       "      <th>Mean_GDP_Growth</th>\n",
       "      <th>Variance_GDP_Growth</th>\n",
       "      <th>Mean_Lending_Rate</th>\n",
       "      <th>Mean_Inflation_Rate</th>\n",
       "      <th>Mean_Corporation_Tax_Rate</th>\n",
       "    </tr>\n",
       "    <tr>\n",
       "      <th>country</th>\n",
       "      <th></th>\n",
       "      <th></th>\n",
       "      <th></th>\n",
       "      <th></th>\n",
       "      <th></th>\n",
       "      <th></th>\n",
       "      <th></th>\n",
       "      <th></th>\n",
       "      <th></th>\n",
       "      <th></th>\n",
       "      <th></th>\n",
       "      <th></th>\n",
       "      <th></th>\n",
       "      <th></th>\n",
       "      <th></th>\n",
       "      <th></th>\n",
       "      <th></th>\n",
       "      <th></th>\n",
       "      <th></th>\n",
       "      <th></th>\n",
       "      <th></th>\n",
       "    </tr>\n",
       "  </thead>\n",
       "  <tbody>\n",
       "    <tr>\n",
       "      <th>Argentina</th>\n",
       "      <td>2.325573e+11</td>\n",
       "      <td>2.875305e+11</td>\n",
       "      <td>3.615580e+11</td>\n",
       "      <td>3.329765e+11</td>\n",
       "      <td>4.236274e+11</td>\n",
       "      <td>5.301582e+11</td>\n",
       "      <td>5.459824e+11</td>\n",
       "      <td>5.520251e+11</td>\n",
       "      <td>5.263197e+11</td>\n",
       "      <td>5.947493e+11</td>\n",
       "      <td>...</td>\n",
       "      <td>-18.459176</td>\n",
       "      <td>-14.684125</td>\n",
       "      <td>-13.894724</td>\n",
       "      <td>26.375113</td>\n",
       "      <td>29.871727</td>\n",
       "      <td>7.792579</td>\n",
       "      <td>300.131384</td>\n",
       "      <td>30.439167</td>\n",
       "      <td>51.800000</td>\n",
       "      <td>112.157143</td>\n",
       "    </tr>\n",
       "    <tr>\n",
       "      <th>Australia</th>\n",
       "      <td>7.479074e+11</td>\n",
       "      <td>8.544273e+11</td>\n",
       "      <td>1.055686e+12</td>\n",
       "      <td>9.286298e+11</td>\n",
       "      <td>1.148570e+12</td>\n",
       "      <td>1.398456e+12</td>\n",
       "      <td>1.546953e+12</td>\n",
       "      <td>1.576330e+12</td>\n",
       "      <td>1.467590e+12</td>\n",
       "      <td>1.350580e+12</td>\n",
       "      <td>...</td>\n",
       "      <td>7.674446</td>\n",
       "      <td>-2.523898</td>\n",
       "      <td>-4.688481</td>\n",
       "      <td>17.013410</td>\n",
       "      <td>7.903347</td>\n",
       "      <td>5.843877</td>\n",
       "      <td>151.303082</td>\n",
       "      <td>6.532964</td>\n",
       "      <td>2.558128</td>\n",
       "      <td>48.092857</td>\n",
       "    </tr>\n",
       "    <tr>\n",
       "      <th>Austria</th>\n",
       "      <td>3.362801e+11</td>\n",
       "      <td>3.891856e+11</td>\n",
       "      <td>4.320519e+11</td>\n",
       "      <td>4.017587e+11</td>\n",
       "      <td>3.922751e+11</td>\n",
       "      <td>4.316852e+11</td>\n",
       "      <td>4.094018e+11</td>\n",
       "      <td>4.301910e+11</td>\n",
       "      <td>4.425848e+11</td>\n",
       "      <td>3.819711e+11</td>\n",
       "      <td>...</td>\n",
       "      <td>9.042304</td>\n",
       "      <td>-2.279165</td>\n",
       "      <td>-2.113246</td>\n",
       "      <td>10.372369</td>\n",
       "      <td>-1.866971</td>\n",
       "      <td>2.420053</td>\n",
       "      <td>61.603386</td>\n",
       "      <td>1.500000</td>\n",
       "      <td>2.271663</td>\n",
       "      <td>51.492857</td>\n",
       "    </tr>\n",
       "    <tr>\n",
       "      <th>Belgium</th>\n",
       "      <td>4.082598e+11</td>\n",
       "      <td>4.709222e+11</td>\n",
       "      <td>5.173281e+11</td>\n",
       "      <td>4.832542e+11</td>\n",
       "      <td>4.814209e+11</td>\n",
       "      <td>5.233304e+11</td>\n",
       "      <td>4.961529e+11</td>\n",
       "      <td>5.217910e+11</td>\n",
       "      <td>5.353902e+11</td>\n",
       "      <td>4.623356e+11</td>\n",
       "      <td>...</td>\n",
       "      <td>8.062289</td>\n",
       "      <td>-1.368192</td>\n",
       "      <td>-1.987928</td>\n",
       "      <td>13.163971</td>\n",
       "      <td>-2.649585</td>\n",
       "      <td>2.479769</td>\n",
       "      <td>59.444785</td>\n",
       "      <td>1.500000</td>\n",
       "      <td>2.293794</td>\n",
       "      <td>57.557143</td>\n",
       "    </tr>\n",
       "    <tr>\n",
       "      <th>Bermuda</th>\n",
       "      <td>6.144000e+09</td>\n",
       "      <td>6.767000e+09</td>\n",
       "      <td>6.980000e+09</td>\n",
       "      <td>6.656000e+09</td>\n",
       "      <td>6.634526e+09</td>\n",
       "      <td>6.312691e+09</td>\n",
       "      <td>6.378188e+09</td>\n",
       "      <td>6.465756e+09</td>\n",
       "      <td>6.413988e+09</td>\n",
       "      <td>6.654541e+09</td>\n",
       "      <td>...</td>\n",
       "      <td>1.171343</td>\n",
       "      <td>2.733028</td>\n",
       "      <td>-7.224632</td>\n",
       "      <td>3.485522</td>\n",
       "      <td>5.939219</td>\n",
       "      <td>1.383587</td>\n",
       "      <td>18.623073</td>\n",
       "      <td>4.500000</td>\n",
       "      <td>1.800000</td>\n",
       "      <td>0.000000</td>\n",
       "    </tr>\n",
       "    <tr>\n",
       "      <th>Brazil</th>\n",
       "      <td>1.107627e+12</td>\n",
       "      <td>1.397114e+12</td>\n",
       "      <td>1.695855e+12</td>\n",
       "      <td>1.666996e+12</td>\n",
       "      <td>2.208838e+12</td>\n",
       "      <td>2.616157e+12</td>\n",
       "      <td>2.465228e+12</td>\n",
       "      <td>2.472819e+12</td>\n",
       "      <td>2.456044e+12</td>\n",
       "      <td>1.802212e+12</td>\n",
       "      <td>...</td>\n",
       "      <td>-7.103462</td>\n",
       "      <td>-2.276842</td>\n",
       "      <td>-21.202337</td>\n",
       "      <td>11.754950</td>\n",
       "      <td>16.396025</td>\n",
       "      <td>4.757605</td>\n",
       "      <td>270.327150</td>\n",
       "      <td>40.254608</td>\n",
       "      <td>5.730016</td>\n",
       "      <td>65.471429</td>\n",
       "    </tr>\n",
       "    <tr>\n",
       "      <th>Canada</th>\n",
       "      <td>1.319265e+12</td>\n",
       "      <td>1.468820e+12</td>\n",
       "      <td>1.552990e+12</td>\n",
       "      <td>1.374625e+12</td>\n",
       "      <td>1.617343e+12</td>\n",
       "      <td>1.793327e+12</td>\n",
       "      <td>1.828366e+12</td>\n",
       "      <td>1.846597e+12</td>\n",
       "      <td>1.805750e+12</td>\n",
       "      <td>1.556509e+12</td>\n",
       "      <td>...</td>\n",
       "      <td>4.610070</td>\n",
       "      <td>1.068062</td>\n",
       "      <td>-5.512725</td>\n",
       "      <td>21.479041</td>\n",
       "      <td>6.912525</td>\n",
       "      <td>3.482343</td>\n",
       "      <td>90.525271</td>\n",
       "      <td>3.485069</td>\n",
       "      <td>2.067243</td>\n",
       "      <td>27.678571</td>\n",
       "    </tr>\n",
       "    <tr>\n",
       "      <th>Chile</th>\n",
       "      <td>1.538401e+11</td>\n",
       "      <td>1.725659e+11</td>\n",
       "      <td>1.796634e+11</td>\n",
       "      <td>1.714126e+11</td>\n",
       "      <td>2.171054e+11</td>\n",
       "      <td>2.512249e+11</td>\n",
       "      <td>2.671759e+11</td>\n",
       "      <td>2.772395e+11</td>\n",
       "      <td>2.594052e+11</td>\n",
       "      <td>2.424967e+11</td>\n",
       "      <td>...</td>\n",
       "      <td>6.888612</td>\n",
       "      <td>-5.724166</td>\n",
       "      <td>-8.760428</td>\n",
       "      <td>24.643225</td>\n",
       "      <td>-4.953475</td>\n",
       "      <td>4.811609</td>\n",
       "      <td>121.746615</td>\n",
       "      <td>7.555348</td>\n",
       "      <td>3.862399</td>\n",
       "      <td>28.264286</td>\n",
       "    </tr>\n",
       "    <tr>\n",
       "      <th>China</th>\n",
       "      <td>2.752119e+12</td>\n",
       "      <td>3.550328e+12</td>\n",
       "      <td>4.594337e+12</td>\n",
       "      <td>5.101691e+12</td>\n",
       "      <td>6.087192e+12</td>\n",
       "      <td>7.551545e+12</td>\n",
       "      <td>8.532186e+12</td>\n",
       "      <td>9.570471e+12</td>\n",
       "      <td>1.047562e+13</td>\n",
       "      <td>1.106157e+13</td>\n",
       "      <td>...</td>\n",
       "      <td>12.870456</td>\n",
       "      <td>2.771238</td>\n",
       "      <td>2.855574</td>\n",
       "      <td>21.328775</td>\n",
       "      <td>0.800828</td>\n",
       "      <td>12.800046</td>\n",
       "      <td>88.474618</td>\n",
       "      <td>5.234118</td>\n",
       "      <td>2.525466</td>\n",
       "      <td>66.171429</td>\n",
       "    </tr>\n",
       "    <tr>\n",
       "      <th>Colombia</th>\n",
       "      <td>1.617930e+11</td>\n",
       "      <td>2.062295e+11</td>\n",
       "      <td>2.425042e+11</td>\n",
       "      <td>2.324687e+11</td>\n",
       "      <td>2.864985e+11</td>\n",
       "      <td>3.349661e+11</td>\n",
       "      <td>3.706911e+11</td>\n",
       "      <td>3.820937e+11</td>\n",
       "      <td>3.812409e+11</td>\n",
       "      <td>2.934924e+11</td>\n",
       "      <td>...</td>\n",
       "      <td>7.160537</td>\n",
       "      <td>-3.341286</td>\n",
       "      <td>-16.370141</td>\n",
       "      <td>17.901420</td>\n",
       "      <td>7.983262</td>\n",
       "      <td>5.721851</td>\n",
       "      <td>191.384886</td>\n",
       "      <td>12.479994</td>\n",
       "      <td>4.387617</td>\n",
       "      <td>78.521429</td>\n",
       "    </tr>\n",
       "    <tr>\n",
       "      <th>Croatia</th>\n",
       "      <td>4.953259e+10</td>\n",
       "      <td>5.917290e+10</td>\n",
       "      <td>6.834206e+10</td>\n",
       "      <td>6.194147e+10</td>\n",
       "      <td>5.869361e+10</td>\n",
       "      <td>6.259978e+10</td>\n",
       "      <td>5.723146e+10</td>\n",
       "      <td>5.936312e+10</td>\n",
       "      <td>5.921446e+10</td>\n",
       "      <td>5.074209e+10</td>\n",
       "      <td>...</td>\n",
       "      <td>9.641120</td>\n",
       "      <td>-0.001983</td>\n",
       "      <td>-6.040067</td>\n",
       "      <td>19.468542</td>\n",
       "      <td>3.080794</td>\n",
       "      <td>2.735139</td>\n",
       "      <td>101.682054</td>\n",
       "      <td>9.806204</td>\n",
       "      <td>2.268416</td>\n",
       "      <td>20.528571</td>\n",
       "    </tr>\n",
       "    <tr>\n",
       "      <th>Czechia</th>\n",
       "      <td>1.562642e+11</td>\n",
       "      <td>1.901841e+11</td>\n",
       "      <td>2.368169e+11</td>\n",
       "      <td>2.074343e+11</td>\n",
       "      <td>2.090699e+11</td>\n",
       "      <td>2.295627e+11</td>\n",
       "      <td>2.088577e+11</td>\n",
       "      <td>2.116856e+11</td>\n",
       "      <td>2.093588e+11</td>\n",
       "      <td>1.880331e+11</td>\n",
       "      <td>...</td>\n",
       "      <td>13.891848</td>\n",
       "      <td>1.424752</td>\n",
       "      <td>-2.602918</td>\n",
       "      <td>14.561124</td>\n",
       "      <td>3.240809</td>\n",
       "      <td>4.484186</td>\n",
       "      <td>117.515660</td>\n",
       "      <td>4.707618</td>\n",
       "      <td>3.045123</td>\n",
       "      <td>46.414286</td>\n",
       "    </tr>\n",
       "    <tr>\n",
       "      <th>Denmark</th>\n",
       "      <td>2.828860e+11</td>\n",
       "      <td>3.194234e+11</td>\n",
       "      <td>3.533589e+11</td>\n",
       "      <td>3.212433e+11</td>\n",
       "      <td>3.219953e+11</td>\n",
       "      <td>3.440031e+11</td>\n",
       "      <td>3.271489e+11</td>\n",
       "      <td>3.435844e+11</td>\n",
       "      <td>3.529936e+11</td>\n",
       "      <td>3.026731e+11</td>\n",
       "      <td>...</td>\n",
       "      <td>7.443115</td>\n",
       "      <td>-2.898342</td>\n",
       "      <td>2.517675</td>\n",
       "      <td>12.127844</td>\n",
       "      <td>-0.727929</td>\n",
       "      <td>2.381878</td>\n",
       "      <td>56.316553</td>\n",
       "      <td>0.500000</td>\n",
       "      <td>1.797077</td>\n",
       "      <td>26.314286</td>\n",
       "    </tr>\n",
       "    <tr>\n",
       "      <th>Ecuador</th>\n",
       "      <td>4.680204e+10</td>\n",
       "      <td>5.100778e+10</td>\n",
       "      <td>6.176264e+10</td>\n",
       "      <td>6.251969e+10</td>\n",
       "      <td>6.955537e+10</td>\n",
       "      <td>7.927666e+10</td>\n",
       "      <td>8.792454e+10</td>\n",
       "      <td>9.512966e+10</td>\n",
       "      <td>1.017263e+11</td>\n",
       "      <td>9.929038e+10</td>\n",
       "      <td>...</td>\n",
       "      <td>3.131616</td>\n",
       "      <td>0.507615</td>\n",
       "      <td>-8.155626</td>\n",
       "      <td>6.923823</td>\n",
       "      <td>8.367671</td>\n",
       "      <td>5.997340</td>\n",
       "      <td>48.483857</td>\n",
       "      <td>10.200000</td>\n",
       "      <td>2.823019</td>\n",
       "      <td>33.914286</td>\n",
       "    </tr>\n",
       "    <tr>\n",
       "      <th>Egypt, Arab Rep.</th>\n",
       "      <td>1.074261e+11</td>\n",
       "      <td>1.304378e+11</td>\n",
       "      <td>1.628182e+11</td>\n",
       "      <td>1.891470e+11</td>\n",
       "      <td>2.189837e+11</td>\n",
       "      <td>2.359897e+11</td>\n",
       "      <td>2.791167e+11</td>\n",
       "      <td>2.884341e+11</td>\n",
       "      <td>3.055954e+11</td>\n",
       "      <td>3.293666e+11</td>\n",
       "      <td>...</td>\n",
       "      <td>5.727856</td>\n",
       "      <td>21.360476</td>\n",
       "      <td>20.440338</td>\n",
       "      <td>10.644092</td>\n",
       "      <td>12.262636</td>\n",
       "      <td>10.460973</td>\n",
       "      <td>143.128596</td>\n",
       "      <td>12.744608</td>\n",
       "      <td>11.554424</td>\n",
       "      <td>44.107143</td>\n",
       "    </tr>\n",
       "    <tr>\n",
       "      <th>Estonia</th>\n",
       "      <td>1.702287e+10</td>\n",
       "      <td>2.244913e+10</td>\n",
       "      <td>2.434168e+10</td>\n",
       "      <td>1.963303e+10</td>\n",
       "      <td>1.952348e+10</td>\n",
       "      <td>2.321399e+10</td>\n",
       "      <td>2.301915e+10</td>\n",
       "      <td>2.511575e+10</td>\n",
       "      <td>2.663408e+10</td>\n",
       "      <td>2.289076e+10</td>\n",
       "      <td>...</td>\n",
       "      <td>13.743434</td>\n",
       "      <td>1.492852</td>\n",
       "      <td>0.928172</td>\n",
       "      <td>18.554980</td>\n",
       "      <td>2.445868</td>\n",
       "      <td>5.858869</td>\n",
       "      <td>153.115700</td>\n",
       "      <td>2.500000</td>\n",
       "      <td>4.016395</td>\n",
       "      <td>50.585714</td>\n",
       "    </tr>\n",
       "    <tr>\n",
       "      <th>Finland</th>\n",
       "      <td>2.170893e+11</td>\n",
       "      <td>2.563781e+11</td>\n",
       "      <td>2.857163e+11</td>\n",
       "      <td>2.534975e+11</td>\n",
       "      <td>2.494243e+11</td>\n",
       "      <td>2.756044e+11</td>\n",
       "      <td>2.582901e+11</td>\n",
       "      <td>2.713624e+11</td>\n",
       "      <td>2.748628e+11</td>\n",
       "      <td>2.345344e+11</td>\n",
       "      <td>...</td>\n",
       "      <td>7.846736</td>\n",
       "      <td>-2.608950</td>\n",
       "      <td>1.255483</td>\n",
       "      <td>9.011696</td>\n",
       "      <td>-5.250444</td>\n",
       "      <td>1.977708</td>\n",
       "      <td>76.121192</td>\n",
       "      <td>1.500000</td>\n",
       "      <td>1.805374</td>\n",
       "      <td>41.414286</td>\n",
       "    </tr>\n",
       "    <tr>\n",
       "      <th>France</th>\n",
       "      <td>2.320536e+12</td>\n",
       "      <td>2.660591e+12</td>\n",
       "      <td>2.930304e+12</td>\n",
       "      <td>2.700887e+12</td>\n",
       "      <td>2.645188e+12</td>\n",
       "      <td>2.865158e+12</td>\n",
       "      <td>2.683672e+12</td>\n",
       "      <td>2.811877e+12</td>\n",
       "      <td>2.855964e+12</td>\n",
       "      <td>2.439189e+12</td>\n",
       "      <td>...</td>\n",
       "      <td>7.545065</td>\n",
       "      <td>-2.224564</td>\n",
       "      <td>-3.292994</td>\n",
       "      <td>12.082986</td>\n",
       "      <td>-5.915536</td>\n",
       "      <td>1.447140</td>\n",
       "      <td>65.140606</td>\n",
       "      <td>1.500000</td>\n",
       "      <td>1.446200</td>\n",
       "      <td>66.550000</td>\n",
       "    </tr>\n",
       "    <tr>\n",
       "      <th>Germany</th>\n",
       "      <td>2.994704e+12</td>\n",
       "      <td>3.425578e+12</td>\n",
       "      <td>3.745264e+12</td>\n",
       "      <td>3.411261e+12</td>\n",
       "      <td>3.399668e+12</td>\n",
       "      <td>3.749315e+12</td>\n",
       "      <td>3.527143e+12</td>\n",
       "      <td>3.733805e+12</td>\n",
       "      <td>3.889093e+12</td>\n",
       "      <td>3.357586e+12</td>\n",
       "      <td>...</td>\n",
       "      <td>7.683712</td>\n",
       "      <td>-2.169293</td>\n",
       "      <td>0.037108</td>\n",
       "      <td>9.519217</td>\n",
       "      <td>-4.407184</td>\n",
       "      <td>2.221828</td>\n",
       "      <td>59.972572</td>\n",
       "      <td>1.500000</td>\n",
       "      <td>1.776088</td>\n",
       "      <td>47.892857</td>\n",
       "    </tr>\n",
       "    <tr>\n",
       "      <th>Greece</th>\n",
       "      <td>2.735467e+11</td>\n",
       "      <td>3.189028e+11</td>\n",
       "      <td>3.559087e+11</td>\n",
       "      <td>3.313085e+11</td>\n",
       "      <td>2.971250e+11</td>\n",
       "      <td>2.829959e+11</td>\n",
       "      <td>2.420293e+11</td>\n",
       "      <td>2.389077e+11</td>\n",
       "      <td>2.354581e+11</td>\n",
       "      <td>1.956835e+11</td>\n",
       "      <td>...</td>\n",
       "      <td>6.107272</td>\n",
       "      <td>-3.203230</td>\n",
       "      <td>-7.956376</td>\n",
       "      <td>13.734417</td>\n",
       "      <td>1.950908</td>\n",
       "      <td>-0.943622</td>\n",
       "      <td>92.522226</td>\n",
       "      <td>4.300000</td>\n",
       "      <td>1.636712</td>\n",
       "      <td>48.500000</td>\n",
       "    </tr>\n",
       "    <tr>\n",
       "      <th>Hong Kong SAR, China</th>\n",
       "      <td>1.935354e+11</td>\n",
       "      <td>2.115970e+11</td>\n",
       "      <td>2.192787e+11</td>\n",
       "      <td>2.140478e+11</td>\n",
       "      <td>2.286387e+11</td>\n",
       "      <td>2.485136e+11</td>\n",
       "      <td>2.626289e+11</td>\n",
       "      <td>2.756969e+11</td>\n",
       "      <td>2.914600e+11</td>\n",
       "      <td>3.093856e+11</td>\n",
       "      <td>...</td>\n",
       "      <td>5.994545</td>\n",
       "      <td>0.371406</td>\n",
       "      <td>-4.993853</td>\n",
       "      <td>6.948460</td>\n",
       "      <td>-2.459341</td>\n",
       "      <td>4.033890</td>\n",
       "      <td>17.649685</td>\n",
       "      <td>5.355392</td>\n",
       "      <td>2.659766</td>\n",
       "      <td>23.078571</td>\n",
       "    </tr>\n",
       "    <tr>\n",
       "      <th>India</th>\n",
       "      <td>9.402599e+11</td>\n",
       "      <td>1.216736e+12</td>\n",
       "      <td>1.198895e+12</td>\n",
       "      <td>1.341888e+12</td>\n",
       "      <td>1.675616e+12</td>\n",
       "      <td>1.823052e+12</td>\n",
       "      <td>1.827638e+12</td>\n",
       "      <td>1.856721e+12</td>\n",
       "      <td>2.039126e+12</td>\n",
       "      <td>2.103588e+12</td>\n",
       "      <td>...</td>\n",
       "      <td>1.940633</td>\n",
       "      <td>4.908622</td>\n",
       "      <td>-5.783978</td>\n",
       "      <td>17.918561</td>\n",
       "      <td>7.452704</td>\n",
       "      <td>8.714447</td>\n",
       "      <td>90.741620</td>\n",
       "      <td>10.228191</td>\n",
       "      <td>6.927666</td>\n",
       "      <td>54.414286</td>\n",
       "    </tr>\n",
       "    <tr>\n",
       "      <th>Indonesia</th>\n",
       "      <td>3.645705e+11</td>\n",
       "      <td>4.322167e+11</td>\n",
       "      <td>5.102286e+11</td>\n",
       "      <td>5.395801e+11</td>\n",
       "      <td>7.550942e+11</td>\n",
       "      <td>8.929691e+11</td>\n",
       "      <td>9.178699e+11</td>\n",
       "      <td>9.125241e+11</td>\n",
       "      <td>8.908148e+11</td>\n",
       "      <td>8.608542e+11</td>\n",
       "      <td>...</td>\n",
       "      <td>2.624291</td>\n",
       "      <td>7.371240</td>\n",
       "      <td>-5.365475</td>\n",
       "      <td>12.034373</td>\n",
       "      <td>11.175234</td>\n",
       "      <td>8.881086</td>\n",
       "      <td>126.900041</td>\n",
       "      <td>11.950784</td>\n",
       "      <td>5.254278</td>\n",
       "      <td>30.585714</td>\n",
       "    </tr>\n",
       "    <tr>\n",
       "      <th>Ireland</th>\n",
       "      <td>2.321806e+11</td>\n",
       "      <td>2.700793e+11</td>\n",
       "      <td>2.754475e+11</td>\n",
       "      <td>2.364431e+11</td>\n",
       "      <td>2.219136e+11</td>\n",
       "      <td>2.390031e+11</td>\n",
       "      <td>2.256287e+11</td>\n",
       "      <td>2.383409e+11</td>\n",
       "      <td>2.591709e+11</td>\n",
       "      <td>2.917752e+11</td>\n",
       "      <td>...</td>\n",
       "      <td>14.673746</td>\n",
       "      <td>3.521838</td>\n",
       "      <td>6.643911</td>\n",
       "      <td>18.393778</td>\n",
       "      <td>4.970871</td>\n",
       "      <td>5.640141</td>\n",
       "      <td>76.886598</td>\n",
       "      <td>2.300000</td>\n",
       "      <td>1.397107</td>\n",
       "      <td>25.742857</td>\n",
       "    </tr>\n",
       "    <tr>\n",
       "      <th>Israel</th>\n",
       "      <td>1.586702e+11</td>\n",
       "      <td>1.840529e+11</td>\n",
       "      <td>2.205298e+11</td>\n",
       "      <td>2.119681e+11</td>\n",
       "      <td>2.383641e+11</td>\n",
       "      <td>2.667919e+11</td>\n",
       "      <td>2.622823e+11</td>\n",
       "      <td>2.977328e+11</td>\n",
       "      <td>3.143301e+11</td>\n",
       "      <td>3.034143e+11</td>\n",
       "      <td>...</td>\n",
       "      <td>5.149012</td>\n",
       "      <td>6.843527</td>\n",
       "      <td>2.682720</td>\n",
       "      <td>18.210686</td>\n",
       "      <td>6.858768</td>\n",
       "      <td>7.960325</td>\n",
       "      <td>53.262581</td>\n",
       "      <td>3.508012</td>\n",
       "      <td>1.551319</td>\n",
       "      <td>28.114286</td>\n",
       "    </tr>\n",
       "    <tr>\n",
       "      <th>Italy</th>\n",
       "      <td>1.949552e+12</td>\n",
       "      <td>2.213102e+12</td>\n",
       "      <td>2.408655e+12</td>\n",
       "      <td>2.199929e+12</td>\n",
       "      <td>2.136100e+12</td>\n",
       "      <td>2.294994e+12</td>\n",
       "      <td>2.086958e+12</td>\n",
       "      <td>2.141924e+12</td>\n",
       "      <td>2.162010e+12</td>\n",
       "      <td>1.836638e+12</td>\n",
       "      <td>...</td>\n",
       "      <td>6.633524</td>\n",
       "      <td>-3.854342</td>\n",
       "      <td>-5.672531</td>\n",
       "      <td>11.445503</td>\n",
       "      <td>-4.915169</td>\n",
       "      <td>0.502218</td>\n",
       "      <td>65.568438</td>\n",
       "      <td>4.114240</td>\n",
       "      <td>1.747597</td>\n",
       "      <td>65.092857</td>\n",
       "    </tr>\n",
       "    <tr>\n",
       "      <th>Japan</th>\n",
       "      <td>4.601663e+12</td>\n",
       "      <td>4.579750e+12</td>\n",
       "      <td>5.106679e+12</td>\n",
       "      <td>5.289494e+12</td>\n",
       "      <td>5.759072e+12</td>\n",
       "      <td>6.233147e+12</td>\n",
       "      <td>6.272363e+12</td>\n",
       "      <td>5.212328e+12</td>\n",
       "      <td>4.896994e+12</td>\n",
       "      <td>4.444931e+12</td>\n",
       "      <td>...</td>\n",
       "      <td>2.231742</td>\n",
       "      <td>1.529751</td>\n",
       "      <td>-1.352175</td>\n",
       "      <td>-0.856698</td>\n",
       "      <td>-15.470779</td>\n",
       "      <td>-0.164807</td>\n",
       "      <td>73.916841</td>\n",
       "      <td>1.449347</td>\n",
       "      <td>0.425623</td>\n",
       "      <td>48.428571</td>\n",
       "    </tr>\n",
       "    <tr>\n",
       "      <th>Korea, Rep.</th>\n",
       "      <td>1.053217e+12</td>\n",
       "      <td>1.172614e+12</td>\n",
       "      <td>1.047339e+12</td>\n",
       "      <td>9.439419e+11</td>\n",
       "      <td>1.144067e+12</td>\n",
       "      <td>1.253223e+12</td>\n",
       "      <td>1.278428e+12</td>\n",
       "      <td>1.370795e+12</td>\n",
       "      <td>1.484318e+12</td>\n",
       "      <td>1.465773e+12</td>\n",
       "      <td>...</td>\n",
       "      <td>6.216148</td>\n",
       "      <td>-4.256768</td>\n",
       "      <td>-0.430547</td>\n",
       "      <td>10.134513</td>\n",
       "      <td>-8.046045</td>\n",
       "      <td>3.250198</td>\n",
       "      <td>75.731751</td>\n",
       "      <td>4.611324</td>\n",
       "      <td>2.208262</td>\n",
       "      <td>32.921429</td>\n",
       "    </tr>\n",
       "    <tr>\n",
       "      <th>Liechtenstein</th>\n",
       "      <td>4.000101e+09</td>\n",
       "      <td>4.601431e+09</td>\n",
       "      <td>5.081480e+09</td>\n",
       "      <td>4.504377e+09</td>\n",
       "      <td>5.082339e+09</td>\n",
       "      <td>5.739706e+09</td>\n",
       "      <td>5.456100e+09</td>\n",
       "      <td>6.391711e+09</td>\n",
       "      <td>6.657527e+09</td>\n",
       "      <td>6.268513e+09</td>\n",
       "      <td>...</td>\n",
       "      <td>3.371903</td>\n",
       "      <td>-3.827372</td>\n",
       "      <td>-0.476986</td>\n",
       "      <td>12.186877</td>\n",
       "      <td>0.000000</td>\n",
       "      <td>4.059546</td>\n",
       "      <td>72.761590</td>\n",
       "      <td>2.000000</td>\n",
       "      <td>-0.600000</td>\n",
       "      <td>21.600000</td>\n",
       "    </tr>\n",
       "    <tr>\n",
       "      <th>Lithuania</th>\n",
       "      <td>3.018358e+10</td>\n",
       "      <td>3.969789e+10</td>\n",
       "      <td>4.779755e+10</td>\n",
       "      <td>3.738812e+10</td>\n",
       "      <td>3.712869e+10</td>\n",
       "      <td>4.353505e+10</td>\n",
       "      <td>4.292745e+10</td>\n",
       "      <td>4.652342e+10</td>\n",
       "      <td>4.853366e+10</td>\n",
       "      <td>4.143553e+10</td>\n",
       "      <td>...</td>\n",
       "      <td>12.547808</td>\n",
       "      <td>1.877543</td>\n",
       "      <td>3.933867</td>\n",
       "      <td>16.691904</td>\n",
       "      <td>5.901234</td>\n",
       "      <td>6.198193</td>\n",
       "      <td>166.479912</td>\n",
       "      <td>2.500000</td>\n",
       "      <td>4.053598</td>\n",
       "      <td>43.757143</td>\n",
       "    </tr>\n",
       "    <tr>\n",
       "      <th>Luxembourg</th>\n",
       "      <td>4.291015e+10</td>\n",
       "      <td>5.158740e+10</td>\n",
       "      <td>5.884428e+10</td>\n",
       "      <td>5.446729e+10</td>\n",
       "      <td>5.621399e+10</td>\n",
       "      <td>6.169628e+10</td>\n",
       "      <td>5.977638e+10</td>\n",
       "      <td>6.520328e+10</td>\n",
       "      <td>6.880481e+10</td>\n",
       "      <td>6.007158e+10</td>\n",
       "      <td>...</td>\n",
       "      <td>8.047487</td>\n",
       "      <td>-1.654524</td>\n",
       "      <td>5.967649</td>\n",
       "      <td>15.560548</td>\n",
       "      <td>-3.779176</td>\n",
       "      <td>4.496186</td>\n",
       "      <td>75.442988</td>\n",
       "      <td>1.500000</td>\n",
       "      <td>2.053486</td>\n",
       "      <td>20.285714</td>\n",
       "    </tr>\n",
       "    <tr>\n",
       "      <th>Malaysia</th>\n",
       "      <td>1.626923e+11</td>\n",
       "      <td>1.935495e+11</td>\n",
       "      <td>2.308116e+11</td>\n",
       "      <td>2.022575e+11</td>\n",
       "      <td>2.550176e+11</td>\n",
       "      <td>2.979517e+11</td>\n",
       "      <td>3.144431e+11</td>\n",
       "      <td>3.232763e+11</td>\n",
       "      <td>3.380661e+11</td>\n",
       "      <td>3.013548e+11</td>\n",
       "      <td>...</td>\n",
       "      <td>12.434534</td>\n",
       "      <td>1.780688</td>\n",
       "      <td>-7.623214</td>\n",
       "      <td>10.565503</td>\n",
       "      <td>8.934730</td>\n",
       "      <td>6.425895</td>\n",
       "      <td>120.434070</td>\n",
       "      <td>4.879477</td>\n",
       "      <td>2.217673</td>\n",
       "      <td>37.007143</td>\n",
       "    </tr>\n",
       "    <tr>\n",
       "      <th>Mexico</th>\n",
       "      <td>9.753834e+11</td>\n",
       "      <td>1.052697e+12</td>\n",
       "      <td>1.109987e+12</td>\n",
       "      <td>9.000470e+11</td>\n",
       "      <td>1.057801e+12</td>\n",
       "      <td>1.180487e+12</td>\n",
       "      <td>1.201094e+12</td>\n",
       "      <td>1.274444e+12</td>\n",
       "      <td>1.315356e+12</td>\n",
       "      <td>1.171870e+12</td>\n",
       "      <td>...</td>\n",
       "      <td>5.478720</td>\n",
       "      <td>3.812484</td>\n",
       "      <td>-14.065663</td>\n",
       "      <td>16.719059</td>\n",
       "      <td>11.104971</td>\n",
       "      <td>2.892043</td>\n",
       "      <td>112.803876</td>\n",
       "      <td>6.173290</td>\n",
       "      <td>4.389454</td>\n",
       "      <td>53.871429</td>\n",
       "    </tr>\n",
       "    <tr>\n",
       "      <th>Netherlands</th>\n",
       "      <td>7.339553e+11</td>\n",
       "      <td>8.485589e+11</td>\n",
       "      <td>9.518700e+11</td>\n",
       "      <td>8.715186e+11</td>\n",
       "      <td>8.473809e+11</td>\n",
       "      <td>9.052706e+11</td>\n",
       "      <td>8.389233e+11</td>\n",
       "      <td>8.771728e+11</td>\n",
       "      <td>8.921680e+11</td>\n",
       "      <td>7.655728e+11</td>\n",
       "      <td>...</td>\n",
       "      <td>9.614668</td>\n",
       "      <td>-0.421106</td>\n",
       "      <td>-0.044043</td>\n",
       "      <td>11.211928</td>\n",
       "      <td>-2.044301</td>\n",
       "      <td>2.202810</td>\n",
       "      <td>65.831242</td>\n",
       "      <td>2.701042</td>\n",
       "      <td>2.148909</td>\n",
       "      <td>40.278571</td>\n",
       "    </tr>\n",
       "    <tr>\n",
       "      <th>Nigeria</th>\n",
       "      <td>2.384550e+11</td>\n",
       "      <td>2.782608e+11</td>\n",
       "      <td>3.394762e+11</td>\n",
       "      <td>2.950088e+11</td>\n",
       "      <td>3.669905e+11</td>\n",
       "      <td>4.144665e+11</td>\n",
       "      <td>4.639710e+11</td>\n",
       "      <td>5.201172e+11</td>\n",
       "      <td>5.741838e+11</td>\n",
       "      <td>4.930268e+11</td>\n",
       "      <td>...</td>\n",
       "      <td>12.240586</td>\n",
       "      <td>12.514431</td>\n",
       "      <td>-8.918225</td>\n",
       "      <td>1.997841</td>\n",
       "      <td>8.291686</td>\n",
       "      <td>5.268389</td>\n",
       "      <td>178.722130</td>\n",
       "      <td>16.037492</td>\n",
       "      <td>12.047741</td>\n",
       "      <td>34.171429</td>\n",
       "    </tr>\n",
       "    <tr>\n",
       "      <th>Norway</th>\n",
       "      <td>3.469134e+11</td>\n",
       "      <td>4.026456e+11</td>\n",
       "      <td>4.649176e+11</td>\n",
       "      <td>3.879743e+11</td>\n",
       "      <td>4.310521e+11</td>\n",
       "      <td>5.013605e+11</td>\n",
       "      <td>5.127773e+11</td>\n",
       "      <td>5.260145e+11</td>\n",
       "      <td>5.017365e+11</td>\n",
       "      <td>3.881595e+11</td>\n",
       "      <td>...</td>\n",
       "      <td>9.469520</td>\n",
       "      <td>-7.059251</td>\n",
       "      <td>-10.057527</td>\n",
       "      <td>33.364743</td>\n",
       "      <td>18.147095</td>\n",
       "      <td>4.233375</td>\n",
       "      <td>212.736382</td>\n",
       "      <td>3.251417</td>\n",
       "      <td>2.389386</td>\n",
       "      <td>39.764286</td>\n",
       "    </tr>\n",
       "    <tr>\n",
       "      <th>Philippines</th>\n",
       "      <td>1.276529e+11</td>\n",
       "      <td>1.559804e+11</td>\n",
       "      <td>1.816246e+11</td>\n",
       "      <td>1.759748e+11</td>\n",
       "      <td>2.083689e+11</td>\n",
       "      <td>2.342167e+11</td>\n",
       "      <td>2.619205e+11</td>\n",
       "      <td>2.839028e+11</td>\n",
       "      <td>2.974836e+11</td>\n",
       "      <td>3.064459e+11</td>\n",
       "      <td>...</td>\n",
       "      <td>5.589722</td>\n",
       "      <td>8.644143</td>\n",
       "      <td>-3.999820</td>\n",
       "      <td>8.938801</td>\n",
       "      <td>2.587489</td>\n",
       "      <td>7.698710</td>\n",
       "      <td>52.871486</td>\n",
       "      <td>6.939810</td>\n",
       "      <td>3.717908</td>\n",
       "      <td>44.528571</td>\n",
       "    </tr>\n",
       "    <tr>\n",
       "      <th>Senegal</th>\n",
       "      <td>1.169792e+10</td>\n",
       "      <td>1.399422e+10</td>\n",
       "      <td>1.685399e+10</td>\n",
       "      <td>1.614587e+10</td>\n",
       "      <td>1.612132e+10</td>\n",
       "      <td>1.781428e+10</td>\n",
       "      <td>1.766087e+10</td>\n",
       "      <td>1.891867e+10</td>\n",
       "      <td>1.979725e+10</td>\n",
       "      <td>1.777477e+10</td>\n",
       "      <td>...</td>\n",
       "      <td>10.097551</td>\n",
       "      <td>1.242800</td>\n",
       "      <td>4.813354</td>\n",
       "      <td>12.387118</td>\n",
       "      <td>0.418198</td>\n",
       "      <td>5.828449</td>\n",
       "      <td>66.753559</td>\n",
       "      <td>5.089451</td>\n",
       "      <td>2.215702</td>\n",
       "      <td>45.450000</td>\n",
       "    </tr>\n",
       "    <tr>\n",
       "      <th>Seychelles</th>\n",
       "      <td>1.081441e+09</td>\n",
       "      <td>1.077309e+09</td>\n",
       "      <td>9.795974e+08</td>\n",
       "      <td>8.510643e+08</td>\n",
       "      <td>9.819180e+08</td>\n",
       "      <td>1.059250e+09</td>\n",
       "      <td>1.089881e+09</td>\n",
       "      <td>1.324915e+09</td>\n",
       "      <td>1.387576e+09</td>\n",
       "      <td>1.391428e+09</td>\n",
       "      <td>...</td>\n",
       "      <td>3.794024</td>\n",
       "      <td>3.607308</td>\n",
       "      <td>-28.057736</td>\n",
       "      <td>8.717460</td>\n",
       "      <td>23.449246</td>\n",
       "      <td>3.209947</td>\n",
       "      <td>158.107881</td>\n",
       "      <td>11.756103</td>\n",
       "      <td>7.107594</td>\n",
       "      <td>34.914286</td>\n",
       "    </tr>\n",
       "    <tr>\n",
       "      <th>Singapore</th>\n",
       "      <td>1.486273e+11</td>\n",
       "      <td>1.809417e+11</td>\n",
       "      <td>1.936173e+11</td>\n",
       "      <td>1.941503e+11</td>\n",
       "      <td>2.398079e+11</td>\n",
       "      <td>2.793565e+11</td>\n",
       "      <td>2.950928e+11</td>\n",
       "      <td>3.075764e+11</td>\n",
       "      <td>3.148636e+11</td>\n",
       "      <td>3.079985e+11</td>\n",
       "      <td>...</td>\n",
       "      <td>9.787172</td>\n",
       "      <td>-0.008517</td>\n",
       "      <td>-7.548430</td>\n",
       "      <td>21.643661</td>\n",
       "      <td>10.144372</td>\n",
       "      <td>7.767637</td>\n",
       "      <td>82.412390</td>\n",
       "      <td>5.333281</td>\n",
       "      <td>2.064256</td>\n",
       "      <td>21.085714</td>\n",
       "    </tr>\n",
       "    <tr>\n",
       "      <th>South Africa</th>\n",
       "      <td>3.038587e+11</td>\n",
       "      <td>3.330771e+11</td>\n",
       "      <td>3.161312e+11</td>\n",
       "      <td>3.297541e+11</td>\n",
       "      <td>4.173638e+11</td>\n",
       "      <td>4.581995e+11</td>\n",
       "      <td>4.344005e+11</td>\n",
       "      <td>4.008860e+11</td>\n",
       "      <td>3.811989e+11</td>\n",
       "      <td>3.467098e+11</td>\n",
       "      <td>...</td>\n",
       "      <td>5.953634</td>\n",
       "      <td>-3.866711</td>\n",
       "      <td>-13.103620</td>\n",
       "      <td>24.108812</td>\n",
       "      <td>-3.137333</td>\n",
       "      <td>2.468078</td>\n",
       "      <td>147.397196</td>\n",
       "      <td>10.022059</td>\n",
       "      <td>5.484394</td>\n",
       "      <td>30.885714</td>\n",
       "    </tr>\n",
       "    <tr>\n",
       "      <th>Spain</th>\n",
       "      <td>1.260399e+12</td>\n",
       "      <td>1.474003e+12</td>\n",
       "      <td>1.631863e+12</td>\n",
       "      <td>1.491473e+12</td>\n",
       "      <td>1.422108e+12</td>\n",
       "      <td>1.480710e+12</td>\n",
       "      <td>1.324751e+12</td>\n",
       "      <td>1.355580e+12</td>\n",
       "      <td>1.371821e+12</td>\n",
       "      <td>1.196157e+12</td>\n",
       "      <td>...</td>\n",
       "      <td>8.258730</td>\n",
       "      <td>-1.926047</td>\n",
       "      <td>-8.416817</td>\n",
       "      <td>11.779357</td>\n",
       "      <td>-2.092743</td>\n",
       "      <td>0.993780</td>\n",
       "      <td>74.526226</td>\n",
       "      <td>2.000000</td>\n",
       "      <td>1.975179</td>\n",
       "      <td>51.464286</td>\n",
       "    </tr>\n",
       "    <tr>\n",
       "      <th>Sweden</th>\n",
       "      <td>4.230906e+11</td>\n",
       "      <td>4.912548e+11</td>\n",
       "      <td>5.177062e+11</td>\n",
       "      <td>4.365359e+11</td>\n",
       "      <td>4.958126e+11</td>\n",
       "      <td>5.740941e+11</td>\n",
       "      <td>5.524837e+11</td>\n",
       "      <td>5.868418e+11</td>\n",
       "      <td>5.819640e+11</td>\n",
       "      <td>5.051038e+11</td>\n",
       "      <td>...</td>\n",
       "      <td>2.668414</td>\n",
       "      <td>-3.884352</td>\n",
       "      <td>2.467719</td>\n",
       "      <td>16.415570</td>\n",
       "      <td>-7.995064</td>\n",
       "      <td>2.517521</td>\n",
       "      <td>98.989902</td>\n",
       "      <td>3.678033</td>\n",
       "      <td>1.694005</td>\n",
       "      <td>51.328571</td>\n",
       "    </tr>\n",
       "    <tr>\n",
       "      <th>Switzerland</th>\n",
       "      <td>4.416194e+11</td>\n",
       "      <td>4.907547e+11</td>\n",
       "      <td>5.672730e+11</td>\n",
       "      <td>5.541917e+11</td>\n",
       "      <td>5.988510e+11</td>\n",
       "      <td>7.158881e+11</td>\n",
       "      <td>6.864202e+11</td>\n",
       "      <td>7.062349e+11</td>\n",
       "      <td>7.265378e+11</td>\n",
       "      <td>6.941182e+11</td>\n",
       "      <td>...</td>\n",
       "      <td>4.367328</td>\n",
       "      <td>-0.577955</td>\n",
       "      <td>2.570738</td>\n",
       "      <td>8.207247</td>\n",
       "      <td>0.882529</td>\n",
       "      <td>4.050786</td>\n",
       "      <td>47.073738</td>\n",
       "      <td>2.716614</td>\n",
       "      <td>0.392905</td>\n",
       "      <td>28.621429</td>\n",
       "    </tr>\n",
       "    <tr>\n",
       "      <th>Thailand</th>\n",
       "      <td>2.217583e+11</td>\n",
       "      <td>2.629426e+11</td>\n",
       "      <td>2.913830e+11</td>\n",
       "      <td>2.817106e+11</td>\n",
       "      <td>3.411048e+11</td>\n",
       "      <td>3.708187e+11</td>\n",
       "      <td>3.975583e+11</td>\n",
       "      <td>4.203337e+11</td>\n",
       "      <td>4.073390e+11</td>\n",
       "      <td>4.012962e+11</td>\n",
       "      <td>...</td>\n",
       "      <td>11.043420</td>\n",
       "      <td>7.345274</td>\n",
       "      <td>-8.000239</td>\n",
       "      <td>1.021225</td>\n",
       "      <td>-2.022965</td>\n",
       "      <td>5.438893</td>\n",
       "      <td>65.255869</td>\n",
       "      <td>4.638543</td>\n",
       "      <td>1.990526</td>\n",
       "      <td>32.200000</td>\n",
       "    </tr>\n",
       "    <tr>\n",
       "      <th>Turkiye</th>\n",
       "      <td>5.570760e+11</td>\n",
       "      <td>6.813212e+11</td>\n",
       "      <td>7.704493e+11</td>\n",
       "      <td>6.492894e+11</td>\n",
       "      <td>7.769675e+11</td>\n",
       "      <td>8.387855e+11</td>\n",
       "      <td>8.805559e+11</td>\n",
       "      <td>9.577990e+11</td>\n",
       "      <td>9.389344e+11</td>\n",
       "      <td>8.643140e+11</td>\n",
       "      <td>...</td>\n",
       "      <td>-9.372868</td>\n",
       "      <td>-2.381819</td>\n",
       "      <td>-5.217026</td>\n",
       "      <td>13.709178</td>\n",
       "      <td>10.616566</td>\n",
       "      <td>3.616252</td>\n",
       "      <td>116.579438</td>\n",
       "      <td>18.000000</td>\n",
       "      <td>13.977056</td>\n",
       "      <td>41.607143</td>\n",
       "    </tr>\n",
       "    <tr>\n",
       "      <th>United Arab Emirates</th>\n",
       "      <td>2.221165e+11</td>\n",
       "      <td>2.579161e+11</td>\n",
       "      <td>3.154746e+11</td>\n",
       "      <td>2.535474e+11</td>\n",
       "      <td>2.897875e+11</td>\n",
       "      <td>3.506661e+11</td>\n",
       "      <td>3.846101e+11</td>\n",
       "      <td>4.002185e+11</td>\n",
       "      <td>4.141054e+11</td>\n",
       "      <td>3.702755e+11</td>\n",
       "      <td>...</td>\n",
       "      <td>9.354944</td>\n",
       "      <td>-2.121466</td>\n",
       "      <td>-16.391960</td>\n",
       "      <td>18.756405</td>\n",
       "      <td>22.291209</td>\n",
       "      <td>6.131304</td>\n",
       "      <td>177.611110</td>\n",
       "      <td>4.000000</td>\n",
       "      <td>2.080245</td>\n",
       "      <td>14.964286</td>\n",
       "    </tr>\n",
       "    <tr>\n",
       "      <th>United Kingdom</th>\n",
       "      <td>2.709978e+12</td>\n",
       "      <td>3.092996e+12</td>\n",
       "      <td>2.931684e+12</td>\n",
       "      <td>2.417566e+12</td>\n",
       "      <td>2.491397e+12</td>\n",
       "      <td>2.666403e+12</td>\n",
       "      <td>2.706341e+12</td>\n",
       "      <td>2.786315e+12</td>\n",
       "      <td>3.065223e+12</td>\n",
       "      <td>2.934858e+12</td>\n",
       "      <td>...</td>\n",
       "      <td>7.254126</td>\n",
       "      <td>-0.732911</td>\n",
       "      <td>-5.335863</td>\n",
       "      <td>15.450335</td>\n",
       "      <td>-1.659342</td>\n",
       "      <td>1.127070</td>\n",
       "      <td>72.651971</td>\n",
       "      <td>1.996349</td>\n",
       "      <td>2.493248</td>\n",
       "      <td>33.428571</td>\n",
       "    </tr>\n",
       "    <tr>\n",
       "      <th>United States</th>\n",
       "      <td>1.381559e+13</td>\n",
       "      <td>1.447423e+13</td>\n",
       "      <td>1.476986e+13</td>\n",
       "      <td>1.447806e+13</td>\n",
       "      <td>1.504896e+13</td>\n",
       "      <td>1.559973e+13</td>\n",
       "      <td>1.625397e+13</td>\n",
       "      <td>1.684319e+13</td>\n",
       "      <td>1.755068e+13</td>\n",
       "      <td>1.820602e+13</td>\n",
       "      <td>...</td>\n",
       "      <td>5.420252</td>\n",
       "      <td>4.129530</td>\n",
       "      <td>-1.499008</td>\n",
       "      <td>10.705395</td>\n",
       "      <td>9.211289</td>\n",
       "      <td>3.939294</td>\n",
       "      <td>9.775328</td>\n",
       "      <td>4.277760</td>\n",
       "      <td>2.424400</td>\n",
       "      <td>42.814286</td>\n",
       "    </tr>\n",
       "    <tr>\n",
       "      <th>Vietnam</th>\n",
       "      <td>6.637166e+10</td>\n",
       "      <td>7.741443e+10</td>\n",
       "      <td>9.913030e+10</td>\n",
       "      <td>1.060147e+11</td>\n",
       "      <td>1.472012e+11</td>\n",
       "      <td>1.725950e+11</td>\n",
       "      <td>1.955906e+11</td>\n",
       "      <td>2.137088e+11</td>\n",
       "      <td>2.334515e+11</td>\n",
       "      <td>2.392583e+11</td>\n",
       "      <td>...</td>\n",
       "      <td>10.219469</td>\n",
       "      <td>7.822728</td>\n",
       "      <td>3.663805</td>\n",
       "      <td>5.632127</td>\n",
       "      <td>11.652665</td>\n",
       "      <td>12.370540</td>\n",
       "      <td>87.758456</td>\n",
       "      <td>10.029703</td>\n",
       "      <td>6.742314</td>\n",
       "      <td>38.707143</td>\n",
       "    </tr>\n",
       "  </tbody>\n",
       "</table>\n",
       "<p>50 rows × 91 columns</p>\n",
       "</div>"
      ],
      "text/plain": [
       "                         GDP, 2006     GDP, 2007     GDP, 2008     GDP, 2009  \\\n",
       "country                                                                        \n",
       "Argentina             2.325573e+11  2.875305e+11  3.615580e+11  3.329765e+11   \n",
       "Australia             7.479074e+11  8.544273e+11  1.055686e+12  9.286298e+11   \n",
       "Austria               3.362801e+11  3.891856e+11  4.320519e+11  4.017587e+11   \n",
       "Belgium               4.082598e+11  4.709222e+11  5.173281e+11  4.832542e+11   \n",
       "Bermuda               6.144000e+09  6.767000e+09  6.980000e+09  6.656000e+09   \n",
       "Brazil                1.107627e+12  1.397114e+12  1.695855e+12  1.666996e+12   \n",
       "Canada                1.319265e+12  1.468820e+12  1.552990e+12  1.374625e+12   \n",
       "Chile                 1.538401e+11  1.725659e+11  1.796634e+11  1.714126e+11   \n",
       "China                 2.752119e+12  3.550328e+12  4.594337e+12  5.101691e+12   \n",
       "Colombia              1.617930e+11  2.062295e+11  2.425042e+11  2.324687e+11   \n",
       "Croatia               4.953259e+10  5.917290e+10  6.834206e+10  6.194147e+10   \n",
       "Czechia               1.562642e+11  1.901841e+11  2.368169e+11  2.074343e+11   \n",
       "Denmark               2.828860e+11  3.194234e+11  3.533589e+11  3.212433e+11   \n",
       "Ecuador               4.680204e+10  5.100778e+10  6.176264e+10  6.251969e+10   \n",
       "Egypt, Arab Rep.      1.074261e+11  1.304378e+11  1.628182e+11  1.891470e+11   \n",
       "Estonia               1.702287e+10  2.244913e+10  2.434168e+10  1.963303e+10   \n",
       "Finland               2.170893e+11  2.563781e+11  2.857163e+11  2.534975e+11   \n",
       "France                2.320536e+12  2.660591e+12  2.930304e+12  2.700887e+12   \n",
       "Germany               2.994704e+12  3.425578e+12  3.745264e+12  3.411261e+12   \n",
       "Greece                2.735467e+11  3.189028e+11  3.559087e+11  3.313085e+11   \n",
       "Hong Kong SAR, China  1.935354e+11  2.115970e+11  2.192787e+11  2.140478e+11   \n",
       "India                 9.402599e+11  1.216736e+12  1.198895e+12  1.341888e+12   \n",
       "Indonesia             3.645705e+11  4.322167e+11  5.102286e+11  5.395801e+11   \n",
       "Ireland               2.321806e+11  2.700793e+11  2.754475e+11  2.364431e+11   \n",
       "Israel                1.586702e+11  1.840529e+11  2.205298e+11  2.119681e+11   \n",
       "Italy                 1.949552e+12  2.213102e+12  2.408655e+12  2.199929e+12   \n",
       "Japan                 4.601663e+12  4.579750e+12  5.106679e+12  5.289494e+12   \n",
       "Korea, Rep.           1.053217e+12  1.172614e+12  1.047339e+12  9.439419e+11   \n",
       "Liechtenstein         4.000101e+09  4.601431e+09  5.081480e+09  4.504377e+09   \n",
       "Lithuania             3.018358e+10  3.969789e+10  4.779755e+10  3.738812e+10   \n",
       "Luxembourg            4.291015e+10  5.158740e+10  5.884428e+10  5.446729e+10   \n",
       "Malaysia              1.626923e+11  1.935495e+11  2.308116e+11  2.022575e+11   \n",
       "Mexico                9.753834e+11  1.052697e+12  1.109987e+12  9.000470e+11   \n",
       "Netherlands           7.339553e+11  8.485589e+11  9.518700e+11  8.715186e+11   \n",
       "Nigeria               2.384550e+11  2.782608e+11  3.394762e+11  2.950088e+11   \n",
       "Norway                3.469134e+11  4.026456e+11  4.649176e+11  3.879743e+11   \n",
       "Philippines           1.276529e+11  1.559804e+11  1.816246e+11  1.759748e+11   \n",
       "Senegal               1.169792e+10  1.399422e+10  1.685399e+10  1.614587e+10   \n",
       "Seychelles            1.081441e+09  1.077309e+09  9.795974e+08  8.510643e+08   \n",
       "Singapore             1.486273e+11  1.809417e+11  1.936173e+11  1.941503e+11   \n",
       "South Africa          3.038587e+11  3.330771e+11  3.161312e+11  3.297541e+11   \n",
       "Spain                 1.260399e+12  1.474003e+12  1.631863e+12  1.491473e+12   \n",
       "Sweden                4.230906e+11  4.912548e+11  5.177062e+11  4.365359e+11   \n",
       "Switzerland           4.416194e+11  4.907547e+11  5.672730e+11  5.541917e+11   \n",
       "Thailand              2.217583e+11  2.629426e+11  2.913830e+11  2.817106e+11   \n",
       "Turkiye               5.570760e+11  6.813212e+11  7.704493e+11  6.492894e+11   \n",
       "United Arab Emirates  2.221165e+11  2.579161e+11  3.154746e+11  2.535474e+11   \n",
       "United Kingdom        2.709978e+12  3.092996e+12  2.931684e+12  2.417566e+12   \n",
       "United States         1.381559e+13  1.447423e+13  1.476986e+13  1.447806e+13   \n",
       "Vietnam               6.637166e+10  7.741443e+10  9.913030e+10  1.060147e+11   \n",
       "\n",
       "                         GDP, 2010     GDP, 2011     GDP, 2012     GDP, 2013  \\\n",
       "country                                                                        \n",
       "Argentina             4.236274e+11  5.301582e+11  5.459824e+11  5.520251e+11   \n",
       "Australia             1.148570e+12  1.398456e+12  1.546953e+12  1.576330e+12   \n",
       "Austria               3.922751e+11  4.316852e+11  4.094018e+11  4.301910e+11   \n",
       "Belgium               4.814209e+11  5.233304e+11  4.961529e+11  5.217910e+11   \n",
       "Bermuda               6.634526e+09  6.312691e+09  6.378188e+09  6.465756e+09   \n",
       "Brazil                2.208838e+12  2.616157e+12  2.465228e+12  2.472819e+12   \n",
       "Canada                1.617343e+12  1.793327e+12  1.828366e+12  1.846597e+12   \n",
       "Chile                 2.171054e+11  2.512249e+11  2.671759e+11  2.772395e+11   \n",
       "China                 6.087192e+12  7.551545e+12  8.532186e+12  9.570471e+12   \n",
       "Colombia              2.864985e+11  3.349661e+11  3.706911e+11  3.820937e+11   \n",
       "Croatia               5.869361e+10  6.259978e+10  5.723146e+10  5.936312e+10   \n",
       "Czechia               2.090699e+11  2.295627e+11  2.088577e+11  2.116856e+11   \n",
       "Denmark               3.219953e+11  3.440031e+11  3.271489e+11  3.435844e+11   \n",
       "Ecuador               6.955537e+10  7.927666e+10  8.792454e+10  9.512966e+10   \n",
       "Egypt, Arab Rep.      2.189837e+11  2.359897e+11  2.791167e+11  2.884341e+11   \n",
       "Estonia               1.952348e+10  2.321399e+10  2.301915e+10  2.511575e+10   \n",
       "Finland               2.494243e+11  2.756044e+11  2.582901e+11  2.713624e+11   \n",
       "France                2.645188e+12  2.865158e+12  2.683672e+12  2.811877e+12   \n",
       "Germany               3.399668e+12  3.749315e+12  3.527143e+12  3.733805e+12   \n",
       "Greece                2.971250e+11  2.829959e+11  2.420293e+11  2.389077e+11   \n",
       "Hong Kong SAR, China  2.286387e+11  2.485136e+11  2.626289e+11  2.756969e+11   \n",
       "India                 1.675616e+12  1.823052e+12  1.827638e+12  1.856721e+12   \n",
       "Indonesia             7.550942e+11  8.929691e+11  9.178699e+11  9.125241e+11   \n",
       "Ireland               2.219136e+11  2.390031e+11  2.256287e+11  2.383409e+11   \n",
       "Israel                2.383641e+11  2.667919e+11  2.622823e+11  2.977328e+11   \n",
       "Italy                 2.136100e+12  2.294994e+12  2.086958e+12  2.141924e+12   \n",
       "Japan                 5.759072e+12  6.233147e+12  6.272363e+12  5.212328e+12   \n",
       "Korea, Rep.           1.144067e+12  1.253223e+12  1.278428e+12  1.370795e+12   \n",
       "Liechtenstein         5.082339e+09  5.739706e+09  5.456100e+09  6.391711e+09   \n",
       "Lithuania             3.712869e+10  4.353505e+10  4.292745e+10  4.652342e+10   \n",
       "Luxembourg            5.621399e+10  6.169628e+10  5.977638e+10  6.520328e+10   \n",
       "Malaysia              2.550176e+11  2.979517e+11  3.144431e+11  3.232763e+11   \n",
       "Mexico                1.057801e+12  1.180487e+12  1.201094e+12  1.274444e+12   \n",
       "Netherlands           8.473809e+11  9.052706e+11  8.389233e+11  8.771728e+11   \n",
       "Nigeria               3.669905e+11  4.144665e+11  4.639710e+11  5.201172e+11   \n",
       "Norway                4.310521e+11  5.013605e+11  5.127773e+11  5.260145e+11   \n",
       "Philippines           2.083689e+11  2.342167e+11  2.619205e+11  2.839028e+11   \n",
       "Senegal               1.612132e+10  1.781428e+10  1.766087e+10  1.891867e+10   \n",
       "Seychelles            9.819180e+08  1.059250e+09  1.089881e+09  1.324915e+09   \n",
       "Singapore             2.398079e+11  2.793565e+11  2.950928e+11  3.075764e+11   \n",
       "South Africa          4.173638e+11  4.581995e+11  4.344005e+11  4.008860e+11   \n",
       "Spain                 1.422108e+12  1.480710e+12  1.324751e+12  1.355580e+12   \n",
       "Sweden                4.958126e+11  5.740941e+11  5.524837e+11  5.868418e+11   \n",
       "Switzerland           5.988510e+11  7.158881e+11  6.864202e+11  7.062349e+11   \n",
       "Thailand              3.411048e+11  3.708187e+11  3.975583e+11  4.203337e+11   \n",
       "Turkiye               7.769675e+11  8.387855e+11  8.805559e+11  9.577990e+11   \n",
       "United Arab Emirates  2.897875e+11  3.506661e+11  3.846101e+11  4.002185e+11   \n",
       "United Kingdom        2.491397e+12  2.666403e+12  2.706341e+12  2.786315e+12   \n",
       "United States         1.504896e+13  1.559973e+13  1.625397e+13  1.684319e+13   \n",
       "Vietnam               1.472012e+11  1.725950e+11  1.955906e+11  2.137088e+11   \n",
       "\n",
       "                         GDP, 2014     GDP, 2015  ...  GDP, 2018 Growth  \\\n",
       "country                                           ...                     \n",
       "Argentina             5.263197e+11  5.947493e+11  ...        -18.459176   \n",
       "Australia             1.467590e+12  1.350580e+12  ...          7.674446   \n",
       "Austria               4.425848e+11  3.819711e+11  ...          9.042304   \n",
       "Belgium               5.353902e+11  4.623356e+11  ...          8.062289   \n",
       "Bermuda               6.413988e+09  6.654541e+09  ...          1.171343   \n",
       "Brazil                2.456044e+12  1.802212e+12  ...         -7.103462   \n",
       "Canada                1.805750e+12  1.556509e+12  ...          4.610070   \n",
       "Chile                 2.594052e+11  2.424967e+11  ...          6.888612   \n",
       "China                 1.047562e+13  1.106157e+13  ...         12.870456   \n",
       "Colombia              3.812409e+11  2.934924e+11  ...          7.160537   \n",
       "Croatia               5.921446e+10  5.074209e+10  ...          9.641120   \n",
       "Czechia               2.093588e+11  1.880331e+11  ...         13.891848   \n",
       "Denmark               3.529936e+11  3.026731e+11  ...          7.443115   \n",
       "Ecuador               1.017263e+11  9.929038e+10  ...          3.131616   \n",
       "Egypt, Arab Rep.      3.055954e+11  3.293666e+11  ...          5.727856   \n",
       "Estonia               2.663408e+10  2.289076e+10  ...         13.743434   \n",
       "Finland               2.748628e+11  2.345344e+11  ...          7.846736   \n",
       "France                2.855964e+12  2.439189e+12  ...          7.545065   \n",
       "Germany               3.889093e+12  3.357586e+12  ...          7.683712   \n",
       "Greece                2.354581e+11  1.956835e+11  ...          6.107272   \n",
       "Hong Kong SAR, China  2.914600e+11  3.093856e+11  ...          5.994545   \n",
       "India                 2.039126e+12  2.103588e+12  ...          1.940633   \n",
       "Indonesia             8.908148e+11  8.608542e+11  ...          2.624291   \n",
       "Ireland               2.591709e+11  2.917752e+11  ...         14.673746   \n",
       "Israel                3.143301e+11  3.034143e+11  ...          5.149012   \n",
       "Italy                 2.162010e+12  1.836638e+12  ...          6.633524   \n",
       "Japan                 4.896994e+12  4.444931e+12  ...          2.231742   \n",
       "Korea, Rep.           1.484318e+12  1.465773e+12  ...          6.216148   \n",
       "Liechtenstein         6.657527e+09  6.268513e+09  ...          3.371903   \n",
       "Lithuania             4.853366e+10  4.143553e+10  ...         12.547808   \n",
       "Luxembourg            6.880481e+10  6.007158e+10  ...          8.047487   \n",
       "Malaysia              3.380661e+11  3.013548e+11  ...         12.434534   \n",
       "Mexico                1.315356e+12  1.171870e+12  ...          5.478720   \n",
       "Netherlands           8.921680e+11  7.655728e+11  ...          9.614668   \n",
       "Nigeria               5.741838e+11  4.930268e+11  ...         12.240586   \n",
       "Norway                5.017365e+11  3.881595e+11  ...          9.469520   \n",
       "Philippines           2.974836e+11  3.064459e+11  ...          5.589722   \n",
       "Senegal               1.979725e+10  1.777477e+10  ...         10.097551   \n",
       "Seychelles            1.387576e+09  1.391428e+09  ...          3.794024   \n",
       "Singapore             3.148636e+11  3.079985e+11  ...          9.787172   \n",
       "South Africa          3.811989e+11  3.467098e+11  ...          5.953634   \n",
       "Spain                 1.371821e+12  1.196157e+12  ...          8.258730   \n",
       "Sweden                5.819640e+11  5.051038e+11  ...          2.668414   \n",
       "Switzerland           7.265378e+11  6.941182e+11  ...          4.367328   \n",
       "Thailand              4.073390e+11  4.012962e+11  ...         11.043420   \n",
       "Turkiye               9.389344e+11  8.643140e+11  ...         -9.372868   \n",
       "United Arab Emirates  4.141054e+11  3.702755e+11  ...          9.354944   \n",
       "United Kingdom        3.065223e+12  2.934858e+12  ...          7.254126   \n",
       "United States         1.755068e+13  1.820602e+13  ...          5.420252   \n",
       "Vietnam               2.334515e+11  2.392583e+11  ...         10.219469   \n",
       "\n",
       "                      GDP, 2019 Growth  GDP, 2020 Growth  GDP, 2021 Growth  \\\n",
       "country                                                                      \n",
       "Argentina                   -14.684125        -13.894724         26.375113   \n",
       "Australia                    -2.523898         -4.688481         17.013410   \n",
       "Austria                      -2.279165         -2.113246         10.372369   \n",
       "Belgium                      -1.368192         -1.987928         13.163971   \n",
       "Bermuda                       2.733028         -7.224632          3.485522   \n",
       "Brazil                       -2.276842        -21.202337         11.754950   \n",
       "Canada                        1.068062         -5.512725         21.479041   \n",
       "Chile                        -5.724166         -8.760428         24.643225   \n",
       "China                         2.771238          2.855574         21.328775   \n",
       "Colombia                     -3.341286        -16.370141         17.901420   \n",
       "Croatia                      -0.001983         -6.040067         19.468542   \n",
       "Czechia                       1.424752         -2.602918         14.561124   \n",
       "Denmark                      -2.898342          2.517675         12.127844   \n",
       "Ecuador                       0.507615         -8.155626          6.923823   \n",
       "Egypt, Arab Rep.             21.360476         20.440338         10.644092   \n",
       "Estonia                       1.492852          0.928172         18.554980   \n",
       "Finland                      -2.608950          1.255483          9.011696   \n",
       "France                       -2.224564         -3.292994         12.082986   \n",
       "Germany                      -2.169293          0.037108          9.519217   \n",
       "Greece                       -3.203230         -7.956376         13.734417   \n",
       "Hong Kong SAR, China          0.371406         -4.993853          6.948460   \n",
       "India                         4.908622         -5.783978         17.918561   \n",
       "Indonesia                     7.371240         -5.365475         12.034373   \n",
       "Ireland                       3.521838          6.643911         18.393778   \n",
       "Israel                        6.843527          2.682720         18.210686   \n",
       "Italy                        -3.854342         -5.672531         11.445503   \n",
       "Japan                         1.529751         -1.352175         -0.856698   \n",
       "Korea, Rep.                  -4.256768         -0.430547         10.134513   \n",
       "Liechtenstein                -3.827372         -0.476986         12.186877   \n",
       "Lithuania                     1.877543          3.933867         16.691904   \n",
       "Luxembourg                   -1.654524          5.967649         15.560548   \n",
       "Malaysia                      1.780688         -7.623214         10.565503   \n",
       "Mexico                        3.812484        -14.065663         16.719059   \n",
       "Netherlands                  -0.421106         -0.044043         11.211928   \n",
       "Nigeria                      12.514431         -8.918225          1.997841   \n",
       "Norway                       -7.059251        -10.057527         33.364743   \n",
       "Philippines                   8.644143         -3.999820          8.938801   \n",
       "Senegal                       1.242800          4.813354         12.387118   \n",
       "Seychelles                    3.607308        -28.057736          8.717460   \n",
       "Singapore                    -0.008517         -7.548430         21.643661   \n",
       "South Africa                 -3.866711        -13.103620         24.108812   \n",
       "Spain                        -1.926047         -8.416817         11.779357   \n",
       "Sweden                       -3.884352          2.467719         16.415570   \n",
       "Switzerland                  -0.577955          2.570738          8.207247   \n",
       "Thailand                      7.345274         -8.000239          1.021225   \n",
       "Turkiye                      -2.381819         -5.217026         13.709178   \n",
       "United Arab Emirates         -2.121466        -16.391960         18.756405   \n",
       "United Kingdom               -0.732911         -5.335863         15.450335   \n",
       "United States                 4.129530         -1.499008         10.705395   \n",
       "Vietnam                       7.822728          3.663805          5.632127   \n",
       "\n",
       "                      GDP, 2022 Growth  Mean_GDP_Growth  Variance_GDP_Growth  \\\n",
       "country                                                                        \n",
       "Argentina                    29.871727         7.792579           300.131384   \n",
       "Australia                     7.903347         5.843877           151.303082   \n",
       "Austria                      -1.866971         2.420053            61.603386   \n",
       "Belgium                      -2.649585         2.479769            59.444785   \n",
       "Bermuda                       5.939219         1.383587            18.623073   \n",
       "Brazil                       16.396025         4.757605           270.327150   \n",
       "Canada                        6.912525         3.482343            90.525271   \n",
       "Chile                        -4.953475         4.811609           121.746615   \n",
       "China                         0.800828        12.800046            88.474618   \n",
       "Colombia                      7.983262         5.721851           191.384886   \n",
       "Croatia                       3.080794         2.735139           101.682054   \n",
       "Czechia                       3.240809         4.484186           117.515660   \n",
       "Denmark                      -0.727929         2.381878            56.316553   \n",
       "Ecuador                       8.367671         5.997340            48.483857   \n",
       "Egypt, Arab Rep.             12.262636        10.460973           143.128596   \n",
       "Estonia                       2.445868         5.858869           153.115700   \n",
       "Finland                      -5.250444         1.977708            76.121192   \n",
       "France                       -5.915536         1.447140            65.140606   \n",
       "Germany                      -4.407184         2.221828            59.972572   \n",
       "Greece                        1.950908        -0.943622            92.522226   \n",
       "Hong Kong SAR, China         -2.459341         4.033890            17.649685   \n",
       "India                         7.452704         8.714447            90.741620   \n",
       "Indonesia                    11.175234         8.881086           126.900041   \n",
       "Ireland                       4.970871         5.640141            76.886598   \n",
       "Israel                        6.858768         7.960325            53.262581   \n",
       "Italy                        -4.915169         0.502218            65.568438   \n",
       "Japan                       -15.470779        -0.164807            73.916841   \n",
       "Korea, Rep.                  -8.046045         3.250198            75.731751   \n",
       "Liechtenstein                 0.000000         4.059546            72.761590   \n",
       "Lithuania                     5.901234         6.198193           166.479912   \n",
       "Luxembourg                   -3.779176         4.496186            75.442988   \n",
       "Malaysia                      8.934730         6.425895           120.434070   \n",
       "Mexico                       11.104971         2.892043           112.803876   \n",
       "Netherlands                  -2.044301         2.202810            65.831242   \n",
       "Nigeria                       8.291686         5.268389           178.722130   \n",
       "Norway                       18.147095         4.233375           212.736382   \n",
       "Philippines                   2.587489         7.698710            52.871486   \n",
       "Senegal                       0.418198         5.828449            66.753559   \n",
       "Seychelles                   23.449246         3.209947           158.107881   \n",
       "Singapore                    10.144372         7.767637            82.412390   \n",
       "South Africa                 -3.137333         2.468078           147.397196   \n",
       "Spain                        -2.092743         0.993780            74.526226   \n",
       "Sweden                       -7.995064         2.517521            98.989902   \n",
       "Switzerland                   0.882529         4.050786            47.073738   \n",
       "Thailand                     -2.022965         5.438893            65.255869   \n",
       "Turkiye                      10.616566         3.616252           116.579438   \n",
       "United Arab Emirates         22.291209         6.131304           177.611110   \n",
       "United Kingdom               -1.659342         1.127070            72.651971   \n",
       "United States                 9.211289         3.939294             9.775328   \n",
       "Vietnam                      11.652665        12.370540            87.758456   \n",
       "\n",
       "                      Mean_Lending_Rate  Mean_Inflation_Rate  \\\n",
       "country                                                        \n",
       "Argentina                     30.439167            51.800000   \n",
       "Australia                      6.532964             2.558128   \n",
       "Austria                        1.500000             2.271663   \n",
       "Belgium                        1.500000             2.293794   \n",
       "Bermuda                        4.500000             1.800000   \n",
       "Brazil                        40.254608             5.730016   \n",
       "Canada                         3.485069             2.067243   \n",
       "Chile                          7.555348             3.862399   \n",
       "China                          5.234118             2.525466   \n",
       "Colombia                      12.479994             4.387617   \n",
       "Croatia                        9.806204             2.268416   \n",
       "Czechia                        4.707618             3.045123   \n",
       "Denmark                        0.500000             1.797077   \n",
       "Ecuador                       10.200000             2.823019   \n",
       "Egypt, Arab Rep.              12.744608            11.554424   \n",
       "Estonia                        2.500000             4.016395   \n",
       "Finland                        1.500000             1.805374   \n",
       "France                         1.500000             1.446200   \n",
       "Germany                        1.500000             1.776088   \n",
       "Greece                         4.300000             1.636712   \n",
       "Hong Kong SAR, China           5.355392             2.659766   \n",
       "India                         10.228191             6.927666   \n",
       "Indonesia                     11.950784             5.254278   \n",
       "Ireland                        2.300000             1.397107   \n",
       "Israel                         3.508012             1.551319   \n",
       "Italy                          4.114240             1.747597   \n",
       "Japan                          1.449347             0.425623   \n",
       "Korea, Rep.                    4.611324             2.208262   \n",
       "Liechtenstein                  2.000000            -0.600000   \n",
       "Lithuania                      2.500000             4.053598   \n",
       "Luxembourg                     1.500000             2.053486   \n",
       "Malaysia                       4.879477             2.217673   \n",
       "Mexico                         6.173290             4.389454   \n",
       "Netherlands                    2.701042             2.148909   \n",
       "Nigeria                       16.037492            12.047741   \n",
       "Norway                         3.251417             2.389386   \n",
       "Philippines                    6.939810             3.717908   \n",
       "Senegal                        5.089451             2.215702   \n",
       "Seychelles                    11.756103             7.107594   \n",
       "Singapore                      5.333281             2.064256   \n",
       "South Africa                  10.022059             5.484394   \n",
       "Spain                          2.000000             1.975179   \n",
       "Sweden                         3.678033             1.694005   \n",
       "Switzerland                    2.716614             0.392905   \n",
       "Thailand                       4.638543             1.990526   \n",
       "Turkiye                       18.000000            13.977056   \n",
       "United Arab Emirates           4.000000             2.080245   \n",
       "United Kingdom                 1.996349             2.493248   \n",
       "United States                  4.277760             2.424400   \n",
       "Vietnam                       10.029703             6.742314   \n",
       "\n",
       "                      Mean_Corporation_Tax_Rate  \n",
       "country                                          \n",
       "Argentina                            112.157143  \n",
       "Australia                             48.092857  \n",
       "Austria                               51.492857  \n",
       "Belgium                               57.557143  \n",
       "Bermuda                                0.000000  \n",
       "Brazil                                65.471429  \n",
       "Canada                                27.678571  \n",
       "Chile                                 28.264286  \n",
       "China                                 66.171429  \n",
       "Colombia                              78.521429  \n",
       "Croatia                               20.528571  \n",
       "Czechia                               46.414286  \n",
       "Denmark                               26.314286  \n",
       "Ecuador                               33.914286  \n",
       "Egypt, Arab Rep.                      44.107143  \n",
       "Estonia                               50.585714  \n",
       "Finland                               41.414286  \n",
       "France                                66.550000  \n",
       "Germany                               47.892857  \n",
       "Greece                                48.500000  \n",
       "Hong Kong SAR, China                  23.078571  \n",
       "India                                 54.414286  \n",
       "Indonesia                             30.585714  \n",
       "Ireland                               25.742857  \n",
       "Israel                                28.114286  \n",
       "Italy                                 65.092857  \n",
       "Japan                                 48.428571  \n",
       "Korea, Rep.                           32.921429  \n",
       "Liechtenstein                         21.600000  \n",
       "Lithuania                             43.757143  \n",
       "Luxembourg                            20.285714  \n",
       "Malaysia                              37.007143  \n",
       "Mexico                                53.871429  \n",
       "Netherlands                           40.278571  \n",
       "Nigeria                               34.171429  \n",
       "Norway                                39.764286  \n",
       "Philippines                           44.528571  \n",
       "Senegal                               45.450000  \n",
       "Seychelles                            34.914286  \n",
       "Singapore                             21.085714  \n",
       "South Africa                          30.885714  \n",
       "Spain                                 51.464286  \n",
       "Sweden                                51.328571  \n",
       "Switzerland                           28.621429  \n",
       "Thailand                              32.200000  \n",
       "Turkiye                               41.607143  \n",
       "United Arab Emirates                  14.964286  \n",
       "United Kingdom                        33.428571  \n",
       "United States                         42.814286  \n",
       "Vietnam                               38.707143  \n",
       "\n",
       "[50 rows x 91 columns]"
      ]
     },
     "execution_count": 268,
     "metadata": {},
     "output_type": "execute_result"
    }
   ],
   "source": [
    "# Using the current values of the relevant Macro variables for those with missing values in lieu of the missing means. \n",
    "\n",
    "df3.index = df3.index.astype(str)\n",
    "\n",
    "current_lending_rate = {'Austria': 1.5, 'Belgium': 1.5, 'Bermuda': 4.5, 'Denmark': 0.5, 'Ecuador': 10.2, 'Estonia': 2.5, 'Finland': 1.5, 'France': 1.5, 'Germany': 1.5, 'Greece': 4.3, 'Ireland': 2.3, 'Liechtenstein': 2.0, 'Lithuania': 2.5, 'Luxembourg': 1.5, 'Spain': 2.0, 'Turkiye': 18.0, 'United Arab Emirates': 4.0}\n",
    "current_inflation_rate = {'Argentina': 51.8, 'Bermuda': 1.8, 'Liechtenstein': -0.6}\n",
    "current_tax_rate = {'Bermuda': 0}\n",
    "\n",
    "df3.fillna({'Mean_Lending_Rate': current_lending_rate, 'Mean_Inflation_Rate': current_inflation_rate, 'Mean_Corporation_Tax_Rate': current_tax_rate})\n"
   ]
  },
  {
   "cell_type": "code",
   "execution_count": 269,
   "id": "693a42d1",
   "metadata": {},
   "outputs": [],
   "source": [
    "# Merge Original Dataframe with the Macro data\n",
    "\n",
    "df = pd.merge(df, df3, on='Country Code', how='left')"
   ]
  },
  {
   "cell_type": "code",
   "execution_count": 270,
   "id": "8ee9ddf4",
   "metadata": {},
   "outputs": [
    {
     "data": {
      "application/vnd.jupyter.widget-view+json": {
       "model_id": "3fe36e83c48745a7b256a06ad439521e",
       "version_major": 2,
       "version_minor": 0
      },
      "text/plain": [
       "QgridWidget(grid_options={'fullWidthRows': True, 'syncColumnCellResize': True, 'forceFitColumns': False, 'defa…"
      ]
     },
     "metadata": {},
     "output_type": "display_data"
    }
   ],
   "source": [
    "# Display the Macro Data enriched Dataframe \n",
    "\n",
    "qgrid.show_grid(df)"
   ]
  },
  {
   "cell_type": "code",
   "execution_count": 271,
   "id": "729e41b9",
   "metadata": {
    "scrolled": true
   },
   "outputs": [],
   "source": [
    "#df.columns.tolist()"
   ]
  },
  {
   "cell_type": "markdown",
   "id": "8da1d6cc",
   "metadata": {},
   "source": [
    "## Descriptive Statistics and Data Exploration"
   ]
  },
  {
   "cell_type": "code",
   "execution_count": 272,
   "id": "dee1dfd3",
   "metadata": {},
   "outputs": [
    {
     "data": {
      "text/plain": [
       "Country\n",
       "Argentina    1\n",
       "Australia    8\n",
       "Austria      2\n",
       "Belgium      3\n",
       "Bermuda      1\n",
       "dtype: int64"
      ]
     },
     "execution_count": 272,
     "metadata": {},
     "output_type": "execute_result"
    }
   ],
   "source": [
    "# Group by country\n",
    "grouped = df.groupby(\"Country\")\n",
    "\n",
    "# View the number of unicorns per country\n",
    "grouped.size().head()"
   ]
  },
  {
   "cell_type": "code",
   "execution_count": 273,
   "id": "676f8085",
   "metadata": {},
   "outputs": [],
   "source": [
    "# Show the countries with the highest number of unicorns\n",
    "df_grouped = grouped.size().reset_index(name=\"Unicorns\")\n",
    "df_grouped = df_grouped.sort_values(by=\"Unicorns\", ascending=False)"
   ]
  },
  {
   "cell_type": "code",
   "execution_count": 274,
   "id": "18835d89",
   "metadata": {
    "scrolled": true
   },
   "outputs": [
    {
     "data": {
      "application/vnd.jupyter.widget-view+json": {
       "model_id": "9207a33212d24d5d8f0b58186ee13f93",
       "version_major": 2,
       "version_minor": 0
      },
      "text/plain": [
       "QgridWidget(grid_options={'fullWidthRows': True, 'syncColumnCellResize': True, 'forceFitColumns': False, 'defa…"
      ]
     },
     "metadata": {},
     "output_type": "display_data"
    }
   ],
   "source": [
    "qgrid.show_grid(df_grouped)"
   ]
  },
  {
   "cell_type": "code",
   "execution_count": 56,
   "id": "0a2931c1",
   "metadata": {
    "scrolled": true
   },
   "outputs": [
    {
     "name": "stderr",
     "output_type": "stream",
     "text": [
      "/var/folders/qm/41v4pccs7bz2kwmbyfkprfgr0000gn/T/ipykernel_13366/1040547852.py:8: FutureWarning: The frame.append method is deprecated and will be removed from pandas in a future version. Use pandas.concat instead.\n",
      "  df_top10 = df_top10.append({\"Country\": \"Others\", \"Unicorns\": others}, ignore_index=True)\n"
     ]
    },
    {
     "data": {
      "application/vnd.jupyter.widget-view+json": {
       "model_id": "3ed0de5d1c76437192872dfe2ce82bb2",
       "version_major": 2,
       "version_minor": 0
      },
      "text/plain": [
       "QgridWidget(grid_options={'fullWidthRows': True, 'syncColumnCellResize': True, 'forceFitColumns': False, 'defa…"
      ]
     },
     "metadata": {},
     "output_type": "display_data"
    }
   ],
   "source": [
    "# Create a new dataframe with only top 10 countries\n",
    "df_top10 = df_grouped.head(10)\n",
    "\n",
    "# Calculate the sum of unicorns for non top 10 countries\n",
    "others = df_grouped.tail(-10)[\"Unicorns\"].sum()\n",
    "\n",
    "# Append a new row with label \"others\" and sum of unicorns\n",
    "df_top10 = df_top10.append({\"Country\": \"Others\", \"Unicorns\": others}, ignore_index=True)\n",
    "\n",
    "# View the new dataframe\n",
    "qgrid.show_grid(df_top10)"
   ]
  },
  {
   "cell_type": "code",
   "execution_count": 276,
   "id": "b0325c0b",
   "metadata": {},
   "outputs": [
    {
     "data": {
      "application/vnd.plotly.v1+json": {
       "config": {
        "plotlyServerURL": "https://plot.ly"
       },
       "data": [
        {
         "alignmentgroup": "True",
         "hovertemplate": "<b>%{hovertext}</b><br><br>Country=%{x}<br>Unicorns=%{marker.color}<extra></extra>",
         "hovertext": [
          "United States",
          "China",
          "India",
          "United Kingdom",
          "Germany",
          "France",
          "Israel",
          "Canada",
          "Brazil",
          "South Korea",
          "Others"
         ],
         "legendgroup": "",
         "marker": {
          "color": [
           656,
           173,
           70,
           52,
           30,
           25,
           24,
           21,
           16,
           14,
           140
          ],
          "coloraxis": "coloraxis",
          "pattern": {
           "shape": ""
          }
         },
         "name": "",
         "offsetgroup": "",
         "orientation": "v",
         "showlegend": false,
         "textposition": "auto",
         "type": "bar",
         "x": [
          "United States",
          "China",
          "India",
          "United Kingdom",
          "Germany",
          "France",
          "Israel",
          "Canada",
          "Brazil",
          "South Korea",
          "Others"
         ],
         "xaxis": "x",
         "y": [
          656,
          173,
          70,
          52,
          30,
          25,
          24,
          21,
          16,
          14,
          140
         ],
         "yaxis": "y"
        }
       ],
       "layout": {
        "barmode": "relative",
        "coloraxis": {
         "colorbar": {
          "title": {
           "text": "Unicorns"
          }
         },
         "colorscale": [
          [
           0,
           "rgb(254, 245, 244)"
          ],
          [
           0.09090909090909091,
           "rgb(222, 224, 210)"
          ],
          [
           0.18181818181818182,
           "rgb(189, 206, 181)"
          ],
          [
           0.2727272727272727,
           "rgb(153, 189, 156)"
          ],
          [
           0.36363636363636365,
           "rgb(110, 173, 138)"
          ],
          [
           0.45454545454545453,
           "rgb(65, 157, 129)"
          ],
          [
           0.5454545454545454,
           "rgb(25, 137, 125)"
          ],
          [
           0.6363636363636364,
           "rgb(18, 116, 117)"
          ],
          [
           0.7272727272727273,
           "rgb(25, 94, 106)"
          ],
          [
           0.8181818181818182,
           "rgb(28, 72, 93)"
          ],
          [
           0.9090909090909091,
           "rgb(25, 51, 80)"
          ],
          [
           1,
           "rgb(20, 29, 67)"
          ]
         ]
        },
        "legend": {
         "tracegroupgap": 0
        },
        "template": {
         "data": {
          "bar": [
           {
            "error_x": {
             "color": "#2a3f5f"
            },
            "error_y": {
             "color": "#2a3f5f"
            },
            "marker": {
             "line": {
              "color": "#E5ECF6",
              "width": 0.5
             },
             "pattern": {
              "fillmode": "overlay",
              "size": 10,
              "solidity": 0.2
             }
            },
            "type": "bar"
           }
          ],
          "barpolar": [
           {
            "marker": {
             "line": {
              "color": "#E5ECF6",
              "width": 0.5
             },
             "pattern": {
              "fillmode": "overlay",
              "size": 10,
              "solidity": 0.2
             }
            },
            "type": "barpolar"
           }
          ],
          "carpet": [
           {
            "aaxis": {
             "endlinecolor": "#2a3f5f",
             "gridcolor": "white",
             "linecolor": "white",
             "minorgridcolor": "white",
             "startlinecolor": "#2a3f5f"
            },
            "baxis": {
             "endlinecolor": "#2a3f5f",
             "gridcolor": "white",
             "linecolor": "white",
             "minorgridcolor": "white",
             "startlinecolor": "#2a3f5f"
            },
            "type": "carpet"
           }
          ],
          "choropleth": [
           {
            "colorbar": {
             "outlinewidth": 0,
             "ticks": ""
            },
            "type": "choropleth"
           }
          ],
          "contour": [
           {
            "colorbar": {
             "outlinewidth": 0,
             "ticks": ""
            },
            "colorscale": [
             [
              0,
              "#0d0887"
             ],
             [
              0.1111111111111111,
              "#46039f"
             ],
             [
              0.2222222222222222,
              "#7201a8"
             ],
             [
              0.3333333333333333,
              "#9c179e"
             ],
             [
              0.4444444444444444,
              "#bd3786"
             ],
             [
              0.5555555555555556,
              "#d8576b"
             ],
             [
              0.6666666666666666,
              "#ed7953"
             ],
             [
              0.7777777777777778,
              "#fb9f3a"
             ],
             [
              0.8888888888888888,
              "#fdca26"
             ],
             [
              1,
              "#f0f921"
             ]
            ],
            "type": "contour"
           }
          ],
          "contourcarpet": [
           {
            "colorbar": {
             "outlinewidth": 0,
             "ticks": ""
            },
            "type": "contourcarpet"
           }
          ],
          "heatmap": [
           {
            "colorbar": {
             "outlinewidth": 0,
             "ticks": ""
            },
            "colorscale": [
             [
              0,
              "#0d0887"
             ],
             [
              0.1111111111111111,
              "#46039f"
             ],
             [
              0.2222222222222222,
              "#7201a8"
             ],
             [
              0.3333333333333333,
              "#9c179e"
             ],
             [
              0.4444444444444444,
              "#bd3786"
             ],
             [
              0.5555555555555556,
              "#d8576b"
             ],
             [
              0.6666666666666666,
              "#ed7953"
             ],
             [
              0.7777777777777778,
              "#fb9f3a"
             ],
             [
              0.8888888888888888,
              "#fdca26"
             ],
             [
              1,
              "#f0f921"
             ]
            ],
            "type": "heatmap"
           }
          ],
          "heatmapgl": [
           {
            "colorbar": {
             "outlinewidth": 0,
             "ticks": ""
            },
            "colorscale": [
             [
              0,
              "#0d0887"
             ],
             [
              0.1111111111111111,
              "#46039f"
             ],
             [
              0.2222222222222222,
              "#7201a8"
             ],
             [
              0.3333333333333333,
              "#9c179e"
             ],
             [
              0.4444444444444444,
              "#bd3786"
             ],
             [
              0.5555555555555556,
              "#d8576b"
             ],
             [
              0.6666666666666666,
              "#ed7953"
             ],
             [
              0.7777777777777778,
              "#fb9f3a"
             ],
             [
              0.8888888888888888,
              "#fdca26"
             ],
             [
              1,
              "#f0f921"
             ]
            ],
            "type": "heatmapgl"
           }
          ],
          "histogram": [
           {
            "marker": {
             "pattern": {
              "fillmode": "overlay",
              "size": 10,
              "solidity": 0.2
             }
            },
            "type": "histogram"
           }
          ],
          "histogram2d": [
           {
            "colorbar": {
             "outlinewidth": 0,
             "ticks": ""
            },
            "colorscale": [
             [
              0,
              "#0d0887"
             ],
             [
              0.1111111111111111,
              "#46039f"
             ],
             [
              0.2222222222222222,
              "#7201a8"
             ],
             [
              0.3333333333333333,
              "#9c179e"
             ],
             [
              0.4444444444444444,
              "#bd3786"
             ],
             [
              0.5555555555555556,
              "#d8576b"
             ],
             [
              0.6666666666666666,
              "#ed7953"
             ],
             [
              0.7777777777777778,
              "#fb9f3a"
             ],
             [
              0.8888888888888888,
              "#fdca26"
             ],
             [
              1,
              "#f0f921"
             ]
            ],
            "type": "histogram2d"
           }
          ],
          "histogram2dcontour": [
           {
            "colorbar": {
             "outlinewidth": 0,
             "ticks": ""
            },
            "colorscale": [
             [
              0,
              "#0d0887"
             ],
             [
              0.1111111111111111,
              "#46039f"
             ],
             [
              0.2222222222222222,
              "#7201a8"
             ],
             [
              0.3333333333333333,
              "#9c179e"
             ],
             [
              0.4444444444444444,
              "#bd3786"
             ],
             [
              0.5555555555555556,
              "#d8576b"
             ],
             [
              0.6666666666666666,
              "#ed7953"
             ],
             [
              0.7777777777777778,
              "#fb9f3a"
             ],
             [
              0.8888888888888888,
              "#fdca26"
             ],
             [
              1,
              "#f0f921"
             ]
            ],
            "type": "histogram2dcontour"
           }
          ],
          "mesh3d": [
           {
            "colorbar": {
             "outlinewidth": 0,
             "ticks": ""
            },
            "type": "mesh3d"
           }
          ],
          "parcoords": [
           {
            "line": {
             "colorbar": {
              "outlinewidth": 0,
              "ticks": ""
             }
            },
            "type": "parcoords"
           }
          ],
          "pie": [
           {
            "automargin": true,
            "type": "pie"
           }
          ],
          "scatter": [
           {
            "fillpattern": {
             "fillmode": "overlay",
             "size": 10,
             "solidity": 0.2
            },
            "type": "scatter"
           }
          ],
          "scatter3d": [
           {
            "line": {
             "colorbar": {
              "outlinewidth": 0,
              "ticks": ""
             }
            },
            "marker": {
             "colorbar": {
              "outlinewidth": 0,
              "ticks": ""
             }
            },
            "type": "scatter3d"
           }
          ],
          "scattercarpet": [
           {
            "marker": {
             "colorbar": {
              "outlinewidth": 0,
              "ticks": ""
             }
            },
            "type": "scattercarpet"
           }
          ],
          "scattergeo": [
           {
            "marker": {
             "colorbar": {
              "outlinewidth": 0,
              "ticks": ""
             }
            },
            "type": "scattergeo"
           }
          ],
          "scattergl": [
           {
            "marker": {
             "colorbar": {
              "outlinewidth": 0,
              "ticks": ""
             }
            },
            "type": "scattergl"
           }
          ],
          "scattermapbox": [
           {
            "marker": {
             "colorbar": {
              "outlinewidth": 0,
              "ticks": ""
             }
            },
            "type": "scattermapbox"
           }
          ],
          "scatterpolar": [
           {
            "marker": {
             "colorbar": {
              "outlinewidth": 0,
              "ticks": ""
             }
            },
            "type": "scatterpolar"
           }
          ],
          "scatterpolargl": [
           {
            "marker": {
             "colorbar": {
              "outlinewidth": 0,
              "ticks": ""
             }
            },
            "type": "scatterpolargl"
           }
          ],
          "scatterternary": [
           {
            "marker": {
             "colorbar": {
              "outlinewidth": 0,
              "ticks": ""
             }
            },
            "type": "scatterternary"
           }
          ],
          "surface": [
           {
            "colorbar": {
             "outlinewidth": 0,
             "ticks": ""
            },
            "colorscale": [
             [
              0,
              "#0d0887"
             ],
             [
              0.1111111111111111,
              "#46039f"
             ],
             [
              0.2222222222222222,
              "#7201a8"
             ],
             [
              0.3333333333333333,
              "#9c179e"
             ],
             [
              0.4444444444444444,
              "#bd3786"
             ],
             [
              0.5555555555555556,
              "#d8576b"
             ],
             [
              0.6666666666666666,
              "#ed7953"
             ],
             [
              0.7777777777777778,
              "#fb9f3a"
             ],
             [
              0.8888888888888888,
              "#fdca26"
             ],
             [
              1,
              "#f0f921"
             ]
            ],
            "type": "surface"
           }
          ],
          "table": [
           {
            "cells": {
             "fill": {
              "color": "#EBF0F8"
             },
             "line": {
              "color": "white"
             }
            },
            "header": {
             "fill": {
              "color": "#C8D4E3"
             },
             "line": {
              "color": "white"
             }
            },
            "type": "table"
           }
          ]
         },
         "layout": {
          "annotationdefaults": {
           "arrowcolor": "#2a3f5f",
           "arrowhead": 0,
           "arrowwidth": 1
          },
          "autotypenumbers": "strict",
          "coloraxis": {
           "colorbar": {
            "outlinewidth": 0,
            "ticks": ""
           }
          },
          "colorscale": {
           "diverging": [
            [
             0,
             "#8e0152"
            ],
            [
             0.1,
             "#c51b7d"
            ],
            [
             0.2,
             "#de77ae"
            ],
            [
             0.3,
             "#f1b6da"
            ],
            [
             0.4,
             "#fde0ef"
            ],
            [
             0.5,
             "#f7f7f7"
            ],
            [
             0.6,
             "#e6f5d0"
            ],
            [
             0.7,
             "#b8e186"
            ],
            [
             0.8,
             "#7fbc41"
            ],
            [
             0.9,
             "#4d9221"
            ],
            [
             1,
             "#276419"
            ]
           ],
           "sequential": [
            [
             0,
             "#0d0887"
            ],
            [
             0.1111111111111111,
             "#46039f"
            ],
            [
             0.2222222222222222,
             "#7201a8"
            ],
            [
             0.3333333333333333,
             "#9c179e"
            ],
            [
             0.4444444444444444,
             "#bd3786"
            ],
            [
             0.5555555555555556,
             "#d8576b"
            ],
            [
             0.6666666666666666,
             "#ed7953"
            ],
            [
             0.7777777777777778,
             "#fb9f3a"
            ],
            [
             0.8888888888888888,
             "#fdca26"
            ],
            [
             1,
             "#f0f921"
            ]
           ],
           "sequentialminus": [
            [
             0,
             "#0d0887"
            ],
            [
             0.1111111111111111,
             "#46039f"
            ],
            [
             0.2222222222222222,
             "#7201a8"
            ],
            [
             0.3333333333333333,
             "#9c179e"
            ],
            [
             0.4444444444444444,
             "#bd3786"
            ],
            [
             0.5555555555555556,
             "#d8576b"
            ],
            [
             0.6666666666666666,
             "#ed7953"
            ],
            [
             0.7777777777777778,
             "#fb9f3a"
            ],
            [
             0.8888888888888888,
             "#fdca26"
            ],
            [
             1,
             "#f0f921"
            ]
           ]
          },
          "colorway": [
           "#636efa",
           "#EF553B",
           "#00cc96",
           "#ab63fa",
           "#FFA15A",
           "#19d3f3",
           "#FF6692",
           "#B6E880",
           "#FF97FF",
           "#FECB52"
          ],
          "font": {
           "color": "#2a3f5f"
          },
          "geo": {
           "bgcolor": "white",
           "lakecolor": "white",
           "landcolor": "#E5ECF6",
           "showlakes": true,
           "showland": true,
           "subunitcolor": "white"
          },
          "hoverlabel": {
           "align": "left"
          },
          "hovermode": "closest",
          "mapbox": {
           "style": "light"
          },
          "paper_bgcolor": "white",
          "plot_bgcolor": "#E5ECF6",
          "polar": {
           "angularaxis": {
            "gridcolor": "white",
            "linecolor": "white",
            "ticks": ""
           },
           "bgcolor": "#E5ECF6",
           "radialaxis": {
            "gridcolor": "white",
            "linecolor": "white",
            "ticks": ""
           }
          },
          "scene": {
           "xaxis": {
            "backgroundcolor": "#E5ECF6",
            "gridcolor": "white",
            "gridwidth": 2,
            "linecolor": "white",
            "showbackground": true,
            "ticks": "",
            "zerolinecolor": "white"
           },
           "yaxis": {
            "backgroundcolor": "#E5ECF6",
            "gridcolor": "white",
            "gridwidth": 2,
            "linecolor": "white",
            "showbackground": true,
            "ticks": "",
            "zerolinecolor": "white"
           },
           "zaxis": {
            "backgroundcolor": "#E5ECF6",
            "gridcolor": "white",
            "gridwidth": 2,
            "linecolor": "white",
            "showbackground": true,
            "ticks": "",
            "zerolinecolor": "white"
           }
          },
          "shapedefaults": {
           "line": {
            "color": "#2a3f5f"
           }
          },
          "ternary": {
           "aaxis": {
            "gridcolor": "white",
            "linecolor": "white",
            "ticks": ""
           },
           "baxis": {
            "gridcolor": "white",
            "linecolor": "white",
            "ticks": ""
           },
           "bgcolor": "#E5ECF6",
           "caxis": {
            "gridcolor": "white",
            "linecolor": "white",
            "ticks": ""
           }
          },
          "title": {
           "x": 0.05
          },
          "xaxis": {
           "automargin": true,
           "gridcolor": "white",
           "linecolor": "white",
           "ticks": "",
           "title": {
            "standoff": 15
           },
           "zerolinecolor": "white",
           "zerolinewidth": 2
          },
          "yaxis": {
           "automargin": true,
           "gridcolor": "white",
           "linecolor": "white",
           "ticks": "",
           "title": {
            "standoff": 15
           },
           "zerolinecolor": "white",
           "zerolinewidth": 2
          }
         }
        },
        "title": {
         "text": "Top 10 Countries by Number of Unicorns"
        },
        "xaxis": {
         "anchor": "y",
         "domain": [
          0,
          1
         ],
         "title": {
          "text": "Country"
         }
        },
        "yaxis": {
         "anchor": "x",
         "domain": [
          0,
          1
         ],
         "title": {
          "text": "Unicorns"
         }
        }
       }
      },
      "text/html": [
       "<div>                            <div id=\"76a22b1e-6c32-4393-b420-ec053c34cdfc\" class=\"plotly-graph-div\" style=\"height:525px; width:100%;\"></div>            <script type=\"text/javascript\">                require([\"plotly\"], function(Plotly) {                    window.PLOTLYENV=window.PLOTLYENV || {};                                    if (document.getElementById(\"76a22b1e-6c32-4393-b420-ec053c34cdfc\")) {                    Plotly.newPlot(                        \"76a22b1e-6c32-4393-b420-ec053c34cdfc\",                        [{\"alignmentgroup\":\"True\",\"hovertemplate\":\"<b>%{hovertext}</b><br><br>Country=%{x}<br>Unicorns=%{marker.color}<extra></extra>\",\"hovertext\":[\"United States\",\"China\",\"India\",\"United Kingdom\",\"Germany\",\"France\",\"Israel\",\"Canada\",\"Brazil\",\"South Korea\",\"Others\"],\"legendgroup\":\"\",\"marker\":{\"color\":[656,173,70,52,30,25,24,21,16,14,140],\"coloraxis\":\"coloraxis\",\"pattern\":{\"shape\":\"\"}},\"name\":\"\",\"offsetgroup\":\"\",\"orientation\":\"v\",\"showlegend\":false,\"textposition\":\"auto\",\"x\":[\"United States\",\"China\",\"India\",\"United Kingdom\",\"Germany\",\"France\",\"Israel\",\"Canada\",\"Brazil\",\"South Korea\",\"Others\"],\"xaxis\":\"x\",\"y\":[656,173,70,52,30,25,24,21,16,14,140],\"yaxis\":\"y\",\"type\":\"bar\"}],                        {\"template\":{\"data\":{\"histogram2dcontour\":[{\"type\":\"histogram2dcontour\",\"colorbar\":{\"outlinewidth\":0,\"ticks\":\"\"},\"colorscale\":[[0.0,\"#0d0887\"],[0.1111111111111111,\"#46039f\"],[0.2222222222222222,\"#7201a8\"],[0.3333333333333333,\"#9c179e\"],[0.4444444444444444,\"#bd3786\"],[0.5555555555555556,\"#d8576b\"],[0.6666666666666666,\"#ed7953\"],[0.7777777777777778,\"#fb9f3a\"],[0.8888888888888888,\"#fdca26\"],[1.0,\"#f0f921\"]]}],\"choropleth\":[{\"type\":\"choropleth\",\"colorbar\":{\"outlinewidth\":0,\"ticks\":\"\"}}],\"histogram2d\":[{\"type\":\"histogram2d\",\"colorbar\":{\"outlinewidth\":0,\"ticks\":\"\"},\"colorscale\":[[0.0,\"#0d0887\"],[0.1111111111111111,\"#46039f\"],[0.2222222222222222,\"#7201a8\"],[0.3333333333333333,\"#9c179e\"],[0.4444444444444444,\"#bd3786\"],[0.5555555555555556,\"#d8576b\"],[0.6666666666666666,\"#ed7953\"],[0.7777777777777778,\"#fb9f3a\"],[0.8888888888888888,\"#fdca26\"],[1.0,\"#f0f921\"]]}],\"heatmap\":[{\"type\":\"heatmap\",\"colorbar\":{\"outlinewidth\":0,\"ticks\":\"\"},\"colorscale\":[[0.0,\"#0d0887\"],[0.1111111111111111,\"#46039f\"],[0.2222222222222222,\"#7201a8\"],[0.3333333333333333,\"#9c179e\"],[0.4444444444444444,\"#bd3786\"],[0.5555555555555556,\"#d8576b\"],[0.6666666666666666,\"#ed7953\"],[0.7777777777777778,\"#fb9f3a\"],[0.8888888888888888,\"#fdca26\"],[1.0,\"#f0f921\"]]}],\"heatmapgl\":[{\"type\":\"heatmapgl\",\"colorbar\":{\"outlinewidth\":0,\"ticks\":\"\"},\"colorscale\":[[0.0,\"#0d0887\"],[0.1111111111111111,\"#46039f\"],[0.2222222222222222,\"#7201a8\"],[0.3333333333333333,\"#9c179e\"],[0.4444444444444444,\"#bd3786\"],[0.5555555555555556,\"#d8576b\"],[0.6666666666666666,\"#ed7953\"],[0.7777777777777778,\"#fb9f3a\"],[0.8888888888888888,\"#fdca26\"],[1.0,\"#f0f921\"]]}],\"contourcarpet\":[{\"type\":\"contourcarpet\",\"colorbar\":{\"outlinewidth\":0,\"ticks\":\"\"}}],\"contour\":[{\"type\":\"contour\",\"colorbar\":{\"outlinewidth\":0,\"ticks\":\"\"},\"colorscale\":[[0.0,\"#0d0887\"],[0.1111111111111111,\"#46039f\"],[0.2222222222222222,\"#7201a8\"],[0.3333333333333333,\"#9c179e\"],[0.4444444444444444,\"#bd3786\"],[0.5555555555555556,\"#d8576b\"],[0.6666666666666666,\"#ed7953\"],[0.7777777777777778,\"#fb9f3a\"],[0.8888888888888888,\"#fdca26\"],[1.0,\"#f0f921\"]]}],\"surface\":[{\"type\":\"surface\",\"colorbar\":{\"outlinewidth\":0,\"ticks\":\"\"},\"colorscale\":[[0.0,\"#0d0887\"],[0.1111111111111111,\"#46039f\"],[0.2222222222222222,\"#7201a8\"],[0.3333333333333333,\"#9c179e\"],[0.4444444444444444,\"#bd3786\"],[0.5555555555555556,\"#d8576b\"],[0.6666666666666666,\"#ed7953\"],[0.7777777777777778,\"#fb9f3a\"],[0.8888888888888888,\"#fdca26\"],[1.0,\"#f0f921\"]]}],\"mesh3d\":[{\"type\":\"mesh3d\",\"colorbar\":{\"outlinewidth\":0,\"ticks\":\"\"}}],\"scatter\":[{\"fillpattern\":{\"fillmode\":\"overlay\",\"size\":10,\"solidity\":0.2},\"type\":\"scatter\"}],\"parcoords\":[{\"type\":\"parcoords\",\"line\":{\"colorbar\":{\"outlinewidth\":0,\"ticks\":\"\"}}}],\"scatterpolargl\":[{\"type\":\"scatterpolargl\",\"marker\":{\"colorbar\":{\"outlinewidth\":0,\"ticks\":\"\"}}}],\"bar\":[{\"error_x\":{\"color\":\"#2a3f5f\"},\"error_y\":{\"color\":\"#2a3f5f\"},\"marker\":{\"line\":{\"color\":\"#E5ECF6\",\"width\":0.5},\"pattern\":{\"fillmode\":\"overlay\",\"size\":10,\"solidity\":0.2}},\"type\":\"bar\"}],\"scattergeo\":[{\"type\":\"scattergeo\",\"marker\":{\"colorbar\":{\"outlinewidth\":0,\"ticks\":\"\"}}}],\"scatterpolar\":[{\"type\":\"scatterpolar\",\"marker\":{\"colorbar\":{\"outlinewidth\":0,\"ticks\":\"\"}}}],\"histogram\":[{\"marker\":{\"pattern\":{\"fillmode\":\"overlay\",\"size\":10,\"solidity\":0.2}},\"type\":\"histogram\"}],\"scattergl\":[{\"type\":\"scattergl\",\"marker\":{\"colorbar\":{\"outlinewidth\":0,\"ticks\":\"\"}}}],\"scatter3d\":[{\"type\":\"scatter3d\",\"line\":{\"colorbar\":{\"outlinewidth\":0,\"ticks\":\"\"}},\"marker\":{\"colorbar\":{\"outlinewidth\":0,\"ticks\":\"\"}}}],\"scattermapbox\":[{\"type\":\"scattermapbox\",\"marker\":{\"colorbar\":{\"outlinewidth\":0,\"ticks\":\"\"}}}],\"scatterternary\":[{\"type\":\"scatterternary\",\"marker\":{\"colorbar\":{\"outlinewidth\":0,\"ticks\":\"\"}}}],\"scattercarpet\":[{\"type\":\"scattercarpet\",\"marker\":{\"colorbar\":{\"outlinewidth\":0,\"ticks\":\"\"}}}],\"carpet\":[{\"aaxis\":{\"endlinecolor\":\"#2a3f5f\",\"gridcolor\":\"white\",\"linecolor\":\"white\",\"minorgridcolor\":\"white\",\"startlinecolor\":\"#2a3f5f\"},\"baxis\":{\"endlinecolor\":\"#2a3f5f\",\"gridcolor\":\"white\",\"linecolor\":\"white\",\"minorgridcolor\":\"white\",\"startlinecolor\":\"#2a3f5f\"},\"type\":\"carpet\"}],\"table\":[{\"cells\":{\"fill\":{\"color\":\"#EBF0F8\"},\"line\":{\"color\":\"white\"}},\"header\":{\"fill\":{\"color\":\"#C8D4E3\"},\"line\":{\"color\":\"white\"}},\"type\":\"table\"}],\"barpolar\":[{\"marker\":{\"line\":{\"color\":\"#E5ECF6\",\"width\":0.5},\"pattern\":{\"fillmode\":\"overlay\",\"size\":10,\"solidity\":0.2}},\"type\":\"barpolar\"}],\"pie\":[{\"automargin\":true,\"type\":\"pie\"}]},\"layout\":{\"autotypenumbers\":\"strict\",\"colorway\":[\"#636efa\",\"#EF553B\",\"#00cc96\",\"#ab63fa\",\"#FFA15A\",\"#19d3f3\",\"#FF6692\",\"#B6E880\",\"#FF97FF\",\"#FECB52\"],\"font\":{\"color\":\"#2a3f5f\"},\"hovermode\":\"closest\",\"hoverlabel\":{\"align\":\"left\"},\"paper_bgcolor\":\"white\",\"plot_bgcolor\":\"#E5ECF6\",\"polar\":{\"bgcolor\":\"#E5ECF6\",\"angularaxis\":{\"gridcolor\":\"white\",\"linecolor\":\"white\",\"ticks\":\"\"},\"radialaxis\":{\"gridcolor\":\"white\",\"linecolor\":\"white\",\"ticks\":\"\"}},\"ternary\":{\"bgcolor\":\"#E5ECF6\",\"aaxis\":{\"gridcolor\":\"white\",\"linecolor\":\"white\",\"ticks\":\"\"},\"baxis\":{\"gridcolor\":\"white\",\"linecolor\":\"white\",\"ticks\":\"\"},\"caxis\":{\"gridcolor\":\"white\",\"linecolor\":\"white\",\"ticks\":\"\"}},\"coloraxis\":{\"colorbar\":{\"outlinewidth\":0,\"ticks\":\"\"}},\"colorscale\":{\"sequential\":[[0.0,\"#0d0887\"],[0.1111111111111111,\"#46039f\"],[0.2222222222222222,\"#7201a8\"],[0.3333333333333333,\"#9c179e\"],[0.4444444444444444,\"#bd3786\"],[0.5555555555555556,\"#d8576b\"],[0.6666666666666666,\"#ed7953\"],[0.7777777777777778,\"#fb9f3a\"],[0.8888888888888888,\"#fdca26\"],[1.0,\"#f0f921\"]],\"sequentialminus\":[[0.0,\"#0d0887\"],[0.1111111111111111,\"#46039f\"],[0.2222222222222222,\"#7201a8\"],[0.3333333333333333,\"#9c179e\"],[0.4444444444444444,\"#bd3786\"],[0.5555555555555556,\"#d8576b\"],[0.6666666666666666,\"#ed7953\"],[0.7777777777777778,\"#fb9f3a\"],[0.8888888888888888,\"#fdca26\"],[1.0,\"#f0f921\"]],\"diverging\":[[0,\"#8e0152\"],[0.1,\"#c51b7d\"],[0.2,\"#de77ae\"],[0.3,\"#f1b6da\"],[0.4,\"#fde0ef\"],[0.5,\"#f7f7f7\"],[0.6,\"#e6f5d0\"],[0.7,\"#b8e186\"],[0.8,\"#7fbc41\"],[0.9,\"#4d9221\"],[1,\"#276419\"]]},\"xaxis\":{\"gridcolor\":\"white\",\"linecolor\":\"white\",\"ticks\":\"\",\"title\":{\"standoff\":15},\"zerolinecolor\":\"white\",\"automargin\":true,\"zerolinewidth\":2},\"yaxis\":{\"gridcolor\":\"white\",\"linecolor\":\"white\",\"ticks\":\"\",\"title\":{\"standoff\":15},\"zerolinecolor\":\"white\",\"automargin\":true,\"zerolinewidth\":2},\"scene\":{\"xaxis\":{\"backgroundcolor\":\"#E5ECF6\",\"gridcolor\":\"white\",\"linecolor\":\"white\",\"showbackground\":true,\"ticks\":\"\",\"zerolinecolor\":\"white\",\"gridwidth\":2},\"yaxis\":{\"backgroundcolor\":\"#E5ECF6\",\"gridcolor\":\"white\",\"linecolor\":\"white\",\"showbackground\":true,\"ticks\":\"\",\"zerolinecolor\":\"white\",\"gridwidth\":2},\"zaxis\":{\"backgroundcolor\":\"#E5ECF6\",\"gridcolor\":\"white\",\"linecolor\":\"white\",\"showbackground\":true,\"ticks\":\"\",\"zerolinecolor\":\"white\",\"gridwidth\":2}},\"shapedefaults\":{\"line\":{\"color\":\"#2a3f5f\"}},\"annotationdefaults\":{\"arrowcolor\":\"#2a3f5f\",\"arrowhead\":0,\"arrowwidth\":1},\"geo\":{\"bgcolor\":\"white\",\"landcolor\":\"#E5ECF6\",\"subunitcolor\":\"white\",\"showland\":true,\"showlakes\":true,\"lakecolor\":\"white\"},\"title\":{\"x\":0.05},\"mapbox\":{\"style\":\"light\"}}},\"xaxis\":{\"anchor\":\"y\",\"domain\":[0.0,1.0],\"title\":{\"text\":\"Country\"}},\"yaxis\":{\"anchor\":\"x\",\"domain\":[0.0,1.0],\"title\":{\"text\":\"Unicorns\"}},\"coloraxis\":{\"colorbar\":{\"title\":{\"text\":\"Unicorns\"}},\"colorscale\":[[0.0,\"rgb(254, 245, 244)\"],[0.09090909090909091,\"rgb(222, 224, 210)\"],[0.18181818181818182,\"rgb(189, 206, 181)\"],[0.2727272727272727,\"rgb(153, 189, 156)\"],[0.36363636363636365,\"rgb(110, 173, 138)\"],[0.45454545454545453,\"rgb(65, 157, 129)\"],[0.5454545454545454,\"rgb(25, 137, 125)\"],[0.6363636363636364,\"rgb(18, 116, 117)\"],[0.7272727272727273,\"rgb(25, 94, 106)\"],[0.8181818181818182,\"rgb(28, 72, 93)\"],[0.9090909090909091,\"rgb(25, 51, 80)\"],[1.0,\"rgb(20, 29, 67)\"]]},\"legend\":{\"tracegroupgap\":0},\"title\":{\"text\":\"Top 10 Countries by Number of Unicorns\"},\"barmode\":\"relative\"},                        {\"responsive\": true}                    ).then(function(){\n",
       "                            \n",
       "var gd = document.getElementById('76a22b1e-6c32-4393-b420-ec053c34cdfc');\n",
       "var x = new MutationObserver(function (mutations, observer) {{\n",
       "        var display = window.getComputedStyle(gd).display;\n",
       "        if (!display || display === 'none') {{\n",
       "            console.log([gd, 'removed!']);\n",
       "            Plotly.purge(gd);\n",
       "            observer.disconnect();\n",
       "        }}\n",
       "}});\n",
       "\n",
       "// Listen for the removal of the full notebook cells\n",
       "var notebookContainer = gd.closest('#notebook-container');\n",
       "if (notebookContainer) {{\n",
       "    x.observe(notebookContainer, {childList: true});\n",
       "}}\n",
       "\n",
       "// Listen for the clearing of the current output cell\n",
       "var outputEl = gd.closest('.output');\n",
       "if (outputEl) {{\n",
       "    x.observe(outputEl, {childList: true});\n",
       "}}\n",
       "\n",
       "                        })                };                });            </script>        </div>"
      ]
     },
     "metadata": {},
     "output_type": "display_data"
    }
   ],
   "source": [
    "import plotly.express as px\n",
    "fig = px.bar(df_top10, x=\"Country\", y=\"Unicorns\", color=\"Unicorns\", hover_name=\"Country\", color_continuous_scale=px.colors.sequential.tempo, title = 'Top 10 Countries by Number of Unicorns')\n",
    "fig.show()"
   ]
  },
  {
   "cell_type": "code",
   "execution_count": 277,
   "id": "0c829b15",
   "metadata": {
    "scrolled": true
   },
   "outputs": [
    {
     "data": {
      "application/vnd.plotly.v1+json": {
       "config": {
        "plotlyServerURL": "https://plot.ly"
       },
       "data": [
        {
         "coloraxis": "coloraxis",
         "geo": "geo",
         "hovertemplate": "<b>%{hovertext}</b><br><br>Country=%{location}<br>Unicorns=%{z}<extra></extra>",
         "hovertext": [
          "United States",
          "China",
          "India",
          "United Kingdom",
          "Germany",
          "France",
          "Israel",
          "Canada",
          "Brazil",
          "South Korea",
          "Singapore",
          "Australia",
          "Indonesia",
          "Mexico",
          "Japan",
          "Hong Kong",
          "Netherlands",
          "Sweden",
          "Switzerland",
          "Ireland",
          "Spain",
          "Finland",
          "Norway",
          "Thailand",
          "Turkey",
          "Colombia",
          "United Arab Emirates",
          "Belgium",
          "South Africa",
          "Seychelles",
          "Italy",
          "Vietnam",
          "Estonia",
          "Austria",
          "Chile",
          "Croatia",
          "Lithuania",
          "Greece",
          "Denmark",
          "Ecuador",
          "Bermuda",
          "Czech Republic",
          "Malaysia",
          "Egypt",
          "Luxembourg",
          "Liechtenstein",
          "Senegal",
          "Philippines",
          "London",
          "Nigeria",
          "Argentina"
         ],
         "locationmode": "country names",
         "locations": [
          "United States",
          "China",
          "India",
          "United Kingdom",
          "Germany",
          "France",
          "Israel",
          "Canada",
          "Brazil",
          "South Korea",
          "Singapore",
          "Australia",
          "Indonesia",
          "Mexico",
          "Japan",
          "Hong Kong",
          "Netherlands",
          "Sweden",
          "Switzerland",
          "Ireland",
          "Spain",
          "Finland",
          "Norway",
          "Thailand",
          "Turkey",
          "Colombia",
          "United Arab Emirates",
          "Belgium",
          "South Africa",
          "Seychelles",
          "Italy",
          "Vietnam",
          "Estonia",
          "Austria",
          "Chile",
          "Croatia",
          "Lithuania",
          "Greece",
          "Denmark",
          "Ecuador",
          "Bermuda",
          "Czech Republic",
          "Malaysia",
          "Egypt",
          "Luxembourg",
          "Liechtenstein",
          "Senegal",
          "Philippines",
          "London",
          "Nigeria",
          "Argentina"
         ],
         "name": "",
         "type": "choropleth",
         "z": [
          656,
          173,
          70,
          52,
          30,
          25,
          24,
          21,
          16,
          14,
          14,
          8,
          8,
          8,
          7,
          7,
          7,
          7,
          6,
          6,
          5,
          4,
          4,
          3,
          3,
          3,
          3,
          3,
          2,
          2,
          2,
          2,
          2,
          2,
          2,
          2,
          2,
          2,
          2,
          1,
          1,
          1,
          1,
          1,
          1,
          1,
          1,
          1,
          1,
          1,
          1
         ]
        }
       ],
       "layout": {
        "coloraxis": {
         "cmax": 300,
         "cmin": 0,
         "colorbar": {
          "title": {
           "text": "Unicorns"
          }
         },
         "colorscale": [
          [
           0,
           "rgb(254, 245, 244)"
          ],
          [
           0.09090909090909091,
           "rgb(222, 224, 210)"
          ],
          [
           0.18181818181818182,
           "rgb(189, 206, 181)"
          ],
          [
           0.2727272727272727,
           "rgb(153, 189, 156)"
          ],
          [
           0.36363636363636365,
           "rgb(110, 173, 138)"
          ],
          [
           0.45454545454545453,
           "rgb(65, 157, 129)"
          ],
          [
           0.5454545454545454,
           "rgb(25, 137, 125)"
          ],
          [
           0.6363636363636364,
           "rgb(18, 116, 117)"
          ],
          [
           0.7272727272727273,
           "rgb(25, 94, 106)"
          ],
          [
           0.8181818181818182,
           "rgb(28, 72, 93)"
          ],
          [
           0.9090909090909091,
           "rgb(25, 51, 80)"
          ],
          [
           1,
           "rgb(20, 29, 67)"
          ]
         ]
        },
        "geo": {
         "center": {},
         "domain": {
          "x": [
           0,
           1
          ],
          "y": [
           0,
           1
          ]
         }
        },
        "legend": {
         "tracegroupgap": 0
        },
        "template": {
         "data": {
          "bar": [
           {
            "error_x": {
             "color": "#2a3f5f"
            },
            "error_y": {
             "color": "#2a3f5f"
            },
            "marker": {
             "line": {
              "color": "#E5ECF6",
              "width": 0.5
             },
             "pattern": {
              "fillmode": "overlay",
              "size": 10,
              "solidity": 0.2
             }
            },
            "type": "bar"
           }
          ],
          "barpolar": [
           {
            "marker": {
             "line": {
              "color": "#E5ECF6",
              "width": 0.5
             },
             "pattern": {
              "fillmode": "overlay",
              "size": 10,
              "solidity": 0.2
             }
            },
            "type": "barpolar"
           }
          ],
          "carpet": [
           {
            "aaxis": {
             "endlinecolor": "#2a3f5f",
             "gridcolor": "white",
             "linecolor": "white",
             "minorgridcolor": "white",
             "startlinecolor": "#2a3f5f"
            },
            "baxis": {
             "endlinecolor": "#2a3f5f",
             "gridcolor": "white",
             "linecolor": "white",
             "minorgridcolor": "white",
             "startlinecolor": "#2a3f5f"
            },
            "type": "carpet"
           }
          ],
          "choropleth": [
           {
            "colorbar": {
             "outlinewidth": 0,
             "ticks": ""
            },
            "type": "choropleth"
           }
          ],
          "contour": [
           {
            "colorbar": {
             "outlinewidth": 0,
             "ticks": ""
            },
            "colorscale": [
             [
              0,
              "#0d0887"
             ],
             [
              0.1111111111111111,
              "#46039f"
             ],
             [
              0.2222222222222222,
              "#7201a8"
             ],
             [
              0.3333333333333333,
              "#9c179e"
             ],
             [
              0.4444444444444444,
              "#bd3786"
             ],
             [
              0.5555555555555556,
              "#d8576b"
             ],
             [
              0.6666666666666666,
              "#ed7953"
             ],
             [
              0.7777777777777778,
              "#fb9f3a"
             ],
             [
              0.8888888888888888,
              "#fdca26"
             ],
             [
              1,
              "#f0f921"
             ]
            ],
            "type": "contour"
           }
          ],
          "contourcarpet": [
           {
            "colorbar": {
             "outlinewidth": 0,
             "ticks": ""
            },
            "type": "contourcarpet"
           }
          ],
          "heatmap": [
           {
            "colorbar": {
             "outlinewidth": 0,
             "ticks": ""
            },
            "colorscale": [
             [
              0,
              "#0d0887"
             ],
             [
              0.1111111111111111,
              "#46039f"
             ],
             [
              0.2222222222222222,
              "#7201a8"
             ],
             [
              0.3333333333333333,
              "#9c179e"
             ],
             [
              0.4444444444444444,
              "#bd3786"
             ],
             [
              0.5555555555555556,
              "#d8576b"
             ],
             [
              0.6666666666666666,
              "#ed7953"
             ],
             [
              0.7777777777777778,
              "#fb9f3a"
             ],
             [
              0.8888888888888888,
              "#fdca26"
             ],
             [
              1,
              "#f0f921"
             ]
            ],
            "type": "heatmap"
           }
          ],
          "heatmapgl": [
           {
            "colorbar": {
             "outlinewidth": 0,
             "ticks": ""
            },
            "colorscale": [
             [
              0,
              "#0d0887"
             ],
             [
              0.1111111111111111,
              "#46039f"
             ],
             [
              0.2222222222222222,
              "#7201a8"
             ],
             [
              0.3333333333333333,
              "#9c179e"
             ],
             [
              0.4444444444444444,
              "#bd3786"
             ],
             [
              0.5555555555555556,
              "#d8576b"
             ],
             [
              0.6666666666666666,
              "#ed7953"
             ],
             [
              0.7777777777777778,
              "#fb9f3a"
             ],
             [
              0.8888888888888888,
              "#fdca26"
             ],
             [
              1,
              "#f0f921"
             ]
            ],
            "type": "heatmapgl"
           }
          ],
          "histogram": [
           {
            "marker": {
             "pattern": {
              "fillmode": "overlay",
              "size": 10,
              "solidity": 0.2
             }
            },
            "type": "histogram"
           }
          ],
          "histogram2d": [
           {
            "colorbar": {
             "outlinewidth": 0,
             "ticks": ""
            },
            "colorscale": [
             [
              0,
              "#0d0887"
             ],
             [
              0.1111111111111111,
              "#46039f"
             ],
             [
              0.2222222222222222,
              "#7201a8"
             ],
             [
              0.3333333333333333,
              "#9c179e"
             ],
             [
              0.4444444444444444,
              "#bd3786"
             ],
             [
              0.5555555555555556,
              "#d8576b"
             ],
             [
              0.6666666666666666,
              "#ed7953"
             ],
             [
              0.7777777777777778,
              "#fb9f3a"
             ],
             [
              0.8888888888888888,
              "#fdca26"
             ],
             [
              1,
              "#f0f921"
             ]
            ],
            "type": "histogram2d"
           }
          ],
          "histogram2dcontour": [
           {
            "colorbar": {
             "outlinewidth": 0,
             "ticks": ""
            },
            "colorscale": [
             [
              0,
              "#0d0887"
             ],
             [
              0.1111111111111111,
              "#46039f"
             ],
             [
              0.2222222222222222,
              "#7201a8"
             ],
             [
              0.3333333333333333,
              "#9c179e"
             ],
             [
              0.4444444444444444,
              "#bd3786"
             ],
             [
              0.5555555555555556,
              "#d8576b"
             ],
             [
              0.6666666666666666,
              "#ed7953"
             ],
             [
              0.7777777777777778,
              "#fb9f3a"
             ],
             [
              0.8888888888888888,
              "#fdca26"
             ],
             [
              1,
              "#f0f921"
             ]
            ],
            "type": "histogram2dcontour"
           }
          ],
          "mesh3d": [
           {
            "colorbar": {
             "outlinewidth": 0,
             "ticks": ""
            },
            "type": "mesh3d"
           }
          ],
          "parcoords": [
           {
            "line": {
             "colorbar": {
              "outlinewidth": 0,
              "ticks": ""
             }
            },
            "type": "parcoords"
           }
          ],
          "pie": [
           {
            "automargin": true,
            "type": "pie"
           }
          ],
          "scatter": [
           {
            "fillpattern": {
             "fillmode": "overlay",
             "size": 10,
             "solidity": 0.2
            },
            "type": "scatter"
           }
          ],
          "scatter3d": [
           {
            "line": {
             "colorbar": {
              "outlinewidth": 0,
              "ticks": ""
             }
            },
            "marker": {
             "colorbar": {
              "outlinewidth": 0,
              "ticks": ""
             }
            },
            "type": "scatter3d"
           }
          ],
          "scattercarpet": [
           {
            "marker": {
             "colorbar": {
              "outlinewidth": 0,
              "ticks": ""
             }
            },
            "type": "scattercarpet"
           }
          ],
          "scattergeo": [
           {
            "marker": {
             "colorbar": {
              "outlinewidth": 0,
              "ticks": ""
             }
            },
            "type": "scattergeo"
           }
          ],
          "scattergl": [
           {
            "marker": {
             "colorbar": {
              "outlinewidth": 0,
              "ticks": ""
             }
            },
            "type": "scattergl"
           }
          ],
          "scattermapbox": [
           {
            "marker": {
             "colorbar": {
              "outlinewidth": 0,
              "ticks": ""
             }
            },
            "type": "scattermapbox"
           }
          ],
          "scatterpolar": [
           {
            "marker": {
             "colorbar": {
              "outlinewidth": 0,
              "ticks": ""
             }
            },
            "type": "scatterpolar"
           }
          ],
          "scatterpolargl": [
           {
            "marker": {
             "colorbar": {
              "outlinewidth": 0,
              "ticks": ""
             }
            },
            "type": "scatterpolargl"
           }
          ],
          "scatterternary": [
           {
            "marker": {
             "colorbar": {
              "outlinewidth": 0,
              "ticks": ""
             }
            },
            "type": "scatterternary"
           }
          ],
          "surface": [
           {
            "colorbar": {
             "outlinewidth": 0,
             "ticks": ""
            },
            "colorscale": [
             [
              0,
              "#0d0887"
             ],
             [
              0.1111111111111111,
              "#46039f"
             ],
             [
              0.2222222222222222,
              "#7201a8"
             ],
             [
              0.3333333333333333,
              "#9c179e"
             ],
             [
              0.4444444444444444,
              "#bd3786"
             ],
             [
              0.5555555555555556,
              "#d8576b"
             ],
             [
              0.6666666666666666,
              "#ed7953"
             ],
             [
              0.7777777777777778,
              "#fb9f3a"
             ],
             [
              0.8888888888888888,
              "#fdca26"
             ],
             [
              1,
              "#f0f921"
             ]
            ],
            "type": "surface"
           }
          ],
          "table": [
           {
            "cells": {
             "fill": {
              "color": "#EBF0F8"
             },
             "line": {
              "color": "white"
             }
            },
            "header": {
             "fill": {
              "color": "#C8D4E3"
             },
             "line": {
              "color": "white"
             }
            },
            "type": "table"
           }
          ]
         },
         "layout": {
          "annotationdefaults": {
           "arrowcolor": "#2a3f5f",
           "arrowhead": 0,
           "arrowwidth": 1
          },
          "autotypenumbers": "strict",
          "coloraxis": {
           "colorbar": {
            "outlinewidth": 0,
            "ticks": ""
           }
          },
          "colorscale": {
           "diverging": [
            [
             0,
             "#8e0152"
            ],
            [
             0.1,
             "#c51b7d"
            ],
            [
             0.2,
             "#de77ae"
            ],
            [
             0.3,
             "#f1b6da"
            ],
            [
             0.4,
             "#fde0ef"
            ],
            [
             0.5,
             "#f7f7f7"
            ],
            [
             0.6,
             "#e6f5d0"
            ],
            [
             0.7,
             "#b8e186"
            ],
            [
             0.8,
             "#7fbc41"
            ],
            [
             0.9,
             "#4d9221"
            ],
            [
             1,
             "#276419"
            ]
           ],
           "sequential": [
            [
             0,
             "#0d0887"
            ],
            [
             0.1111111111111111,
             "#46039f"
            ],
            [
             0.2222222222222222,
             "#7201a8"
            ],
            [
             0.3333333333333333,
             "#9c179e"
            ],
            [
             0.4444444444444444,
             "#bd3786"
            ],
            [
             0.5555555555555556,
             "#d8576b"
            ],
            [
             0.6666666666666666,
             "#ed7953"
            ],
            [
             0.7777777777777778,
             "#fb9f3a"
            ],
            [
             0.8888888888888888,
             "#fdca26"
            ],
            [
             1,
             "#f0f921"
            ]
           ],
           "sequentialminus": [
            [
             0,
             "#0d0887"
            ],
            [
             0.1111111111111111,
             "#46039f"
            ],
            [
             0.2222222222222222,
             "#7201a8"
            ],
            [
             0.3333333333333333,
             "#9c179e"
            ],
            [
             0.4444444444444444,
             "#bd3786"
            ],
            [
             0.5555555555555556,
             "#d8576b"
            ],
            [
             0.6666666666666666,
             "#ed7953"
            ],
            [
             0.7777777777777778,
             "#fb9f3a"
            ],
            [
             0.8888888888888888,
             "#fdca26"
            ],
            [
             1,
             "#f0f921"
            ]
           ]
          },
          "colorway": [
           "#636efa",
           "#EF553B",
           "#00cc96",
           "#ab63fa",
           "#FFA15A",
           "#19d3f3",
           "#FF6692",
           "#B6E880",
           "#FF97FF",
           "#FECB52"
          ],
          "font": {
           "color": "#2a3f5f"
          },
          "geo": {
           "bgcolor": "white",
           "lakecolor": "white",
           "landcolor": "#E5ECF6",
           "showlakes": true,
           "showland": true,
           "subunitcolor": "white"
          },
          "hoverlabel": {
           "align": "left"
          },
          "hovermode": "closest",
          "mapbox": {
           "style": "light"
          },
          "paper_bgcolor": "white",
          "plot_bgcolor": "#E5ECF6",
          "polar": {
           "angularaxis": {
            "gridcolor": "white",
            "linecolor": "white",
            "ticks": ""
           },
           "bgcolor": "#E5ECF6",
           "radialaxis": {
            "gridcolor": "white",
            "linecolor": "white",
            "ticks": ""
           }
          },
          "scene": {
           "xaxis": {
            "backgroundcolor": "#E5ECF6",
            "gridcolor": "white",
            "gridwidth": 2,
            "linecolor": "white",
            "showbackground": true,
            "ticks": "",
            "zerolinecolor": "white"
           },
           "yaxis": {
            "backgroundcolor": "#E5ECF6",
            "gridcolor": "white",
            "gridwidth": 2,
            "linecolor": "white",
            "showbackground": true,
            "ticks": "",
            "zerolinecolor": "white"
           },
           "zaxis": {
            "backgroundcolor": "#E5ECF6",
            "gridcolor": "white",
            "gridwidth": 2,
            "linecolor": "white",
            "showbackground": true,
            "ticks": "",
            "zerolinecolor": "white"
           }
          },
          "shapedefaults": {
           "line": {
            "color": "#2a3f5f"
           }
          },
          "ternary": {
           "aaxis": {
            "gridcolor": "white",
            "linecolor": "white",
            "ticks": ""
           },
           "baxis": {
            "gridcolor": "white",
            "linecolor": "white",
            "ticks": ""
           },
           "bgcolor": "#E5ECF6",
           "caxis": {
            "gridcolor": "white",
            "linecolor": "white",
            "ticks": ""
           }
          },
          "title": {
           "x": 0.05
          },
          "xaxis": {
           "automargin": true,
           "gridcolor": "white",
           "linecolor": "white",
           "ticks": "",
           "title": {
            "standoff": 15
           },
           "zerolinecolor": "white",
           "zerolinewidth": 2
          },
          "yaxis": {
           "automargin": true,
           "gridcolor": "white",
           "linecolor": "white",
           "ticks": "",
           "title": {
            "standoff": 15
           },
           "zerolinecolor": "white",
           "zerolinewidth": 2
          }
         }
        },
        "title": {
         "text": "World Map of Unicorns"
        }
       }
      },
      "text/html": [
       "<div>                            <div id=\"b20dfb9a-60f1-443c-b780-e3b79d02fcc5\" class=\"plotly-graph-div\" style=\"height:525px; width:100%;\"></div>            <script type=\"text/javascript\">                require([\"plotly\"], function(Plotly) {                    window.PLOTLYENV=window.PLOTLYENV || {};                                    if (document.getElementById(\"b20dfb9a-60f1-443c-b780-e3b79d02fcc5\")) {                    Plotly.newPlot(                        \"b20dfb9a-60f1-443c-b780-e3b79d02fcc5\",                        [{\"coloraxis\":\"coloraxis\",\"geo\":\"geo\",\"hovertemplate\":\"<b>%{hovertext}</b><br><br>Country=%{location}<br>Unicorns=%{z}<extra></extra>\",\"hovertext\":[\"United States\",\"China\",\"India\",\"United Kingdom\",\"Germany\",\"France\",\"Israel\",\"Canada\",\"Brazil\",\"South Korea\",\"Singapore\",\"Australia\",\"Indonesia\",\"Mexico\",\"Japan\",\"Hong Kong\",\"Netherlands\",\"Sweden\",\"Switzerland\",\"Ireland\",\"Spain\",\"Finland\",\"Norway\",\"Thailand\",\"Turkey\",\"Colombia\",\"United Arab Emirates\",\"Belgium\",\"South Africa\",\"Seychelles\",\"Italy\",\"Vietnam\",\"Estonia\",\"Austria\",\"Chile\",\"Croatia\",\"Lithuania\",\"Greece\",\"Denmark\",\"Ecuador\",\"Bermuda\",\"Czech Republic\",\"Malaysia\",\"Egypt\",\"Luxembourg\",\"Liechtenstein\",\"Senegal\",\"Philippines\",\"London\",\"Nigeria\",\"Argentina\"],\"locationmode\":\"country names\",\"locations\":[\"United States\",\"China\",\"India\",\"United Kingdom\",\"Germany\",\"France\",\"Israel\",\"Canada\",\"Brazil\",\"South Korea\",\"Singapore\",\"Australia\",\"Indonesia\",\"Mexico\",\"Japan\",\"Hong Kong\",\"Netherlands\",\"Sweden\",\"Switzerland\",\"Ireland\",\"Spain\",\"Finland\",\"Norway\",\"Thailand\",\"Turkey\",\"Colombia\",\"United Arab Emirates\",\"Belgium\",\"South Africa\",\"Seychelles\",\"Italy\",\"Vietnam\",\"Estonia\",\"Austria\",\"Chile\",\"Croatia\",\"Lithuania\",\"Greece\",\"Denmark\",\"Ecuador\",\"Bermuda\",\"Czech Republic\",\"Malaysia\",\"Egypt\",\"Luxembourg\",\"Liechtenstein\",\"Senegal\",\"Philippines\",\"London\",\"Nigeria\",\"Argentina\"],\"name\":\"\",\"z\":[656,173,70,52,30,25,24,21,16,14,14,8,8,8,7,7,7,7,6,6,5,4,4,3,3,3,3,3,2,2,2,2,2,2,2,2,2,2,2,1,1,1,1,1,1,1,1,1,1,1,1],\"type\":\"choropleth\"}],                        {\"template\":{\"data\":{\"histogram2dcontour\":[{\"type\":\"histogram2dcontour\",\"colorbar\":{\"outlinewidth\":0,\"ticks\":\"\"},\"colorscale\":[[0.0,\"#0d0887\"],[0.1111111111111111,\"#46039f\"],[0.2222222222222222,\"#7201a8\"],[0.3333333333333333,\"#9c179e\"],[0.4444444444444444,\"#bd3786\"],[0.5555555555555556,\"#d8576b\"],[0.6666666666666666,\"#ed7953\"],[0.7777777777777778,\"#fb9f3a\"],[0.8888888888888888,\"#fdca26\"],[1.0,\"#f0f921\"]]}],\"choropleth\":[{\"type\":\"choropleth\",\"colorbar\":{\"outlinewidth\":0,\"ticks\":\"\"}}],\"histogram2d\":[{\"type\":\"histogram2d\",\"colorbar\":{\"outlinewidth\":0,\"ticks\":\"\"},\"colorscale\":[[0.0,\"#0d0887\"],[0.1111111111111111,\"#46039f\"],[0.2222222222222222,\"#7201a8\"],[0.3333333333333333,\"#9c179e\"],[0.4444444444444444,\"#bd3786\"],[0.5555555555555556,\"#d8576b\"],[0.6666666666666666,\"#ed7953\"],[0.7777777777777778,\"#fb9f3a\"],[0.8888888888888888,\"#fdca26\"],[1.0,\"#f0f921\"]]}],\"heatmap\":[{\"type\":\"heatmap\",\"colorbar\":{\"outlinewidth\":0,\"ticks\":\"\"},\"colorscale\":[[0.0,\"#0d0887\"],[0.1111111111111111,\"#46039f\"],[0.2222222222222222,\"#7201a8\"],[0.3333333333333333,\"#9c179e\"],[0.4444444444444444,\"#bd3786\"],[0.5555555555555556,\"#d8576b\"],[0.6666666666666666,\"#ed7953\"],[0.7777777777777778,\"#fb9f3a\"],[0.8888888888888888,\"#fdca26\"],[1.0,\"#f0f921\"]]}],\"heatmapgl\":[{\"type\":\"heatmapgl\",\"colorbar\":{\"outlinewidth\":0,\"ticks\":\"\"},\"colorscale\":[[0.0,\"#0d0887\"],[0.1111111111111111,\"#46039f\"],[0.2222222222222222,\"#7201a8\"],[0.3333333333333333,\"#9c179e\"],[0.4444444444444444,\"#bd3786\"],[0.5555555555555556,\"#d8576b\"],[0.6666666666666666,\"#ed7953\"],[0.7777777777777778,\"#fb9f3a\"],[0.8888888888888888,\"#fdca26\"],[1.0,\"#f0f921\"]]}],\"contourcarpet\":[{\"type\":\"contourcarpet\",\"colorbar\":{\"outlinewidth\":0,\"ticks\":\"\"}}],\"contour\":[{\"type\":\"contour\",\"colorbar\":{\"outlinewidth\":0,\"ticks\":\"\"},\"colorscale\":[[0.0,\"#0d0887\"],[0.1111111111111111,\"#46039f\"],[0.2222222222222222,\"#7201a8\"],[0.3333333333333333,\"#9c179e\"],[0.4444444444444444,\"#bd3786\"],[0.5555555555555556,\"#d8576b\"],[0.6666666666666666,\"#ed7953\"],[0.7777777777777778,\"#fb9f3a\"],[0.8888888888888888,\"#fdca26\"],[1.0,\"#f0f921\"]]}],\"surface\":[{\"type\":\"surface\",\"colorbar\":{\"outlinewidth\":0,\"ticks\":\"\"},\"colorscale\":[[0.0,\"#0d0887\"],[0.1111111111111111,\"#46039f\"],[0.2222222222222222,\"#7201a8\"],[0.3333333333333333,\"#9c179e\"],[0.4444444444444444,\"#bd3786\"],[0.5555555555555556,\"#d8576b\"],[0.6666666666666666,\"#ed7953\"],[0.7777777777777778,\"#fb9f3a\"],[0.8888888888888888,\"#fdca26\"],[1.0,\"#f0f921\"]]}],\"mesh3d\":[{\"type\":\"mesh3d\",\"colorbar\":{\"outlinewidth\":0,\"ticks\":\"\"}}],\"scatter\":[{\"fillpattern\":{\"fillmode\":\"overlay\",\"size\":10,\"solidity\":0.2},\"type\":\"scatter\"}],\"parcoords\":[{\"type\":\"parcoords\",\"line\":{\"colorbar\":{\"outlinewidth\":0,\"ticks\":\"\"}}}],\"scatterpolargl\":[{\"type\":\"scatterpolargl\",\"marker\":{\"colorbar\":{\"outlinewidth\":0,\"ticks\":\"\"}}}],\"bar\":[{\"error_x\":{\"color\":\"#2a3f5f\"},\"error_y\":{\"color\":\"#2a3f5f\"},\"marker\":{\"line\":{\"color\":\"#E5ECF6\",\"width\":0.5},\"pattern\":{\"fillmode\":\"overlay\",\"size\":10,\"solidity\":0.2}},\"type\":\"bar\"}],\"scattergeo\":[{\"type\":\"scattergeo\",\"marker\":{\"colorbar\":{\"outlinewidth\":0,\"ticks\":\"\"}}}],\"scatterpolar\":[{\"type\":\"scatterpolar\",\"marker\":{\"colorbar\":{\"outlinewidth\":0,\"ticks\":\"\"}}}],\"histogram\":[{\"marker\":{\"pattern\":{\"fillmode\":\"overlay\",\"size\":10,\"solidity\":0.2}},\"type\":\"histogram\"}],\"scattergl\":[{\"type\":\"scattergl\",\"marker\":{\"colorbar\":{\"outlinewidth\":0,\"ticks\":\"\"}}}],\"scatter3d\":[{\"type\":\"scatter3d\",\"line\":{\"colorbar\":{\"outlinewidth\":0,\"ticks\":\"\"}},\"marker\":{\"colorbar\":{\"outlinewidth\":0,\"ticks\":\"\"}}}],\"scattermapbox\":[{\"type\":\"scattermapbox\",\"marker\":{\"colorbar\":{\"outlinewidth\":0,\"ticks\":\"\"}}}],\"scatterternary\":[{\"type\":\"scatterternary\",\"marker\":{\"colorbar\":{\"outlinewidth\":0,\"ticks\":\"\"}}}],\"scattercarpet\":[{\"type\":\"scattercarpet\",\"marker\":{\"colorbar\":{\"outlinewidth\":0,\"ticks\":\"\"}}}],\"carpet\":[{\"aaxis\":{\"endlinecolor\":\"#2a3f5f\",\"gridcolor\":\"white\",\"linecolor\":\"white\",\"minorgridcolor\":\"white\",\"startlinecolor\":\"#2a3f5f\"},\"baxis\":{\"endlinecolor\":\"#2a3f5f\",\"gridcolor\":\"white\",\"linecolor\":\"white\",\"minorgridcolor\":\"white\",\"startlinecolor\":\"#2a3f5f\"},\"type\":\"carpet\"}],\"table\":[{\"cells\":{\"fill\":{\"color\":\"#EBF0F8\"},\"line\":{\"color\":\"white\"}},\"header\":{\"fill\":{\"color\":\"#C8D4E3\"},\"line\":{\"color\":\"white\"}},\"type\":\"table\"}],\"barpolar\":[{\"marker\":{\"line\":{\"color\":\"#E5ECF6\",\"width\":0.5},\"pattern\":{\"fillmode\":\"overlay\",\"size\":10,\"solidity\":0.2}},\"type\":\"barpolar\"}],\"pie\":[{\"automargin\":true,\"type\":\"pie\"}]},\"layout\":{\"autotypenumbers\":\"strict\",\"colorway\":[\"#636efa\",\"#EF553B\",\"#00cc96\",\"#ab63fa\",\"#FFA15A\",\"#19d3f3\",\"#FF6692\",\"#B6E880\",\"#FF97FF\",\"#FECB52\"],\"font\":{\"color\":\"#2a3f5f\"},\"hovermode\":\"closest\",\"hoverlabel\":{\"align\":\"left\"},\"paper_bgcolor\":\"white\",\"plot_bgcolor\":\"#E5ECF6\",\"polar\":{\"bgcolor\":\"#E5ECF6\",\"angularaxis\":{\"gridcolor\":\"white\",\"linecolor\":\"white\",\"ticks\":\"\"},\"radialaxis\":{\"gridcolor\":\"white\",\"linecolor\":\"white\",\"ticks\":\"\"}},\"ternary\":{\"bgcolor\":\"#E5ECF6\",\"aaxis\":{\"gridcolor\":\"white\",\"linecolor\":\"white\",\"ticks\":\"\"},\"baxis\":{\"gridcolor\":\"white\",\"linecolor\":\"white\",\"ticks\":\"\"},\"caxis\":{\"gridcolor\":\"white\",\"linecolor\":\"white\",\"ticks\":\"\"}},\"coloraxis\":{\"colorbar\":{\"outlinewidth\":0,\"ticks\":\"\"}},\"colorscale\":{\"sequential\":[[0.0,\"#0d0887\"],[0.1111111111111111,\"#46039f\"],[0.2222222222222222,\"#7201a8\"],[0.3333333333333333,\"#9c179e\"],[0.4444444444444444,\"#bd3786\"],[0.5555555555555556,\"#d8576b\"],[0.6666666666666666,\"#ed7953\"],[0.7777777777777778,\"#fb9f3a\"],[0.8888888888888888,\"#fdca26\"],[1.0,\"#f0f921\"]],\"sequentialminus\":[[0.0,\"#0d0887\"],[0.1111111111111111,\"#46039f\"],[0.2222222222222222,\"#7201a8\"],[0.3333333333333333,\"#9c179e\"],[0.4444444444444444,\"#bd3786\"],[0.5555555555555556,\"#d8576b\"],[0.6666666666666666,\"#ed7953\"],[0.7777777777777778,\"#fb9f3a\"],[0.8888888888888888,\"#fdca26\"],[1.0,\"#f0f921\"]],\"diverging\":[[0,\"#8e0152\"],[0.1,\"#c51b7d\"],[0.2,\"#de77ae\"],[0.3,\"#f1b6da\"],[0.4,\"#fde0ef\"],[0.5,\"#f7f7f7\"],[0.6,\"#e6f5d0\"],[0.7,\"#b8e186\"],[0.8,\"#7fbc41\"],[0.9,\"#4d9221\"],[1,\"#276419\"]]},\"xaxis\":{\"gridcolor\":\"white\",\"linecolor\":\"white\",\"ticks\":\"\",\"title\":{\"standoff\":15},\"zerolinecolor\":\"white\",\"automargin\":true,\"zerolinewidth\":2},\"yaxis\":{\"gridcolor\":\"white\",\"linecolor\":\"white\",\"ticks\":\"\",\"title\":{\"standoff\":15},\"zerolinecolor\":\"white\",\"automargin\":true,\"zerolinewidth\":2},\"scene\":{\"xaxis\":{\"backgroundcolor\":\"#E5ECF6\",\"gridcolor\":\"white\",\"linecolor\":\"white\",\"showbackground\":true,\"ticks\":\"\",\"zerolinecolor\":\"white\",\"gridwidth\":2},\"yaxis\":{\"backgroundcolor\":\"#E5ECF6\",\"gridcolor\":\"white\",\"linecolor\":\"white\",\"showbackground\":true,\"ticks\":\"\",\"zerolinecolor\":\"white\",\"gridwidth\":2},\"zaxis\":{\"backgroundcolor\":\"#E5ECF6\",\"gridcolor\":\"white\",\"linecolor\":\"white\",\"showbackground\":true,\"ticks\":\"\",\"zerolinecolor\":\"white\",\"gridwidth\":2}},\"shapedefaults\":{\"line\":{\"color\":\"#2a3f5f\"}},\"annotationdefaults\":{\"arrowcolor\":\"#2a3f5f\",\"arrowhead\":0,\"arrowwidth\":1},\"geo\":{\"bgcolor\":\"white\",\"landcolor\":\"#E5ECF6\",\"subunitcolor\":\"white\",\"showland\":true,\"showlakes\":true,\"lakecolor\":\"white\"},\"title\":{\"x\":0.05},\"mapbox\":{\"style\":\"light\"}}},\"geo\":{\"domain\":{\"x\":[0.0,1.0],\"y\":[0.0,1.0]},\"center\":{}},\"coloraxis\":{\"colorbar\":{\"title\":{\"text\":\"Unicorns\"}},\"colorscale\":[[0.0,\"rgb(254, 245, 244)\"],[0.09090909090909091,\"rgb(222, 224, 210)\"],[0.18181818181818182,\"rgb(189, 206, 181)\"],[0.2727272727272727,\"rgb(153, 189, 156)\"],[0.36363636363636365,\"rgb(110, 173, 138)\"],[0.45454545454545453,\"rgb(65, 157, 129)\"],[0.5454545454545454,\"rgb(25, 137, 125)\"],[0.6363636363636364,\"rgb(18, 116, 117)\"],[0.7272727272727273,\"rgb(25, 94, 106)\"],[0.8181818181818182,\"rgb(28, 72, 93)\"],[0.9090909090909091,\"rgb(25, 51, 80)\"],[1.0,\"rgb(20, 29, 67)\"]],\"cmin\":0,\"cmax\":300},\"legend\":{\"tracegroupgap\":0},\"title\":{\"text\":\"World Map of Unicorns\"}},                        {\"responsive\": true}                    ).then(function(){\n",
       "                            \n",
       "var gd = document.getElementById('b20dfb9a-60f1-443c-b780-e3b79d02fcc5');\n",
       "var x = new MutationObserver(function (mutations, observer) {{\n",
       "        var display = window.getComputedStyle(gd).display;\n",
       "        if (!display || display === 'none') {{\n",
       "            console.log([gd, 'removed!']);\n",
       "            Plotly.purge(gd);\n",
       "            observer.disconnect();\n",
       "        }}\n",
       "}});\n",
       "\n",
       "// Listen for the removal of the full notebook cells\n",
       "var notebookContainer = gd.closest('#notebook-container');\n",
       "if (notebookContainer) {{\n",
       "    x.observe(notebookContainer, {childList: true});\n",
       "}}\n",
       "\n",
       "// Listen for the clearing of the current output cell\n",
       "var outputEl = gd.closest('.output');\n",
       "if (outputEl) {{\n",
       "    x.observe(outputEl, {childList: true});\n",
       "}}\n",
       "\n",
       "                        })                };                });            </script>        </div>"
      ]
     },
     "metadata": {},
     "output_type": "display_data"
    }
   ],
   "source": [
    "fig = px.choropleth(df_grouped, locations=\"Country\", locationmode=\"country names\", color=\"Unicorns\", hover_name=\"Country\", color_continuous_scale=px.colors.sequential.tempo, range_color=(0, 300), title = 'World Map of Unicorns')\n",
    "fig.show()"
   ]
  },
  {
   "cell_type": "code",
   "execution_count": 59,
   "id": "143ef7f8",
   "metadata": {},
   "outputs": [
    {
     "data": {
      "text/plain": [
       "City\n",
       "Aarhus        1\n",
       "Aberdeen      1\n",
       "Alameda       1\n",
       "Alexandria    1\n",
       "Altrincham    1\n",
       "dtype: int64"
      ]
     },
     "execution_count": 59,
     "metadata": {},
     "output_type": "execute_result"
    }
   ],
   "source": [
    "# Group by country\n",
    "grouped_city = df.groupby(\"City\")\n",
    "\n",
    "# View the number of unicorns per country\n",
    "grouped_city.size().head()"
   ]
  },
  {
   "cell_type": "code",
   "execution_count": 279,
   "id": "0d566df9",
   "metadata": {
    "scrolled": true
   },
   "outputs": [
    {
     "data": {
      "application/vnd.jupyter.widget-view+json": {
       "model_id": "cdde8771047a4c099f7ec8e5ee6e2cee",
       "version_major": 2,
       "version_minor": 0
      },
      "text/plain": [
       "QgridWidget(grid_options={'fullWidthRows': True, 'syncColumnCellResize': True, 'forceFitColumns': False, 'defa…"
      ]
     },
     "metadata": {},
     "output_type": "display_data"
    }
   ],
   "source": [
    "# Show the cities with the highest number of unicorns\n",
    "\n",
    "df_grouped_city = grouped_city.size().reset_index(name=\"Unicorns\")\n",
    "df_grouped_city = df_grouped_city.sort_values(by=\"Unicorns\", ascending=False)\n",
    "qgrid.show_grid(df_grouped_city)"
   ]
  },
  {
   "cell_type": "code",
   "execution_count": 61,
   "id": "681c0547",
   "metadata": {},
   "outputs": [
    {
     "data": {
      "application/vnd.jupyter.widget-view+json": {
       "model_id": "0a7285ce7c3f4530beeab781594bec14",
       "version_major": 2,
       "version_minor": 0
      },
      "text/plain": [
       "QgridWidget(grid_options={'fullWidthRows': True, 'syncColumnCellResize': True, 'forceFitColumns': False, 'defa…"
      ]
     },
     "metadata": {},
     "output_type": "display_data"
    }
   ],
   "source": [
    "# Create a new dataframe with only top 10 countries\n",
    "df_top10_cities = df_grouped_city.head(10)\n",
    "\n",
    "# View the new dataframe\n",
    "qgrid.show_grid(df_top10_cities)"
   ]
  },
  {
   "cell_type": "code",
   "execution_count": 280,
   "id": "c6fb9a4f",
   "metadata": {
    "scrolled": true
   },
   "outputs": [
    {
     "data": {
      "application/vnd.plotly.v1+json": {
       "config": {
        "plotlyServerURL": "https://plot.ly"
       },
       "data": [
        {
         "alignmentgroup": "True",
         "hovertemplate": "<b>%{hovertext}</b><br><br>City=%{x}<br>Unicorns=%{marker.color}<extra></extra>",
         "hovertext": [
          "San Francisco",
          "New York",
          "Beijing",
          "Shanghai",
          "London",
          "Bengaluru",
          "Boston",
          "Palo Alto",
          "Shenzhen",
          "Paris"
         ],
         "legendgroup": "",
         "marker": {
          "color": [
           171,
           119,
           62,
           42,
           42,
           31,
           21,
           21,
           20,
           20
          ],
          "coloraxis": "coloraxis",
          "pattern": {
           "shape": ""
          }
         },
         "name": "",
         "offsetgroup": "",
         "orientation": "v",
         "showlegend": false,
         "textposition": "auto",
         "type": "bar",
         "x": [
          "San Francisco",
          "New York",
          "Beijing",
          "Shanghai",
          "London",
          "Bengaluru",
          "Boston",
          "Palo Alto",
          "Shenzhen",
          "Paris"
         ],
         "xaxis": "x",
         "y": [
          171,
          119,
          62,
          42,
          42,
          31,
          21,
          21,
          20,
          20
         ],
         "yaxis": "y"
        }
       ],
       "layout": {
        "barmode": "relative",
        "coloraxis": {
         "colorbar": {
          "title": {
           "text": "Unicorns"
          }
         },
         "colorscale": [
          [
           0,
           "rgb(253, 237, 176)"
          ],
          [
           0.09090909090909091,
           "rgb(250, 205, 145)"
          ],
          [
           0.18181818181818182,
           "rgb(246, 173, 119)"
          ],
          [
           0.2727272727272727,
           "rgb(240, 142, 98)"
          ],
          [
           0.36363636363636365,
           "rgb(231, 109, 84)"
          ],
          [
           0.45454545454545453,
           "rgb(216, 80, 83)"
          ],
          [
           0.5454545454545454,
           "rgb(195, 56, 90)"
          ],
          [
           0.6363636363636364,
           "rgb(168, 40, 96)"
          ],
          [
           0.7272727272727273,
           "rgb(138, 29, 99)"
          ],
          [
           0.8181818181818182,
           "rgb(107, 24, 93)"
          ],
          [
           0.9090909090909091,
           "rgb(76, 21, 80)"
          ],
          [
           1,
           "rgb(47, 15, 61)"
          ]
         ]
        },
        "legend": {
         "tracegroupgap": 0
        },
        "template": {
         "data": {
          "bar": [
           {
            "error_x": {
             "color": "#2a3f5f"
            },
            "error_y": {
             "color": "#2a3f5f"
            },
            "marker": {
             "line": {
              "color": "#E5ECF6",
              "width": 0.5
             },
             "pattern": {
              "fillmode": "overlay",
              "size": 10,
              "solidity": 0.2
             }
            },
            "type": "bar"
           }
          ],
          "barpolar": [
           {
            "marker": {
             "line": {
              "color": "#E5ECF6",
              "width": 0.5
             },
             "pattern": {
              "fillmode": "overlay",
              "size": 10,
              "solidity": 0.2
             }
            },
            "type": "barpolar"
           }
          ],
          "carpet": [
           {
            "aaxis": {
             "endlinecolor": "#2a3f5f",
             "gridcolor": "white",
             "linecolor": "white",
             "minorgridcolor": "white",
             "startlinecolor": "#2a3f5f"
            },
            "baxis": {
             "endlinecolor": "#2a3f5f",
             "gridcolor": "white",
             "linecolor": "white",
             "minorgridcolor": "white",
             "startlinecolor": "#2a3f5f"
            },
            "type": "carpet"
           }
          ],
          "choropleth": [
           {
            "colorbar": {
             "outlinewidth": 0,
             "ticks": ""
            },
            "type": "choropleth"
           }
          ],
          "contour": [
           {
            "colorbar": {
             "outlinewidth": 0,
             "ticks": ""
            },
            "colorscale": [
             [
              0,
              "#0d0887"
             ],
             [
              0.1111111111111111,
              "#46039f"
             ],
             [
              0.2222222222222222,
              "#7201a8"
             ],
             [
              0.3333333333333333,
              "#9c179e"
             ],
             [
              0.4444444444444444,
              "#bd3786"
             ],
             [
              0.5555555555555556,
              "#d8576b"
             ],
             [
              0.6666666666666666,
              "#ed7953"
             ],
             [
              0.7777777777777778,
              "#fb9f3a"
             ],
             [
              0.8888888888888888,
              "#fdca26"
             ],
             [
              1,
              "#f0f921"
             ]
            ],
            "type": "contour"
           }
          ],
          "contourcarpet": [
           {
            "colorbar": {
             "outlinewidth": 0,
             "ticks": ""
            },
            "type": "contourcarpet"
           }
          ],
          "heatmap": [
           {
            "colorbar": {
             "outlinewidth": 0,
             "ticks": ""
            },
            "colorscale": [
             [
              0,
              "#0d0887"
             ],
             [
              0.1111111111111111,
              "#46039f"
             ],
             [
              0.2222222222222222,
              "#7201a8"
             ],
             [
              0.3333333333333333,
              "#9c179e"
             ],
             [
              0.4444444444444444,
              "#bd3786"
             ],
             [
              0.5555555555555556,
              "#d8576b"
             ],
             [
              0.6666666666666666,
              "#ed7953"
             ],
             [
              0.7777777777777778,
              "#fb9f3a"
             ],
             [
              0.8888888888888888,
              "#fdca26"
             ],
             [
              1,
              "#f0f921"
             ]
            ],
            "type": "heatmap"
           }
          ],
          "heatmapgl": [
           {
            "colorbar": {
             "outlinewidth": 0,
             "ticks": ""
            },
            "colorscale": [
             [
              0,
              "#0d0887"
             ],
             [
              0.1111111111111111,
              "#46039f"
             ],
             [
              0.2222222222222222,
              "#7201a8"
             ],
             [
              0.3333333333333333,
              "#9c179e"
             ],
             [
              0.4444444444444444,
              "#bd3786"
             ],
             [
              0.5555555555555556,
              "#d8576b"
             ],
             [
              0.6666666666666666,
              "#ed7953"
             ],
             [
              0.7777777777777778,
              "#fb9f3a"
             ],
             [
              0.8888888888888888,
              "#fdca26"
             ],
             [
              1,
              "#f0f921"
             ]
            ],
            "type": "heatmapgl"
           }
          ],
          "histogram": [
           {
            "marker": {
             "pattern": {
              "fillmode": "overlay",
              "size": 10,
              "solidity": 0.2
             }
            },
            "type": "histogram"
           }
          ],
          "histogram2d": [
           {
            "colorbar": {
             "outlinewidth": 0,
             "ticks": ""
            },
            "colorscale": [
             [
              0,
              "#0d0887"
             ],
             [
              0.1111111111111111,
              "#46039f"
             ],
             [
              0.2222222222222222,
              "#7201a8"
             ],
             [
              0.3333333333333333,
              "#9c179e"
             ],
             [
              0.4444444444444444,
              "#bd3786"
             ],
             [
              0.5555555555555556,
              "#d8576b"
             ],
             [
              0.6666666666666666,
              "#ed7953"
             ],
             [
              0.7777777777777778,
              "#fb9f3a"
             ],
             [
              0.8888888888888888,
              "#fdca26"
             ],
             [
              1,
              "#f0f921"
             ]
            ],
            "type": "histogram2d"
           }
          ],
          "histogram2dcontour": [
           {
            "colorbar": {
             "outlinewidth": 0,
             "ticks": ""
            },
            "colorscale": [
             [
              0,
              "#0d0887"
             ],
             [
              0.1111111111111111,
              "#46039f"
             ],
             [
              0.2222222222222222,
              "#7201a8"
             ],
             [
              0.3333333333333333,
              "#9c179e"
             ],
             [
              0.4444444444444444,
              "#bd3786"
             ],
             [
              0.5555555555555556,
              "#d8576b"
             ],
             [
              0.6666666666666666,
              "#ed7953"
             ],
             [
              0.7777777777777778,
              "#fb9f3a"
             ],
             [
              0.8888888888888888,
              "#fdca26"
             ],
             [
              1,
              "#f0f921"
             ]
            ],
            "type": "histogram2dcontour"
           }
          ],
          "mesh3d": [
           {
            "colorbar": {
             "outlinewidth": 0,
             "ticks": ""
            },
            "type": "mesh3d"
           }
          ],
          "parcoords": [
           {
            "line": {
             "colorbar": {
              "outlinewidth": 0,
              "ticks": ""
             }
            },
            "type": "parcoords"
           }
          ],
          "pie": [
           {
            "automargin": true,
            "type": "pie"
           }
          ],
          "scatter": [
           {
            "fillpattern": {
             "fillmode": "overlay",
             "size": 10,
             "solidity": 0.2
            },
            "type": "scatter"
           }
          ],
          "scatter3d": [
           {
            "line": {
             "colorbar": {
              "outlinewidth": 0,
              "ticks": ""
             }
            },
            "marker": {
             "colorbar": {
              "outlinewidth": 0,
              "ticks": ""
             }
            },
            "type": "scatter3d"
           }
          ],
          "scattercarpet": [
           {
            "marker": {
             "colorbar": {
              "outlinewidth": 0,
              "ticks": ""
             }
            },
            "type": "scattercarpet"
           }
          ],
          "scattergeo": [
           {
            "marker": {
             "colorbar": {
              "outlinewidth": 0,
              "ticks": ""
             }
            },
            "type": "scattergeo"
           }
          ],
          "scattergl": [
           {
            "marker": {
             "colorbar": {
              "outlinewidth": 0,
              "ticks": ""
             }
            },
            "type": "scattergl"
           }
          ],
          "scattermapbox": [
           {
            "marker": {
             "colorbar": {
              "outlinewidth": 0,
              "ticks": ""
             }
            },
            "type": "scattermapbox"
           }
          ],
          "scatterpolar": [
           {
            "marker": {
             "colorbar": {
              "outlinewidth": 0,
              "ticks": ""
             }
            },
            "type": "scatterpolar"
           }
          ],
          "scatterpolargl": [
           {
            "marker": {
             "colorbar": {
              "outlinewidth": 0,
              "ticks": ""
             }
            },
            "type": "scatterpolargl"
           }
          ],
          "scatterternary": [
           {
            "marker": {
             "colorbar": {
              "outlinewidth": 0,
              "ticks": ""
             }
            },
            "type": "scatterternary"
           }
          ],
          "surface": [
           {
            "colorbar": {
             "outlinewidth": 0,
             "ticks": ""
            },
            "colorscale": [
             [
              0,
              "#0d0887"
             ],
             [
              0.1111111111111111,
              "#46039f"
             ],
             [
              0.2222222222222222,
              "#7201a8"
             ],
             [
              0.3333333333333333,
              "#9c179e"
             ],
             [
              0.4444444444444444,
              "#bd3786"
             ],
             [
              0.5555555555555556,
              "#d8576b"
             ],
             [
              0.6666666666666666,
              "#ed7953"
             ],
             [
              0.7777777777777778,
              "#fb9f3a"
             ],
             [
              0.8888888888888888,
              "#fdca26"
             ],
             [
              1,
              "#f0f921"
             ]
            ],
            "type": "surface"
           }
          ],
          "table": [
           {
            "cells": {
             "fill": {
              "color": "#EBF0F8"
             },
             "line": {
              "color": "white"
             }
            },
            "header": {
             "fill": {
              "color": "#C8D4E3"
             },
             "line": {
              "color": "white"
             }
            },
            "type": "table"
           }
          ]
         },
         "layout": {
          "annotationdefaults": {
           "arrowcolor": "#2a3f5f",
           "arrowhead": 0,
           "arrowwidth": 1
          },
          "autotypenumbers": "strict",
          "coloraxis": {
           "colorbar": {
            "outlinewidth": 0,
            "ticks": ""
           }
          },
          "colorscale": {
           "diverging": [
            [
             0,
             "#8e0152"
            ],
            [
             0.1,
             "#c51b7d"
            ],
            [
             0.2,
             "#de77ae"
            ],
            [
             0.3,
             "#f1b6da"
            ],
            [
             0.4,
             "#fde0ef"
            ],
            [
             0.5,
             "#f7f7f7"
            ],
            [
             0.6,
             "#e6f5d0"
            ],
            [
             0.7,
             "#b8e186"
            ],
            [
             0.8,
             "#7fbc41"
            ],
            [
             0.9,
             "#4d9221"
            ],
            [
             1,
             "#276419"
            ]
           ],
           "sequential": [
            [
             0,
             "#0d0887"
            ],
            [
             0.1111111111111111,
             "#46039f"
            ],
            [
             0.2222222222222222,
             "#7201a8"
            ],
            [
             0.3333333333333333,
             "#9c179e"
            ],
            [
             0.4444444444444444,
             "#bd3786"
            ],
            [
             0.5555555555555556,
             "#d8576b"
            ],
            [
             0.6666666666666666,
             "#ed7953"
            ],
            [
             0.7777777777777778,
             "#fb9f3a"
            ],
            [
             0.8888888888888888,
             "#fdca26"
            ],
            [
             1,
             "#f0f921"
            ]
           ],
           "sequentialminus": [
            [
             0,
             "#0d0887"
            ],
            [
             0.1111111111111111,
             "#46039f"
            ],
            [
             0.2222222222222222,
             "#7201a8"
            ],
            [
             0.3333333333333333,
             "#9c179e"
            ],
            [
             0.4444444444444444,
             "#bd3786"
            ],
            [
             0.5555555555555556,
             "#d8576b"
            ],
            [
             0.6666666666666666,
             "#ed7953"
            ],
            [
             0.7777777777777778,
             "#fb9f3a"
            ],
            [
             0.8888888888888888,
             "#fdca26"
            ],
            [
             1,
             "#f0f921"
            ]
           ]
          },
          "colorway": [
           "#636efa",
           "#EF553B",
           "#00cc96",
           "#ab63fa",
           "#FFA15A",
           "#19d3f3",
           "#FF6692",
           "#B6E880",
           "#FF97FF",
           "#FECB52"
          ],
          "font": {
           "color": "#2a3f5f"
          },
          "geo": {
           "bgcolor": "white",
           "lakecolor": "white",
           "landcolor": "#E5ECF6",
           "showlakes": true,
           "showland": true,
           "subunitcolor": "white"
          },
          "hoverlabel": {
           "align": "left"
          },
          "hovermode": "closest",
          "mapbox": {
           "style": "light"
          },
          "paper_bgcolor": "white",
          "plot_bgcolor": "#E5ECF6",
          "polar": {
           "angularaxis": {
            "gridcolor": "white",
            "linecolor": "white",
            "ticks": ""
           },
           "bgcolor": "#E5ECF6",
           "radialaxis": {
            "gridcolor": "white",
            "linecolor": "white",
            "ticks": ""
           }
          },
          "scene": {
           "xaxis": {
            "backgroundcolor": "#E5ECF6",
            "gridcolor": "white",
            "gridwidth": 2,
            "linecolor": "white",
            "showbackground": true,
            "ticks": "",
            "zerolinecolor": "white"
           },
           "yaxis": {
            "backgroundcolor": "#E5ECF6",
            "gridcolor": "white",
            "gridwidth": 2,
            "linecolor": "white",
            "showbackground": true,
            "ticks": "",
            "zerolinecolor": "white"
           },
           "zaxis": {
            "backgroundcolor": "#E5ECF6",
            "gridcolor": "white",
            "gridwidth": 2,
            "linecolor": "white",
            "showbackground": true,
            "ticks": "",
            "zerolinecolor": "white"
           }
          },
          "shapedefaults": {
           "line": {
            "color": "#2a3f5f"
           }
          },
          "ternary": {
           "aaxis": {
            "gridcolor": "white",
            "linecolor": "white",
            "ticks": ""
           },
           "baxis": {
            "gridcolor": "white",
            "linecolor": "white",
            "ticks": ""
           },
           "bgcolor": "#E5ECF6",
           "caxis": {
            "gridcolor": "white",
            "linecolor": "white",
            "ticks": ""
           }
          },
          "title": {
           "x": 0.05
          },
          "xaxis": {
           "automargin": true,
           "gridcolor": "white",
           "linecolor": "white",
           "ticks": "",
           "title": {
            "standoff": 15
           },
           "zerolinecolor": "white",
           "zerolinewidth": 2
          },
          "yaxis": {
           "automargin": true,
           "gridcolor": "white",
           "linecolor": "white",
           "ticks": "",
           "title": {
            "standoff": 15
           },
           "zerolinecolor": "white",
           "zerolinewidth": 2
          }
         }
        },
        "title": {
         "text": "Top 10 Cities by Number of Unicorns"
        },
        "xaxis": {
         "anchor": "y",
         "domain": [
          0,
          1
         ],
         "title": {
          "text": "City"
         }
        },
        "yaxis": {
         "anchor": "x",
         "domain": [
          0,
          1
         ],
         "title": {
          "text": "Unicorns"
         }
        }
       }
      },
      "text/html": [
       "<div>                            <div id=\"4690d662-620b-47b3-8297-a4faa6d504ee\" class=\"plotly-graph-div\" style=\"height:525px; width:100%;\"></div>            <script type=\"text/javascript\">                require([\"plotly\"], function(Plotly) {                    window.PLOTLYENV=window.PLOTLYENV || {};                                    if (document.getElementById(\"4690d662-620b-47b3-8297-a4faa6d504ee\")) {                    Plotly.newPlot(                        \"4690d662-620b-47b3-8297-a4faa6d504ee\",                        [{\"alignmentgroup\":\"True\",\"hovertemplate\":\"<b>%{hovertext}</b><br><br>City=%{x}<br>Unicorns=%{marker.color}<extra></extra>\",\"hovertext\":[\"San Francisco\",\"New York\",\"Beijing\",\"Shanghai\",\"London\",\"Bengaluru\",\"Boston\",\"Palo Alto\",\"Shenzhen\",\"Paris\"],\"legendgroup\":\"\",\"marker\":{\"color\":[171,119,62,42,42,31,21,21,20,20],\"coloraxis\":\"coloraxis\",\"pattern\":{\"shape\":\"\"}},\"name\":\"\",\"offsetgroup\":\"\",\"orientation\":\"v\",\"showlegend\":false,\"textposition\":\"auto\",\"x\":[\"San Francisco\",\"New York\",\"Beijing\",\"Shanghai\",\"London\",\"Bengaluru\",\"Boston\",\"Palo Alto\",\"Shenzhen\",\"Paris\"],\"xaxis\":\"x\",\"y\":[171,119,62,42,42,31,21,21,20,20],\"yaxis\":\"y\",\"type\":\"bar\"}],                        {\"template\":{\"data\":{\"histogram2dcontour\":[{\"type\":\"histogram2dcontour\",\"colorbar\":{\"outlinewidth\":0,\"ticks\":\"\"},\"colorscale\":[[0.0,\"#0d0887\"],[0.1111111111111111,\"#46039f\"],[0.2222222222222222,\"#7201a8\"],[0.3333333333333333,\"#9c179e\"],[0.4444444444444444,\"#bd3786\"],[0.5555555555555556,\"#d8576b\"],[0.6666666666666666,\"#ed7953\"],[0.7777777777777778,\"#fb9f3a\"],[0.8888888888888888,\"#fdca26\"],[1.0,\"#f0f921\"]]}],\"choropleth\":[{\"type\":\"choropleth\",\"colorbar\":{\"outlinewidth\":0,\"ticks\":\"\"}}],\"histogram2d\":[{\"type\":\"histogram2d\",\"colorbar\":{\"outlinewidth\":0,\"ticks\":\"\"},\"colorscale\":[[0.0,\"#0d0887\"],[0.1111111111111111,\"#46039f\"],[0.2222222222222222,\"#7201a8\"],[0.3333333333333333,\"#9c179e\"],[0.4444444444444444,\"#bd3786\"],[0.5555555555555556,\"#d8576b\"],[0.6666666666666666,\"#ed7953\"],[0.7777777777777778,\"#fb9f3a\"],[0.8888888888888888,\"#fdca26\"],[1.0,\"#f0f921\"]]}],\"heatmap\":[{\"type\":\"heatmap\",\"colorbar\":{\"outlinewidth\":0,\"ticks\":\"\"},\"colorscale\":[[0.0,\"#0d0887\"],[0.1111111111111111,\"#46039f\"],[0.2222222222222222,\"#7201a8\"],[0.3333333333333333,\"#9c179e\"],[0.4444444444444444,\"#bd3786\"],[0.5555555555555556,\"#d8576b\"],[0.6666666666666666,\"#ed7953\"],[0.7777777777777778,\"#fb9f3a\"],[0.8888888888888888,\"#fdca26\"],[1.0,\"#f0f921\"]]}],\"heatmapgl\":[{\"type\":\"heatmapgl\",\"colorbar\":{\"outlinewidth\":0,\"ticks\":\"\"},\"colorscale\":[[0.0,\"#0d0887\"],[0.1111111111111111,\"#46039f\"],[0.2222222222222222,\"#7201a8\"],[0.3333333333333333,\"#9c179e\"],[0.4444444444444444,\"#bd3786\"],[0.5555555555555556,\"#d8576b\"],[0.6666666666666666,\"#ed7953\"],[0.7777777777777778,\"#fb9f3a\"],[0.8888888888888888,\"#fdca26\"],[1.0,\"#f0f921\"]]}],\"contourcarpet\":[{\"type\":\"contourcarpet\",\"colorbar\":{\"outlinewidth\":0,\"ticks\":\"\"}}],\"contour\":[{\"type\":\"contour\",\"colorbar\":{\"outlinewidth\":0,\"ticks\":\"\"},\"colorscale\":[[0.0,\"#0d0887\"],[0.1111111111111111,\"#46039f\"],[0.2222222222222222,\"#7201a8\"],[0.3333333333333333,\"#9c179e\"],[0.4444444444444444,\"#bd3786\"],[0.5555555555555556,\"#d8576b\"],[0.6666666666666666,\"#ed7953\"],[0.7777777777777778,\"#fb9f3a\"],[0.8888888888888888,\"#fdca26\"],[1.0,\"#f0f921\"]]}],\"surface\":[{\"type\":\"surface\",\"colorbar\":{\"outlinewidth\":0,\"ticks\":\"\"},\"colorscale\":[[0.0,\"#0d0887\"],[0.1111111111111111,\"#46039f\"],[0.2222222222222222,\"#7201a8\"],[0.3333333333333333,\"#9c179e\"],[0.4444444444444444,\"#bd3786\"],[0.5555555555555556,\"#d8576b\"],[0.6666666666666666,\"#ed7953\"],[0.7777777777777778,\"#fb9f3a\"],[0.8888888888888888,\"#fdca26\"],[1.0,\"#f0f921\"]]}],\"mesh3d\":[{\"type\":\"mesh3d\",\"colorbar\":{\"outlinewidth\":0,\"ticks\":\"\"}}],\"scatter\":[{\"fillpattern\":{\"fillmode\":\"overlay\",\"size\":10,\"solidity\":0.2},\"type\":\"scatter\"}],\"parcoords\":[{\"type\":\"parcoords\",\"line\":{\"colorbar\":{\"outlinewidth\":0,\"ticks\":\"\"}}}],\"scatterpolargl\":[{\"type\":\"scatterpolargl\",\"marker\":{\"colorbar\":{\"outlinewidth\":0,\"ticks\":\"\"}}}],\"bar\":[{\"error_x\":{\"color\":\"#2a3f5f\"},\"error_y\":{\"color\":\"#2a3f5f\"},\"marker\":{\"line\":{\"color\":\"#E5ECF6\",\"width\":0.5},\"pattern\":{\"fillmode\":\"overlay\",\"size\":10,\"solidity\":0.2}},\"type\":\"bar\"}],\"scattergeo\":[{\"type\":\"scattergeo\",\"marker\":{\"colorbar\":{\"outlinewidth\":0,\"ticks\":\"\"}}}],\"scatterpolar\":[{\"type\":\"scatterpolar\",\"marker\":{\"colorbar\":{\"outlinewidth\":0,\"ticks\":\"\"}}}],\"histogram\":[{\"marker\":{\"pattern\":{\"fillmode\":\"overlay\",\"size\":10,\"solidity\":0.2}},\"type\":\"histogram\"}],\"scattergl\":[{\"type\":\"scattergl\",\"marker\":{\"colorbar\":{\"outlinewidth\":0,\"ticks\":\"\"}}}],\"scatter3d\":[{\"type\":\"scatter3d\",\"line\":{\"colorbar\":{\"outlinewidth\":0,\"ticks\":\"\"}},\"marker\":{\"colorbar\":{\"outlinewidth\":0,\"ticks\":\"\"}}}],\"scattermapbox\":[{\"type\":\"scattermapbox\",\"marker\":{\"colorbar\":{\"outlinewidth\":0,\"ticks\":\"\"}}}],\"scatterternary\":[{\"type\":\"scatterternary\",\"marker\":{\"colorbar\":{\"outlinewidth\":0,\"ticks\":\"\"}}}],\"scattercarpet\":[{\"type\":\"scattercarpet\",\"marker\":{\"colorbar\":{\"outlinewidth\":0,\"ticks\":\"\"}}}],\"carpet\":[{\"aaxis\":{\"endlinecolor\":\"#2a3f5f\",\"gridcolor\":\"white\",\"linecolor\":\"white\",\"minorgridcolor\":\"white\",\"startlinecolor\":\"#2a3f5f\"},\"baxis\":{\"endlinecolor\":\"#2a3f5f\",\"gridcolor\":\"white\",\"linecolor\":\"white\",\"minorgridcolor\":\"white\",\"startlinecolor\":\"#2a3f5f\"},\"type\":\"carpet\"}],\"table\":[{\"cells\":{\"fill\":{\"color\":\"#EBF0F8\"},\"line\":{\"color\":\"white\"}},\"header\":{\"fill\":{\"color\":\"#C8D4E3\"},\"line\":{\"color\":\"white\"}},\"type\":\"table\"}],\"barpolar\":[{\"marker\":{\"line\":{\"color\":\"#E5ECF6\",\"width\":0.5},\"pattern\":{\"fillmode\":\"overlay\",\"size\":10,\"solidity\":0.2}},\"type\":\"barpolar\"}],\"pie\":[{\"automargin\":true,\"type\":\"pie\"}]},\"layout\":{\"autotypenumbers\":\"strict\",\"colorway\":[\"#636efa\",\"#EF553B\",\"#00cc96\",\"#ab63fa\",\"#FFA15A\",\"#19d3f3\",\"#FF6692\",\"#B6E880\",\"#FF97FF\",\"#FECB52\"],\"font\":{\"color\":\"#2a3f5f\"},\"hovermode\":\"closest\",\"hoverlabel\":{\"align\":\"left\"},\"paper_bgcolor\":\"white\",\"plot_bgcolor\":\"#E5ECF6\",\"polar\":{\"bgcolor\":\"#E5ECF6\",\"angularaxis\":{\"gridcolor\":\"white\",\"linecolor\":\"white\",\"ticks\":\"\"},\"radialaxis\":{\"gridcolor\":\"white\",\"linecolor\":\"white\",\"ticks\":\"\"}},\"ternary\":{\"bgcolor\":\"#E5ECF6\",\"aaxis\":{\"gridcolor\":\"white\",\"linecolor\":\"white\",\"ticks\":\"\"},\"baxis\":{\"gridcolor\":\"white\",\"linecolor\":\"white\",\"ticks\":\"\"},\"caxis\":{\"gridcolor\":\"white\",\"linecolor\":\"white\",\"ticks\":\"\"}},\"coloraxis\":{\"colorbar\":{\"outlinewidth\":0,\"ticks\":\"\"}},\"colorscale\":{\"sequential\":[[0.0,\"#0d0887\"],[0.1111111111111111,\"#46039f\"],[0.2222222222222222,\"#7201a8\"],[0.3333333333333333,\"#9c179e\"],[0.4444444444444444,\"#bd3786\"],[0.5555555555555556,\"#d8576b\"],[0.6666666666666666,\"#ed7953\"],[0.7777777777777778,\"#fb9f3a\"],[0.8888888888888888,\"#fdca26\"],[1.0,\"#f0f921\"]],\"sequentialminus\":[[0.0,\"#0d0887\"],[0.1111111111111111,\"#46039f\"],[0.2222222222222222,\"#7201a8\"],[0.3333333333333333,\"#9c179e\"],[0.4444444444444444,\"#bd3786\"],[0.5555555555555556,\"#d8576b\"],[0.6666666666666666,\"#ed7953\"],[0.7777777777777778,\"#fb9f3a\"],[0.8888888888888888,\"#fdca26\"],[1.0,\"#f0f921\"]],\"diverging\":[[0,\"#8e0152\"],[0.1,\"#c51b7d\"],[0.2,\"#de77ae\"],[0.3,\"#f1b6da\"],[0.4,\"#fde0ef\"],[0.5,\"#f7f7f7\"],[0.6,\"#e6f5d0\"],[0.7,\"#b8e186\"],[0.8,\"#7fbc41\"],[0.9,\"#4d9221\"],[1,\"#276419\"]]},\"xaxis\":{\"gridcolor\":\"white\",\"linecolor\":\"white\",\"ticks\":\"\",\"title\":{\"standoff\":15},\"zerolinecolor\":\"white\",\"automargin\":true,\"zerolinewidth\":2},\"yaxis\":{\"gridcolor\":\"white\",\"linecolor\":\"white\",\"ticks\":\"\",\"title\":{\"standoff\":15},\"zerolinecolor\":\"white\",\"automargin\":true,\"zerolinewidth\":2},\"scene\":{\"xaxis\":{\"backgroundcolor\":\"#E5ECF6\",\"gridcolor\":\"white\",\"linecolor\":\"white\",\"showbackground\":true,\"ticks\":\"\",\"zerolinecolor\":\"white\",\"gridwidth\":2},\"yaxis\":{\"backgroundcolor\":\"#E5ECF6\",\"gridcolor\":\"white\",\"linecolor\":\"white\",\"showbackground\":true,\"ticks\":\"\",\"zerolinecolor\":\"white\",\"gridwidth\":2},\"zaxis\":{\"backgroundcolor\":\"#E5ECF6\",\"gridcolor\":\"white\",\"linecolor\":\"white\",\"showbackground\":true,\"ticks\":\"\",\"zerolinecolor\":\"white\",\"gridwidth\":2}},\"shapedefaults\":{\"line\":{\"color\":\"#2a3f5f\"}},\"annotationdefaults\":{\"arrowcolor\":\"#2a3f5f\",\"arrowhead\":0,\"arrowwidth\":1},\"geo\":{\"bgcolor\":\"white\",\"landcolor\":\"#E5ECF6\",\"subunitcolor\":\"white\",\"showland\":true,\"showlakes\":true,\"lakecolor\":\"white\"},\"title\":{\"x\":0.05},\"mapbox\":{\"style\":\"light\"}}},\"xaxis\":{\"anchor\":\"y\",\"domain\":[0.0,1.0],\"title\":{\"text\":\"City\"}},\"yaxis\":{\"anchor\":\"x\",\"domain\":[0.0,1.0],\"title\":{\"text\":\"Unicorns\"}},\"coloraxis\":{\"colorbar\":{\"title\":{\"text\":\"Unicorns\"}},\"colorscale\":[[0.0,\"rgb(253, 237, 176)\"],[0.09090909090909091,\"rgb(250, 205, 145)\"],[0.18181818181818182,\"rgb(246, 173, 119)\"],[0.2727272727272727,\"rgb(240, 142, 98)\"],[0.36363636363636365,\"rgb(231, 109, 84)\"],[0.45454545454545453,\"rgb(216, 80, 83)\"],[0.5454545454545454,\"rgb(195, 56, 90)\"],[0.6363636363636364,\"rgb(168, 40, 96)\"],[0.7272727272727273,\"rgb(138, 29, 99)\"],[0.8181818181818182,\"rgb(107, 24, 93)\"],[0.9090909090909091,\"rgb(76, 21, 80)\"],[1.0,\"rgb(47, 15, 61)\"]]},\"legend\":{\"tracegroupgap\":0},\"title\":{\"text\":\"Top 10 Cities by Number of Unicorns\"},\"barmode\":\"relative\"},                        {\"responsive\": true}                    ).then(function(){\n",
       "                            \n",
       "var gd = document.getElementById('4690d662-620b-47b3-8297-a4faa6d504ee');\n",
       "var x = new MutationObserver(function (mutations, observer) {{\n",
       "        var display = window.getComputedStyle(gd).display;\n",
       "        if (!display || display === 'none') {{\n",
       "            console.log([gd, 'removed!']);\n",
       "            Plotly.purge(gd);\n",
       "            observer.disconnect();\n",
       "        }}\n",
       "}});\n",
       "\n",
       "// Listen for the removal of the full notebook cells\n",
       "var notebookContainer = gd.closest('#notebook-container');\n",
       "if (notebookContainer) {{\n",
       "    x.observe(notebookContainer, {childList: true});\n",
       "}}\n",
       "\n",
       "// Listen for the clearing of the current output cell\n",
       "var outputEl = gd.closest('.output');\n",
       "if (outputEl) {{\n",
       "    x.observe(outputEl, {childList: true});\n",
       "}}\n",
       "\n",
       "                        })                };                });            </script>        </div>"
      ]
     },
     "metadata": {},
     "output_type": "display_data"
    }
   ],
   "source": [
    "fig = px.bar(df_top10_cities, x=\"City\", y=\"Unicorns\", color=\"Unicorns\", hover_name=\"City\", color_continuous_scale=px.colors.sequential.matter,title = 'Top 10 Cities by Number of Unicorns')\n",
    "fig.show()"
   ]
  },
  {
   "cell_type": "code",
   "execution_count": 65,
   "id": "ee248ded",
   "metadata": {},
   "outputs": [],
   "source": [
    "# df.to_excel(\"Unicornsdata.xlsx\", index=False)"
   ]
  },
  {
   "cell_type": "code",
   "execution_count": 284,
   "id": "2f90ba16",
   "metadata": {
    "scrolled": true
   },
   "outputs": [
    {
     "data": {
      "text/plain": [
       "['Company',\n",
       " 'Valuation ($B)',\n",
       " 'Date Joined',\n",
       " 'Country',\n",
       " 'City',\n",
       " 'Industry',\n",
       " 'Select Investors',\n",
       " 'Country Code',\n",
       " 'GDP, 2006',\n",
       " 'GDP, 2007',\n",
       " 'GDP, 2008',\n",
       " 'GDP, 2009',\n",
       " 'GDP, 2010',\n",
       " 'GDP, 2011',\n",
       " 'GDP, 2012',\n",
       " 'GDP, 2013',\n",
       " 'GDP, 2014',\n",
       " 'GDP, 2015',\n",
       " 'GDP, 2016',\n",
       " 'GDP, 2017',\n",
       " 'GDP, 2018',\n",
       " 'GDP, 2019',\n",
       " 'GDP, 2020',\n",
       " 'GDP, 2021',\n",
       " 'GDP, 2022',\n",
       " 'Lending interest rate, 2006',\n",
       " 'Lending interest rate, 2007',\n",
       " 'Lending interest rate, 2008',\n",
       " 'Lending interest rate, 2009',\n",
       " 'Lending interest rate, 2010',\n",
       " 'Lending interest rate, 2011',\n",
       " 'Lending interest rate, 2012',\n",
       " 'Lending interest rate, 2013',\n",
       " 'Lending interest rate, 2014',\n",
       " 'Lending interest rate, 2015',\n",
       " 'Lending interest rate, 2016',\n",
       " 'Lending interest rate, 2017',\n",
       " 'Lending interest rate, 2018',\n",
       " 'Lending interest rate, 2019',\n",
       " 'Lending interest rate, 2020',\n",
       " 'Lending interest rate, 2021',\n",
       " 'Lending interest rate, 2022',\n",
       " 'Inflation rate, 2006',\n",
       " 'Inflation rate, 2007',\n",
       " 'Inflation rate, 2008',\n",
       " 'Inflation rate, 2009',\n",
       " 'Inflation rate, 2010',\n",
       " 'Inflation rate, 2011',\n",
       " 'Inflation rate, 2012',\n",
       " 'Inflation rate, 2013',\n",
       " 'Inflation rate, 2014',\n",
       " 'Inflation rate, 2015',\n",
       " 'Inflation rate, 2016',\n",
       " 'Inflation rate, 2017',\n",
       " 'Inflation rate, 2018',\n",
       " 'Inflation rate, 2019',\n",
       " 'Inflation rate, 2020',\n",
       " 'Inflation rate, 2021',\n",
       " 'Inflation rate, 2022',\n",
       " 'Corporation tax, 2006',\n",
       " 'Corporation tax, 2007',\n",
       " 'Corporation tax, 2008',\n",
       " 'Corporation tax, 2009',\n",
       " 'Corporation tax, 2010',\n",
       " 'Corporation tax, 2011',\n",
       " 'Corporation tax, 2012',\n",
       " 'Corporation tax, 2013',\n",
       " 'Corporation tax, 2014',\n",
       " 'Corporation tax, 2015',\n",
       " 'Corporation tax, 2016',\n",
       " 'Corporation tax, 2017',\n",
       " 'Corporation tax, 2018',\n",
       " 'Corporation tax, 2019',\n",
       " 'Corporation tax, 2020',\n",
       " 'Corporation tax, 2021',\n",
       " 'Corporation tax, 2022',\n",
       " 'GDP, 2006 Growth',\n",
       " 'GDP, 2007 Growth',\n",
       " 'GDP, 2008 Growth',\n",
       " 'GDP, 2009 Growth',\n",
       " 'GDP, 2010 Growth',\n",
       " 'GDP, 2011 Growth',\n",
       " 'GDP, 2012 Growth',\n",
       " 'GDP, 2013 Growth',\n",
       " 'GDP, 2014 Growth',\n",
       " 'GDP, 2015 Growth',\n",
       " 'GDP, 2016 Growth',\n",
       " 'GDP, 2017 Growth',\n",
       " 'GDP, 2018 Growth',\n",
       " 'GDP, 2019 Growth',\n",
       " 'GDP, 2020 Growth',\n",
       " 'GDP, 2021 Growth',\n",
       " 'GDP, 2022 Growth',\n",
       " 'Mean_GDP_Growth',\n",
       " 'Variance_GDP_Growth',\n",
       " 'Mean_Lending_Rate',\n",
       " 'Mean_Inflation_Rate',\n",
       " 'Mean_Corporation_Tax_Rate']"
      ]
     },
     "execution_count": 284,
     "metadata": {},
     "output_type": "execute_result"
    }
   ],
   "source": [
    "df.columns.to_list()"
   ]
  },
  {
   "cell_type": "code",
   "execution_count": 289,
   "id": "750e2806",
   "metadata": {},
   "outputs": [
    {
     "name": "stdout",
     "output_type": "stream",
     "text": [
      "The proportion of decacorns to all non decacorns is 4.45%\n",
      "The proportion of hectocorns to all non hectocorns is 0.16%\n"
     ]
    }
   ],
   "source": [
    "# The proportion of Centicorns and Hectocorns\n",
    "from pywaffle import Waffle\n",
    "\n",
    "proportion_hectocorn = df['Hectocorn'].sum() / (len(df) - df['Hectocorn'].sum())\n",
    "proportion_decacorn = df['Decacorn'].sum() / (len(df) - df['Decacorn'].sum())\n",
    "\n",
    "\n",
    "print(f'The proportion of decacorns to all non decacorns is {proportion_decacorn * 100:.2f}%')\n",
    "print(f'The proportion of hectocorns to all non hectocorns is {proportion_hectocorn * 100:.2f}%')"
   ]
  },
  {
   "cell_type": "code",
   "execution_count": 290,
   "id": "da459233",
   "metadata": {},
   "outputs": [],
   "source": [
    "values_decacorn = [df['Decacorn'].sum() * 100, (len(df) - df['Decacorn'].sum()) * 100]\n",
    "labels_decacorn = ['Decacorn', 'Non Decacorn']\n",
    "values_hectocorn = [df['Hectocorn'].sum() * 100, (len(df) - df['Hectocorn'].sum()) * 100]\n",
    "labels_hectocorn = ['Hectocorn', 'Non Hectocorn']"
   ]
  },
  {
   "cell_type": "code",
   "execution_count": 283,
   "id": "ce3b0d60",
   "metadata": {},
   "outputs": [
    {
     "data": {
      "image/png": "[encoded data removed]",
      "text/plain": [
       "<Waffle size 640x480 with 1 Axes>"
      ]
     },
     "metadata": {},
     "output_type": "display_data"
    }
   ],
   "source": [
    "# Create a waffle chart for decacorns\n",
    "data = {'Decacorn': proportion_decacorn * 100, 'Non-Decacorn': (1 - proportion_decacorn) * 100}\n",
    "fig = plt.figure(\n",
    "    FigureClass=Waffle,\n",
    "    rows=10,\n",
    "    columns = 10,\n",
    "    values=data,\n",
    "    colors=[\"#232066\", \"#ADD8E6\"],\n",
    "    title={'label': 'Waffle Chart for Decacorns', 'loc': 'center'},\n",
    "    labels=[f\"{k} ({v:.2f}%)\" for k, v in data.items()],\n",
    "    legend={'loc': 'upper left', 'bbox_to_anchor': (1.1, 1)},\n",
    "    starting_location='SW',\n",
    "    block_arranging_style='snake'\n",
    ")\n",
    "# fig.set_facecolor('#EEEEEE')\n",
    "plt.show()"
   ]
  },
  {
   "cell_type": "code",
   "execution_count": 70,
   "id": "c7eace6d",
   "metadata": {},
   "outputs": [],
   "source": []
  },
  {
   "cell_type": "code",
   "execution_count": 291,
   "id": "7372d2e2",
   "metadata": {
    "scrolled": false
   },
   "outputs": [
    {
     "data": {
      "application/vnd.plotly.v1+json": {
       "config": {
        "plotlyServerURL": "https://plot.ly"
       },
       "data": [
        {
         "alignmentgroup": "True",
         "hovertemplate": "Year=%{x}<br>Count=%{y}<extra></extra>",
         "legendgroup": "",
         "marker": {
          "color": "#636efa",
          "pattern": {
           "shape": ""
          }
         },
         "name": "",
         "offsetgroup": "",
         "orientation": "v",
         "showlegend": false,
         "textposition": "auto",
         "type": "bar",
         "x": [
          2007,
          2011,
          2012,
          2013,
          2014,
          2015,
          2016,
          2017,
          2018,
          2019,
          2020,
          2021,
          2022,
          2023
         ],
         "xaxis": "x",
         "y": [
          1,
          1,
          4,
          3,
          12,
          33,
          20,
          42,
          95,
          97,
          104,
          516,
          261,
          32
         ],
         "yaxis": "y"
        },
        {
         "mode": "lines",
         "name": "Number of Unicorns",
         "type": "scatter",
         "x": [
          2007,
          2011,
          2012,
          2013,
          2014,
          2015,
          2016,
          2017,
          2018,
          2019,
          2020,
          2021,
          2022,
          2023
         ],
         "y": [
          1,
          1,
          4,
          3,
          12,
          33,
          20,
          42,
          95,
          97,
          104,
          516,
          261,
          32
         ]
        }
       ],
       "layout": {
        "barmode": "relative",
        "legend": {
         "tracegroupgap": 0
        },
        "margin": {
         "t": 60
        },
        "template": {
         "data": {
          "bar": [
           {
            "error_x": {
             "color": "#2a3f5f"
            },
            "error_y": {
             "color": "#2a3f5f"
            },
            "marker": {
             "line": {
              "color": "#E5ECF6",
              "width": 0.5
             },
             "pattern": {
              "fillmode": "overlay",
              "size": 10,
              "solidity": 0.2
             }
            },
            "type": "bar"
           }
          ],
          "barpolar": [
           {
            "marker": {
             "line": {
              "color": "#E5ECF6",
              "width": 0.5
             },
             "pattern": {
              "fillmode": "overlay",
              "size": 10,
              "solidity": 0.2
             }
            },
            "type": "barpolar"
           }
          ],
          "carpet": [
           {
            "aaxis": {
             "endlinecolor": "#2a3f5f",
             "gridcolor": "white",
             "linecolor": "white",
             "minorgridcolor": "white",
             "startlinecolor": "#2a3f5f"
            },
            "baxis": {
             "endlinecolor": "#2a3f5f",
             "gridcolor": "white",
             "linecolor": "white",
             "minorgridcolor": "white",
             "startlinecolor": "#2a3f5f"
            },
            "type": "carpet"
           }
          ],
          "choropleth": [
           {
            "colorbar": {
             "outlinewidth": 0,
             "ticks": ""
            },
            "type": "choropleth"
           }
          ],
          "contour": [
           {
            "colorbar": {
             "outlinewidth": 0,
             "ticks": ""
            },
            "colorscale": [
             [
              0,
              "#0d0887"
             ],
             [
              0.1111111111111111,
              "#46039f"
             ],
             [
              0.2222222222222222,
              "#7201a8"
             ],
             [
              0.3333333333333333,
              "#9c179e"
             ],
             [
              0.4444444444444444,
              "#bd3786"
             ],
             [
              0.5555555555555556,
              "#d8576b"
             ],
             [
              0.6666666666666666,
              "#ed7953"
             ],
             [
              0.7777777777777778,
              "#fb9f3a"
             ],
             [
              0.8888888888888888,
              "#fdca26"
             ],
             [
              1,
              "#f0f921"
             ]
            ],
            "type": "contour"
           }
          ],
          "contourcarpet": [
           {
            "colorbar": {
             "outlinewidth": 0,
             "ticks": ""
            },
            "type": "contourcarpet"
           }
          ],
          "heatmap": [
           {
            "colorbar": {
             "outlinewidth": 0,
             "ticks": ""
            },
            "colorscale": [
             [
              0,
              "#0d0887"
             ],
             [
              0.1111111111111111,
              "#46039f"
             ],
             [
              0.2222222222222222,
              "#7201a8"
             ],
             [
              0.3333333333333333,
              "#9c179e"
             ],
             [
              0.4444444444444444,
              "#bd3786"
             ],
             [
              0.5555555555555556,
              "#d8576b"
             ],
             [
              0.6666666666666666,
              "#ed7953"
             ],
             [
              0.7777777777777778,
              "#fb9f3a"
             ],
             [
              0.8888888888888888,
              "#fdca26"
             ],
             [
              1,
              "#f0f921"
             ]
            ],
            "type": "heatmap"
           }
          ],
          "heatmapgl": [
           {
            "colorbar": {
             "outlinewidth": 0,
             "ticks": ""
            },
            "colorscale": [
             [
              0,
              "#0d0887"
             ],
             [
              0.1111111111111111,
              "#46039f"
             ],
             [
              0.2222222222222222,
              "#7201a8"
             ],
             [
              0.3333333333333333,
              "#9c179e"
             ],
             [
              0.4444444444444444,
              "#bd3786"
             ],
             [
              0.5555555555555556,
              "#d8576b"
             ],
             [
              0.6666666666666666,
              "#ed7953"
             ],
             [
              0.7777777777777778,
              "#fb9f3a"
             ],
             [
              0.8888888888888888,
              "#fdca26"
             ],
             [
              1,
              "#f0f921"
             ]
            ],
            "type": "heatmapgl"
           }
          ],
          "histogram": [
           {
            "marker": {
             "pattern": {
              "fillmode": "overlay",
              "size": 10,
              "solidity": 0.2
             }
            },
            "type": "histogram"
           }
          ],
          "histogram2d": [
           {
            "colorbar": {
             "outlinewidth": 0,
             "ticks": ""
            },
            "colorscale": [
             [
              0,
              "#0d0887"
             ],
             [
              0.1111111111111111,
              "#46039f"
             ],
             [
              0.2222222222222222,
              "#7201a8"
             ],
             [
              0.3333333333333333,
              "#9c179e"
             ],
             [
              0.4444444444444444,
              "#bd3786"
             ],
             [
              0.5555555555555556,
              "#d8576b"
             ],
             [
              0.6666666666666666,
              "#ed7953"
             ],
             [
              0.7777777777777778,
              "#fb9f3a"
             ],
             [
              0.8888888888888888,
              "#fdca26"
             ],
             [
              1,
              "#f0f921"
             ]
            ],
            "type": "histogram2d"
           }
          ],
          "histogram2dcontour": [
           {
            "colorbar": {
             "outlinewidth": 0,
             "ticks": ""
            },
            "colorscale": [
             [
              0,
              "#0d0887"
             ],
             [
              0.1111111111111111,
              "#46039f"
             ],
             [
              0.2222222222222222,
              "#7201a8"
             ],
             [
              0.3333333333333333,
              "#9c179e"
             ],
             [
              0.4444444444444444,
              "#bd3786"
             ],
             [
              0.5555555555555556,
              "#d8576b"
             ],
             [
              0.6666666666666666,
              "#ed7953"
             ],
             [
              0.7777777777777778,
              "#fb9f3a"
             ],
             [
              0.8888888888888888,
              "#fdca26"
             ],
             [
              1,
              "#f0f921"
             ]
            ],
            "type": "histogram2dcontour"
           }
          ],
          "mesh3d": [
           {
            "colorbar": {
             "outlinewidth": 0,
             "ticks": ""
            },
            "type": "mesh3d"
           }
          ],
          "parcoords": [
           {
            "line": {
             "colorbar": {
              "outlinewidth": 0,
              "ticks": ""
             }
            },
            "type": "parcoords"
           }
          ],
          "pie": [
           {
            "automargin": true,
            "type": "pie"
           }
          ],
          "scatter": [
           {
            "fillpattern": {
             "fillmode": "overlay",
             "size": 10,
             "solidity": 0.2
            },
            "type": "scatter"
           }
          ],
          "scatter3d": [
           {
            "line": {
             "colorbar": {
              "outlinewidth": 0,
              "ticks": ""
             }
            },
            "marker": {
             "colorbar": {
              "outlinewidth": 0,
              "ticks": ""
             }
            },
            "type": "scatter3d"
           }
          ],
          "scattercarpet": [
           {
            "marker": {
             "colorbar": {
              "outlinewidth": 0,
              "ticks": ""
             }
            },
            "type": "scattercarpet"
           }
          ],
          "scattergeo": [
           {
            "marker": {
             "colorbar": {
              "outlinewidth": 0,
              "ticks": ""
             }
            },
            "type": "scattergeo"
           }
          ],
          "scattergl": [
           {
            "marker": {
             "colorbar": {
              "outlinewidth": 0,
              "ticks": ""
             }
            },
            "type": "scattergl"
           }
          ],
          "scattermapbox": [
           {
            "marker": {
             "colorbar": {
              "outlinewidth": 0,
              "ticks": ""
             }
            },
            "type": "scattermapbox"
           }
          ],
          "scatterpolar": [
           {
            "marker": {
             "colorbar": {
              "outlinewidth": 0,
              "ticks": ""
             }
            },
            "type": "scatterpolar"
           }
          ],
          "scatterpolargl": [
           {
            "marker": {
             "colorbar": {
              "outlinewidth": 0,
              "ticks": ""
             }
            },
            "type": "scatterpolargl"
           }
          ],
          "scatterternary": [
           {
            "marker": {
             "colorbar": {
              "outlinewidth": 0,
              "ticks": ""
             }
            },
            "type": "scatterternary"
           }
          ],
          "surface": [
           {
            "colorbar": {
             "outlinewidth": 0,
             "ticks": ""
            },
            "colorscale": [
             [
              0,
              "#0d0887"
             ],
             [
              0.1111111111111111,
              "#46039f"
             ],
             [
              0.2222222222222222,
              "#7201a8"
             ],
             [
              0.3333333333333333,
              "#9c179e"
             ],
             [
              0.4444444444444444,
              "#bd3786"
             ],
             [
              0.5555555555555556,
              "#d8576b"
             ],
             [
              0.6666666666666666,
              "#ed7953"
             ],
             [
              0.7777777777777778,
              "#fb9f3a"
             ],
             [
              0.8888888888888888,
              "#fdca26"
             ],
             [
              1,
              "#f0f921"
             ]
            ],
            "type": "surface"
           }
          ],
          "table": [
           {
            "cells": {
             "fill": {
              "color": "#EBF0F8"
             },
             "line": {
              "color": "white"
             }
            },
            "header": {
             "fill": {
              "color": "#C8D4E3"
             },
             "line": {
              "color": "white"
             }
            },
            "type": "table"
           }
          ]
         },
         "layout": {
          "annotationdefaults": {
           "arrowcolor": "#2a3f5f",
           "arrowhead": 0,
           "arrowwidth": 1
          },
          "autotypenumbers": "strict",
          "coloraxis": {
           "colorbar": {
            "outlinewidth": 0,
            "ticks": ""
           }
          },
          "colorscale": {
           "diverging": [
            [
             0,
             "#8e0152"
            ],
            [
             0.1,
             "#c51b7d"
            ],
            [
             0.2,
             "#de77ae"
            ],
            [
             0.3,
             "#f1b6da"
            ],
            [
             0.4,
             "#fde0ef"
            ],
            [
             0.5,
             "#f7f7f7"
            ],
            [
             0.6,
             "#e6f5d0"
            ],
            [
             0.7,
             "#b8e186"
            ],
            [
             0.8,
             "#7fbc41"
            ],
            [
             0.9,
             "#4d9221"
            ],
            [
             1,
             "#276419"
            ]
           ],
           "sequential": [
            [
             0,
             "#0d0887"
            ],
            [
             0.1111111111111111,
             "#46039f"
            ],
            [
             0.2222222222222222,
             "#7201a8"
            ],
            [
             0.3333333333333333,
             "#9c179e"
            ],
            [
             0.4444444444444444,
             "#bd3786"
            ],
            [
             0.5555555555555556,
             "#d8576b"
            ],
            [
             0.6666666666666666,
             "#ed7953"
            ],
            [
             0.7777777777777778,
             "#fb9f3a"
            ],
            [
             0.8888888888888888,
             "#fdca26"
            ],
            [
             1,
             "#f0f921"
            ]
           ],
           "sequentialminus": [
            [
             0,
             "#0d0887"
            ],
            [
             0.1111111111111111,
             "#46039f"
            ],
            [
             0.2222222222222222,
             "#7201a8"
            ],
            [
             0.3333333333333333,
             "#9c179e"
            ],
            [
             0.4444444444444444,
             "#bd3786"
            ],
            [
             0.5555555555555556,
             "#d8576b"
            ],
            [
             0.6666666666666666,
             "#ed7953"
            ],
            [
             0.7777777777777778,
             "#fb9f3a"
            ],
            [
             0.8888888888888888,
             "#fdca26"
            ],
            [
             1,
             "#f0f921"
            ]
           ]
          },
          "colorway": [
           "#636efa",
           "#EF553B",
           "#00cc96",
           "#ab63fa",
           "#FFA15A",
           "#19d3f3",
           "#FF6692",
           "#B6E880",
           "#FF97FF",
           "#FECB52"
          ],
          "font": {
           "color": "#2a3f5f"
          },
          "geo": {
           "bgcolor": "white",
           "lakecolor": "white",
           "landcolor": "#E5ECF6",
           "showlakes": true,
           "showland": true,
           "subunitcolor": "white"
          },
          "hoverlabel": {
           "align": "left"
          },
          "hovermode": "closest",
          "mapbox": {
           "style": "light"
          },
          "paper_bgcolor": "white",
          "plot_bgcolor": "#E5ECF6",
          "polar": {
           "angularaxis": {
            "gridcolor": "white",
            "linecolor": "white",
            "ticks": ""
           },
           "bgcolor": "#E5ECF6",
           "radialaxis": {
            "gridcolor": "white",
            "linecolor": "white",
            "ticks": ""
           }
          },
          "scene": {
           "xaxis": {
            "backgroundcolor": "#E5ECF6",
            "gridcolor": "white",
            "gridwidth": 2,
            "linecolor": "white",
            "showbackground": true,
            "ticks": "",
            "zerolinecolor": "white"
           },
           "yaxis": {
            "backgroundcolor": "#E5ECF6",
            "gridcolor": "white",
            "gridwidth": 2,
            "linecolor": "white",
            "showbackground": true,
            "ticks": "",
            "zerolinecolor": "white"
           },
           "zaxis": {
            "backgroundcolor": "#E5ECF6",
            "gridcolor": "white",
            "gridwidth": 2,
            "linecolor": "white",
            "showbackground": true,
            "ticks": "",
            "zerolinecolor": "white"
           }
          },
          "shapedefaults": {
           "line": {
            "color": "#2a3f5f"
           }
          },
          "ternary": {
           "aaxis": {
            "gridcolor": "white",
            "linecolor": "white",
            "ticks": ""
           },
           "baxis": {
            "gridcolor": "white",
            "linecolor": "white",
            "ticks": ""
           },
           "bgcolor": "#E5ECF6",
           "caxis": {
            "gridcolor": "white",
            "linecolor": "white",
            "ticks": ""
           }
          },
          "title": {
           "x": 0.05
          },
          "xaxis": {
           "automargin": true,
           "gridcolor": "white",
           "linecolor": "white",
           "ticks": "",
           "title": {
            "standoff": 15
           },
           "zerolinecolor": "white",
           "zerolinewidth": 2
          },
          "yaxis": {
           "automargin": true,
           "gridcolor": "white",
           "linecolor": "white",
           "ticks": "",
           "title": {
            "standoff": 15
           },
           "zerolinecolor": "white",
           "zerolinewidth": 2
          }
         }
        },
        "title": {
         "text": "Number of Unicorns by Year",
         "x": 0.5
        },
        "xaxis": {
         "anchor": "y",
         "domain": [
          0,
          1
         ],
         "dtick": 1,
         "title": {
          "text": "Year"
         }
        },
        "yaxis": {
         "anchor": "x",
         "domain": [
          0,
          1
         ],
         "title": {
          "text": "Count"
         }
        }
       }
      },
      "text/html": [
       "<div>                            <div id=\"7b119f52-46b5-45d4-a0f4-054ddc94698c\" class=\"plotly-graph-div\" style=\"height:525px; width:100%;\"></div>            <script type=\"text/javascript\">                require([\"plotly\"], function(Plotly) {                    window.PLOTLYENV=window.PLOTLYENV || {};                                    if (document.getElementById(\"7b119f52-46b5-45d4-a0f4-054ddc94698c\")) {                    Plotly.newPlot(                        \"7b119f52-46b5-45d4-a0f4-054ddc94698c\",                        [{\"alignmentgroup\":\"True\",\"hovertemplate\":\"Year=%{x}<br>Count=%{y}<extra></extra>\",\"legendgroup\":\"\",\"marker\":{\"color\":\"#636efa\",\"pattern\":{\"shape\":\"\"}},\"name\":\"\",\"offsetgroup\":\"\",\"orientation\":\"v\",\"showlegend\":false,\"textposition\":\"auto\",\"x\":[2007,2011,2012,2013,2014,2015,2016,2017,2018,2019,2020,2021,2022,2023],\"xaxis\":\"x\",\"y\":[1,1,4,3,12,33,20,42,95,97,104,516,261,32],\"yaxis\":\"y\",\"type\":\"bar\"},{\"mode\":\"lines\",\"name\":\"Number of Unicorns\",\"x\":[2007,2011,2012,2013,2014,2015,2016,2017,2018,2019,2020,2021,2022,2023],\"y\":[1,1,4,3,12,33,20,42,95,97,104,516,261,32],\"type\":\"scatter\"}],                        {\"template\":{\"data\":{\"histogram2dcontour\":[{\"type\":\"histogram2dcontour\",\"colorbar\":{\"outlinewidth\":0,\"ticks\":\"\"},\"colorscale\":[[0.0,\"#0d0887\"],[0.1111111111111111,\"#46039f\"],[0.2222222222222222,\"#7201a8\"],[0.3333333333333333,\"#9c179e\"],[0.4444444444444444,\"#bd3786\"],[0.5555555555555556,\"#d8576b\"],[0.6666666666666666,\"#ed7953\"],[0.7777777777777778,\"#fb9f3a\"],[0.8888888888888888,\"#fdca26\"],[1.0,\"#f0f921\"]]}],\"choropleth\":[{\"type\":\"choropleth\",\"colorbar\":{\"outlinewidth\":0,\"ticks\":\"\"}}],\"histogram2d\":[{\"type\":\"histogram2d\",\"colorbar\":{\"outlinewidth\":0,\"ticks\":\"\"},\"colorscale\":[[0.0,\"#0d0887\"],[0.1111111111111111,\"#46039f\"],[0.2222222222222222,\"#7201a8\"],[0.3333333333333333,\"#9c179e\"],[0.4444444444444444,\"#bd3786\"],[0.5555555555555556,\"#d8576b\"],[0.6666666666666666,\"#ed7953\"],[0.7777777777777778,\"#fb9f3a\"],[0.8888888888888888,\"#fdca26\"],[1.0,\"#f0f921\"]]}],\"heatmap\":[{\"type\":\"heatmap\",\"colorbar\":{\"outlinewidth\":0,\"ticks\":\"\"},\"colorscale\":[[0.0,\"#0d0887\"],[0.1111111111111111,\"#46039f\"],[0.2222222222222222,\"#7201a8\"],[0.3333333333333333,\"#9c179e\"],[0.4444444444444444,\"#bd3786\"],[0.5555555555555556,\"#d8576b\"],[0.6666666666666666,\"#ed7953\"],[0.7777777777777778,\"#fb9f3a\"],[0.8888888888888888,\"#fdca26\"],[1.0,\"#f0f921\"]]}],\"heatmapgl\":[{\"type\":\"heatmapgl\",\"colorbar\":{\"outlinewidth\":0,\"ticks\":\"\"},\"colorscale\":[[0.0,\"#0d0887\"],[0.1111111111111111,\"#46039f\"],[0.2222222222222222,\"#7201a8\"],[0.3333333333333333,\"#9c179e\"],[0.4444444444444444,\"#bd3786\"],[0.5555555555555556,\"#d8576b\"],[0.6666666666666666,\"#ed7953\"],[0.7777777777777778,\"#fb9f3a\"],[0.8888888888888888,\"#fdca26\"],[1.0,\"#f0f921\"]]}],\"contourcarpet\":[{\"type\":\"contourcarpet\",\"colorbar\":{\"outlinewidth\":0,\"ticks\":\"\"}}],\"contour\":[{\"type\":\"contour\",\"colorbar\":{\"outlinewidth\":0,\"ticks\":\"\"},\"colorscale\":[[0.0,\"#0d0887\"],[0.1111111111111111,\"#46039f\"],[0.2222222222222222,\"#7201a8\"],[0.3333333333333333,\"#9c179e\"],[0.4444444444444444,\"#bd3786\"],[0.5555555555555556,\"#d8576b\"],[0.6666666666666666,\"#ed7953\"],[0.7777777777777778,\"#fb9f3a\"],[0.8888888888888888,\"#fdca26\"],[1.0,\"#f0f921\"]]}],\"surface\":[{\"type\":\"surface\",\"colorbar\":{\"outlinewidth\":0,\"ticks\":\"\"},\"colorscale\":[[0.0,\"#0d0887\"],[0.1111111111111111,\"#46039f\"],[0.2222222222222222,\"#7201a8\"],[0.3333333333333333,\"#9c179e\"],[0.4444444444444444,\"#bd3786\"],[0.5555555555555556,\"#d8576b\"],[0.6666666666666666,\"#ed7953\"],[0.7777777777777778,\"#fb9f3a\"],[0.8888888888888888,\"#fdca26\"],[1.0,\"#f0f921\"]]}],\"mesh3d\":[{\"type\":\"mesh3d\",\"colorbar\":{\"outlinewidth\":0,\"ticks\":\"\"}}],\"scatter\":[{\"fillpattern\":{\"fillmode\":\"overlay\",\"size\":10,\"solidity\":0.2},\"type\":\"scatter\"}],\"parcoords\":[{\"type\":\"parcoords\",\"line\":{\"colorbar\":{\"outlinewidth\":0,\"ticks\":\"\"}}}],\"scatterpolargl\":[{\"type\":\"scatterpolargl\",\"marker\":{\"colorbar\":{\"outlinewidth\":0,\"ticks\":\"\"}}}],\"bar\":[{\"error_x\":{\"color\":\"#2a3f5f\"},\"error_y\":{\"color\":\"#2a3f5f\"},\"marker\":{\"line\":{\"color\":\"#E5ECF6\",\"width\":0.5},\"pattern\":{\"fillmode\":\"overlay\",\"size\":10,\"solidity\":0.2}},\"type\":\"bar\"}],\"scattergeo\":[{\"type\":\"scattergeo\",\"marker\":{\"colorbar\":{\"outlinewidth\":0,\"ticks\":\"\"}}}],\"scatterpolar\":[{\"type\":\"scatterpolar\",\"marker\":{\"colorbar\":{\"outlinewidth\":0,\"ticks\":\"\"}}}],\"histogram\":[{\"marker\":{\"pattern\":{\"fillmode\":\"overlay\",\"size\":10,\"solidity\":0.2}},\"type\":\"histogram\"}],\"scattergl\":[{\"type\":\"scattergl\",\"marker\":{\"colorbar\":{\"outlinewidth\":0,\"ticks\":\"\"}}}],\"scatter3d\":[{\"type\":\"scatter3d\",\"line\":{\"colorbar\":{\"outlinewidth\":0,\"ticks\":\"\"}},\"marker\":{\"colorbar\":{\"outlinewidth\":0,\"ticks\":\"\"}}}],\"scattermapbox\":[{\"type\":\"scattermapbox\",\"marker\":{\"colorbar\":{\"outlinewidth\":0,\"ticks\":\"\"}}}],\"scatterternary\":[{\"type\":\"scatterternary\",\"marker\":{\"colorbar\":{\"outlinewidth\":0,\"ticks\":\"\"}}}],\"scattercarpet\":[{\"type\":\"scattercarpet\",\"marker\":{\"colorbar\":{\"outlinewidth\":0,\"ticks\":\"\"}}}],\"carpet\":[{\"aaxis\":{\"endlinecolor\":\"#2a3f5f\",\"gridcolor\":\"white\",\"linecolor\":\"white\",\"minorgridcolor\":\"white\",\"startlinecolor\":\"#2a3f5f\"},\"baxis\":{\"endlinecolor\":\"#2a3f5f\",\"gridcolor\":\"white\",\"linecolor\":\"white\",\"minorgridcolor\":\"white\",\"startlinecolor\":\"#2a3f5f\"},\"type\":\"carpet\"}],\"table\":[{\"cells\":{\"fill\":{\"color\":\"#EBF0F8\"},\"line\":{\"color\":\"white\"}},\"header\":{\"fill\":{\"color\":\"#C8D4E3\"},\"line\":{\"color\":\"white\"}},\"type\":\"table\"}],\"barpolar\":[{\"marker\":{\"line\":{\"color\":\"#E5ECF6\",\"width\":0.5},\"pattern\":{\"fillmode\":\"overlay\",\"size\":10,\"solidity\":0.2}},\"type\":\"barpolar\"}],\"pie\":[{\"automargin\":true,\"type\":\"pie\"}]},\"layout\":{\"autotypenumbers\":\"strict\",\"colorway\":[\"#636efa\",\"#EF553B\",\"#00cc96\",\"#ab63fa\",\"#FFA15A\",\"#19d3f3\",\"#FF6692\",\"#B6E880\",\"#FF97FF\",\"#FECB52\"],\"font\":{\"color\":\"#2a3f5f\"},\"hovermode\":\"closest\",\"hoverlabel\":{\"align\":\"left\"},\"paper_bgcolor\":\"white\",\"plot_bgcolor\":\"#E5ECF6\",\"polar\":{\"bgcolor\":\"#E5ECF6\",\"angularaxis\":{\"gridcolor\":\"white\",\"linecolor\":\"white\",\"ticks\":\"\"},\"radialaxis\":{\"gridcolor\":\"white\",\"linecolor\":\"white\",\"ticks\":\"\"}},\"ternary\":{\"bgcolor\":\"#E5ECF6\",\"aaxis\":{\"gridcolor\":\"white\",\"linecolor\":\"white\",\"ticks\":\"\"},\"baxis\":{\"gridcolor\":\"white\",\"linecolor\":\"white\",\"ticks\":\"\"},\"caxis\":{\"gridcolor\":\"white\",\"linecolor\":\"white\",\"ticks\":\"\"}},\"coloraxis\":{\"colorbar\":{\"outlinewidth\":0,\"ticks\":\"\"}},\"colorscale\":{\"sequential\":[[0.0,\"#0d0887\"],[0.1111111111111111,\"#46039f\"],[0.2222222222222222,\"#7201a8\"],[0.3333333333333333,\"#9c179e\"],[0.4444444444444444,\"#bd3786\"],[0.5555555555555556,\"#d8576b\"],[0.6666666666666666,\"#ed7953\"],[0.7777777777777778,\"#fb9f3a\"],[0.8888888888888888,\"#fdca26\"],[1.0,\"#f0f921\"]],\"sequentialminus\":[[0.0,\"#0d0887\"],[0.1111111111111111,\"#46039f\"],[0.2222222222222222,\"#7201a8\"],[0.3333333333333333,\"#9c179e\"],[0.4444444444444444,\"#bd3786\"],[0.5555555555555556,\"#d8576b\"],[0.6666666666666666,\"#ed7953\"],[0.7777777777777778,\"#fb9f3a\"],[0.8888888888888888,\"#fdca26\"],[1.0,\"#f0f921\"]],\"diverging\":[[0,\"#8e0152\"],[0.1,\"#c51b7d\"],[0.2,\"#de77ae\"],[0.3,\"#f1b6da\"],[0.4,\"#fde0ef\"],[0.5,\"#f7f7f7\"],[0.6,\"#e6f5d0\"],[0.7,\"#b8e186\"],[0.8,\"#7fbc41\"],[0.9,\"#4d9221\"],[1,\"#276419\"]]},\"xaxis\":{\"gridcolor\":\"white\",\"linecolor\":\"white\",\"ticks\":\"\",\"title\":{\"standoff\":15},\"zerolinecolor\":\"white\",\"automargin\":true,\"zerolinewidth\":2},\"yaxis\":{\"gridcolor\":\"white\",\"linecolor\":\"white\",\"ticks\":\"\",\"title\":{\"standoff\":15},\"zerolinecolor\":\"white\",\"automargin\":true,\"zerolinewidth\":2},\"scene\":{\"xaxis\":{\"backgroundcolor\":\"#E5ECF6\",\"gridcolor\":\"white\",\"linecolor\":\"white\",\"showbackground\":true,\"ticks\":\"\",\"zerolinecolor\":\"white\",\"gridwidth\":2},\"yaxis\":{\"backgroundcolor\":\"#E5ECF6\",\"gridcolor\":\"white\",\"linecolor\":\"white\",\"showbackground\":true,\"ticks\":\"\",\"zerolinecolor\":\"white\",\"gridwidth\":2},\"zaxis\":{\"backgroundcolor\":\"#E5ECF6\",\"gridcolor\":\"white\",\"linecolor\":\"white\",\"showbackground\":true,\"ticks\":\"\",\"zerolinecolor\":\"white\",\"gridwidth\":2}},\"shapedefaults\":{\"line\":{\"color\":\"#2a3f5f\"}},\"annotationdefaults\":{\"arrowcolor\":\"#2a3f5f\",\"arrowhead\":0,\"arrowwidth\":1},\"geo\":{\"bgcolor\":\"white\",\"landcolor\":\"#E5ECF6\",\"subunitcolor\":\"white\",\"showland\":true,\"showlakes\":true,\"lakecolor\":\"white\"},\"title\":{\"x\":0.05},\"mapbox\":{\"style\":\"light\"}}},\"xaxis\":{\"anchor\":\"y\",\"domain\":[0.0,1.0],\"title\":{\"text\":\"Year\"},\"dtick\":1},\"yaxis\":{\"anchor\":\"x\",\"domain\":[0.0,1.0],\"title\":{\"text\":\"Count\"}},\"legend\":{\"tracegroupgap\":0},\"margin\":{\"t\":60},\"barmode\":\"relative\",\"title\":{\"text\":\"Number of Unicorns by Year\",\"x\":0.5}},                        {\"responsive\": true}                    ).then(function(){\n",
       "                            \n",
       "var gd = document.getElementById('7b119f52-46b5-45d4-a0f4-054ddc94698c');\n",
       "var x = new MutationObserver(function (mutations, observer) {{\n",
       "        var display = window.getComputedStyle(gd).display;\n",
       "        if (!display || display === 'none') {{\n",
       "            console.log([gd, 'removed!']);\n",
       "            Plotly.purge(gd);\n",
       "            observer.disconnect();\n",
       "        }}\n",
       "}});\n",
       "\n",
       "// Listen for the removal of the full notebook cells\n",
       "var notebookContainer = gd.closest('#notebook-container');\n",
       "if (notebookContainer) {{\n",
       "    x.observe(notebookContainer, {childList: true});\n",
       "}}\n",
       "\n",
       "// Listen for the clearing of the current output cell\n",
       "var outputEl = gd.closest('.output');\n",
       "if (outputEl) {{\n",
       "    x.observe(outputEl, {childList: true});\n",
       "}}\n",
       "\n",
       "                        })                };                });            </script>        </div>"
      ]
     },
     "metadata": {},
     "output_type": "display_data"
    }
   ],
   "source": [
    "# Time plot of when the unicorns where founded \n",
    "\n",
    "import plotly.graph_objects as go\n",
    "\n",
    "df['Year Joined'] = df['Date Joined'].dt.year\n",
    "\n",
    "# Count the number of unicorns by year\n",
    "df_count = df.groupby('Year Joined').size().reset_index(name='Number of Unicorns')\n",
    "fig = px.bar(data_frame=df_count, x='Year Joined', y='Number of Unicorns', labels={'Year Joined':'Year', 'Number of Unicorns':'Count'}).update_layout(title='Number of Unicorns by Year', title_x=0.5).update_xaxes(dtick=1)\n",
    "fig.add_trace(go.Scatter(x=df_count['Year Joined'], y=df_count['Number of Unicorns'], name='Number of Unicorns', mode='lines'))\n",
    "fig.show()"
   ]
  },
  {
   "cell_type": "code",
   "execution_count": 292,
   "id": "78a12407",
   "metadata": {},
   "outputs": [
    {
     "data": {
      "application/vnd.plotly.v1+json": {
       "config": {
        "plotlyServerURL": "https://plot.ly"
       },
       "data": [
        {
         "alignmentgroup": "True",
         "hovertemplate": "Industry=%{x}<br>Number of Unicorns=%{y}<extra></extra>",
         "legendgroup": "",
         "marker": {
          "color": "#636efa",
          "pattern": {
           "shape": ""
          }
         },
         "name": "",
         "offsetgroup": "",
         "orientation": "v",
         "showlegend": false,
         "textposition": "auto",
         "type": "bar",
         "x": [
          "Enterprise Tech",
          "Financial Services",
          "Consumer & Retail",
          "Industrials",
          "Healthcare & Life Sciences",
          "Media & Entertainment",
          "Insurance"
         ],
         "xaxis": "x",
         "y": [
          370,
          216,
          215,
          190,
          122,
          81,
          27
         ],
         "yaxis": "y"
        }
       ],
       "layout": {
        "barmode": "relative",
        "legend": {
         "tracegroupgap": 0
        },
        "template": {
         "data": {
          "bar": [
           {
            "error_x": {
             "color": "#2a3f5f"
            },
            "error_y": {
             "color": "#2a3f5f"
            },
            "marker": {
             "line": {
              "color": "#E5ECF6",
              "width": 0.5
             },
             "pattern": {
              "fillmode": "overlay",
              "size": 10,
              "solidity": 0.2
             }
            },
            "type": "bar"
           }
          ],
          "barpolar": [
           {
            "marker": {
             "line": {
              "color": "#E5ECF6",
              "width": 0.5
             },
             "pattern": {
              "fillmode": "overlay",
              "size": 10,
              "solidity": 0.2
             }
            },
            "type": "barpolar"
           }
          ],
          "carpet": [
           {
            "aaxis": {
             "endlinecolor": "#2a3f5f",
             "gridcolor": "white",
             "linecolor": "white",
             "minorgridcolor": "white",
             "startlinecolor": "#2a3f5f"
            },
            "baxis": {
             "endlinecolor": "#2a3f5f",
             "gridcolor": "white",
             "linecolor": "white",
             "minorgridcolor": "white",
             "startlinecolor": "#2a3f5f"
            },
            "type": "carpet"
           }
          ],
          "choropleth": [
           {
            "colorbar": {
             "outlinewidth": 0,
             "ticks": ""
            },
            "type": "choropleth"
           }
          ],
          "contour": [
           {
            "colorbar": {
             "outlinewidth": 0,
             "ticks": ""
            },
            "colorscale": [
             [
              0,
              "#0d0887"
             ],
             [
              0.1111111111111111,
              "#46039f"
             ],
             [
              0.2222222222222222,
              "#7201a8"
             ],
             [
              0.3333333333333333,
              "#9c179e"
             ],
             [
              0.4444444444444444,
              "#bd3786"
             ],
             [
              0.5555555555555556,
              "#d8576b"
             ],
             [
              0.6666666666666666,
              "#ed7953"
             ],
             [
              0.7777777777777778,
              "#fb9f3a"
             ],
             [
              0.8888888888888888,
              "#fdca26"
             ],
             [
              1,
              "#f0f921"
             ]
            ],
            "type": "contour"
           }
          ],
          "contourcarpet": [
           {
            "colorbar": {
             "outlinewidth": 0,
             "ticks": ""
            },
            "type": "contourcarpet"
           }
          ],
          "heatmap": [
           {
            "colorbar": {
             "outlinewidth": 0,
             "ticks": ""
            },
            "colorscale": [
             [
              0,
              "#0d0887"
             ],
             [
              0.1111111111111111,
              "#46039f"
             ],
             [
              0.2222222222222222,
              "#7201a8"
             ],
             [
              0.3333333333333333,
              "#9c179e"
             ],
             [
              0.4444444444444444,
              "#bd3786"
             ],
             [
              0.5555555555555556,
              "#d8576b"
             ],
             [
              0.6666666666666666,
              "#ed7953"
             ],
             [
              0.7777777777777778,
              "#fb9f3a"
             ],
             [
              0.8888888888888888,
              "#fdca26"
             ],
             [
              1,
              "#f0f921"
             ]
            ],
            "type": "heatmap"
           }
          ],
          "heatmapgl": [
           {
            "colorbar": {
             "outlinewidth": 0,
             "ticks": ""
            },
            "colorscale": [
             [
              0,
              "#0d0887"
             ],
             [
              0.1111111111111111,
              "#46039f"
             ],
             [
              0.2222222222222222,
              "#7201a8"
             ],
             [
              0.3333333333333333,
              "#9c179e"
             ],
             [
              0.4444444444444444,
              "#bd3786"
             ],
             [
              0.5555555555555556,
              "#d8576b"
             ],
             [
              0.6666666666666666,
              "#ed7953"
             ],
             [
              0.7777777777777778,
              "#fb9f3a"
             ],
             [
              0.8888888888888888,
              "#fdca26"
             ],
             [
              1,
              "#f0f921"
             ]
            ],
            "type": "heatmapgl"
           }
          ],
          "histogram": [
           {
            "marker": {
             "pattern": {
              "fillmode": "overlay",
              "size": 10,
              "solidity": 0.2
             }
            },
            "type": "histogram"
           }
          ],
          "histogram2d": [
           {
            "colorbar": {
             "outlinewidth": 0,
             "ticks": ""
            },
            "colorscale": [
             [
              0,
              "#0d0887"
             ],
             [
              0.1111111111111111,
              "#46039f"
             ],
             [
              0.2222222222222222,
              "#7201a8"
             ],
             [
              0.3333333333333333,
              "#9c179e"
             ],
             [
              0.4444444444444444,
              "#bd3786"
             ],
             [
              0.5555555555555556,
              "#d8576b"
             ],
             [
              0.6666666666666666,
              "#ed7953"
             ],
             [
              0.7777777777777778,
              "#fb9f3a"
             ],
             [
              0.8888888888888888,
              "#fdca26"
             ],
             [
              1,
              "#f0f921"
             ]
            ],
            "type": "histogram2d"
           }
          ],
          "histogram2dcontour": [
           {
            "colorbar": {
             "outlinewidth": 0,
             "ticks": ""
            },
            "colorscale": [
             [
              0,
              "#0d0887"
             ],
             [
              0.1111111111111111,
              "#46039f"
             ],
             [
              0.2222222222222222,
              "#7201a8"
             ],
             [
              0.3333333333333333,
              "#9c179e"
             ],
             [
              0.4444444444444444,
              "#bd3786"
             ],
             [
              0.5555555555555556,
              "#d8576b"
             ],
             [
              0.6666666666666666,
              "#ed7953"
             ],
             [
              0.7777777777777778,
              "#fb9f3a"
             ],
             [
              0.8888888888888888,
              "#fdca26"
             ],
             [
              1,
              "#f0f921"
             ]
            ],
            "type": "histogram2dcontour"
           }
          ],
          "mesh3d": [
           {
            "colorbar": {
             "outlinewidth": 0,
             "ticks": ""
            },
            "type": "mesh3d"
           }
          ],
          "parcoords": [
           {
            "line": {
             "colorbar": {
              "outlinewidth": 0,
              "ticks": ""
             }
            },
            "type": "parcoords"
           }
          ],
          "pie": [
           {
            "automargin": true,
            "type": "pie"
           }
          ],
          "scatter": [
           {
            "fillpattern": {
             "fillmode": "overlay",
             "size": 10,
             "solidity": 0.2
            },
            "type": "scatter"
           }
          ],
          "scatter3d": [
           {
            "line": {
             "colorbar": {
              "outlinewidth": 0,
              "ticks": ""
             }
            },
            "marker": {
             "colorbar": {
              "outlinewidth": 0,
              "ticks": ""
             }
            },
            "type": "scatter3d"
           }
          ],
          "scattercarpet": [
           {
            "marker": {
             "colorbar": {
              "outlinewidth": 0,
              "ticks": ""
             }
            },
            "type": "scattercarpet"
           }
          ],
          "scattergeo": [
           {
            "marker": {
             "colorbar": {
              "outlinewidth": 0,
              "ticks": ""
             }
            },
            "type": "scattergeo"
           }
          ],
          "scattergl": [
           {
            "marker": {
             "colorbar": {
              "outlinewidth": 0,
              "ticks": ""
             }
            },
            "type": "scattergl"
           }
          ],
          "scattermapbox": [
           {
            "marker": {
             "colorbar": {
              "outlinewidth": 0,
              "ticks": ""
             }
            },
            "type": "scattermapbox"
           }
          ],
          "scatterpolar": [
           {
            "marker": {
             "colorbar": {
              "outlinewidth": 0,
              "ticks": ""
             }
            },
            "type": "scatterpolar"
           }
          ],
          "scatterpolargl": [
           {
            "marker": {
             "colorbar": {
              "outlinewidth": 0,
              "ticks": ""
             }
            },
            "type": "scatterpolargl"
           }
          ],
          "scatterternary": [
           {
            "marker": {
             "colorbar": {
              "outlinewidth": 0,
              "ticks": ""
             }
            },
            "type": "scatterternary"
           }
          ],
          "surface": [
           {
            "colorbar": {
             "outlinewidth": 0,
             "ticks": ""
            },
            "colorscale": [
             [
              0,
              "#0d0887"
             ],
             [
              0.1111111111111111,
              "#46039f"
             ],
             [
              0.2222222222222222,
              "#7201a8"
             ],
             [
              0.3333333333333333,
              "#9c179e"
             ],
             [
              0.4444444444444444,
              "#bd3786"
             ],
             [
              0.5555555555555556,
              "#d8576b"
             ],
             [
              0.6666666666666666,
              "#ed7953"
             ],
             [
              0.7777777777777778,
              "#fb9f3a"
             ],
             [
              0.8888888888888888,
              "#fdca26"
             ],
             [
              1,
              "#f0f921"
             ]
            ],
            "type": "surface"
           }
          ],
          "table": [
           {
            "cells": {
             "fill": {
              "color": "#EBF0F8"
             },
             "line": {
              "color": "white"
             }
            },
            "header": {
             "fill": {
              "color": "#C8D4E3"
             },
             "line": {
              "color": "white"
             }
            },
            "type": "table"
           }
          ]
         },
         "layout": {
          "annotationdefaults": {
           "arrowcolor": "#2a3f5f",
           "arrowhead": 0,
           "arrowwidth": 1
          },
          "autotypenumbers": "strict",
          "coloraxis": {
           "colorbar": {
            "outlinewidth": 0,
            "ticks": ""
           }
          },
          "colorscale": {
           "diverging": [
            [
             0,
             "#8e0152"
            ],
            [
             0.1,
             "#c51b7d"
            ],
            [
             0.2,
             "#de77ae"
            ],
            [
             0.3,
             "#f1b6da"
            ],
            [
             0.4,
             "#fde0ef"
            ],
            [
             0.5,
             "#f7f7f7"
            ],
            [
             0.6,
             "#e6f5d0"
            ],
            [
             0.7,
             "#b8e186"
            ],
            [
             0.8,
             "#7fbc41"
            ],
            [
             0.9,
             "#4d9221"
            ],
            [
             1,
             "#276419"
            ]
           ],
           "sequential": [
            [
             0,
             "#0d0887"
            ],
            [
             0.1111111111111111,
             "#46039f"
            ],
            [
             0.2222222222222222,
             "#7201a8"
            ],
            [
             0.3333333333333333,
             "#9c179e"
            ],
            [
             0.4444444444444444,
             "#bd3786"
            ],
            [
             0.5555555555555556,
             "#d8576b"
            ],
            [
             0.6666666666666666,
             "#ed7953"
            ],
            [
             0.7777777777777778,
             "#fb9f3a"
            ],
            [
             0.8888888888888888,
             "#fdca26"
            ],
            [
             1,
             "#f0f921"
            ]
           ],
           "sequentialminus": [
            [
             0,
             "#0d0887"
            ],
            [
             0.1111111111111111,
             "#46039f"
            ],
            [
             0.2222222222222222,
             "#7201a8"
            ],
            [
             0.3333333333333333,
             "#9c179e"
            ],
            [
             0.4444444444444444,
             "#bd3786"
            ],
            [
             0.5555555555555556,
             "#d8576b"
            ],
            [
             0.6666666666666666,
             "#ed7953"
            ],
            [
             0.7777777777777778,
             "#fb9f3a"
            ],
            [
             0.8888888888888888,
             "#fdca26"
            ],
            [
             1,
             "#f0f921"
            ]
           ]
          },
          "colorway": [
           "#636efa",
           "#EF553B",
           "#00cc96",
           "#ab63fa",
           "#FFA15A",
           "#19d3f3",
           "#FF6692",
           "#B6E880",
           "#FF97FF",
           "#FECB52"
          ],
          "font": {
           "color": "#2a3f5f"
          },
          "geo": {
           "bgcolor": "white",
           "lakecolor": "white",
           "landcolor": "#E5ECF6",
           "showlakes": true,
           "showland": true,
           "subunitcolor": "white"
          },
          "hoverlabel": {
           "align": "left"
          },
          "hovermode": "closest",
          "mapbox": {
           "style": "light"
          },
          "paper_bgcolor": "white",
          "plot_bgcolor": "#E5ECF6",
          "polar": {
           "angularaxis": {
            "gridcolor": "white",
            "linecolor": "white",
            "ticks": ""
           },
           "bgcolor": "#E5ECF6",
           "radialaxis": {
            "gridcolor": "white",
            "linecolor": "white",
            "ticks": ""
           }
          },
          "scene": {
           "xaxis": {
            "backgroundcolor": "#E5ECF6",
            "gridcolor": "white",
            "gridwidth": 2,
            "linecolor": "white",
            "showbackground": true,
            "ticks": "",
            "zerolinecolor": "white"
           },
           "yaxis": {
            "backgroundcolor": "#E5ECF6",
            "gridcolor": "white",
            "gridwidth": 2,
            "linecolor": "white",
            "showbackground": true,
            "ticks": "",
            "zerolinecolor": "white"
           },
           "zaxis": {
            "backgroundcolor": "#E5ECF6",
            "gridcolor": "white",
            "gridwidth": 2,
            "linecolor": "white",
            "showbackground": true,
            "ticks": "",
            "zerolinecolor": "white"
           }
          },
          "shapedefaults": {
           "line": {
            "color": "#2a3f5f"
           }
          },
          "ternary": {
           "aaxis": {
            "gridcolor": "white",
            "linecolor": "white",
            "ticks": ""
           },
           "baxis": {
            "gridcolor": "white",
            "linecolor": "white",
            "ticks": ""
           },
           "bgcolor": "#E5ECF6",
           "caxis": {
            "gridcolor": "white",
            "linecolor": "white",
            "ticks": ""
           }
          },
          "title": {
           "x": 0.05
          },
          "xaxis": {
           "automargin": true,
           "gridcolor": "white",
           "linecolor": "white",
           "ticks": "",
           "title": {
            "standoff": 15
           },
           "zerolinecolor": "white",
           "zerolinewidth": 2
          },
          "yaxis": {
           "automargin": true,
           "gridcolor": "white",
           "linecolor": "white",
           "ticks": "",
           "title": {
            "standoff": 15
           },
           "zerolinecolor": "white",
           "zerolinewidth": 2
          }
         }
        },
        "title": {
         "text": "Number of Unicorns by Industry",
         "x": 0.5
        },
        "xaxis": {
         "anchor": "y",
         "domain": [
          0,
          1
         ],
         "title": {
          "text": "Industry"
         }
        },
        "yaxis": {
         "anchor": "x",
         "domain": [
          0,
          1
         ],
         "title": {
          "text": "Number of Unicorns"
         }
        }
       }
      },
      "text/html": [
       "<div>                            <div id=\"cefd73ba-d7c4-4b6a-99d1-daff9794f380\" class=\"plotly-graph-div\" style=\"height:525px; width:100%;\"></div>            <script type=\"text/javascript\">                require([\"plotly\"], function(Plotly) {                    window.PLOTLYENV=window.PLOTLYENV || {};                                    if (document.getElementById(\"cefd73ba-d7c4-4b6a-99d1-daff9794f380\")) {                    Plotly.newPlot(                        \"cefd73ba-d7c4-4b6a-99d1-daff9794f380\",                        [{\"alignmentgroup\":\"True\",\"hovertemplate\":\"Industry=%{x}<br>Number of Unicorns=%{y}<extra></extra>\",\"legendgroup\":\"\",\"marker\":{\"color\":\"#636efa\",\"pattern\":{\"shape\":\"\"}},\"name\":\"\",\"offsetgroup\":\"\",\"orientation\":\"v\",\"showlegend\":false,\"textposition\":\"auto\",\"x\":[\"Enterprise Tech\",\"Financial Services\",\"Consumer & Retail\",\"Industrials\",\"Healthcare & Life Sciences\",\"Media & Entertainment\",\"Insurance\"],\"xaxis\":\"x\",\"y\":[370,216,215,190,122,81,27],\"yaxis\":\"y\",\"type\":\"bar\"}],                        {\"template\":{\"data\":{\"histogram2dcontour\":[{\"type\":\"histogram2dcontour\",\"colorbar\":{\"outlinewidth\":0,\"ticks\":\"\"},\"colorscale\":[[0.0,\"#0d0887\"],[0.1111111111111111,\"#46039f\"],[0.2222222222222222,\"#7201a8\"],[0.3333333333333333,\"#9c179e\"],[0.4444444444444444,\"#bd3786\"],[0.5555555555555556,\"#d8576b\"],[0.6666666666666666,\"#ed7953\"],[0.7777777777777778,\"#fb9f3a\"],[0.8888888888888888,\"#fdca26\"],[1.0,\"#f0f921\"]]}],\"choropleth\":[{\"type\":\"choropleth\",\"colorbar\":{\"outlinewidth\":0,\"ticks\":\"\"}}],\"histogram2d\":[{\"type\":\"histogram2d\",\"colorbar\":{\"outlinewidth\":0,\"ticks\":\"\"},\"colorscale\":[[0.0,\"#0d0887\"],[0.1111111111111111,\"#46039f\"],[0.2222222222222222,\"#7201a8\"],[0.3333333333333333,\"#9c179e\"],[0.4444444444444444,\"#bd3786\"],[0.5555555555555556,\"#d8576b\"],[0.6666666666666666,\"#ed7953\"],[0.7777777777777778,\"#fb9f3a\"],[0.8888888888888888,\"#fdca26\"],[1.0,\"#f0f921\"]]}],\"heatmap\":[{\"type\":\"heatmap\",\"colorbar\":{\"outlinewidth\":0,\"ticks\":\"\"},\"colorscale\":[[0.0,\"#0d0887\"],[0.1111111111111111,\"#46039f\"],[0.2222222222222222,\"#7201a8\"],[0.3333333333333333,\"#9c179e\"],[0.4444444444444444,\"#bd3786\"],[0.5555555555555556,\"#d8576b\"],[0.6666666666666666,\"#ed7953\"],[0.7777777777777778,\"#fb9f3a\"],[0.8888888888888888,\"#fdca26\"],[1.0,\"#f0f921\"]]}],\"heatmapgl\":[{\"type\":\"heatmapgl\",\"colorbar\":{\"outlinewidth\":0,\"ticks\":\"\"},\"colorscale\":[[0.0,\"#0d0887\"],[0.1111111111111111,\"#46039f\"],[0.2222222222222222,\"#7201a8\"],[0.3333333333333333,\"#9c179e\"],[0.4444444444444444,\"#bd3786\"],[0.5555555555555556,\"#d8576b\"],[0.6666666666666666,\"#ed7953\"],[0.7777777777777778,\"#fb9f3a\"],[0.8888888888888888,\"#fdca26\"],[1.0,\"#f0f921\"]]}],\"contourcarpet\":[{\"type\":\"contourcarpet\",\"colorbar\":{\"outlinewidth\":0,\"ticks\":\"\"}}],\"contour\":[{\"type\":\"contour\",\"colorbar\":{\"outlinewidth\":0,\"ticks\":\"\"},\"colorscale\":[[0.0,\"#0d0887\"],[0.1111111111111111,\"#46039f\"],[0.2222222222222222,\"#7201a8\"],[0.3333333333333333,\"#9c179e\"],[0.4444444444444444,\"#bd3786\"],[0.5555555555555556,\"#d8576b\"],[0.6666666666666666,\"#ed7953\"],[0.7777777777777778,\"#fb9f3a\"],[0.8888888888888888,\"#fdca26\"],[1.0,\"#f0f921\"]]}],\"surface\":[{\"type\":\"surface\",\"colorbar\":{\"outlinewidth\":0,\"ticks\":\"\"},\"colorscale\":[[0.0,\"#0d0887\"],[0.1111111111111111,\"#46039f\"],[0.2222222222222222,\"#7201a8\"],[0.3333333333333333,\"#9c179e\"],[0.4444444444444444,\"#bd3786\"],[0.5555555555555556,\"#d8576b\"],[0.6666666666666666,\"#ed7953\"],[0.7777777777777778,\"#fb9f3a\"],[0.8888888888888888,\"#fdca26\"],[1.0,\"#f0f921\"]]}],\"mesh3d\":[{\"type\":\"mesh3d\",\"colorbar\":{\"outlinewidth\":0,\"ticks\":\"\"}}],\"scatter\":[{\"fillpattern\":{\"fillmode\":\"overlay\",\"size\":10,\"solidity\":0.2},\"type\":\"scatter\"}],\"parcoords\":[{\"type\":\"parcoords\",\"line\":{\"colorbar\":{\"outlinewidth\":0,\"ticks\":\"\"}}}],\"scatterpolargl\":[{\"type\":\"scatterpolargl\",\"marker\":{\"colorbar\":{\"outlinewidth\":0,\"ticks\":\"\"}}}],\"bar\":[{\"error_x\":{\"color\":\"#2a3f5f\"},\"error_y\":{\"color\":\"#2a3f5f\"},\"marker\":{\"line\":{\"color\":\"#E5ECF6\",\"width\":0.5},\"pattern\":{\"fillmode\":\"overlay\",\"size\":10,\"solidity\":0.2}},\"type\":\"bar\"}],\"scattergeo\":[{\"type\":\"scattergeo\",\"marker\":{\"colorbar\":{\"outlinewidth\":0,\"ticks\":\"\"}}}],\"scatterpolar\":[{\"type\":\"scatterpolar\",\"marker\":{\"colorbar\":{\"outlinewidth\":0,\"ticks\":\"\"}}}],\"histogram\":[{\"marker\":{\"pattern\":{\"fillmode\":\"overlay\",\"size\":10,\"solidity\":0.2}},\"type\":\"histogram\"}],\"scattergl\":[{\"type\":\"scattergl\",\"marker\":{\"colorbar\":{\"outlinewidth\":0,\"ticks\":\"\"}}}],\"scatter3d\":[{\"type\":\"scatter3d\",\"line\":{\"colorbar\":{\"outlinewidth\":0,\"ticks\":\"\"}},\"marker\":{\"colorbar\":{\"outlinewidth\":0,\"ticks\":\"\"}}}],\"scattermapbox\":[{\"type\":\"scattermapbox\",\"marker\":{\"colorbar\":{\"outlinewidth\":0,\"ticks\":\"\"}}}],\"scatterternary\":[{\"type\":\"scatterternary\",\"marker\":{\"colorbar\":{\"outlinewidth\":0,\"ticks\":\"\"}}}],\"scattercarpet\":[{\"type\":\"scattercarpet\",\"marker\":{\"colorbar\":{\"outlinewidth\":0,\"ticks\":\"\"}}}],\"carpet\":[{\"aaxis\":{\"endlinecolor\":\"#2a3f5f\",\"gridcolor\":\"white\",\"linecolor\":\"white\",\"minorgridcolor\":\"white\",\"startlinecolor\":\"#2a3f5f\"},\"baxis\":{\"endlinecolor\":\"#2a3f5f\",\"gridcolor\":\"white\",\"linecolor\":\"white\",\"minorgridcolor\":\"white\",\"startlinecolor\":\"#2a3f5f\"},\"type\":\"carpet\"}],\"table\":[{\"cells\":{\"fill\":{\"color\":\"#EBF0F8\"},\"line\":{\"color\":\"white\"}},\"header\":{\"fill\":{\"color\":\"#C8D4E3\"},\"line\":{\"color\":\"white\"}},\"type\":\"table\"}],\"barpolar\":[{\"marker\":{\"line\":{\"color\":\"#E5ECF6\",\"width\":0.5},\"pattern\":{\"fillmode\":\"overlay\",\"size\":10,\"solidity\":0.2}},\"type\":\"barpolar\"}],\"pie\":[{\"automargin\":true,\"type\":\"pie\"}]},\"layout\":{\"autotypenumbers\":\"strict\",\"colorway\":[\"#636efa\",\"#EF553B\",\"#00cc96\",\"#ab63fa\",\"#FFA15A\",\"#19d3f3\",\"#FF6692\",\"#B6E880\",\"#FF97FF\",\"#FECB52\"],\"font\":{\"color\":\"#2a3f5f\"},\"hovermode\":\"closest\",\"hoverlabel\":{\"align\":\"left\"},\"paper_bgcolor\":\"white\",\"plot_bgcolor\":\"#E5ECF6\",\"polar\":{\"bgcolor\":\"#E5ECF6\",\"angularaxis\":{\"gridcolor\":\"white\",\"linecolor\":\"white\",\"ticks\":\"\"},\"radialaxis\":{\"gridcolor\":\"white\",\"linecolor\":\"white\",\"ticks\":\"\"}},\"ternary\":{\"bgcolor\":\"#E5ECF6\",\"aaxis\":{\"gridcolor\":\"white\",\"linecolor\":\"white\",\"ticks\":\"\"},\"baxis\":{\"gridcolor\":\"white\",\"linecolor\":\"white\",\"ticks\":\"\"},\"caxis\":{\"gridcolor\":\"white\",\"linecolor\":\"white\",\"ticks\":\"\"}},\"coloraxis\":{\"colorbar\":{\"outlinewidth\":0,\"ticks\":\"\"}},\"colorscale\":{\"sequential\":[[0.0,\"#0d0887\"],[0.1111111111111111,\"#46039f\"],[0.2222222222222222,\"#7201a8\"],[0.3333333333333333,\"#9c179e\"],[0.4444444444444444,\"#bd3786\"],[0.5555555555555556,\"#d8576b\"],[0.6666666666666666,\"#ed7953\"],[0.7777777777777778,\"#fb9f3a\"],[0.8888888888888888,\"#fdca26\"],[1.0,\"#f0f921\"]],\"sequentialminus\":[[0.0,\"#0d0887\"],[0.1111111111111111,\"#46039f\"],[0.2222222222222222,\"#7201a8\"],[0.3333333333333333,\"#9c179e\"],[0.4444444444444444,\"#bd3786\"],[0.5555555555555556,\"#d8576b\"],[0.6666666666666666,\"#ed7953\"],[0.7777777777777778,\"#fb9f3a\"],[0.8888888888888888,\"#fdca26\"],[1.0,\"#f0f921\"]],\"diverging\":[[0,\"#8e0152\"],[0.1,\"#c51b7d\"],[0.2,\"#de77ae\"],[0.3,\"#f1b6da\"],[0.4,\"#fde0ef\"],[0.5,\"#f7f7f7\"],[0.6,\"#e6f5d0\"],[0.7,\"#b8e186\"],[0.8,\"#7fbc41\"],[0.9,\"#4d9221\"],[1,\"#276419\"]]},\"xaxis\":{\"gridcolor\":\"white\",\"linecolor\":\"white\",\"ticks\":\"\",\"title\":{\"standoff\":15},\"zerolinecolor\":\"white\",\"automargin\":true,\"zerolinewidth\":2},\"yaxis\":{\"gridcolor\":\"white\",\"linecolor\":\"white\",\"ticks\":\"\",\"title\":{\"standoff\":15},\"zerolinecolor\":\"white\",\"automargin\":true,\"zerolinewidth\":2},\"scene\":{\"xaxis\":{\"backgroundcolor\":\"#E5ECF6\",\"gridcolor\":\"white\",\"linecolor\":\"white\",\"showbackground\":true,\"ticks\":\"\",\"zerolinecolor\":\"white\",\"gridwidth\":2},\"yaxis\":{\"backgroundcolor\":\"#E5ECF6\",\"gridcolor\":\"white\",\"linecolor\":\"white\",\"showbackground\":true,\"ticks\":\"\",\"zerolinecolor\":\"white\",\"gridwidth\":2},\"zaxis\":{\"backgroundcolor\":\"#E5ECF6\",\"gridcolor\":\"white\",\"linecolor\":\"white\",\"showbackground\":true,\"ticks\":\"\",\"zerolinecolor\":\"white\",\"gridwidth\":2}},\"shapedefaults\":{\"line\":{\"color\":\"#2a3f5f\"}},\"annotationdefaults\":{\"arrowcolor\":\"#2a3f5f\",\"arrowhead\":0,\"arrowwidth\":1},\"geo\":{\"bgcolor\":\"white\",\"landcolor\":\"#E5ECF6\",\"subunitcolor\":\"white\",\"showland\":true,\"showlakes\":true,\"lakecolor\":\"white\"},\"title\":{\"x\":0.05},\"mapbox\":{\"style\":\"light\"}}},\"xaxis\":{\"anchor\":\"y\",\"domain\":[0.0,1.0],\"title\":{\"text\":\"Industry\"}},\"yaxis\":{\"anchor\":\"x\",\"domain\":[0.0,1.0],\"title\":{\"text\":\"Number of Unicorns\"}},\"legend\":{\"tracegroupgap\":0},\"title\":{\"text\":\"Number of Unicorns by Industry\",\"x\":0.5},\"barmode\":\"relative\"},                        {\"responsive\": true}                    ).then(function(){\n",
       "                            \n",
       "var gd = document.getElementById('cefd73ba-d7c4-4b6a-99d1-daff9794f380');\n",
       "var x = new MutationObserver(function (mutations, observer) {{\n",
       "        var display = window.getComputedStyle(gd).display;\n",
       "        if (!display || display === 'none') {{\n",
       "            console.log([gd, 'removed!']);\n",
       "            Plotly.purge(gd);\n",
       "            observer.disconnect();\n",
       "        }}\n",
       "}});\n",
       "\n",
       "// Listen for the removal of the full notebook cells\n",
       "var notebookContainer = gd.closest('#notebook-container');\n",
       "if (notebookContainer) {{\n",
       "    x.observe(notebookContainer, {childList: true});\n",
       "}}\n",
       "\n",
       "// Listen for the clearing of the current output cell\n",
       "var outputEl = gd.closest('.output');\n",
       "if (outputEl) {{\n",
       "    x.observe(outputEl, {childList: true});\n",
       "}}\n",
       "\n",
       "                        })                };                });            </script>        </div>"
      ]
     },
     "metadata": {},
     "output_type": "display_data"
    }
   ],
   "source": [
    "# Count the number of unicorns by industry\n",
    "df_industry = df['Industry'].value_counts().reset_index(name='Number of Unicorns')\n",
    "\n",
    "# Make a bar chart using plotly\n",
    "fig = px.bar(data_frame=df_industry, x='index', y='Number of Unicorns', labels={'index':'Industry', 'Number of Unicorns':'Number of Unicorns'}, title='Number of Unicorns by Industry').update_layout(title='Number of Unicorns by Industry', title_x=0.5)\n",
    "fig.show()"
   ]
  },
  {
   "cell_type": "code",
   "execution_count": 73,
   "id": "b5ac9da9",
   "metadata": {},
   "outputs": [
    {
     "data": {
      "text/html": [
       "<div>\n",
       "<style scoped>\n",
       "    .dataframe tbody tr th:only-of-type {\n",
       "        vertical-align: middle;\n",
       "    }\n",
       "\n",
       "    .dataframe tbody tr th {\n",
       "        vertical-align: top;\n",
       "    }\n",
       "\n",
       "    .dataframe thead th {\n",
       "        text-align: right;\n",
       "    }\n",
       "</style>\n",
       "<table border=\"1\" class=\"dataframe\">\n",
       "  <thead>\n",
       "    <tr style=\"text-align: right;\">\n",
       "      <th></th>\n",
       "      <th>index</th>\n",
       "      <th>Number of Unicorns</th>\n",
       "    </tr>\n",
       "  </thead>\n",
       "  <tbody>\n",
       "    <tr>\n",
       "      <th>0</th>\n",
       "      <td>Enterprise Tech</td>\n",
       "      <td>370</td>\n",
       "    </tr>\n",
       "    <tr>\n",
       "      <th>1</th>\n",
       "      <td>Financial Services</td>\n",
       "      <td>216</td>\n",
       "    </tr>\n",
       "    <tr>\n",
       "      <th>2</th>\n",
       "      <td>Consumer &amp; Retail</td>\n",
       "      <td>215</td>\n",
       "    </tr>\n",
       "    <tr>\n",
       "      <th>3</th>\n",
       "      <td>Industrials</td>\n",
       "      <td>190</td>\n",
       "    </tr>\n",
       "    <tr>\n",
       "      <th>4</th>\n",
       "      <td>Healthcare &amp; Life Sciences</td>\n",
       "      <td>122</td>\n",
       "    </tr>\n",
       "    <tr>\n",
       "      <th>5</th>\n",
       "      <td>Media &amp; Entertainment</td>\n",
       "      <td>81</td>\n",
       "    </tr>\n",
       "    <tr>\n",
       "      <th>6</th>\n",
       "      <td>Insurance</td>\n",
       "      <td>27</td>\n",
       "    </tr>\n",
       "  </tbody>\n",
       "</table>\n",
       "</div>"
      ],
      "text/plain": [
       "                        index  Number of Unicorns\n",
       "0             Enterprise Tech                 370\n",
       "1          Financial Services                 216\n",
       "2           Consumer & Retail                 215\n",
       "3                 Industrials                 190\n",
       "4  Healthcare & Life Sciences                 122\n",
       "5       Media & Entertainment                  81\n",
       "6                   Insurance                  27"
      ]
     },
     "execution_count": 73,
     "metadata": {},
     "output_type": "execute_result"
    }
   ],
   "source": [
    "df_industry"
   ]
  },
  {
   "cell_type": "code",
   "execution_count": 293,
   "id": "418ec0d7",
   "metadata": {},
   "outputs": [
    {
     "data": {
      "application/vnd.plotly.v1+json": {
       "config": {
        "plotlyServerURL": "https://plot.ly"
       },
       "data": [
        {
         "hole": 0.4,
         "labels": [
          "Enterprise Tech",
          "Financial Services",
          "Consumer & Retail",
          "Industrials",
          "Healthcare & Life Sciences",
          "Media & Entertainment",
          "Insurance"
         ],
         "pull": [
          0.1,
          0,
          0,
          0,
          0,
          0,
          0
         ],
         "textinfo": "label+percent",
         "textposition": "outside",
         "type": "pie",
         "values": [
          370,
          216,
          215,
          190,
          122,
          81,
          27
         ]
        }
       ],
       "layout": {
        "annotations": [
         {
          "font": {
           "size": 20
          },
          "showarrow": false,
          "text": "Total: 1221",
          "x": 0.5,
          "y": 0.5
         }
        ],
        "template": {
         "data": {
          "bar": [
           {
            "error_x": {
             "color": "#2a3f5f"
            },
            "error_y": {
             "color": "#2a3f5f"
            },
            "marker": {
             "line": {
              "color": "#E5ECF6",
              "width": 0.5
             },
             "pattern": {
              "fillmode": "overlay",
              "size": 10,
              "solidity": 0.2
             }
            },
            "type": "bar"
           }
          ],
          "barpolar": [
           {
            "marker": {
             "line": {
              "color": "#E5ECF6",
              "width": 0.5
             },
             "pattern": {
              "fillmode": "overlay",
              "size": 10,
              "solidity": 0.2
             }
            },
            "type": "barpolar"
           }
          ],
          "carpet": [
           {
            "aaxis": {
             "endlinecolor": "#2a3f5f",
             "gridcolor": "white",
             "linecolor": "white",
             "minorgridcolor": "white",
             "startlinecolor": "#2a3f5f"
            },
            "baxis": {
             "endlinecolor": "#2a3f5f",
             "gridcolor": "white",
             "linecolor": "white",
             "minorgridcolor": "white",
             "startlinecolor": "#2a3f5f"
            },
            "type": "carpet"
           }
          ],
          "choropleth": [
           {
            "colorbar": {
             "outlinewidth": 0,
             "ticks": ""
            },
            "type": "choropleth"
           }
          ],
          "contour": [
           {
            "colorbar": {
             "outlinewidth": 0,
             "ticks": ""
            },
            "colorscale": [
             [
              0,
              "#0d0887"
             ],
             [
              0.1111111111111111,
              "#46039f"
             ],
             [
              0.2222222222222222,
              "#7201a8"
             ],
             [
              0.3333333333333333,
              "#9c179e"
             ],
             [
              0.4444444444444444,
              "#bd3786"
             ],
             [
              0.5555555555555556,
              "#d8576b"
             ],
             [
              0.6666666666666666,
              "#ed7953"
             ],
             [
              0.7777777777777778,
              "#fb9f3a"
             ],
             [
              0.8888888888888888,
              "#fdca26"
             ],
             [
              1,
              "#f0f921"
             ]
            ],
            "type": "contour"
           }
          ],
          "contourcarpet": [
           {
            "colorbar": {
             "outlinewidth": 0,
             "ticks": ""
            },
            "type": "contourcarpet"
           }
          ],
          "heatmap": [
           {
            "colorbar": {
             "outlinewidth": 0,
             "ticks": ""
            },
            "colorscale": [
             [
              0,
              "#0d0887"
             ],
             [
              0.1111111111111111,
              "#46039f"
             ],
             [
              0.2222222222222222,
              "#7201a8"
             ],
             [
              0.3333333333333333,
              "#9c179e"
             ],
             [
              0.4444444444444444,
              "#bd3786"
             ],
             [
              0.5555555555555556,
              "#d8576b"
             ],
             [
              0.6666666666666666,
              "#ed7953"
             ],
             [
              0.7777777777777778,
              "#fb9f3a"
             ],
             [
              0.8888888888888888,
              "#fdca26"
             ],
             [
              1,
              "#f0f921"
             ]
            ],
            "type": "heatmap"
           }
          ],
          "heatmapgl": [
           {
            "colorbar": {
             "outlinewidth": 0,
             "ticks": ""
            },
            "colorscale": [
             [
              0,
              "#0d0887"
             ],
             [
              0.1111111111111111,
              "#46039f"
             ],
             [
              0.2222222222222222,
              "#7201a8"
             ],
             [
              0.3333333333333333,
              "#9c179e"
             ],
             [
              0.4444444444444444,
              "#bd3786"
             ],
             [
              0.5555555555555556,
              "#d8576b"
             ],
             [
              0.6666666666666666,
              "#ed7953"
             ],
             [
              0.7777777777777778,
              "#fb9f3a"
             ],
             [
              0.8888888888888888,
              "#fdca26"
             ],
             [
              1,
              "#f0f921"
             ]
            ],
            "type": "heatmapgl"
           }
          ],
          "histogram": [
           {
            "marker": {
             "pattern": {
              "fillmode": "overlay",
              "size": 10,
              "solidity": 0.2
             }
            },
            "type": "histogram"
           }
          ],
          "histogram2d": [
           {
            "colorbar": {
             "outlinewidth": 0,
             "ticks": ""
            },
            "colorscale": [
             [
              0,
              "#0d0887"
             ],
             [
              0.1111111111111111,
              "#46039f"
             ],
             [
              0.2222222222222222,
              "#7201a8"
             ],
             [
              0.3333333333333333,
              "#9c179e"
             ],
             [
              0.4444444444444444,
              "#bd3786"
             ],
             [
              0.5555555555555556,
              "#d8576b"
             ],
             [
              0.6666666666666666,
              "#ed7953"
             ],
             [
              0.7777777777777778,
              "#fb9f3a"
             ],
             [
              0.8888888888888888,
              "#fdca26"
             ],
             [
              1,
              "#f0f921"
             ]
            ],
            "type": "histogram2d"
           }
          ],
          "histogram2dcontour": [
           {
            "colorbar": {
             "outlinewidth": 0,
             "ticks": ""
            },
            "colorscale": [
             [
              0,
              "#0d0887"
             ],
             [
              0.1111111111111111,
              "#46039f"
             ],
             [
              0.2222222222222222,
              "#7201a8"
             ],
             [
              0.3333333333333333,
              "#9c179e"
             ],
             [
              0.4444444444444444,
              "#bd3786"
             ],
             [
              0.5555555555555556,
              "#d8576b"
             ],
             [
              0.6666666666666666,
              "#ed7953"
             ],
             [
              0.7777777777777778,
              "#fb9f3a"
             ],
             [
              0.8888888888888888,
              "#fdca26"
             ],
             [
              1,
              "#f0f921"
             ]
            ],
            "type": "histogram2dcontour"
           }
          ],
          "mesh3d": [
           {
            "colorbar": {
             "outlinewidth": 0,
             "ticks": ""
            },
            "type": "mesh3d"
           }
          ],
          "parcoords": [
           {
            "line": {
             "colorbar": {
              "outlinewidth": 0,
              "ticks": ""
             }
            },
            "type": "parcoords"
           }
          ],
          "pie": [
           {
            "automargin": true,
            "type": "pie"
           }
          ],
          "scatter": [
           {
            "fillpattern": {
             "fillmode": "overlay",
             "size": 10,
             "solidity": 0.2
            },
            "type": "scatter"
           }
          ],
          "scatter3d": [
           {
            "line": {
             "colorbar": {
              "outlinewidth": 0,
              "ticks": ""
             }
            },
            "marker": {
             "colorbar": {
              "outlinewidth": 0,
              "ticks": ""
             }
            },
            "type": "scatter3d"
           }
          ],
          "scattercarpet": [
           {
            "marker": {
             "colorbar": {
              "outlinewidth": 0,
              "ticks": ""
             }
            },
            "type": "scattercarpet"
           }
          ],
          "scattergeo": [
           {
            "marker": {
             "colorbar": {
              "outlinewidth": 0,
              "ticks": ""
             }
            },
            "type": "scattergeo"
           }
          ],
          "scattergl": [
           {
            "marker": {
             "colorbar": {
              "outlinewidth": 0,
              "ticks": ""
             }
            },
            "type": "scattergl"
           }
          ],
          "scattermapbox": [
           {
            "marker": {
             "colorbar": {
              "outlinewidth": 0,
              "ticks": ""
             }
            },
            "type": "scattermapbox"
           }
          ],
          "scatterpolar": [
           {
            "marker": {
             "colorbar": {
              "outlinewidth": 0,
              "ticks": ""
             }
            },
            "type": "scatterpolar"
           }
          ],
          "scatterpolargl": [
           {
            "marker": {
             "colorbar": {
              "outlinewidth": 0,
              "ticks": ""
             }
            },
            "type": "scatterpolargl"
           }
          ],
          "scatterternary": [
           {
            "marker": {
             "colorbar": {
              "outlinewidth": 0,
              "ticks": ""
             }
            },
            "type": "scatterternary"
           }
          ],
          "surface": [
           {
            "colorbar": {
             "outlinewidth": 0,
             "ticks": ""
            },
            "colorscale": [
             [
              0,
              "#0d0887"
             ],
             [
              0.1111111111111111,
              "#46039f"
             ],
             [
              0.2222222222222222,
              "#7201a8"
             ],
             [
              0.3333333333333333,
              "#9c179e"
             ],
             [
              0.4444444444444444,
              "#bd3786"
             ],
             [
              0.5555555555555556,
              "#d8576b"
             ],
             [
              0.6666666666666666,
              "#ed7953"
             ],
             [
              0.7777777777777778,
              "#fb9f3a"
             ],
             [
              0.8888888888888888,
              "#fdca26"
             ],
             [
              1,
              "#f0f921"
             ]
            ],
            "type": "surface"
           }
          ],
          "table": [
           {
            "cells": {
             "fill": {
              "color": "#EBF0F8"
             },
             "line": {
              "color": "white"
             }
            },
            "header": {
             "fill": {
              "color": "#C8D4E3"
             },
             "line": {
              "color": "white"
             }
            },
            "type": "table"
           }
          ]
         },
         "layout": {
          "annotationdefaults": {
           "arrowcolor": "#2a3f5f",
           "arrowhead": 0,
           "arrowwidth": 1
          },
          "autotypenumbers": "strict",
          "coloraxis": {
           "colorbar": {
            "outlinewidth": 0,
            "ticks": ""
           }
          },
          "colorscale": {
           "diverging": [
            [
             0,
             "#8e0152"
            ],
            [
             0.1,
             "#c51b7d"
            ],
            [
             0.2,
             "#de77ae"
            ],
            [
             0.3,
             "#f1b6da"
            ],
            [
             0.4,
             "#fde0ef"
            ],
            [
             0.5,
             "#f7f7f7"
            ],
            [
             0.6,
             "#e6f5d0"
            ],
            [
             0.7,
             "#b8e186"
            ],
            [
             0.8,
             "#7fbc41"
            ],
            [
             0.9,
             "#4d9221"
            ],
            [
             1,
             "#276419"
            ]
           ],
           "sequential": [
            [
             0,
             "#0d0887"
            ],
            [
             0.1111111111111111,
             "#46039f"
            ],
            [
             0.2222222222222222,
             "#7201a8"
            ],
            [
             0.3333333333333333,
             "#9c179e"
            ],
            [
             0.4444444444444444,
             "#bd3786"
            ],
            [
             0.5555555555555556,
             "#d8576b"
            ],
            [
             0.6666666666666666,
             "#ed7953"
            ],
            [
             0.7777777777777778,
             "#fb9f3a"
            ],
            [
             0.8888888888888888,
             "#fdca26"
            ],
            [
             1,
             "#f0f921"
            ]
           ],
           "sequentialminus": [
            [
             0,
             "#0d0887"
            ],
            [
             0.1111111111111111,
             "#46039f"
            ],
            [
             0.2222222222222222,
             "#7201a8"
            ],
            [
             0.3333333333333333,
             "#9c179e"
            ],
            [
             0.4444444444444444,
             "#bd3786"
            ],
            [
             0.5555555555555556,
             "#d8576b"
            ],
            [
             0.6666666666666666,
             "#ed7953"
            ],
            [
             0.7777777777777778,
             "#fb9f3a"
            ],
            [
             0.8888888888888888,
             "#fdca26"
            ],
            [
             1,
             "#f0f921"
            ]
           ]
          },
          "colorway": [
           "#636efa",
           "#EF553B",
           "#00cc96",
           "#ab63fa",
           "#FFA15A",
           "#19d3f3",
           "#FF6692",
           "#B6E880",
           "#FF97FF",
           "#FECB52"
          ],
          "font": {
           "color": "#2a3f5f"
          },
          "geo": {
           "bgcolor": "white",
           "lakecolor": "white",
           "landcolor": "#E5ECF6",
           "showlakes": true,
           "showland": true,
           "subunitcolor": "white"
          },
          "hoverlabel": {
           "align": "left"
          },
          "hovermode": "closest",
          "mapbox": {
           "style": "light"
          },
          "paper_bgcolor": "white",
          "plot_bgcolor": "#E5ECF6",
          "polar": {
           "angularaxis": {
            "gridcolor": "white",
            "linecolor": "white",
            "ticks": ""
           },
           "bgcolor": "#E5ECF6",
           "radialaxis": {
            "gridcolor": "white",
            "linecolor": "white",
            "ticks": ""
           }
          },
          "scene": {
           "xaxis": {
            "backgroundcolor": "#E5ECF6",
            "gridcolor": "white",
            "gridwidth": 2,
            "linecolor": "white",
            "showbackground": true,
            "ticks": "",
            "zerolinecolor": "white"
           },
           "yaxis": {
            "backgroundcolor": "#E5ECF6",
            "gridcolor": "white",
            "gridwidth": 2,
            "linecolor": "white",
            "showbackground": true,
            "ticks": "",
            "zerolinecolor": "white"
           },
           "zaxis": {
            "backgroundcolor": "#E5ECF6",
            "gridcolor": "white",
            "gridwidth": 2,
            "linecolor": "white",
            "showbackground": true,
            "ticks": "",
            "zerolinecolor": "white"
           }
          },
          "shapedefaults": {
           "line": {
            "color": "#2a3f5f"
           }
          },
          "ternary": {
           "aaxis": {
            "gridcolor": "white",
            "linecolor": "white",
            "ticks": ""
           },
           "baxis": {
            "gridcolor": "white",
            "linecolor": "white",
            "ticks": ""
           },
           "bgcolor": "#E5ECF6",
           "caxis": {
            "gridcolor": "white",
            "linecolor": "white",
            "ticks": ""
           }
          },
          "title": {
           "x": 0.05
          },
          "xaxis": {
           "automargin": true,
           "gridcolor": "white",
           "linecolor": "white",
           "ticks": "",
           "title": {
            "standoff": 15
           },
           "zerolinecolor": "white",
           "zerolinewidth": 2
          },
          "yaxis": {
           "automargin": true,
           "gridcolor": "white",
           "linecolor": "white",
           "ticks": "",
           "title": {
            "standoff": 15
           },
           "zerolinecolor": "white",
           "zerolinewidth": 2
          }
         }
        }
       }
      },
      "text/html": [
       "<div>                            <div id=\"57eb31a3-73aa-46e1-9df3-15e4faf90715\" class=\"plotly-graph-div\" style=\"height:525px; width:100%;\"></div>            <script type=\"text/javascript\">                require([\"plotly\"], function(Plotly) {                    window.PLOTLYENV=window.PLOTLYENV || {};                                    if (document.getElementById(\"57eb31a3-73aa-46e1-9df3-15e4faf90715\")) {                    Plotly.newPlot(                        \"57eb31a3-73aa-46e1-9df3-15e4faf90715\",                        [{\"hole\":0.4,\"labels\":[\"Enterprise Tech\",\"Financial Services\",\"Consumer & Retail\",\"Industrials\",\"Healthcare & Life Sciences\",\"Media & Entertainment\",\"Insurance\"],\"pull\":[0.1,0,0,0,0,0,0],\"textinfo\":\"label+percent\",\"textposition\":\"outside\",\"values\":[370,216,215,190,122,81,27],\"type\":\"pie\"}],                        {\"template\":{\"data\":{\"histogram2dcontour\":[{\"type\":\"histogram2dcontour\",\"colorbar\":{\"outlinewidth\":0,\"ticks\":\"\"},\"colorscale\":[[0.0,\"#0d0887\"],[0.1111111111111111,\"#46039f\"],[0.2222222222222222,\"#7201a8\"],[0.3333333333333333,\"#9c179e\"],[0.4444444444444444,\"#bd3786\"],[0.5555555555555556,\"#d8576b\"],[0.6666666666666666,\"#ed7953\"],[0.7777777777777778,\"#fb9f3a\"],[0.8888888888888888,\"#fdca26\"],[1.0,\"#f0f921\"]]}],\"choropleth\":[{\"type\":\"choropleth\",\"colorbar\":{\"outlinewidth\":0,\"ticks\":\"\"}}],\"histogram2d\":[{\"type\":\"histogram2d\",\"colorbar\":{\"outlinewidth\":0,\"ticks\":\"\"},\"colorscale\":[[0.0,\"#0d0887\"],[0.1111111111111111,\"#46039f\"],[0.2222222222222222,\"#7201a8\"],[0.3333333333333333,\"#9c179e\"],[0.4444444444444444,\"#bd3786\"],[0.5555555555555556,\"#d8576b\"],[0.6666666666666666,\"#ed7953\"],[0.7777777777777778,\"#fb9f3a\"],[0.8888888888888888,\"#fdca26\"],[1.0,\"#f0f921\"]]}],\"heatmap\":[{\"type\":\"heatmap\",\"colorbar\":{\"outlinewidth\":0,\"ticks\":\"\"},\"colorscale\":[[0.0,\"#0d0887\"],[0.1111111111111111,\"#46039f\"],[0.2222222222222222,\"#7201a8\"],[0.3333333333333333,\"#9c179e\"],[0.4444444444444444,\"#bd3786\"],[0.5555555555555556,\"#d8576b\"],[0.6666666666666666,\"#ed7953\"],[0.7777777777777778,\"#fb9f3a\"],[0.8888888888888888,\"#fdca26\"],[1.0,\"#f0f921\"]]}],\"heatmapgl\":[{\"type\":\"heatmapgl\",\"colorbar\":{\"outlinewidth\":0,\"ticks\":\"\"},\"colorscale\":[[0.0,\"#0d0887\"],[0.1111111111111111,\"#46039f\"],[0.2222222222222222,\"#7201a8\"],[0.3333333333333333,\"#9c179e\"],[0.4444444444444444,\"#bd3786\"],[0.5555555555555556,\"#d8576b\"],[0.6666666666666666,\"#ed7953\"],[0.7777777777777778,\"#fb9f3a\"],[0.8888888888888888,\"#fdca26\"],[1.0,\"#f0f921\"]]}],\"contourcarpet\":[{\"type\":\"contourcarpet\",\"colorbar\":{\"outlinewidth\":0,\"ticks\":\"\"}}],\"contour\":[{\"type\":\"contour\",\"colorbar\":{\"outlinewidth\":0,\"ticks\":\"\"},\"colorscale\":[[0.0,\"#0d0887\"],[0.1111111111111111,\"#46039f\"],[0.2222222222222222,\"#7201a8\"],[0.3333333333333333,\"#9c179e\"],[0.4444444444444444,\"#bd3786\"],[0.5555555555555556,\"#d8576b\"],[0.6666666666666666,\"#ed7953\"],[0.7777777777777778,\"#fb9f3a\"],[0.8888888888888888,\"#fdca26\"],[1.0,\"#f0f921\"]]}],\"surface\":[{\"type\":\"surface\",\"colorbar\":{\"outlinewidth\":0,\"ticks\":\"\"},\"colorscale\":[[0.0,\"#0d0887\"],[0.1111111111111111,\"#46039f\"],[0.2222222222222222,\"#7201a8\"],[0.3333333333333333,\"#9c179e\"],[0.4444444444444444,\"#bd3786\"],[0.5555555555555556,\"#d8576b\"],[0.6666666666666666,\"#ed7953\"],[0.7777777777777778,\"#fb9f3a\"],[0.8888888888888888,\"#fdca26\"],[1.0,\"#f0f921\"]]}],\"mesh3d\":[{\"type\":\"mesh3d\",\"colorbar\":{\"outlinewidth\":0,\"ticks\":\"\"}}],\"scatter\":[{\"fillpattern\":{\"fillmode\":\"overlay\",\"size\":10,\"solidity\":0.2},\"type\":\"scatter\"}],\"parcoords\":[{\"type\":\"parcoords\",\"line\":{\"colorbar\":{\"outlinewidth\":0,\"ticks\":\"\"}}}],\"scatterpolargl\":[{\"type\":\"scatterpolargl\",\"marker\":{\"colorbar\":{\"outlinewidth\":0,\"ticks\":\"\"}}}],\"bar\":[{\"error_x\":{\"color\":\"#2a3f5f\"},\"error_y\":{\"color\":\"#2a3f5f\"},\"marker\":{\"line\":{\"color\":\"#E5ECF6\",\"width\":0.5},\"pattern\":{\"fillmode\":\"overlay\",\"size\":10,\"solidity\":0.2}},\"type\":\"bar\"}],\"scattergeo\":[{\"type\":\"scattergeo\",\"marker\":{\"colorbar\":{\"outlinewidth\":0,\"ticks\":\"\"}}}],\"scatterpolar\":[{\"type\":\"scatterpolar\",\"marker\":{\"colorbar\":{\"outlinewidth\":0,\"ticks\":\"\"}}}],\"histogram\":[{\"marker\":{\"pattern\":{\"fillmode\":\"overlay\",\"size\":10,\"solidity\":0.2}},\"type\":\"histogram\"}],\"scattergl\":[{\"type\":\"scattergl\",\"marker\":{\"colorbar\":{\"outlinewidth\":0,\"ticks\":\"\"}}}],\"scatter3d\":[{\"type\":\"scatter3d\",\"line\":{\"colorbar\":{\"outlinewidth\":0,\"ticks\":\"\"}},\"marker\":{\"colorbar\":{\"outlinewidth\":0,\"ticks\":\"\"}}}],\"scattermapbox\":[{\"type\":\"scattermapbox\",\"marker\":{\"colorbar\":{\"outlinewidth\":0,\"ticks\":\"\"}}}],\"scatterternary\":[{\"type\":\"scatterternary\",\"marker\":{\"colorbar\":{\"outlinewidth\":0,\"ticks\":\"\"}}}],\"scattercarpet\":[{\"type\":\"scattercarpet\",\"marker\":{\"colorbar\":{\"outlinewidth\":0,\"ticks\":\"\"}}}],\"carpet\":[{\"aaxis\":{\"endlinecolor\":\"#2a3f5f\",\"gridcolor\":\"white\",\"linecolor\":\"white\",\"minorgridcolor\":\"white\",\"startlinecolor\":\"#2a3f5f\"},\"baxis\":{\"endlinecolor\":\"#2a3f5f\",\"gridcolor\":\"white\",\"linecolor\":\"white\",\"minorgridcolor\":\"white\",\"startlinecolor\":\"#2a3f5f\"},\"type\":\"carpet\"}],\"table\":[{\"cells\":{\"fill\":{\"color\":\"#EBF0F8\"},\"line\":{\"color\":\"white\"}},\"header\":{\"fill\":{\"color\":\"#C8D4E3\"},\"line\":{\"color\":\"white\"}},\"type\":\"table\"}],\"barpolar\":[{\"marker\":{\"line\":{\"color\":\"#E5ECF6\",\"width\":0.5},\"pattern\":{\"fillmode\":\"overlay\",\"size\":10,\"solidity\":0.2}},\"type\":\"barpolar\"}],\"pie\":[{\"automargin\":true,\"type\":\"pie\"}]},\"layout\":{\"autotypenumbers\":\"strict\",\"colorway\":[\"#636efa\",\"#EF553B\",\"#00cc96\",\"#ab63fa\",\"#FFA15A\",\"#19d3f3\",\"#FF6692\",\"#B6E880\",\"#FF97FF\",\"#FECB52\"],\"font\":{\"color\":\"#2a3f5f\"},\"hovermode\":\"closest\",\"hoverlabel\":{\"align\":\"left\"},\"paper_bgcolor\":\"white\",\"plot_bgcolor\":\"#E5ECF6\",\"polar\":{\"bgcolor\":\"#E5ECF6\",\"angularaxis\":{\"gridcolor\":\"white\",\"linecolor\":\"white\",\"ticks\":\"\"},\"radialaxis\":{\"gridcolor\":\"white\",\"linecolor\":\"white\",\"ticks\":\"\"}},\"ternary\":{\"bgcolor\":\"#E5ECF6\",\"aaxis\":{\"gridcolor\":\"white\",\"linecolor\":\"white\",\"ticks\":\"\"},\"baxis\":{\"gridcolor\":\"white\",\"linecolor\":\"white\",\"ticks\":\"\"},\"caxis\":{\"gridcolor\":\"white\",\"linecolor\":\"white\",\"ticks\":\"\"}},\"coloraxis\":{\"colorbar\":{\"outlinewidth\":0,\"ticks\":\"\"}},\"colorscale\":{\"sequential\":[[0.0,\"#0d0887\"],[0.1111111111111111,\"#46039f\"],[0.2222222222222222,\"#7201a8\"],[0.3333333333333333,\"#9c179e\"],[0.4444444444444444,\"#bd3786\"],[0.5555555555555556,\"#d8576b\"],[0.6666666666666666,\"#ed7953\"],[0.7777777777777778,\"#fb9f3a\"],[0.8888888888888888,\"#fdca26\"],[1.0,\"#f0f921\"]],\"sequentialminus\":[[0.0,\"#0d0887\"],[0.1111111111111111,\"#46039f\"],[0.2222222222222222,\"#7201a8\"],[0.3333333333333333,\"#9c179e\"],[0.4444444444444444,\"#bd3786\"],[0.5555555555555556,\"#d8576b\"],[0.6666666666666666,\"#ed7953\"],[0.7777777777777778,\"#fb9f3a\"],[0.8888888888888888,\"#fdca26\"],[1.0,\"#f0f921\"]],\"diverging\":[[0,\"#8e0152\"],[0.1,\"#c51b7d\"],[0.2,\"#de77ae\"],[0.3,\"#f1b6da\"],[0.4,\"#fde0ef\"],[0.5,\"#f7f7f7\"],[0.6,\"#e6f5d0\"],[0.7,\"#b8e186\"],[0.8,\"#7fbc41\"],[0.9,\"#4d9221\"],[1,\"#276419\"]]},\"xaxis\":{\"gridcolor\":\"white\",\"linecolor\":\"white\",\"ticks\":\"\",\"title\":{\"standoff\":15},\"zerolinecolor\":\"white\",\"automargin\":true,\"zerolinewidth\":2},\"yaxis\":{\"gridcolor\":\"white\",\"linecolor\":\"white\",\"ticks\":\"\",\"title\":{\"standoff\":15},\"zerolinecolor\":\"white\",\"automargin\":true,\"zerolinewidth\":2},\"scene\":{\"xaxis\":{\"backgroundcolor\":\"#E5ECF6\",\"gridcolor\":\"white\",\"linecolor\":\"white\",\"showbackground\":true,\"ticks\":\"\",\"zerolinecolor\":\"white\",\"gridwidth\":2},\"yaxis\":{\"backgroundcolor\":\"#E5ECF6\",\"gridcolor\":\"white\",\"linecolor\":\"white\",\"showbackground\":true,\"ticks\":\"\",\"zerolinecolor\":\"white\",\"gridwidth\":2},\"zaxis\":{\"backgroundcolor\":\"#E5ECF6\",\"gridcolor\":\"white\",\"linecolor\":\"white\",\"showbackground\":true,\"ticks\":\"\",\"zerolinecolor\":\"white\",\"gridwidth\":2}},\"shapedefaults\":{\"line\":{\"color\":\"#2a3f5f\"}},\"annotationdefaults\":{\"arrowcolor\":\"#2a3f5f\",\"arrowhead\":0,\"arrowwidth\":1},\"geo\":{\"bgcolor\":\"white\",\"landcolor\":\"#E5ECF6\",\"subunitcolor\":\"white\",\"showland\":true,\"showlakes\":true,\"lakecolor\":\"white\"},\"title\":{\"x\":0.05},\"mapbox\":{\"style\":\"light\"}}},\"annotations\":[{\"showarrow\":false,\"text\":\"Total: 1221\",\"x\":0.5,\"y\":0.5,\"font\":{\"size\":20}}]},                        {\"responsive\": true}                    ).then(function(){\n",
       "                            \n",
       "var gd = document.getElementById('57eb31a3-73aa-46e1-9df3-15e4faf90715');\n",
       "var x = new MutationObserver(function (mutations, observer) {{\n",
       "        var display = window.getComputedStyle(gd).display;\n",
       "        if (!display || display === 'none') {{\n",
       "            console.log([gd, 'removed!']);\n",
       "            Plotly.purge(gd);\n",
       "            observer.disconnect();\n",
       "        }}\n",
       "}});\n",
       "\n",
       "// Listen for the removal of the full notebook cells\n",
       "var notebookContainer = gd.closest('#notebook-container');\n",
       "if (notebookContainer) {{\n",
       "    x.observe(notebookContainer, {childList: true});\n",
       "}}\n",
       "\n",
       "// Listen for the clearing of the current output cell\n",
       "var outputEl = gd.closest('.output');\n",
       "if (outputEl) {{\n",
       "    x.observe(outputEl, {childList: true});\n",
       "}}\n",
       "\n",
       "                        })                };                });            </script>        </div>"
      ]
     },
     "metadata": {},
     "output_type": "display_data"
    }
   ],
   "source": [
    "# Find the index of the sector with the largest value\n",
    "max_index = df_industry['Number of Unicorns'].idxmax()\n",
    "\n",
    "# Make a list of pull values\n",
    "pull_values = [0.1 if i == max_index else 0 for i in range(len(df_industry))]\n",
    "\n",
    "# Make a donut chart using plotly\n",
    "fig = go.Figure(data=[go.Pie(labels=df_industry['index'], values=df_industry['Number of Unicorns'], hole=0.4, textinfo='label+percent', textposition='outside', pull=pull_values)])\n",
    "# Add the total number of unicorns in the center\n",
    "fig.update_layout(annotations=[dict(text='Total: {}'.format(df_industry['Number of Unicorns'].sum()), x=0.5, y=0.5, font_size=20, showarrow=False)])\n",
    "fig.show()"
   ]
  },
  {
   "cell_type": "markdown",
   "id": "6367db9c",
   "metadata": {},
   "source": [
    "### Unicorn Investor Analysis"
   ]
  },
  {
   "cell_type": "code",
   "execution_count": 75,
   "id": "039cc8fc",
   "metadata": {},
   "outputs": [],
   "source": [
    "# Split the df['Select Investors'] column into multiple rows using ', ' as the separator\n",
    "df_investor = df.assign(Investor=df['Select Investors'].str.split(', ')).explode('Investor')"
   ]
  },
  {
   "cell_type": "code",
   "execution_count": 76,
   "id": "e2e1fe47",
   "metadata": {
    "scrolled": true
   },
   "outputs": [
    {
     "data": {
      "text/html": [
       "<div>\n",
       "<style scoped>\n",
       "    .dataframe tbody tr th:only-of-type {\n",
       "        vertical-align: middle;\n",
       "    }\n",
       "\n",
       "    .dataframe tbody tr th {\n",
       "        vertical-align: top;\n",
       "    }\n",
       "\n",
       "    .dataframe thead th {\n",
       "        text-align: right;\n",
       "    }\n",
       "</style>\n",
       "<table border=\"1\" class=\"dataframe\">\n",
       "  <thead>\n",
       "    <tr style=\"text-align: right;\">\n",
       "      <th></th>\n",
       "      <th>Date Joined</th>\n",
       "      <th>Date Since Joined</th>\n",
       "      <th>Company</th>\n",
       "      <th>Valuation ($B)</th>\n",
       "      <th>Country</th>\n",
       "      <th>City</th>\n",
       "      <th>Industry</th>\n",
       "      <th>Select Investors</th>\n",
       "      <th>Country Code</th>\n",
       "      <th>Decacorn</th>\n",
       "      <th>...</th>\n",
       "      <th>GDP, 2020 Growth</th>\n",
       "      <th>GDP, 2021 Growth</th>\n",
       "      <th>GDP, 2022 Growth</th>\n",
       "      <th>Mean_GDP_Growth</th>\n",
       "      <th>Variance_GDP_Growth</th>\n",
       "      <th>Mean_Lending_Rate</th>\n",
       "      <th>Mean_Inflation_Rate</th>\n",
       "      <th>Mean_Corporation_Tax_Rate</th>\n",
       "      <th>Year Joined</th>\n",
       "      <th>Investor</th>\n",
       "    </tr>\n",
       "  </thead>\n",
       "  <tbody>\n",
       "    <tr>\n",
       "      <th>0</th>\n",
       "      <td>2017-04-07</td>\n",
       "      <td>2342</td>\n",
       "      <td>ByteDance</td>\n",
       "      <td>225.0</td>\n",
       "      <td>China</td>\n",
       "      <td>Beijing</td>\n",
       "      <td>Media &amp; Entertainment</td>\n",
       "      <td>Sequoia Capital China, SIG Asia Investments, S...</td>\n",
       "      <td>CHN</td>\n",
       "      <td>1</td>\n",
       "      <td>...</td>\n",
       "      <td>2.855574</td>\n",
       "      <td>21.328775</td>\n",
       "      <td>0.800828</td>\n",
       "      <td>12.800046</td>\n",
       "      <td>88.474618</td>\n",
       "      <td>5.234118</td>\n",
       "      <td>2.525466</td>\n",
       "      <td>66.171429</td>\n",
       "      <td>2017</td>\n",
       "      <td>Sequoia Capital China</td>\n",
       "    </tr>\n",
       "    <tr>\n",
       "      <th>0</th>\n",
       "      <td>2017-04-07</td>\n",
       "      <td>2342</td>\n",
       "      <td>ByteDance</td>\n",
       "      <td>225.0</td>\n",
       "      <td>China</td>\n",
       "      <td>Beijing</td>\n",
       "      <td>Media &amp; Entertainment</td>\n",
       "      <td>Sequoia Capital China, SIG Asia Investments, S...</td>\n",
       "      <td>CHN</td>\n",
       "      <td>1</td>\n",
       "      <td>...</td>\n",
       "      <td>2.855574</td>\n",
       "      <td>21.328775</td>\n",
       "      <td>0.800828</td>\n",
       "      <td>12.800046</td>\n",
       "      <td>88.474618</td>\n",
       "      <td>5.234118</td>\n",
       "      <td>2.525466</td>\n",
       "      <td>66.171429</td>\n",
       "      <td>2017</td>\n",
       "      <td>SIG Asia Investments</td>\n",
       "    </tr>\n",
       "    <tr>\n",
       "      <th>0</th>\n",
       "      <td>2017-04-07</td>\n",
       "      <td>2342</td>\n",
       "      <td>ByteDance</td>\n",
       "      <td>225.0</td>\n",
       "      <td>China</td>\n",
       "      <td>Beijing</td>\n",
       "      <td>Media &amp; Entertainment</td>\n",
       "      <td>Sequoia Capital China, SIG Asia Investments, S...</td>\n",
       "      <td>CHN</td>\n",
       "      <td>1</td>\n",
       "      <td>...</td>\n",
       "      <td>2.855574</td>\n",
       "      <td>21.328775</td>\n",
       "      <td>0.800828</td>\n",
       "      <td>12.800046</td>\n",
       "      <td>88.474618</td>\n",
       "      <td>5.234118</td>\n",
       "      <td>2.525466</td>\n",
       "      <td>66.171429</td>\n",
       "      <td>2017</td>\n",
       "      <td>Sina Weibo</td>\n",
       "    </tr>\n",
       "    <tr>\n",
       "      <th>0</th>\n",
       "      <td>2017-04-07</td>\n",
       "      <td>2342</td>\n",
       "      <td>ByteDance</td>\n",
       "      <td>225.0</td>\n",
       "      <td>China</td>\n",
       "      <td>Beijing</td>\n",
       "      <td>Media &amp; Entertainment</td>\n",
       "      <td>Sequoia Capital China, SIG Asia Investments, S...</td>\n",
       "      <td>CHN</td>\n",
       "      <td>1</td>\n",
       "      <td>...</td>\n",
       "      <td>2.855574</td>\n",
       "      <td>21.328775</td>\n",
       "      <td>0.800828</td>\n",
       "      <td>12.800046</td>\n",
       "      <td>88.474618</td>\n",
       "      <td>5.234118</td>\n",
       "      <td>2.525466</td>\n",
       "      <td>66.171429</td>\n",
       "      <td>2017</td>\n",
       "      <td>SoftBank Group</td>\n",
       "    </tr>\n",
       "    <tr>\n",
       "      <th>1</th>\n",
       "      <td>2012-12-01</td>\n",
       "      <td>3930</td>\n",
       "      <td>SpaceX</td>\n",
       "      <td>137.0</td>\n",
       "      <td>United States</td>\n",
       "      <td>Hawthorne</td>\n",
       "      <td>Industrials</td>\n",
       "      <td>Founders Fund, Draper Fisher Jurvetson, Rothen...</td>\n",
       "      <td>USA</td>\n",
       "      <td>1</td>\n",
       "      <td>...</td>\n",
       "      <td>-1.499008</td>\n",
       "      <td>10.705395</td>\n",
       "      <td>9.211289</td>\n",
       "      <td>3.939294</td>\n",
       "      <td>9.775328</td>\n",
       "      <td>4.277760</td>\n",
       "      <td>2.424400</td>\n",
       "      <td>42.814286</td>\n",
       "      <td>2012</td>\n",
       "      <td>Founders Fund</td>\n",
       "    </tr>\n",
       "    <tr>\n",
       "      <th>...</th>\n",
       "      <td>...</td>\n",
       "      <td>...</td>\n",
       "      <td>...</td>\n",
       "      <td>...</td>\n",
       "      <td>...</td>\n",
       "      <td>...</td>\n",
       "      <td>...</td>\n",
       "      <td>...</td>\n",
       "      <td>...</td>\n",
       "      <td>...</td>\n",
       "      <td>...</td>\n",
       "      <td>...</td>\n",
       "      <td>...</td>\n",
       "      <td>...</td>\n",
       "      <td>...</td>\n",
       "      <td>...</td>\n",
       "      <td>...</td>\n",
       "      <td>...</td>\n",
       "      <td>...</td>\n",
       "      <td>...</td>\n",
       "      <td>...</td>\n",
       "    </tr>\n",
       "    <tr>\n",
       "      <th>1219</th>\n",
       "      <td>2022-07-12</td>\n",
       "      <td>420</td>\n",
       "      <td>SingleStore</td>\n",
       "      <td>1.0</td>\n",
       "      <td>United States</td>\n",
       "      <td>San Francisco</td>\n",
       "      <td>Enterprise Tech</td>\n",
       "      <td>Google Ventures, Accel, Data Collective</td>\n",
       "      <td>USA</td>\n",
       "      <td>0</td>\n",
       "      <td>...</td>\n",
       "      <td>-1.499008</td>\n",
       "      <td>10.705395</td>\n",
       "      <td>9.211289</td>\n",
       "      <td>3.939294</td>\n",
       "      <td>9.775328</td>\n",
       "      <td>4.277760</td>\n",
       "      <td>2.424400</td>\n",
       "      <td>42.814286</td>\n",
       "      <td>2022</td>\n",
       "      <td>Accel</td>\n",
       "    </tr>\n",
       "    <tr>\n",
       "      <th>1219</th>\n",
       "      <td>2022-07-12</td>\n",
       "      <td>420</td>\n",
       "      <td>SingleStore</td>\n",
       "      <td>1.0</td>\n",
       "      <td>United States</td>\n",
       "      <td>San Francisco</td>\n",
       "      <td>Enterprise Tech</td>\n",
       "      <td>Google Ventures, Accel, Data Collective</td>\n",
       "      <td>USA</td>\n",
       "      <td>0</td>\n",
       "      <td>...</td>\n",
       "      <td>-1.499008</td>\n",
       "      <td>10.705395</td>\n",
       "      <td>9.211289</td>\n",
       "      <td>3.939294</td>\n",
       "      <td>9.775328</td>\n",
       "      <td>4.277760</td>\n",
       "      <td>2.424400</td>\n",
       "      <td>42.814286</td>\n",
       "      <td>2022</td>\n",
       "      <td>Data Collective</td>\n",
       "    </tr>\n",
       "    <tr>\n",
       "      <th>1220</th>\n",
       "      <td>2022-07-27</td>\n",
       "      <td>405</td>\n",
       "      <td>Unstoppable Domains</td>\n",
       "      <td>1.0</td>\n",
       "      <td>United States</td>\n",
       "      <td>Las Vegas</td>\n",
       "      <td>Media &amp; Entertainment</td>\n",
       "      <td>Boost VC, Draper Associates, Gaingels</td>\n",
       "      <td>USA</td>\n",
       "      <td>0</td>\n",
       "      <td>...</td>\n",
       "      <td>-1.499008</td>\n",
       "      <td>10.705395</td>\n",
       "      <td>9.211289</td>\n",
       "      <td>3.939294</td>\n",
       "      <td>9.775328</td>\n",
       "      <td>4.277760</td>\n",
       "      <td>2.424400</td>\n",
       "      <td>42.814286</td>\n",
       "      <td>2022</td>\n",
       "      <td>Boost VC</td>\n",
       "    </tr>\n",
       "    <tr>\n",
       "      <th>1220</th>\n",
       "      <td>2022-07-27</td>\n",
       "      <td>405</td>\n",
       "      <td>Unstoppable Domains</td>\n",
       "      <td>1.0</td>\n",
       "      <td>United States</td>\n",
       "      <td>Las Vegas</td>\n",
       "      <td>Media &amp; Entertainment</td>\n",
       "      <td>Boost VC, Draper Associates, Gaingels</td>\n",
       "      <td>USA</td>\n",
       "      <td>0</td>\n",
       "      <td>...</td>\n",
       "      <td>-1.499008</td>\n",
       "      <td>10.705395</td>\n",
       "      <td>9.211289</td>\n",
       "      <td>3.939294</td>\n",
       "      <td>9.775328</td>\n",
       "      <td>4.277760</td>\n",
       "      <td>2.424400</td>\n",
       "      <td>42.814286</td>\n",
       "      <td>2022</td>\n",
       "      <td>Draper Associates</td>\n",
       "    </tr>\n",
       "    <tr>\n",
       "      <th>1220</th>\n",
       "      <td>2022-07-27</td>\n",
       "      <td>405</td>\n",
       "      <td>Unstoppable Domains</td>\n",
       "      <td>1.0</td>\n",
       "      <td>United States</td>\n",
       "      <td>Las Vegas</td>\n",
       "      <td>Media &amp; Entertainment</td>\n",
       "      <td>Boost VC, Draper Associates, Gaingels</td>\n",
       "      <td>USA</td>\n",
       "      <td>0</td>\n",
       "      <td>...</td>\n",
       "      <td>-1.499008</td>\n",
       "      <td>10.705395</td>\n",
       "      <td>9.211289</td>\n",
       "      <td>3.939294</td>\n",
       "      <td>9.775328</td>\n",
       "      <td>4.277760</td>\n",
       "      <td>2.424400</td>\n",
       "      <td>42.814286</td>\n",
       "      <td>2022</td>\n",
       "      <td>Gaingels</td>\n",
       "    </tr>\n",
       "  </tbody>\n",
       "</table>\n",
       "<p>3430 rows × 103 columns</p>\n",
       "</div>"
      ],
      "text/plain": [
       "     Date Joined  Date Since Joined              Company  Valuation ($B)  \\\n",
       "0     2017-04-07               2342            ByteDance           225.0   \n",
       "0     2017-04-07               2342            ByteDance           225.0   \n",
       "0     2017-04-07               2342            ByteDance           225.0   \n",
       "0     2017-04-07               2342            ByteDance           225.0   \n",
       "1     2012-12-01               3930               SpaceX           137.0   \n",
       "...          ...                ...                  ...             ...   \n",
       "1219  2022-07-12                420          SingleStore             1.0   \n",
       "1219  2022-07-12                420          SingleStore             1.0   \n",
       "1220  2022-07-27                405  Unstoppable Domains             1.0   \n",
       "1220  2022-07-27                405  Unstoppable Domains             1.0   \n",
       "1220  2022-07-27                405  Unstoppable Domains             1.0   \n",
       "\n",
       "            Country           City               Industry  \\\n",
       "0             China        Beijing  Media & Entertainment   \n",
       "0             China        Beijing  Media & Entertainment   \n",
       "0             China        Beijing  Media & Entertainment   \n",
       "0             China        Beijing  Media & Entertainment   \n",
       "1     United States      Hawthorne            Industrials   \n",
       "...             ...            ...                    ...   \n",
       "1219  United States  San Francisco        Enterprise Tech   \n",
       "1219  United States  San Francisco        Enterprise Tech   \n",
       "1220  United States      Las Vegas  Media & Entertainment   \n",
       "1220  United States      Las Vegas  Media & Entertainment   \n",
       "1220  United States      Las Vegas  Media & Entertainment   \n",
       "\n",
       "                                       Select Investors Country Code  \\\n",
       "0     Sequoia Capital China, SIG Asia Investments, S...          CHN   \n",
       "0     Sequoia Capital China, SIG Asia Investments, S...          CHN   \n",
       "0     Sequoia Capital China, SIG Asia Investments, S...          CHN   \n",
       "0     Sequoia Capital China, SIG Asia Investments, S...          CHN   \n",
       "1     Founders Fund, Draper Fisher Jurvetson, Rothen...          USA   \n",
       "...                                                 ...          ...   \n",
       "1219            Google Ventures, Accel, Data Collective          USA   \n",
       "1219            Google Ventures, Accel, Data Collective          USA   \n",
       "1220              Boost VC, Draper Associates, Gaingels          USA   \n",
       "1220              Boost VC, Draper Associates, Gaingels          USA   \n",
       "1220              Boost VC, Draper Associates, Gaingels          USA   \n",
       "\n",
       "      Decacorn  ...  GDP, 2020 Growth  GDP, 2021 Growth  GDP, 2022 Growth  \\\n",
       "0            1  ...          2.855574         21.328775          0.800828   \n",
       "0            1  ...          2.855574         21.328775          0.800828   \n",
       "0            1  ...          2.855574         21.328775          0.800828   \n",
       "0            1  ...          2.855574         21.328775          0.800828   \n",
       "1            1  ...         -1.499008         10.705395          9.211289   \n",
       "...        ...  ...               ...               ...               ...   \n",
       "1219         0  ...         -1.499008         10.705395          9.211289   \n",
       "1219         0  ...         -1.499008         10.705395          9.211289   \n",
       "1220         0  ...         -1.499008         10.705395          9.211289   \n",
       "1220         0  ...         -1.499008         10.705395          9.211289   \n",
       "1220         0  ...         -1.499008         10.705395          9.211289   \n",
       "\n",
       "      Mean_GDP_Growth  Variance_GDP_Growth  Mean_Lending_Rate  \\\n",
       "0           12.800046            88.474618           5.234118   \n",
       "0           12.800046            88.474618           5.234118   \n",
       "0           12.800046            88.474618           5.234118   \n",
       "0           12.800046            88.474618           5.234118   \n",
       "1            3.939294             9.775328           4.277760   \n",
       "...               ...                  ...                ...   \n",
       "1219         3.939294             9.775328           4.277760   \n",
       "1219         3.939294             9.775328           4.277760   \n",
       "1220         3.939294             9.775328           4.277760   \n",
       "1220         3.939294             9.775328           4.277760   \n",
       "1220         3.939294             9.775328           4.277760   \n",
       "\n",
       "      Mean_Inflation_Rate  Mean_Corporation_Tax_Rate  Year Joined  \\\n",
       "0                2.525466                  66.171429         2017   \n",
       "0                2.525466                  66.171429         2017   \n",
       "0                2.525466                  66.171429         2017   \n",
       "0                2.525466                  66.171429         2017   \n",
       "1                2.424400                  42.814286         2012   \n",
       "...                   ...                        ...          ...   \n",
       "1219             2.424400                  42.814286         2022   \n",
       "1219             2.424400                  42.814286         2022   \n",
       "1220             2.424400                  42.814286         2022   \n",
       "1220             2.424400                  42.814286         2022   \n",
       "1220             2.424400                  42.814286         2022   \n",
       "\n",
       "                   Investor  \n",
       "0     Sequoia Capital China  \n",
       "0      SIG Asia Investments  \n",
       "0                Sina Weibo  \n",
       "0            SoftBank Group  \n",
       "1             Founders Fund  \n",
       "...                     ...  \n",
       "1219                  Accel  \n",
       "1219        Data Collective  \n",
       "1220               Boost VC  \n",
       "1220      Draper Associates  \n",
       "1220               Gaingels  \n",
       "\n",
       "[3430 rows x 103 columns]"
      ]
     },
     "execution_count": 76,
     "metadata": {},
     "output_type": "execute_result"
    }
   ],
   "source": [
    "df_investor"
   ]
  },
  {
   "cell_type": "code",
   "execution_count": 77,
   "id": "82a8d2ea",
   "metadata": {
    "scrolled": false
   },
   "outputs": [
    {
     "data": {
      "text/html": [
       "<div>\n",
       "<style scoped>\n",
       "    .dataframe tbody tr th:only-of-type {\n",
       "        vertical-align: middle;\n",
       "    }\n",
       "\n",
       "    .dataframe tbody tr th {\n",
       "        vertical-align: top;\n",
       "    }\n",
       "\n",
       "    .dataframe thead th {\n",
       "        text-align: right;\n",
       "    }\n",
       "</style>\n",
       "<table border=\"1\" class=\"dataframe\">\n",
       "  <thead>\n",
       "    <tr style=\"text-align: right;\">\n",
       "      <th></th>\n",
       "      <th>Number_of_Unicorns</th>\n",
       "      <th>Names_of_Unicorns</th>\n",
       "      <th>Countries_of_Unicorns</th>\n",
       "      <th>Sum_of_Valuations</th>\n",
       "    </tr>\n",
       "    <tr>\n",
       "      <th>Investor</th>\n",
       "      <th></th>\n",
       "      <th></th>\n",
       "      <th></th>\n",
       "      <th></th>\n",
       "    </tr>\n",
       "  </thead>\n",
       "  <tbody>\n",
       "    <tr>\n",
       "      <th>.406 Ventures</th>\n",
       "      <td>1</td>\n",
       "      <td>Reltio</td>\n",
       "      <td>United States</td>\n",
       "      <td>1.70</td>\n",
       "    </tr>\n",
       "    <tr>\n",
       "      <th>01 Advisors</th>\n",
       "      <td>2</td>\n",
       "      <td>Tipalti, Density</td>\n",
       "      <td>United States</td>\n",
       "      <td>9.35</td>\n",
       "    </tr>\n",
       "    <tr>\n",
       "      <th>01 Advisors. Kleiner Perkins Caufield &amp; Byers. Andreessen Horowitz</th>\n",
       "      <td>1</td>\n",
       "      <td>Autograph</td>\n",
       "      <td>United States</td>\n",
       "      <td>3.66</td>\n",
       "    </tr>\n",
       "    <tr>\n",
       "      <th>10T Fund</th>\n",
       "      <td>2</td>\n",
       "      <td>Gemini, Babel Finance</td>\n",
       "      <td>United States, Hong Kong</td>\n",
       "      <td>9.10</td>\n",
       "    </tr>\n",
       "    <tr>\n",
       "      <th>14W</th>\n",
       "      <td>2</td>\n",
       "      <td>Fever, K Health</td>\n",
       "      <td>United States</td>\n",
       "      <td>3.46</td>\n",
       "    </tr>\n",
       "    <tr>\n",
       "      <th>...</th>\n",
       "      <td>...</td>\n",
       "      <td>...</td>\n",
       "      <td>...</td>\n",
       "      <td>...</td>\n",
       "    </tr>\n",
       "    <tr>\n",
       "      <th>iTech Capital</th>\n",
       "      <td>1</td>\n",
       "      <td>BitFury</td>\n",
       "      <td>Netherlands</td>\n",
       "      <td>1.00</td>\n",
       "    </tr>\n",
       "    <tr>\n",
       "      <th>iVision Ventures</th>\n",
       "      <td>1</td>\n",
       "      <td>Keenon Robotics</td>\n",
       "      <td>China</td>\n",
       "      <td>1.00</td>\n",
       "    </tr>\n",
       "    <tr>\n",
       "      <th>kt investment</th>\n",
       "      <td>1</td>\n",
       "      <td>MEGAZONE</td>\n",
       "      <td>South Korea</td>\n",
       "      <td>1.83</td>\n",
       "    </tr>\n",
       "    <tr>\n",
       "      <th>next47</th>\n",
       "      <td>3</td>\n",
       "      <td>Verkada, Pipe, Bringg</td>\n",
       "      <td>United States, Israel</td>\n",
       "      <td>6.20</td>\n",
       "    </tr>\n",
       "    <tr>\n",
       "      <th>s28 Capital</th>\n",
       "      <td>2</td>\n",
       "      <td>Panther Labs, Teleport</td>\n",
       "      <td>United States</td>\n",
       "      <td>2.50</td>\n",
       "    </tr>\n",
       "  </tbody>\n",
       "</table>\n",
       "<p>1409 rows × 4 columns</p>\n",
       "</div>"
      ],
      "text/plain": [
       "                                                    Number_of_Unicorns  \\\n",
       "Investor                                                                 \n",
       ".406 Ventures                                                        1   \n",
       "01 Advisors                                                          2   \n",
       "01 Advisors. Kleiner Perkins Caufield & Byers. ...                   1   \n",
       "10T Fund                                                             2   \n",
       "14W                                                                  2   \n",
       "...                                                                ...   \n",
       "iTech Capital                                                        1   \n",
       "iVision Ventures                                                     1   \n",
       "kt investment                                                        1   \n",
       "next47                                                               3   \n",
       "s28 Capital                                                          2   \n",
       "\n",
       "                                                         Names_of_Unicorns  \\\n",
       "Investor                                                                     \n",
       ".406 Ventures                                                       Reltio   \n",
       "01 Advisors                                               Tipalti, Density   \n",
       "01 Advisors. Kleiner Perkins Caufield & Byers. ...               Autograph   \n",
       "10T Fund                                             Gemini, Babel Finance   \n",
       "14W                                                        Fever, K Health   \n",
       "...                                                                    ...   \n",
       "iTech Capital                                                      BitFury   \n",
       "iVision Ventures                                           Keenon Robotics   \n",
       "kt investment                                                     MEGAZONE   \n",
       "next47                                               Verkada, Pipe, Bringg   \n",
       "s28 Capital                                         Panther Labs, Teleport   \n",
       "\n",
       "                                                       Countries_of_Unicorns  \\\n",
       "Investor                                                                       \n",
       ".406 Ventures                                                  United States   \n",
       "01 Advisors                                                    United States   \n",
       "01 Advisors. Kleiner Perkins Caufield & Byers. ...             United States   \n",
       "10T Fund                                            United States, Hong Kong   \n",
       "14W                                                            United States   \n",
       "...                                                                      ...   \n",
       "iTech Capital                                                    Netherlands   \n",
       "iVision Ventures                                                       China   \n",
       "kt investment                                                    South Korea   \n",
       "next47                                                 United States, Israel   \n",
       "s28 Capital                                                    United States   \n",
       "\n",
       "                                                    Sum_of_Valuations  \n",
       "Investor                                                               \n",
       ".406 Ventures                                                    1.70  \n",
       "01 Advisors                                                      9.35  \n",
       "01 Advisors. Kleiner Perkins Caufield & Byers. ...               3.66  \n",
       "10T Fund                                                         9.10  \n",
       "14W                                                              3.46  \n",
       "...                                                               ...  \n",
       "iTech Capital                                                    1.00  \n",
       "iVision Ventures                                                 1.00  \n",
       "kt investment                                                    1.83  \n",
       "next47                                                           6.20  \n",
       "s28 Capital                                                      2.50  \n",
       "\n",
       "[1409 rows x 4 columns]"
      ]
     },
     "execution_count": 77,
     "metadata": {},
     "output_type": "execute_result"
    }
   ],
   "source": [
    "# Group by the investor column and apply aggregation functions\n",
    "df_summary = df_investor.groupby('Investor').agg(\n",
    "    Number_of_Unicorns = ('Company', 'nunique'),\n",
    "    Names_of_Unicorns = ('Company', lambda x: ', '.join(x.unique())),\n",
    "    Countries_of_Unicorns = ('Country', lambda x: ', '.join(x.unique())),\n",
    "    Sum_of_Valuations = ('Valuation ($B)', 'sum')\n",
    ")\n",
    "\n",
    "# Display or export the final dataframe\n",
    "df_summary"
   ]
  },
  {
   "cell_type": "code",
   "execution_count": 78,
   "id": "6eaa553f",
   "metadata": {},
   "outputs": [
    {
     "data": {
      "application/vnd.jupyter.widget-view+json": {
       "model_id": "ac5b739cc1114c39a0aae44dbe9fa47a",
       "version_major": 2,
       "version_minor": 0
      },
      "text/plain": [
       "QgridWidget(grid_options={'fullWidthRows': True, 'syncColumnCellResize': True, 'forceFitColumns': False, 'defa…"
      ]
     },
     "metadata": {},
     "output_type": "display_data"
    }
   ],
   "source": [
    "qgrid.show_grid(df_summary)"
   ]
  },
  {
   "cell_type": "code",
   "execution_count": 79,
   "id": "b4177c4e",
   "metadata": {},
   "outputs": [
    {
     "data": {
      "text/html": [
       "<div>\n",
       "<style scoped>\n",
       "    .dataframe tbody tr th:only-of-type {\n",
       "        vertical-align: middle;\n",
       "    }\n",
       "\n",
       "    .dataframe tbody tr th {\n",
       "        vertical-align: top;\n",
       "    }\n",
       "\n",
       "    .dataframe thead th {\n",
       "        text-align: right;\n",
       "    }\n",
       "</style>\n",
       "<table border=\"1\" class=\"dataframe\">\n",
       "  <thead>\n",
       "    <tr style=\"text-align: right;\">\n",
       "      <th></th>\n",
       "      <th>Number_of_Unicorns</th>\n",
       "      <th>Names_of_Unicorns</th>\n",
       "      <th>Countries_of_Unicorns</th>\n",
       "      <th>Sum_of_Valuations</th>\n",
       "      <th>Most Valuable Unicorn</th>\n",
       "      <th>Valuation of Most Valuable Unicorn ($B)</th>\n",
       "      <th>Most Invested Country</th>\n",
       "      <th>Number of Unicorns in Most Invested Country</th>\n",
       "      <th>Most Common Industry</th>\n",
       "      <th>Number of Unicorns in Most Common Industry</th>\n",
       "    </tr>\n",
       "    <tr>\n",
       "      <th>Investor</th>\n",
       "      <th></th>\n",
       "      <th></th>\n",
       "      <th></th>\n",
       "      <th></th>\n",
       "      <th></th>\n",
       "      <th></th>\n",
       "      <th></th>\n",
       "      <th></th>\n",
       "      <th></th>\n",
       "      <th></th>\n",
       "    </tr>\n",
       "  </thead>\n",
       "  <tbody>\n",
       "    <tr>\n",
       "      <th>.406 Ventures</th>\n",
       "      <td>1</td>\n",
       "      <td>Reltio</td>\n",
       "      <td>United States</td>\n",
       "      <td>1.70</td>\n",
       "      <td>Reltio</td>\n",
       "      <td>1.70</td>\n",
       "      <td>United States</td>\n",
       "      <td>1</td>\n",
       "      <td>Enterprise Tech</td>\n",
       "      <td>1</td>\n",
       "    </tr>\n",
       "    <tr>\n",
       "      <th>01 Advisors</th>\n",
       "      <td>2</td>\n",
       "      <td>Tipalti, Density</td>\n",
       "      <td>United States</td>\n",
       "      <td>9.35</td>\n",
       "      <td>Tipalti</td>\n",
       "      <td>8.30</td>\n",
       "      <td>United States</td>\n",
       "      <td>2</td>\n",
       "      <td>Enterprise Tech</td>\n",
       "      <td>2</td>\n",
       "    </tr>\n",
       "    <tr>\n",
       "      <th>01 Advisors. Kleiner Perkins Caufield &amp; Byers. Andreessen Horowitz</th>\n",
       "      <td>1</td>\n",
       "      <td>Autograph</td>\n",
       "      <td>United States</td>\n",
       "      <td>3.66</td>\n",
       "      <td>Autograph</td>\n",
       "      <td>3.66</td>\n",
       "      <td>United States</td>\n",
       "      <td>1</td>\n",
       "      <td>Media &amp; Entertainment</td>\n",
       "      <td>1</td>\n",
       "    </tr>\n",
       "    <tr>\n",
       "      <th>10T Fund</th>\n",
       "      <td>2</td>\n",
       "      <td>Gemini, Babel Finance</td>\n",
       "      <td>United States, Hong Kong</td>\n",
       "      <td>9.10</td>\n",
       "      <td>Gemini</td>\n",
       "      <td>7.10</td>\n",
       "      <td>United States</td>\n",
       "      <td>1</td>\n",
       "      <td>Financial Services</td>\n",
       "      <td>2</td>\n",
       "    </tr>\n",
       "    <tr>\n",
       "      <th>14W</th>\n",
       "      <td>2</td>\n",
       "      <td>Fever, K Health</td>\n",
       "      <td>United States</td>\n",
       "      <td>3.46</td>\n",
       "      <td>Fever</td>\n",
       "      <td>1.96</td>\n",
       "      <td>United States</td>\n",
       "      <td>2</td>\n",
       "      <td>Media &amp; Entertainment</td>\n",
       "      <td>1</td>\n",
       "    </tr>\n",
       "    <tr>\n",
       "      <th>...</th>\n",
       "      <td>...</td>\n",
       "      <td>...</td>\n",
       "      <td>...</td>\n",
       "      <td>...</td>\n",
       "      <td>...</td>\n",
       "      <td>...</td>\n",
       "      <td>...</td>\n",
       "      <td>...</td>\n",
       "      <td>...</td>\n",
       "      <td>...</td>\n",
       "    </tr>\n",
       "    <tr>\n",
       "      <th>iTech Capital</th>\n",
       "      <td>1</td>\n",
       "      <td>BitFury</td>\n",
       "      <td>Netherlands</td>\n",
       "      <td>1.00</td>\n",
       "      <td>BitFury</td>\n",
       "      <td>1.00</td>\n",
       "      <td>Netherlands</td>\n",
       "      <td>1</td>\n",
       "      <td>Enterprise Tech</td>\n",
       "      <td>1</td>\n",
       "    </tr>\n",
       "    <tr>\n",
       "      <th>iVision Ventures</th>\n",
       "      <td>1</td>\n",
       "      <td>Keenon Robotics</td>\n",
       "      <td>China</td>\n",
       "      <td>1.00</td>\n",
       "      <td>Keenon Robotics</td>\n",
       "      <td>1.00</td>\n",
       "      <td>China</td>\n",
       "      <td>1</td>\n",
       "      <td>Industrials</td>\n",
       "      <td>1</td>\n",
       "    </tr>\n",
       "    <tr>\n",
       "      <th>kt investment</th>\n",
       "      <td>1</td>\n",
       "      <td>MEGAZONE</td>\n",
       "      <td>South Korea</td>\n",
       "      <td>1.83</td>\n",
       "      <td>MEGAZONE</td>\n",
       "      <td>1.83</td>\n",
       "      <td>South Korea</td>\n",
       "      <td>1</td>\n",
       "      <td>Enterprise Tech</td>\n",
       "      <td>1</td>\n",
       "    </tr>\n",
       "    <tr>\n",
       "      <th>next47</th>\n",
       "      <td>3</td>\n",
       "      <td>Verkada, Pipe, Bringg</td>\n",
       "      <td>United States, Israel</td>\n",
       "      <td>6.20</td>\n",
       "      <td>Verkada</td>\n",
       "      <td>3.20</td>\n",
       "      <td>United States</td>\n",
       "      <td>2</td>\n",
       "      <td>Enterprise Tech</td>\n",
       "      <td>1</td>\n",
       "    </tr>\n",
       "    <tr>\n",
       "      <th>s28 Capital</th>\n",
       "      <td>2</td>\n",
       "      <td>Panther Labs, Teleport</td>\n",
       "      <td>United States</td>\n",
       "      <td>2.50</td>\n",
       "      <td>Panther Labs</td>\n",
       "      <td>1.40</td>\n",
       "      <td>United States</td>\n",
       "      <td>2</td>\n",
       "      <td>Enterprise Tech</td>\n",
       "      <td>2</td>\n",
       "    </tr>\n",
       "  </tbody>\n",
       "</table>\n",
       "<p>1409 rows × 10 columns</p>\n",
       "</div>"
      ],
      "text/plain": [
       "                                                    Number_of_Unicorns  \\\n",
       "Investor                                                                 \n",
       ".406 Ventures                                                        1   \n",
       "01 Advisors                                                          2   \n",
       "01 Advisors. Kleiner Perkins Caufield & Byers. ...                   1   \n",
       "10T Fund                                                             2   \n",
       "14W                                                                  2   \n",
       "...                                                                ...   \n",
       "iTech Capital                                                        1   \n",
       "iVision Ventures                                                     1   \n",
       "kt investment                                                        1   \n",
       "next47                                                               3   \n",
       "s28 Capital                                                          2   \n",
       "\n",
       "                                                         Names_of_Unicorns  \\\n",
       "Investor                                                                     \n",
       ".406 Ventures                                                       Reltio   \n",
       "01 Advisors                                               Tipalti, Density   \n",
       "01 Advisors. Kleiner Perkins Caufield & Byers. ...               Autograph   \n",
       "10T Fund                                             Gemini, Babel Finance   \n",
       "14W                                                        Fever, K Health   \n",
       "...                                                                    ...   \n",
       "iTech Capital                                                      BitFury   \n",
       "iVision Ventures                                           Keenon Robotics   \n",
       "kt investment                                                     MEGAZONE   \n",
       "next47                                               Verkada, Pipe, Bringg   \n",
       "s28 Capital                                         Panther Labs, Teleport   \n",
       "\n",
       "                                                       Countries_of_Unicorns  \\\n",
       "Investor                                                                       \n",
       ".406 Ventures                                                  United States   \n",
       "01 Advisors                                                    United States   \n",
       "01 Advisors. Kleiner Perkins Caufield & Byers. ...             United States   \n",
       "10T Fund                                            United States, Hong Kong   \n",
       "14W                                                            United States   \n",
       "...                                                                      ...   \n",
       "iTech Capital                                                    Netherlands   \n",
       "iVision Ventures                                                       China   \n",
       "kt investment                                                    South Korea   \n",
       "next47                                                 United States, Israel   \n",
       "s28 Capital                                                    United States   \n",
       "\n",
       "                                                    Sum_of_Valuations  \\\n",
       "Investor                                                                \n",
       ".406 Ventures                                                    1.70   \n",
       "01 Advisors                                                      9.35   \n",
       "01 Advisors. Kleiner Perkins Caufield & Byers. ...               3.66   \n",
       "10T Fund                                                         9.10   \n",
       "14W                                                              3.46   \n",
       "...                                                               ...   \n",
       "iTech Capital                                                    1.00   \n",
       "iVision Ventures                                                 1.00   \n",
       "kt investment                                                    1.83   \n",
       "next47                                                           6.20   \n",
       "s28 Capital                                                      2.50   \n",
       "\n",
       "                                                   Most Valuable Unicorn  \\\n",
       "Investor                                                                   \n",
       ".406 Ventures                                                     Reltio   \n",
       "01 Advisors                                                      Tipalti   \n",
       "01 Advisors. Kleiner Perkins Caufield & Byers. ...             Autograph   \n",
       "10T Fund                                                          Gemini   \n",
       "14W                                                                Fever   \n",
       "...                                                                  ...   \n",
       "iTech Capital                                                    BitFury   \n",
       "iVision Ventures                                         Keenon Robotics   \n",
       "kt investment                                                   MEGAZONE   \n",
       "next47                                                           Verkada   \n",
       "s28 Capital                                                 Panther Labs   \n",
       "\n",
       "                                                    Valuation of Most Valuable Unicorn ($B)  \\\n",
       "Investor                                                                                      \n",
       ".406 Ventures                                                                          1.70   \n",
       "01 Advisors                                                                            8.30   \n",
       "01 Advisors. Kleiner Perkins Caufield & Byers. ...                                     3.66   \n",
       "10T Fund                                                                               7.10   \n",
       "14W                                                                                    1.96   \n",
       "...                                                                                     ...   \n",
       "iTech Capital                                                                          1.00   \n",
       "iVision Ventures                                                                       1.00   \n",
       "kt investment                                                                          1.83   \n",
       "next47                                                                                 3.20   \n",
       "s28 Capital                                                                            1.40   \n",
       "\n",
       "                                                   Most Invested Country  \\\n",
       "Investor                                                                   \n",
       ".406 Ventures                                              United States   \n",
       "01 Advisors                                                United States   \n",
       "01 Advisors. Kleiner Perkins Caufield & Byers. ...         United States   \n",
       "10T Fund                                                   United States   \n",
       "14W                                                        United States   \n",
       "...                                                                  ...   \n",
       "iTech Capital                                                Netherlands   \n",
       "iVision Ventures                                                   China   \n",
       "kt investment                                                South Korea   \n",
       "next47                                                     United States   \n",
       "s28 Capital                                                United States   \n",
       "\n",
       "                                                    Number of Unicorns in Most Invested Country  \\\n",
       "Investor                                                                                          \n",
       ".406 Ventures                                                                                 1   \n",
       "01 Advisors                                                                                   2   \n",
       "01 Advisors. Kleiner Perkins Caufield & Byers. ...                                            1   \n",
       "10T Fund                                                                                      1   \n",
       "14W                                                                                           2   \n",
       "...                                                                                         ...   \n",
       "iTech Capital                                                                                 1   \n",
       "iVision Ventures                                                                              1   \n",
       "kt investment                                                                                 1   \n",
       "next47                                                                                        2   \n",
       "s28 Capital                                                                                   2   \n",
       "\n",
       "                                                     Most Common Industry  \\\n",
       "Investor                                                                    \n",
       ".406 Ventures                                             Enterprise Tech   \n",
       "01 Advisors                                               Enterprise Tech   \n",
       "01 Advisors. Kleiner Perkins Caufield & Byers. ...  Media & Entertainment   \n",
       "10T Fund                                               Financial Services   \n",
       "14W                                                 Media & Entertainment   \n",
       "...                                                                   ...   \n",
       "iTech Capital                                             Enterprise Tech   \n",
       "iVision Ventures                                              Industrials   \n",
       "kt investment                                             Enterprise Tech   \n",
       "next47                                                    Enterprise Tech   \n",
       "s28 Capital                                               Enterprise Tech   \n",
       "\n",
       "                                                    Number of Unicorns in Most Common Industry  \n",
       "Investor                                                                                        \n",
       ".406 Ventures                                                                                1  \n",
       "01 Advisors                                                                                  2  \n",
       "01 Advisors. Kleiner Perkins Caufield & Byers. ...                                           1  \n",
       "10T Fund                                                                                     2  \n",
       "14W                                                                                          1  \n",
       "...                                                                                        ...  \n",
       "iTech Capital                                                                                1  \n",
       "iVision Ventures                                                                             1  \n",
       "kt investment                                                                                1  \n",
       "next47                                                                                       1  \n",
       "s28 Capital                                                                                  2  \n",
       "\n",
       "[1409 rows x 10 columns]"
      ]
     },
     "execution_count": 79,
     "metadata": {},
     "output_type": "execute_result"
    }
   ],
   "source": [
    "# Group by investor and company and get max valuation\n",
    "df_max_valuation = df_investor.groupby(['Investor', 'Company'])['Valuation ($B)'].max().reset_index()\n",
    "\n",
    "# Sort by valuation and drop duplicates by investor\n",
    "df_max_valuation = df_max_valuation.sort_values(by='Valuation ($B)', ascending=False).drop_duplicates(subset='Investor')\n",
    "\n",
    "# Rename columns and reset index\n",
    "df_max_valuation.columns = ['Investor', 'Most Valuable Unicorn', 'Valuation of Most Valuable Unicorn ($B)']\n",
    "df_max_valuation = df_max_valuation.reset_index(drop=True)\n",
    "\n",
    "# Join with df_summary\n",
    "df_summary = df_summary.join(df_max_valuation.set_index('Investor'), on='Investor')\n",
    "\n",
    "# Group by investor and country and get count of unicorns\n",
    "df_country_count = df_investor.groupby(['Investor', 'Country'])['Company'].count().reset_index()\n",
    "\n",
    "# Sort by count and drop duplicates by investor\n",
    "df_country_count = df_country_count.sort_values(by='Company', ascending=False).drop_duplicates(subset='Investor')\n",
    "\n",
    "# Rename columns and reset index\n",
    "df_country_count.columns = ['Investor', 'Most Invested Country', 'Number of Unicorns in Most Invested Country']\n",
    "df_country_count = df_country_count.reset_index(drop=True)\n",
    "\n",
    "# Join with df_summary\n",
    "df_summary = df_summary.join(df_country_count.set_index('Investor'), on='Investor')\n",
    "\n",
    "# Group by investor and industry and get count of unicorns\n",
    "df_industry_count = df_investor.groupby(['Investor', 'Industry'])['Company'].count().reset_index()\n",
    "\n",
    "# Sort by count and drop duplicates by investor\n",
    "df_industry_count = df_industry_count.sort_values(by='Company', ascending=False).drop_duplicates(subset='Investor')\n",
    "\n",
    "# Rename columns and reset index\n",
    "df_industry_count.columns = ['Investor', 'Most Common Industry', 'Number of Unicorns in Most Common Industry']\n",
    "df_industry_count = df_industry_count.reset_index(drop=True)\n",
    "\n",
    "# Join with df_summary\n",
    "df_summary = df_summary.join(df_industry_count.set_index('Investor'), on='Investor')\n",
    "\n",
    "# Display or export final dataframe\n",
    "df_summary\n"
   ]
  },
  {
   "cell_type": "code",
   "execution_count": 80,
   "id": "6cb6e284",
   "metadata": {},
   "outputs": [
    {
     "data": {
      "application/vnd.jupyter.widget-view+json": {
       "model_id": "41e82ab1a01f4bdb891b7b5c4b6e04b0",
       "version_major": 2,
       "version_minor": 0
      },
      "text/plain": [
       "QgridWidget(grid_options={'fullWidthRows': True, 'syncColumnCellResize': True, 'forceFitColumns': False, 'defa…"
      ]
     },
     "metadata": {},
     "output_type": "display_data"
    }
   ],
   "source": [
    "# Display or export final dataframe\n",
    "qgrid.show_grid(df_summary)"
   ]
  },
  {
   "cell_type": "code",
   "execution_count": 81,
   "id": "7fba7c5a",
   "metadata": {},
   "outputs": [
    {
     "data": {
      "text/plain": [
       "Index(['Number_of_Unicorns', 'Names_of_Unicorns', 'Countries_of_Unicorns',\n",
       "       'Sum_of_Valuations', 'Most Valuable Unicorn',\n",
       "       'Valuation of Most Valuable Unicorn ($B)', 'Most Invested Country',\n",
       "       'Number of Unicorns in Most Invested Country', 'Most Common Industry',\n",
       "       'Number of Unicorns in Most Common Industry'],\n",
       "      dtype='object')"
      ]
     },
     "execution_count": 81,
     "metadata": {},
     "output_type": "execute_result"
    }
   ],
   "source": [
    "df_summary.columns"
   ]
  },
  {
   "cell_type": "code",
   "execution_count": 82,
   "id": "5626d860",
   "metadata": {},
   "outputs": [
    {
     "data": {
      "application/vnd.plotly.v1+json": {
       "config": {
        "plotlyServerURL": "https://plot.ly"
       },
       "data": [
        {
         "alignmentgroup": "True",
         "hovertemplate": "Investor Name=%{x}<br>Sum of Valuations ($B)=%{y}<extra></extra>",
         "legendgroup": "",
         "marker": {
          "color": "#636efa",
          "pattern": {
           "shape": ""
          }
         },
         "name": "",
         "offsetgroup": "",
         "orientation": "v",
         "showlegend": false,
         "textposition": "auto",
         "type": "bar",
         "x": [
          "Sequoia Capital China",
          "SoftBank Group",
          "Andreessen Horowitz",
          "Sina Weibo",
          "SIG Asia Investments",
          "Accel",
          "Tiger Global Management",
          "Sequoia Capital",
          "Founders Fund",
          "Tencent Holdings",
          "Rothenberg Ventures",
          "Draper Fisher Jurvetson",
          "Khosla Ventures",
          "Index Ventures",
          "Insight Partners"
         ],
         "xaxis": "x",
         "y": [
          491.31,
          378.95,
          246.91,
          228,
          226,
          225.53,
          217.35,
          183.15,
          181.41,
          143.57,
          137,
          137,
          136.84,
          132.99,
          130.24
         ],
         "yaxis": "y"
        },
        {
         "mode": "lines+markers",
         "name": "Number of Unicorns",
         "type": "scatter",
         "x": [
          "Sequoia Capital China",
          "SoftBank Group",
          "Andreessen Horowitz",
          "Sina Weibo",
          "SIG Asia Investments",
          "Accel",
          "Tiger Global Management",
          "Sequoia Capital",
          "Founders Fund",
          "Tencent Holdings",
          "Rothenberg Ventures",
          "Draper Fisher Jurvetson",
          "Khosla Ventures",
          "Index Ventures",
          "Insight Partners"
         ],
         "y": [
          49,
          35,
          63,
          2,
          2,
          64,
          57,
          52,
          19,
          30,
          1,
          1,
          20,
          35,
          51
         ],
         "yaxis": "y2"
        }
       ],
       "layout": {
        "barmode": "relative",
        "legend": {
         "tracegroupgap": 0
        },
        "template": {
         "data": {
          "bar": [
           {
            "error_x": {
             "color": "#2a3f5f"
            },
            "error_y": {
             "color": "#2a3f5f"
            },
            "marker": {
             "line": {
              "color": "#E5ECF6",
              "width": 0.5
             },
             "pattern": {
              "fillmode": "overlay",
              "size": 10,
              "solidity": 0.2
             }
            },
            "type": "bar"
           }
          ],
          "barpolar": [
           {
            "marker": {
             "line": {
              "color": "#E5ECF6",
              "width": 0.5
             },
             "pattern": {
              "fillmode": "overlay",
              "size": 10,
              "solidity": 0.2
             }
            },
            "type": "barpolar"
           }
          ],
          "carpet": [
           {
            "aaxis": {
             "endlinecolor": "#2a3f5f",
             "gridcolor": "white",
             "linecolor": "white",
             "minorgridcolor": "white",
             "startlinecolor": "#2a3f5f"
            },
            "baxis": {
             "endlinecolor": "#2a3f5f",
             "gridcolor": "white",
             "linecolor": "white",
             "minorgridcolor": "white",
             "startlinecolor": "#2a3f5f"
            },
            "type": "carpet"
           }
          ],
          "choropleth": [
           {
            "colorbar": {
             "outlinewidth": 0,
             "ticks": ""
            },
            "type": "choropleth"
           }
          ],
          "contour": [
           {
            "colorbar": {
             "outlinewidth": 0,
             "ticks": ""
            },
            "colorscale": [
             [
              0,
              "#0d0887"
             ],
             [
              0.1111111111111111,
              "#46039f"
             ],
             [
              0.2222222222222222,
              "#7201a8"
             ],
             [
              0.3333333333333333,
              "#9c179e"
             ],
             [
              0.4444444444444444,
              "#bd3786"
             ],
             [
              0.5555555555555556,
              "#d8576b"
             ],
             [
              0.6666666666666666,
              "#ed7953"
             ],
             [
              0.7777777777777778,
              "#fb9f3a"
             ],
             [
              0.8888888888888888,
              "#fdca26"
             ],
             [
              1,
              "#f0f921"
             ]
            ],
            "type": "contour"
           }
          ],
          "contourcarpet": [
           {
            "colorbar": {
             "outlinewidth": 0,
             "ticks": ""
            },
            "type": "contourcarpet"
           }
          ],
          "heatmap": [
           {
            "colorbar": {
             "outlinewidth": 0,
             "ticks": ""
            },
            "colorscale": [
             [
              0,
              "#0d0887"
             ],
             [
              0.1111111111111111,
              "#46039f"
             ],
             [
              0.2222222222222222,
              "#7201a8"
             ],
             [
              0.3333333333333333,
              "#9c179e"
             ],
             [
              0.4444444444444444,
              "#bd3786"
             ],
             [
              0.5555555555555556,
              "#d8576b"
             ],
             [
              0.6666666666666666,
              "#ed7953"
             ],
             [
              0.7777777777777778,
              "#fb9f3a"
             ],
             [
              0.8888888888888888,
              "#fdca26"
             ],
             [
              1,
              "#f0f921"
             ]
            ],
            "type": "heatmap"
           }
          ],
          "heatmapgl": [
           {
            "colorbar": {
             "outlinewidth": 0,
             "ticks": ""
            },
            "colorscale": [
             [
              0,
              "#0d0887"
             ],
             [
              0.1111111111111111,
              "#46039f"
             ],
             [
              0.2222222222222222,
              "#7201a8"
             ],
             [
              0.3333333333333333,
              "#9c179e"
             ],
             [
              0.4444444444444444,
              "#bd3786"
             ],
             [
              0.5555555555555556,
              "#d8576b"
             ],
             [
              0.6666666666666666,
              "#ed7953"
             ],
             [
              0.7777777777777778,
              "#fb9f3a"
             ],
             [
              0.8888888888888888,
              "#fdca26"
             ],
             [
              1,
              "#f0f921"
             ]
            ],
            "type": "heatmapgl"
           }
          ],
          "histogram": [
           {
            "marker": {
             "pattern": {
              "fillmode": "overlay",
              "size": 10,
              "solidity": 0.2
             }
            },
            "type": "histogram"
           }
          ],
          "histogram2d": [
           {
            "colorbar": {
             "outlinewidth": 0,
             "ticks": ""
            },
            "colorscale": [
             [
              0,
              "#0d0887"
             ],
             [
              0.1111111111111111,
              "#46039f"
             ],
             [
              0.2222222222222222,
              "#7201a8"
             ],
             [
              0.3333333333333333,
              "#9c179e"
             ],
             [
              0.4444444444444444,
              "#bd3786"
             ],
             [
              0.5555555555555556,
              "#d8576b"
             ],
             [
              0.6666666666666666,
              "#ed7953"
             ],
             [
              0.7777777777777778,
              "#fb9f3a"
             ],
             [
              0.8888888888888888,
              "#fdca26"
             ],
             [
              1,
              "#f0f921"
             ]
            ],
            "type": "histogram2d"
           }
          ],
          "histogram2dcontour": [
           {
            "colorbar": {
             "outlinewidth": 0,
             "ticks": ""
            },
            "colorscale": [
             [
              0,
              "#0d0887"
             ],
             [
              0.1111111111111111,
              "#46039f"
             ],
             [
              0.2222222222222222,
              "#7201a8"
             ],
             [
              0.3333333333333333,
              "#9c179e"
             ],
             [
              0.4444444444444444,
              "#bd3786"
             ],
             [
              0.5555555555555556,
              "#d8576b"
             ],
             [
              0.6666666666666666,
              "#ed7953"
             ],
             [
              0.7777777777777778,
              "#fb9f3a"
             ],
             [
              0.8888888888888888,
              "#fdca26"
             ],
             [
              1,
              "#f0f921"
             ]
            ],
            "type": "histogram2dcontour"
           }
          ],
          "mesh3d": [
           {
            "colorbar": {
             "outlinewidth": 0,
             "ticks": ""
            },
            "type": "mesh3d"
           }
          ],
          "parcoords": [
           {
            "line": {
             "colorbar": {
              "outlinewidth": 0,
              "ticks": ""
             }
            },
            "type": "parcoords"
           }
          ],
          "pie": [
           {
            "automargin": true,
            "type": "pie"
           }
          ],
          "scatter": [
           {
            "fillpattern": {
             "fillmode": "overlay",
             "size": 10,
             "solidity": 0.2
            },
            "type": "scatter"
           }
          ],
          "scatter3d": [
           {
            "line": {
             "colorbar": {
              "outlinewidth": 0,
              "ticks": ""
             }
            },
            "marker": {
             "colorbar": {
              "outlinewidth": 0,
              "ticks": ""
             }
            },
            "type": "scatter3d"
           }
          ],
          "scattercarpet": [
           {
            "marker": {
             "colorbar": {
              "outlinewidth": 0,
              "ticks": ""
             }
            },
            "type": "scattercarpet"
           }
          ],
          "scattergeo": [
           {
            "marker": {
             "colorbar": {
              "outlinewidth": 0,
              "ticks": ""
             }
            },
            "type": "scattergeo"
           }
          ],
          "scattergl": [
           {
            "marker": {
             "colorbar": {
              "outlinewidth": 0,
              "ticks": ""
             }
            },
            "type": "scattergl"
           }
          ],
          "scattermapbox": [
           {
            "marker": {
             "colorbar": {
              "outlinewidth": 0,
              "ticks": ""
             }
            },
            "type": "scattermapbox"
           }
          ],
          "scatterpolar": [
           {
            "marker": {
             "colorbar": {
              "outlinewidth": 0,
              "ticks": ""
             }
            },
            "type": "scatterpolar"
           }
          ],
          "scatterpolargl": [
           {
            "marker": {
             "colorbar": {
              "outlinewidth": 0,
              "ticks": ""
             }
            },
            "type": "scatterpolargl"
           }
          ],
          "scatterternary": [
           {
            "marker": {
             "colorbar": {
              "outlinewidth": 0,
              "ticks": ""
             }
            },
            "type": "scatterternary"
           }
          ],
          "surface": [
           {
            "colorbar": {
             "outlinewidth": 0,
             "ticks": ""
            },
            "colorscale": [
             [
              0,
              "#0d0887"
             ],
             [
              0.1111111111111111,
              "#46039f"
             ],
             [
              0.2222222222222222,
              "#7201a8"
             ],
             [
              0.3333333333333333,
              "#9c179e"
             ],
             [
              0.4444444444444444,
              "#bd3786"
             ],
             [
              0.5555555555555556,
              "#d8576b"
             ],
             [
              0.6666666666666666,
              "#ed7953"
             ],
             [
              0.7777777777777778,
              "#fb9f3a"
             ],
             [
              0.8888888888888888,
              "#fdca26"
             ],
             [
              1,
              "#f0f921"
             ]
            ],
            "type": "surface"
           }
          ],
          "table": [
           {
            "cells": {
             "fill": {
              "color": "#EBF0F8"
             },
             "line": {
              "color": "white"
             }
            },
            "header": {
             "fill": {
              "color": "#C8D4E3"
             },
             "line": {
              "color": "white"
             }
            },
            "type": "table"
           }
          ]
         },
         "layout": {
          "annotationdefaults": {
           "arrowcolor": "#2a3f5f",
           "arrowhead": 0,
           "arrowwidth": 1
          },
          "autotypenumbers": "strict",
          "coloraxis": {
           "colorbar": {
            "outlinewidth": 0,
            "ticks": ""
           }
          },
          "colorscale": {
           "diverging": [
            [
             0,
             "#8e0152"
            ],
            [
             0.1,
             "#c51b7d"
            ],
            [
             0.2,
             "#de77ae"
            ],
            [
             0.3,
             "#f1b6da"
            ],
            [
             0.4,
             "#fde0ef"
            ],
            [
             0.5,
             "#f7f7f7"
            ],
            [
             0.6,
             "#e6f5d0"
            ],
            [
             0.7,
             "#b8e186"
            ],
            [
             0.8,
             "#7fbc41"
            ],
            [
             0.9,
             "#4d9221"
            ],
            [
             1,
             "#276419"
            ]
           ],
           "sequential": [
            [
             0,
             "#0d0887"
            ],
            [
             0.1111111111111111,
             "#46039f"
            ],
            [
             0.2222222222222222,
             "#7201a8"
            ],
            [
             0.3333333333333333,
             "#9c179e"
            ],
            [
             0.4444444444444444,
             "#bd3786"
            ],
            [
             0.5555555555555556,
             "#d8576b"
            ],
            [
             0.6666666666666666,
             "#ed7953"
            ],
            [
             0.7777777777777778,
             "#fb9f3a"
            ],
            [
             0.8888888888888888,
             "#fdca26"
            ],
            [
             1,
             "#f0f921"
            ]
           ],
           "sequentialminus": [
            [
             0,
             "#0d0887"
            ],
            [
             0.1111111111111111,
             "#46039f"
            ],
            [
             0.2222222222222222,
             "#7201a8"
            ],
            [
             0.3333333333333333,
             "#9c179e"
            ],
            [
             0.4444444444444444,
             "#bd3786"
            ],
            [
             0.5555555555555556,
             "#d8576b"
            ],
            [
             0.6666666666666666,
             "#ed7953"
            ],
            [
             0.7777777777777778,
             "#fb9f3a"
            ],
            [
             0.8888888888888888,
             "#fdca26"
            ],
            [
             1,
             "#f0f921"
            ]
           ]
          },
          "colorway": [
           "#636efa",
           "#EF553B",
           "#00cc96",
           "#ab63fa",
           "#FFA15A",
           "#19d3f3",
           "#FF6692",
           "#B6E880",
           "#FF97FF",
           "#FECB52"
          ],
          "font": {
           "color": "#2a3f5f"
          },
          "geo": {
           "bgcolor": "white",
           "lakecolor": "white",
           "landcolor": "#E5ECF6",
           "showlakes": true,
           "showland": true,
           "subunitcolor": "white"
          },
          "hoverlabel": {
           "align": "left"
          },
          "hovermode": "closest",
          "mapbox": {
           "style": "light"
          },
          "paper_bgcolor": "white",
          "plot_bgcolor": "#E5ECF6",
          "polar": {
           "angularaxis": {
            "gridcolor": "white",
            "linecolor": "white",
            "ticks": ""
           },
           "bgcolor": "#E5ECF6",
           "radialaxis": {
            "gridcolor": "white",
            "linecolor": "white",
            "ticks": ""
           }
          },
          "scene": {
           "xaxis": {
            "backgroundcolor": "#E5ECF6",
            "gridcolor": "white",
            "gridwidth": 2,
            "linecolor": "white",
            "showbackground": true,
            "ticks": "",
            "zerolinecolor": "white"
           },
           "yaxis": {
            "backgroundcolor": "#E5ECF6",
            "gridcolor": "white",
            "gridwidth": 2,
            "linecolor": "white",
            "showbackground": true,
            "ticks": "",
            "zerolinecolor": "white"
           },
           "zaxis": {
            "backgroundcolor": "#E5ECF6",
            "gridcolor": "white",
            "gridwidth": 2,
            "linecolor": "white",
            "showbackground": true,
            "ticks": "",
            "zerolinecolor": "white"
           }
          },
          "shapedefaults": {
           "line": {
            "color": "#2a3f5f"
           }
          },
          "ternary": {
           "aaxis": {
            "gridcolor": "white",
            "linecolor": "white",
            "ticks": ""
           },
           "baxis": {
            "gridcolor": "white",
            "linecolor": "white",
            "ticks": ""
           },
           "bgcolor": "#E5ECF6",
           "caxis": {
            "gridcolor": "white",
            "linecolor": "white",
            "ticks": ""
           }
          },
          "title": {
           "x": 0.05
          },
          "xaxis": {
           "automargin": true,
           "gridcolor": "white",
           "linecolor": "white",
           "ticks": "",
           "title": {
            "standoff": 15
           },
           "zerolinecolor": "white",
           "zerolinewidth": 2
          },
          "yaxis": {
           "automargin": true,
           "gridcolor": "white",
           "linecolor": "white",
           "ticks": "",
           "title": {
            "standoff": 15
           },
           "zerolinecolor": "white",
           "zerolinewidth": 2
          }
         }
        },
        "title": {
         "text": "Sum of Valuations and Number of Unicorns of Top 15 Investors"
        },
        "xaxis": {
         "anchor": "y",
         "domain": [
          0,
          1
         ],
         "title": {
          "text": "Investor Name"
         }
        },
        "yaxis": {
         "anchor": "x",
         "domain": [
          0,
          1
         ],
         "title": {
          "text": "Sum of Valuations ($B)"
         }
        },
        "yaxis2": {
         "overlaying": "y",
         "side": "right",
         "title": {
          "text": "Number of Unicorns"
         }
        }
       }
      },
      "text/html": [
       "<div>                            <div id=\"6067956e-20e5-4f3a-ab40-26d924dce484\" class=\"plotly-graph-div\" style=\"height:525px; width:100%;\"></div>            <script type=\"text/javascript\">                require([\"plotly\"], function(Plotly) {                    window.PLOTLYENV=window.PLOTLYENV || {};                                    if (document.getElementById(\"6067956e-20e5-4f3a-ab40-26d924dce484\")) {                    Plotly.newPlot(                        \"6067956e-20e5-4f3a-ab40-26d924dce484\",                        [{\"alignmentgroup\":\"True\",\"hovertemplate\":\"Investor Name=%{x}<br>Sum of Valuations ($B)=%{y}<extra></extra>\",\"legendgroup\":\"\",\"marker\":{\"color\":\"#636efa\",\"pattern\":{\"shape\":\"\"}},\"name\":\"\",\"offsetgroup\":\"\",\"orientation\":\"v\",\"showlegend\":false,\"textposition\":\"auto\",\"x\":[\"Sequoia Capital China\",\"SoftBank Group\",\"Andreessen Horowitz\",\"Sina Weibo\",\"SIG Asia Investments\",\"Accel\",\"Tiger Global Management\",\"Sequoia Capital\",\"Founders Fund\",\"Tencent Holdings\",\"Rothenberg Ventures\",\"Draper Fisher Jurvetson\",\"Khosla Ventures\",\"Index Ventures\",\"Insight Partners\"],\"xaxis\":\"x\",\"y\":[491.31,378.95,246.91,228.0,226.0,225.53,217.35,183.15,181.41,143.57,137.0,137.0,136.84,132.99,130.24],\"yaxis\":\"y\",\"type\":\"bar\"},{\"mode\":\"lines+markers\",\"name\":\"Number of Unicorns\",\"x\":[\"Sequoia Capital China\",\"SoftBank Group\",\"Andreessen Horowitz\",\"Sina Weibo\",\"SIG Asia Investments\",\"Accel\",\"Tiger Global Management\",\"Sequoia Capital\",\"Founders Fund\",\"Tencent Holdings\",\"Rothenberg Ventures\",\"Draper Fisher Jurvetson\",\"Khosla Ventures\",\"Index Ventures\",\"Insight Partners\"],\"y\":[49,35,63,2,2,64,57,52,19,30,1,1,20,35,51],\"yaxis\":\"y2\",\"type\":\"scatter\"}],                        {\"template\":{\"data\":{\"histogram2dcontour\":[{\"type\":\"histogram2dcontour\",\"colorbar\":{\"outlinewidth\":0,\"ticks\":\"\"},\"colorscale\":[[0.0,\"#0d0887\"],[0.1111111111111111,\"#46039f\"],[0.2222222222222222,\"#7201a8\"],[0.3333333333333333,\"#9c179e\"],[0.4444444444444444,\"#bd3786\"],[0.5555555555555556,\"#d8576b\"],[0.6666666666666666,\"#ed7953\"],[0.7777777777777778,\"#fb9f3a\"],[0.8888888888888888,\"#fdca26\"],[1.0,\"#f0f921\"]]}],\"choropleth\":[{\"type\":\"choropleth\",\"colorbar\":{\"outlinewidth\":0,\"ticks\":\"\"}}],\"histogram2d\":[{\"type\":\"histogram2d\",\"colorbar\":{\"outlinewidth\":0,\"ticks\":\"\"},\"colorscale\":[[0.0,\"#0d0887\"],[0.1111111111111111,\"#46039f\"],[0.2222222222222222,\"#7201a8\"],[0.3333333333333333,\"#9c179e\"],[0.4444444444444444,\"#bd3786\"],[0.5555555555555556,\"#d8576b\"],[0.6666666666666666,\"#ed7953\"],[0.7777777777777778,\"#fb9f3a\"],[0.8888888888888888,\"#fdca26\"],[1.0,\"#f0f921\"]]}],\"heatmap\":[{\"type\":\"heatmap\",\"colorbar\":{\"outlinewidth\":0,\"ticks\":\"\"},\"colorscale\":[[0.0,\"#0d0887\"],[0.1111111111111111,\"#46039f\"],[0.2222222222222222,\"#7201a8\"],[0.3333333333333333,\"#9c179e\"],[0.4444444444444444,\"#bd3786\"],[0.5555555555555556,\"#d8576b\"],[0.6666666666666666,\"#ed7953\"],[0.7777777777777778,\"#fb9f3a\"],[0.8888888888888888,\"#fdca26\"],[1.0,\"#f0f921\"]]}],\"heatmapgl\":[{\"type\":\"heatmapgl\",\"colorbar\":{\"outlinewidth\":0,\"ticks\":\"\"},\"colorscale\":[[0.0,\"#0d0887\"],[0.1111111111111111,\"#46039f\"],[0.2222222222222222,\"#7201a8\"],[0.3333333333333333,\"#9c179e\"],[0.4444444444444444,\"#bd3786\"],[0.5555555555555556,\"#d8576b\"],[0.6666666666666666,\"#ed7953\"],[0.7777777777777778,\"#fb9f3a\"],[0.8888888888888888,\"#fdca26\"],[1.0,\"#f0f921\"]]}],\"contourcarpet\":[{\"type\":\"contourcarpet\",\"colorbar\":{\"outlinewidth\":0,\"ticks\":\"\"}}],\"contour\":[{\"type\":\"contour\",\"colorbar\":{\"outlinewidth\":0,\"ticks\":\"\"},\"colorscale\":[[0.0,\"#0d0887\"],[0.1111111111111111,\"#46039f\"],[0.2222222222222222,\"#7201a8\"],[0.3333333333333333,\"#9c179e\"],[0.4444444444444444,\"#bd3786\"],[0.5555555555555556,\"#d8576b\"],[0.6666666666666666,\"#ed7953\"],[0.7777777777777778,\"#fb9f3a\"],[0.8888888888888888,\"#fdca26\"],[1.0,\"#f0f921\"]]}],\"surface\":[{\"type\":\"surface\",\"colorbar\":{\"outlinewidth\":0,\"ticks\":\"\"},\"colorscale\":[[0.0,\"#0d0887\"],[0.1111111111111111,\"#46039f\"],[0.2222222222222222,\"#7201a8\"],[0.3333333333333333,\"#9c179e\"],[0.4444444444444444,\"#bd3786\"],[0.5555555555555556,\"#d8576b\"],[0.6666666666666666,\"#ed7953\"],[0.7777777777777778,\"#fb9f3a\"],[0.8888888888888888,\"#fdca26\"],[1.0,\"#f0f921\"]]}],\"mesh3d\":[{\"type\":\"mesh3d\",\"colorbar\":{\"outlinewidth\":0,\"ticks\":\"\"}}],\"scatter\":[{\"fillpattern\":{\"fillmode\":\"overlay\",\"size\":10,\"solidity\":0.2},\"type\":\"scatter\"}],\"parcoords\":[{\"type\":\"parcoords\",\"line\":{\"colorbar\":{\"outlinewidth\":0,\"ticks\":\"\"}}}],\"scatterpolargl\":[{\"type\":\"scatterpolargl\",\"marker\":{\"colorbar\":{\"outlinewidth\":0,\"ticks\":\"\"}}}],\"bar\":[{\"error_x\":{\"color\":\"#2a3f5f\"},\"error_y\":{\"color\":\"#2a3f5f\"},\"marker\":{\"line\":{\"color\":\"#E5ECF6\",\"width\":0.5},\"pattern\":{\"fillmode\":\"overlay\",\"size\":10,\"solidity\":0.2}},\"type\":\"bar\"}],\"scattergeo\":[{\"type\":\"scattergeo\",\"marker\":{\"colorbar\":{\"outlinewidth\":0,\"ticks\":\"\"}}}],\"scatterpolar\":[{\"type\":\"scatterpolar\",\"marker\":{\"colorbar\":{\"outlinewidth\":0,\"ticks\":\"\"}}}],\"histogram\":[{\"marker\":{\"pattern\":{\"fillmode\":\"overlay\",\"size\":10,\"solidity\":0.2}},\"type\":\"histogram\"}],\"scattergl\":[{\"type\":\"scattergl\",\"marker\":{\"colorbar\":{\"outlinewidth\":0,\"ticks\":\"\"}}}],\"scatter3d\":[{\"type\":\"scatter3d\",\"line\":{\"colorbar\":{\"outlinewidth\":0,\"ticks\":\"\"}},\"marker\":{\"colorbar\":{\"outlinewidth\":0,\"ticks\":\"\"}}}],\"scattermapbox\":[{\"type\":\"scattermapbox\",\"marker\":{\"colorbar\":{\"outlinewidth\":0,\"ticks\":\"\"}}}],\"scatterternary\":[{\"type\":\"scatterternary\",\"marker\":{\"colorbar\":{\"outlinewidth\":0,\"ticks\":\"\"}}}],\"scattercarpet\":[{\"type\":\"scattercarpet\",\"marker\":{\"colorbar\":{\"outlinewidth\":0,\"ticks\":\"\"}}}],\"carpet\":[{\"aaxis\":{\"endlinecolor\":\"#2a3f5f\",\"gridcolor\":\"white\",\"linecolor\":\"white\",\"minorgridcolor\":\"white\",\"startlinecolor\":\"#2a3f5f\"},\"baxis\":{\"endlinecolor\":\"#2a3f5f\",\"gridcolor\":\"white\",\"linecolor\":\"white\",\"minorgridcolor\":\"white\",\"startlinecolor\":\"#2a3f5f\"},\"type\":\"carpet\"}],\"table\":[{\"cells\":{\"fill\":{\"color\":\"#EBF0F8\"},\"line\":{\"color\":\"white\"}},\"header\":{\"fill\":{\"color\":\"#C8D4E3\"},\"line\":{\"color\":\"white\"}},\"type\":\"table\"}],\"barpolar\":[{\"marker\":{\"line\":{\"color\":\"#E5ECF6\",\"width\":0.5},\"pattern\":{\"fillmode\":\"overlay\",\"size\":10,\"solidity\":0.2}},\"type\":\"barpolar\"}],\"pie\":[{\"automargin\":true,\"type\":\"pie\"}]},\"layout\":{\"autotypenumbers\":\"strict\",\"colorway\":[\"#636efa\",\"#EF553B\",\"#00cc96\",\"#ab63fa\",\"#FFA15A\",\"#19d3f3\",\"#FF6692\",\"#B6E880\",\"#FF97FF\",\"#FECB52\"],\"font\":{\"color\":\"#2a3f5f\"},\"hovermode\":\"closest\",\"hoverlabel\":{\"align\":\"left\"},\"paper_bgcolor\":\"white\",\"plot_bgcolor\":\"#E5ECF6\",\"polar\":{\"bgcolor\":\"#E5ECF6\",\"angularaxis\":{\"gridcolor\":\"white\",\"linecolor\":\"white\",\"ticks\":\"\"},\"radialaxis\":{\"gridcolor\":\"white\",\"linecolor\":\"white\",\"ticks\":\"\"}},\"ternary\":{\"bgcolor\":\"#E5ECF6\",\"aaxis\":{\"gridcolor\":\"white\",\"linecolor\":\"white\",\"ticks\":\"\"},\"baxis\":{\"gridcolor\":\"white\",\"linecolor\":\"white\",\"ticks\":\"\"},\"caxis\":{\"gridcolor\":\"white\",\"linecolor\":\"white\",\"ticks\":\"\"}},\"coloraxis\":{\"colorbar\":{\"outlinewidth\":0,\"ticks\":\"\"}},\"colorscale\":{\"sequential\":[[0.0,\"#0d0887\"],[0.1111111111111111,\"#46039f\"],[0.2222222222222222,\"#7201a8\"],[0.3333333333333333,\"#9c179e\"],[0.4444444444444444,\"#bd3786\"],[0.5555555555555556,\"#d8576b\"],[0.6666666666666666,\"#ed7953\"],[0.7777777777777778,\"#fb9f3a\"],[0.8888888888888888,\"#fdca26\"],[1.0,\"#f0f921\"]],\"sequentialminus\":[[0.0,\"#0d0887\"],[0.1111111111111111,\"#46039f\"],[0.2222222222222222,\"#7201a8\"],[0.3333333333333333,\"#9c179e\"],[0.4444444444444444,\"#bd3786\"],[0.5555555555555556,\"#d8576b\"],[0.6666666666666666,\"#ed7953\"],[0.7777777777777778,\"#fb9f3a\"],[0.8888888888888888,\"#fdca26\"],[1.0,\"#f0f921\"]],\"diverging\":[[0,\"#8e0152\"],[0.1,\"#c51b7d\"],[0.2,\"#de77ae\"],[0.3,\"#f1b6da\"],[0.4,\"#fde0ef\"],[0.5,\"#f7f7f7\"],[0.6,\"#e6f5d0\"],[0.7,\"#b8e186\"],[0.8,\"#7fbc41\"],[0.9,\"#4d9221\"],[1,\"#276419\"]]},\"xaxis\":{\"gridcolor\":\"white\",\"linecolor\":\"white\",\"ticks\":\"\",\"title\":{\"standoff\":15},\"zerolinecolor\":\"white\",\"automargin\":true,\"zerolinewidth\":2},\"yaxis\":{\"gridcolor\":\"white\",\"linecolor\":\"white\",\"ticks\":\"\",\"title\":{\"standoff\":15},\"zerolinecolor\":\"white\",\"automargin\":true,\"zerolinewidth\":2},\"scene\":{\"xaxis\":{\"backgroundcolor\":\"#E5ECF6\",\"gridcolor\":\"white\",\"linecolor\":\"white\",\"showbackground\":true,\"ticks\":\"\",\"zerolinecolor\":\"white\",\"gridwidth\":2},\"yaxis\":{\"backgroundcolor\":\"#E5ECF6\",\"gridcolor\":\"white\",\"linecolor\":\"white\",\"showbackground\":true,\"ticks\":\"\",\"zerolinecolor\":\"white\",\"gridwidth\":2},\"zaxis\":{\"backgroundcolor\":\"#E5ECF6\",\"gridcolor\":\"white\",\"linecolor\":\"white\",\"showbackground\":true,\"ticks\":\"\",\"zerolinecolor\":\"white\",\"gridwidth\":2}},\"shapedefaults\":{\"line\":{\"color\":\"#2a3f5f\"}},\"annotationdefaults\":{\"arrowcolor\":\"#2a3f5f\",\"arrowhead\":0,\"arrowwidth\":1},\"geo\":{\"bgcolor\":\"white\",\"landcolor\":\"#E5ECF6\",\"subunitcolor\":\"white\",\"showland\":true,\"showlakes\":true,\"lakecolor\":\"white\"},\"title\":{\"x\":0.05},\"mapbox\":{\"style\":\"light\"}}},\"xaxis\":{\"anchor\":\"y\",\"domain\":[0.0,1.0],\"title\":{\"text\":\"Investor Name\"}},\"yaxis\":{\"anchor\":\"x\",\"domain\":[0.0,1.0],\"title\":{\"text\":\"Sum of Valuations ($B)\"}},\"legend\":{\"tracegroupgap\":0},\"title\":{\"text\":\"Sum of Valuations and Number of Unicorns of Top 15 Investors\"},\"barmode\":\"relative\",\"yaxis2\":{\"title\":{\"text\":\"Number of Unicorns\"},\"overlaying\":\"y\",\"side\":\"right\"}},                        {\"responsive\": true}                    ).then(function(){\n",
       "                            \n",
       "var gd = document.getElementById('6067956e-20e5-4f3a-ab40-26d924dce484');\n",
       "var x = new MutationObserver(function (mutations, observer) {{\n",
       "        var display = window.getComputedStyle(gd).display;\n",
       "        if (!display || display === 'none') {{\n",
       "            console.log([gd, 'removed!']);\n",
       "            Plotly.purge(gd);\n",
       "            observer.disconnect();\n",
       "        }}\n",
       "}});\n",
       "\n",
       "// Listen for the removal of the full notebook cells\n",
       "var notebookContainer = gd.closest('#notebook-container');\n",
       "if (notebookContainer) {{\n",
       "    x.observe(notebookContainer, {childList: true});\n",
       "}}\n",
       "\n",
       "// Listen for the clearing of the current output cell\n",
       "var outputEl = gd.closest('.output');\n",
       "if (outputEl) {{\n",
       "    x.observe(outputEl, {childList: true});\n",
       "}}\n",
       "\n",
       "                        })                };                });            </script>        </div>"
      ]
     },
     "metadata": {},
     "output_type": "display_data"
    }
   ],
   "source": [
    "# Reset the index of the df_summary dataframe\n",
    "df_summary = df_summary.reset_index()\n",
    "\n",
    "# Sort the df_summary dataframe by the sum of valuations in descending order and select the top 15 investors\n",
    "df_top15 = df_summary.sort_values(by='Sum_of_Valuations', ascending=False).head(15)\n",
    "\n",
    "# Create a bar chart using plotly express\n",
    "fig = px.bar(\n",
    "    df_top15,\n",
    "    x='Investor',\n",
    "    y='Sum_of_Valuations',\n",
    "    title='Sum of Valuations and Number of Unicorns of Top 15 Investors',\n",
    "    labels={\n",
    "        'Investor': 'Investor Name',\n",
    "        'Sum_of_Valuations': 'Sum of Valuations ($B)',\n",
    "        'Number_of_Unicorns': 'Number of Unicorns'\n",
    "    }\n",
    ")\n",
    "\n",
    "# Add a line chart using plotly graph objects\n",
    "fig.add_trace(\n",
    "    go.Scatter(\n",
    "        x=df_top15['Investor'],\n",
    "        y=df_top15['Number_of_Unicorns'],\n",
    "        mode='lines+markers',\n",
    "        name='Number of Unicorns',\n",
    "        yaxis='y2'\n",
    "    )\n",
    ")\n",
    "\n",
    "# Update the layout to add a secondary y-axis\n",
    "fig.update_layout(\n",
    "    yaxis2=dict(\n",
    "        title='Number of Unicorns',\n",
    "        overlaying='y',\n",
    "        side='right'\n",
    "    )\n",
    ")\n",
    "\n",
    "# Show or save the figure\n",
    "fig.show()"
   ]
  },
  {
   "cell_type": "code",
   "execution_count": 83,
   "id": "3a647af9",
   "metadata": {},
   "outputs": [
    {
     "data": {
      "application/vnd.plotly.v1+json": {
       "config": {
        "plotlyServerURL": "https://plot.ly"
       },
       "data": [
        {
         "alignmentgroup": "True",
         "hovertemplate": "Most Common Industry=Enterprise Tech<br>Investor Name=%{x}<br>Number of Unicorns=%{y}<extra></extra>",
         "legendgroup": "Enterprise Tech",
         "marker": {
          "color": "#636efa",
          "pattern": {
           "shape": ""
          }
         },
         "name": "Enterprise Tech",
         "offsetgroup": "Enterprise Tech",
         "orientation": "v",
         "showlegend": true,
         "textposition": "auto",
         "type": "bar",
         "x": [
          "Accel",
          "Andreessen Horowitz",
          "Sequoia Capital",
          "Insight Partners",
          "Lightspeed Venture Partners",
          "General Catalyst",
          "Index Ventures",
          "Bessemer Venture Partners",
          "General Atlantic",
          "Google Ventures"
         ],
         "xaxis": "x",
         "y": [
          64,
          63,
          52,
          51,
          41,
          41,
          35,
          31,
          30,
          29
         ],
         "yaxis": "y"
        },
        {
         "alignmentgroup": "True",
         "hovertemplate": "Most Common Industry=Consumer & Retail<br>Investor Name=%{x}<br>Number of Unicorns=%{y}<extra></extra>",
         "legendgroup": "Consumer & Retail",
         "marker": {
          "color": "#EF553B",
          "pattern": {
           "shape": ""
          }
         },
         "name": "Consumer & Retail",
         "offsetgroup": "Consumer & Retail",
         "orientation": "v",
         "showlegend": true,
         "textposition": "auto",
         "type": "bar",
         "x": [
          "Tiger Global Management",
          "Sequoia Capital China",
          "Tencent Holdings"
         ],
         "xaxis": "x",
         "y": [
          57,
          49,
          30
         ],
         "yaxis": "y"
        },
        {
         "alignmentgroup": "True",
         "hovertemplate": "Most Common Industry=Industrials<br>Investor Name=%{x}<br>Number of Unicorns=%{y}<extra></extra>",
         "legendgroup": "Industrials",
         "marker": {
          "color": "#00cc96",
          "pattern": {
           "shape": ""
          }
         },
         "name": "Industrials",
         "offsetgroup": "Industrials",
         "orientation": "v",
         "showlegend": true,
         "textposition": "auto",
         "type": "bar",
         "x": [
          "SoftBank Group",
          "IDG Capital"
         ],
         "xaxis": "x",
         "y": [
          35,
          27
         ],
         "yaxis": "y"
        }
       ],
       "layout": {
        "barmode": "relative",
        "legend": {
         "title": {
          "text": "Most Common Industry"
         },
         "tracegroupgap": 0
        },
        "template": {
         "data": {
          "bar": [
           {
            "error_x": {
             "color": "#2a3f5f"
            },
            "error_y": {
             "color": "#2a3f5f"
            },
            "marker": {
             "line": {
              "color": "#E5ECF6",
              "width": 0.5
             },
             "pattern": {
              "fillmode": "overlay",
              "size": 10,
              "solidity": 0.2
             }
            },
            "type": "bar"
           }
          ],
          "barpolar": [
           {
            "marker": {
             "line": {
              "color": "#E5ECF6",
              "width": 0.5
             },
             "pattern": {
              "fillmode": "overlay",
              "size": 10,
              "solidity": 0.2
             }
            },
            "type": "barpolar"
           }
          ],
          "carpet": [
           {
            "aaxis": {
             "endlinecolor": "#2a3f5f",
             "gridcolor": "white",
             "linecolor": "white",
             "minorgridcolor": "white",
             "startlinecolor": "#2a3f5f"
            },
            "baxis": {
             "endlinecolor": "#2a3f5f",
             "gridcolor": "white",
             "linecolor": "white",
             "minorgridcolor": "white",
             "startlinecolor": "#2a3f5f"
            },
            "type": "carpet"
           }
          ],
          "choropleth": [
           {
            "colorbar": {
             "outlinewidth": 0,
             "ticks": ""
            },
            "type": "choropleth"
           }
          ],
          "contour": [
           {
            "colorbar": {
             "outlinewidth": 0,
             "ticks": ""
            },
            "colorscale": [
             [
              0,
              "#0d0887"
             ],
             [
              0.1111111111111111,
              "#46039f"
             ],
             [
              0.2222222222222222,
              "#7201a8"
             ],
             [
              0.3333333333333333,
              "#9c179e"
             ],
             [
              0.4444444444444444,
              "#bd3786"
             ],
             [
              0.5555555555555556,
              "#d8576b"
             ],
             [
              0.6666666666666666,
              "#ed7953"
             ],
             [
              0.7777777777777778,
              "#fb9f3a"
             ],
             [
              0.8888888888888888,
              "#fdca26"
             ],
             [
              1,
              "#f0f921"
             ]
            ],
            "type": "contour"
           }
          ],
          "contourcarpet": [
           {
            "colorbar": {
             "outlinewidth": 0,
             "ticks": ""
            },
            "type": "contourcarpet"
           }
          ],
          "heatmap": [
           {
            "colorbar": {
             "outlinewidth": 0,
             "ticks": ""
            },
            "colorscale": [
             [
              0,
              "#0d0887"
             ],
             [
              0.1111111111111111,
              "#46039f"
             ],
             [
              0.2222222222222222,
              "#7201a8"
             ],
             [
              0.3333333333333333,
              "#9c179e"
             ],
             [
              0.4444444444444444,
              "#bd3786"
             ],
             [
              0.5555555555555556,
              "#d8576b"
             ],
             [
              0.6666666666666666,
              "#ed7953"
             ],
             [
              0.7777777777777778,
              "#fb9f3a"
             ],
             [
              0.8888888888888888,
              "#fdca26"
             ],
             [
              1,
              "#f0f921"
             ]
            ],
            "type": "heatmap"
           }
          ],
          "heatmapgl": [
           {
            "colorbar": {
             "outlinewidth": 0,
             "ticks": ""
            },
            "colorscale": [
             [
              0,
              "#0d0887"
             ],
             [
              0.1111111111111111,
              "#46039f"
             ],
             [
              0.2222222222222222,
              "#7201a8"
             ],
             [
              0.3333333333333333,
              "#9c179e"
             ],
             [
              0.4444444444444444,
              "#bd3786"
             ],
             [
              0.5555555555555556,
              "#d8576b"
             ],
             [
              0.6666666666666666,
              "#ed7953"
             ],
             [
              0.7777777777777778,
              "#fb9f3a"
             ],
             [
              0.8888888888888888,
              "#fdca26"
             ],
             [
              1,
              "#f0f921"
             ]
            ],
            "type": "heatmapgl"
           }
          ],
          "histogram": [
           {
            "marker": {
             "pattern": {
              "fillmode": "overlay",
              "size": 10,
              "solidity": 0.2
             }
            },
            "type": "histogram"
           }
          ],
          "histogram2d": [
           {
            "colorbar": {
             "outlinewidth": 0,
             "ticks": ""
            },
            "colorscale": [
             [
              0,
              "#0d0887"
             ],
             [
              0.1111111111111111,
              "#46039f"
             ],
             [
              0.2222222222222222,
              "#7201a8"
             ],
             [
              0.3333333333333333,
              "#9c179e"
             ],
             [
              0.4444444444444444,
              "#bd3786"
             ],
             [
              0.5555555555555556,
              "#d8576b"
             ],
             [
              0.6666666666666666,
              "#ed7953"
             ],
             [
              0.7777777777777778,
              "#fb9f3a"
             ],
             [
              0.8888888888888888,
              "#fdca26"
             ],
             [
              1,
              "#f0f921"
             ]
            ],
            "type": "histogram2d"
           }
          ],
          "histogram2dcontour": [
           {
            "colorbar": {
             "outlinewidth": 0,
             "ticks": ""
            },
            "colorscale": [
             [
              0,
              "#0d0887"
             ],
             [
              0.1111111111111111,
              "#46039f"
             ],
             [
              0.2222222222222222,
              "#7201a8"
             ],
             [
              0.3333333333333333,
              "#9c179e"
             ],
             [
              0.4444444444444444,
              "#bd3786"
             ],
             [
              0.5555555555555556,
              "#d8576b"
             ],
             [
              0.6666666666666666,
              "#ed7953"
             ],
             [
              0.7777777777777778,
              "#fb9f3a"
             ],
             [
              0.8888888888888888,
              "#fdca26"
             ],
             [
              1,
              "#f0f921"
             ]
            ],
            "type": "histogram2dcontour"
           }
          ],
          "mesh3d": [
           {
            "colorbar": {
             "outlinewidth": 0,
             "ticks": ""
            },
            "type": "mesh3d"
           }
          ],
          "parcoords": [
           {
            "line": {
             "colorbar": {
              "outlinewidth": 0,
              "ticks": ""
             }
            },
            "type": "parcoords"
           }
          ],
          "pie": [
           {
            "automargin": true,
            "type": "pie"
           }
          ],
          "scatter": [
           {
            "fillpattern": {
             "fillmode": "overlay",
             "size": 10,
             "solidity": 0.2
            },
            "type": "scatter"
           }
          ],
          "scatter3d": [
           {
            "line": {
             "colorbar": {
              "outlinewidth": 0,
              "ticks": ""
             }
            },
            "marker": {
             "colorbar": {
              "outlinewidth": 0,
              "ticks": ""
             }
            },
            "type": "scatter3d"
           }
          ],
          "scattercarpet": [
           {
            "marker": {
             "colorbar": {
              "outlinewidth": 0,
              "ticks": ""
             }
            },
            "type": "scattercarpet"
           }
          ],
          "scattergeo": [
           {
            "marker": {
             "colorbar": {
              "outlinewidth": 0,
              "ticks": ""
             }
            },
            "type": "scattergeo"
           }
          ],
          "scattergl": [
           {
            "marker": {
             "colorbar": {
              "outlinewidth": 0,
              "ticks": ""
             }
            },
            "type": "scattergl"
           }
          ],
          "scattermapbox": [
           {
            "marker": {
             "colorbar": {
              "outlinewidth": 0,
              "ticks": ""
             }
            },
            "type": "scattermapbox"
           }
          ],
          "scatterpolar": [
           {
            "marker": {
             "colorbar": {
              "outlinewidth": 0,
              "ticks": ""
             }
            },
            "type": "scatterpolar"
           }
          ],
          "scatterpolargl": [
           {
            "marker": {
             "colorbar": {
              "outlinewidth": 0,
              "ticks": ""
             }
            },
            "type": "scatterpolargl"
           }
          ],
          "scatterternary": [
           {
            "marker": {
             "colorbar": {
              "outlinewidth": 0,
              "ticks": ""
             }
            },
            "type": "scatterternary"
           }
          ],
          "surface": [
           {
            "colorbar": {
             "outlinewidth": 0,
             "ticks": ""
            },
            "colorscale": [
             [
              0,
              "#0d0887"
             ],
             [
              0.1111111111111111,
              "#46039f"
             ],
             [
              0.2222222222222222,
              "#7201a8"
             ],
             [
              0.3333333333333333,
              "#9c179e"
             ],
             [
              0.4444444444444444,
              "#bd3786"
             ],
             [
              0.5555555555555556,
              "#d8576b"
             ],
             [
              0.6666666666666666,
              "#ed7953"
             ],
             [
              0.7777777777777778,
              "#fb9f3a"
             ],
             [
              0.8888888888888888,
              "#fdca26"
             ],
             [
              1,
              "#f0f921"
             ]
            ],
            "type": "surface"
           }
          ],
          "table": [
           {
            "cells": {
             "fill": {
              "color": "#EBF0F8"
             },
             "line": {
              "color": "white"
             }
            },
            "header": {
             "fill": {
              "color": "#C8D4E3"
             },
             "line": {
              "color": "white"
             }
            },
            "type": "table"
           }
          ]
         },
         "layout": {
          "annotationdefaults": {
           "arrowcolor": "#2a3f5f",
           "arrowhead": 0,
           "arrowwidth": 1
          },
          "autotypenumbers": "strict",
          "coloraxis": {
           "colorbar": {
            "outlinewidth": 0,
            "ticks": ""
           }
          },
          "colorscale": {
           "diverging": [
            [
             0,
             "#8e0152"
            ],
            [
             0.1,
             "#c51b7d"
            ],
            [
             0.2,
             "#de77ae"
            ],
            [
             0.3,
             "#f1b6da"
            ],
            [
             0.4,
             "#fde0ef"
            ],
            [
             0.5,
             "#f7f7f7"
            ],
            [
             0.6,
             "#e6f5d0"
            ],
            [
             0.7,
             "#b8e186"
            ],
            [
             0.8,
             "#7fbc41"
            ],
            [
             0.9,
             "#4d9221"
            ],
            [
             1,
             "#276419"
            ]
           ],
           "sequential": [
            [
             0,
             "#0d0887"
            ],
            [
             0.1111111111111111,
             "#46039f"
            ],
            [
             0.2222222222222222,
             "#7201a8"
            ],
            [
             0.3333333333333333,
             "#9c179e"
            ],
            [
             0.4444444444444444,
             "#bd3786"
            ],
            [
             0.5555555555555556,
             "#d8576b"
            ],
            [
             0.6666666666666666,
             "#ed7953"
            ],
            [
             0.7777777777777778,
             "#fb9f3a"
            ],
            [
             0.8888888888888888,
             "#fdca26"
            ],
            [
             1,
             "#f0f921"
            ]
           ],
           "sequentialminus": [
            [
             0,
             "#0d0887"
            ],
            [
             0.1111111111111111,
             "#46039f"
            ],
            [
             0.2222222222222222,
             "#7201a8"
            ],
            [
             0.3333333333333333,
             "#9c179e"
            ],
            [
             0.4444444444444444,
             "#bd3786"
            ],
            [
             0.5555555555555556,
             "#d8576b"
            ],
            [
             0.6666666666666666,
             "#ed7953"
            ],
            [
             0.7777777777777778,
             "#fb9f3a"
            ],
            [
             0.8888888888888888,
             "#fdca26"
            ],
            [
             1,
             "#f0f921"
            ]
           ]
          },
          "colorway": [
           "#636efa",
           "#EF553B",
           "#00cc96",
           "#ab63fa",
           "#FFA15A",
           "#19d3f3",
           "#FF6692",
           "#B6E880",
           "#FF97FF",
           "#FECB52"
          ],
          "font": {
           "color": "#2a3f5f"
          },
          "geo": {
           "bgcolor": "white",
           "lakecolor": "white",
           "landcolor": "#E5ECF6",
           "showlakes": true,
           "showland": true,
           "subunitcolor": "white"
          },
          "hoverlabel": {
           "align": "left"
          },
          "hovermode": "closest",
          "mapbox": {
           "style": "light"
          },
          "paper_bgcolor": "white",
          "plot_bgcolor": "#E5ECF6",
          "polar": {
           "angularaxis": {
            "gridcolor": "white",
            "linecolor": "white",
            "ticks": ""
           },
           "bgcolor": "#E5ECF6",
           "radialaxis": {
            "gridcolor": "white",
            "linecolor": "white",
            "ticks": ""
           }
          },
          "scene": {
           "xaxis": {
            "backgroundcolor": "#E5ECF6",
            "gridcolor": "white",
            "gridwidth": 2,
            "linecolor": "white",
            "showbackground": true,
            "ticks": "",
            "zerolinecolor": "white"
           },
           "yaxis": {
            "backgroundcolor": "#E5ECF6",
            "gridcolor": "white",
            "gridwidth": 2,
            "linecolor": "white",
            "showbackground": true,
            "ticks": "",
            "zerolinecolor": "white"
           },
           "zaxis": {
            "backgroundcolor": "#E5ECF6",
            "gridcolor": "white",
            "gridwidth": 2,
            "linecolor": "white",
            "showbackground": true,
            "ticks": "",
            "zerolinecolor": "white"
           }
          },
          "shapedefaults": {
           "line": {
            "color": "#2a3f5f"
           }
          },
          "ternary": {
           "aaxis": {
            "gridcolor": "white",
            "linecolor": "white",
            "ticks": ""
           },
           "baxis": {
            "gridcolor": "white",
            "linecolor": "white",
            "ticks": ""
           },
           "bgcolor": "#E5ECF6",
           "caxis": {
            "gridcolor": "white",
            "linecolor": "white",
            "ticks": ""
           }
          },
          "title": {
           "x": 0.05
          },
          "xaxis": {
           "automargin": true,
           "gridcolor": "white",
           "linecolor": "white",
           "ticks": "",
           "title": {
            "standoff": 15
           },
           "zerolinecolor": "white",
           "zerolinewidth": 2
          },
          "yaxis": {
           "automargin": true,
           "gridcolor": "white",
           "linecolor": "white",
           "ticks": "",
           "title": {
            "standoff": 15
           },
           "zerolinecolor": "white",
           "zerolinewidth": 2
          }
         }
        },
        "title": {
         "text": "Number of Unicorns and Most Common Industry of Top 15 Investors"
        },
        "xaxis": {
         "anchor": "y",
         "categoryarray": [
          "Accel",
          "Andreessen Horowitz",
          "Tiger Global Management",
          "Sequoia Capital",
          "Insight Partners",
          "Sequoia Capital China",
          "Lightspeed Venture Partners",
          "General Catalyst",
          "Index Ventures",
          "SoftBank Group",
          "Bessemer Venture Partners",
          "General Atlantic",
          "Tencent Holdings",
          "Google Ventures",
          "IDG Capital"
         ],
         "categoryorder": "array",
         "domain": [
          0,
          1
         ],
         "title": {
          "text": "Investor Name"
         }
        },
        "yaxis": {
         "anchor": "x",
         "domain": [
          0,
          1
         ],
         "title": {
          "text": "Number of Unicorns"
         }
        }
       }
      },
      "text/html": [
       "<div>                            <div id=\"1b0c4306-9106-46e6-9437-1e29bc57e55a\" class=\"plotly-graph-div\" style=\"height:525px; width:100%;\"></div>            <script type=\"text/javascript\">                require([\"plotly\"], function(Plotly) {                    window.PLOTLYENV=window.PLOTLYENV || {};                                    if (document.getElementById(\"1b0c4306-9106-46e6-9437-1e29bc57e55a\")) {                    Plotly.newPlot(                        \"1b0c4306-9106-46e6-9437-1e29bc57e55a\",                        [{\"alignmentgroup\":\"True\",\"hovertemplate\":\"Most Common Industry=Enterprise Tech<br>Investor Name=%{x}<br>Number of Unicorns=%{y}<extra></extra>\",\"legendgroup\":\"Enterprise Tech\",\"marker\":{\"color\":\"#636efa\",\"pattern\":{\"shape\":\"\"}},\"name\":\"Enterprise Tech\",\"offsetgroup\":\"Enterprise Tech\",\"orientation\":\"v\",\"showlegend\":true,\"textposition\":\"auto\",\"x\":[\"Accel\",\"Andreessen Horowitz\",\"Sequoia Capital\",\"Insight Partners\",\"Lightspeed Venture Partners\",\"General Catalyst\",\"Index Ventures\",\"Bessemer Venture Partners\",\"General Atlantic\",\"Google Ventures\"],\"xaxis\":\"x\",\"y\":[64,63,52,51,41,41,35,31,30,29],\"yaxis\":\"y\",\"type\":\"bar\"},{\"alignmentgroup\":\"True\",\"hovertemplate\":\"Most Common Industry=Consumer & Retail<br>Investor Name=%{x}<br>Number of Unicorns=%{y}<extra></extra>\",\"legendgroup\":\"Consumer & Retail\",\"marker\":{\"color\":\"#EF553B\",\"pattern\":{\"shape\":\"\"}},\"name\":\"Consumer & Retail\",\"offsetgroup\":\"Consumer & Retail\",\"orientation\":\"v\",\"showlegend\":true,\"textposition\":\"auto\",\"x\":[\"Tiger Global Management\",\"Sequoia Capital China\",\"Tencent Holdings\"],\"xaxis\":\"x\",\"y\":[57,49,30],\"yaxis\":\"y\",\"type\":\"bar\"},{\"alignmentgroup\":\"True\",\"hovertemplate\":\"Most Common Industry=Industrials<br>Investor Name=%{x}<br>Number of Unicorns=%{y}<extra></extra>\",\"legendgroup\":\"Industrials\",\"marker\":{\"color\":\"#00cc96\",\"pattern\":{\"shape\":\"\"}},\"name\":\"Industrials\",\"offsetgroup\":\"Industrials\",\"orientation\":\"v\",\"showlegend\":true,\"textposition\":\"auto\",\"x\":[\"SoftBank Group\",\"IDG Capital\"],\"xaxis\":\"x\",\"y\":[35,27],\"yaxis\":\"y\",\"type\":\"bar\"}],                        {\"template\":{\"data\":{\"histogram2dcontour\":[{\"type\":\"histogram2dcontour\",\"colorbar\":{\"outlinewidth\":0,\"ticks\":\"\"},\"colorscale\":[[0.0,\"#0d0887\"],[0.1111111111111111,\"#46039f\"],[0.2222222222222222,\"#7201a8\"],[0.3333333333333333,\"#9c179e\"],[0.4444444444444444,\"#bd3786\"],[0.5555555555555556,\"#d8576b\"],[0.6666666666666666,\"#ed7953\"],[0.7777777777777778,\"#fb9f3a\"],[0.8888888888888888,\"#fdca26\"],[1.0,\"#f0f921\"]]}],\"choropleth\":[{\"type\":\"choropleth\",\"colorbar\":{\"outlinewidth\":0,\"ticks\":\"\"}}],\"histogram2d\":[{\"type\":\"histogram2d\",\"colorbar\":{\"outlinewidth\":0,\"ticks\":\"\"},\"colorscale\":[[0.0,\"#0d0887\"],[0.1111111111111111,\"#46039f\"],[0.2222222222222222,\"#7201a8\"],[0.3333333333333333,\"#9c179e\"],[0.4444444444444444,\"#bd3786\"],[0.5555555555555556,\"#d8576b\"],[0.6666666666666666,\"#ed7953\"],[0.7777777777777778,\"#fb9f3a\"],[0.8888888888888888,\"#fdca26\"],[1.0,\"#f0f921\"]]}],\"heatmap\":[{\"type\":\"heatmap\",\"colorbar\":{\"outlinewidth\":0,\"ticks\":\"\"},\"colorscale\":[[0.0,\"#0d0887\"],[0.1111111111111111,\"#46039f\"],[0.2222222222222222,\"#7201a8\"],[0.3333333333333333,\"#9c179e\"],[0.4444444444444444,\"#bd3786\"],[0.5555555555555556,\"#d8576b\"],[0.6666666666666666,\"#ed7953\"],[0.7777777777777778,\"#fb9f3a\"],[0.8888888888888888,\"#fdca26\"],[1.0,\"#f0f921\"]]}],\"heatmapgl\":[{\"type\":\"heatmapgl\",\"colorbar\":{\"outlinewidth\":0,\"ticks\":\"\"},\"colorscale\":[[0.0,\"#0d0887\"],[0.1111111111111111,\"#46039f\"],[0.2222222222222222,\"#7201a8\"],[0.3333333333333333,\"#9c179e\"],[0.4444444444444444,\"#bd3786\"],[0.5555555555555556,\"#d8576b\"],[0.6666666666666666,\"#ed7953\"],[0.7777777777777778,\"#fb9f3a\"],[0.8888888888888888,\"#fdca26\"],[1.0,\"#f0f921\"]]}],\"contourcarpet\":[{\"type\":\"contourcarpet\",\"colorbar\":{\"outlinewidth\":0,\"ticks\":\"\"}}],\"contour\":[{\"type\":\"contour\",\"colorbar\":{\"outlinewidth\":0,\"ticks\":\"\"},\"colorscale\":[[0.0,\"#0d0887\"],[0.1111111111111111,\"#46039f\"],[0.2222222222222222,\"#7201a8\"],[0.3333333333333333,\"#9c179e\"],[0.4444444444444444,\"#bd3786\"],[0.5555555555555556,\"#d8576b\"],[0.6666666666666666,\"#ed7953\"],[0.7777777777777778,\"#fb9f3a\"],[0.8888888888888888,\"#fdca26\"],[1.0,\"#f0f921\"]]}],\"surface\":[{\"type\":\"surface\",\"colorbar\":{\"outlinewidth\":0,\"ticks\":\"\"},\"colorscale\":[[0.0,\"#0d0887\"],[0.1111111111111111,\"#46039f\"],[0.2222222222222222,\"#7201a8\"],[0.3333333333333333,\"#9c179e\"],[0.4444444444444444,\"#bd3786\"],[0.5555555555555556,\"#d8576b\"],[0.6666666666666666,\"#ed7953\"],[0.7777777777777778,\"#fb9f3a\"],[0.8888888888888888,\"#fdca26\"],[1.0,\"#f0f921\"]]}],\"mesh3d\":[{\"type\":\"mesh3d\",\"colorbar\":{\"outlinewidth\":0,\"ticks\":\"\"}}],\"scatter\":[{\"fillpattern\":{\"fillmode\":\"overlay\",\"size\":10,\"solidity\":0.2},\"type\":\"scatter\"}],\"parcoords\":[{\"type\":\"parcoords\",\"line\":{\"colorbar\":{\"outlinewidth\":0,\"ticks\":\"\"}}}],\"scatterpolargl\":[{\"type\":\"scatterpolargl\",\"marker\":{\"colorbar\":{\"outlinewidth\":0,\"ticks\":\"\"}}}],\"bar\":[{\"error_x\":{\"color\":\"#2a3f5f\"},\"error_y\":{\"color\":\"#2a3f5f\"},\"marker\":{\"line\":{\"color\":\"#E5ECF6\",\"width\":0.5},\"pattern\":{\"fillmode\":\"overlay\",\"size\":10,\"solidity\":0.2}},\"type\":\"bar\"}],\"scattergeo\":[{\"type\":\"scattergeo\",\"marker\":{\"colorbar\":{\"outlinewidth\":0,\"ticks\":\"\"}}}],\"scatterpolar\":[{\"type\":\"scatterpolar\",\"marker\":{\"colorbar\":{\"outlinewidth\":0,\"ticks\":\"\"}}}],\"histogram\":[{\"marker\":{\"pattern\":{\"fillmode\":\"overlay\",\"size\":10,\"solidity\":0.2}},\"type\":\"histogram\"}],\"scattergl\":[{\"type\":\"scattergl\",\"marker\":{\"colorbar\":{\"outlinewidth\":0,\"ticks\":\"\"}}}],\"scatter3d\":[{\"type\":\"scatter3d\",\"line\":{\"colorbar\":{\"outlinewidth\":0,\"ticks\":\"\"}},\"marker\":{\"colorbar\":{\"outlinewidth\":0,\"ticks\":\"\"}}}],\"scattermapbox\":[{\"type\":\"scattermapbox\",\"marker\":{\"colorbar\":{\"outlinewidth\":0,\"ticks\":\"\"}}}],\"scatterternary\":[{\"type\":\"scatterternary\",\"marker\":{\"colorbar\":{\"outlinewidth\":0,\"ticks\":\"\"}}}],\"scattercarpet\":[{\"type\":\"scattercarpet\",\"marker\":{\"colorbar\":{\"outlinewidth\":0,\"ticks\":\"\"}}}],\"carpet\":[{\"aaxis\":{\"endlinecolor\":\"#2a3f5f\",\"gridcolor\":\"white\",\"linecolor\":\"white\",\"minorgridcolor\":\"white\",\"startlinecolor\":\"#2a3f5f\"},\"baxis\":{\"endlinecolor\":\"#2a3f5f\",\"gridcolor\":\"white\",\"linecolor\":\"white\",\"minorgridcolor\":\"white\",\"startlinecolor\":\"#2a3f5f\"},\"type\":\"carpet\"}],\"table\":[{\"cells\":{\"fill\":{\"color\":\"#EBF0F8\"},\"line\":{\"color\":\"white\"}},\"header\":{\"fill\":{\"color\":\"#C8D4E3\"},\"line\":{\"color\":\"white\"}},\"type\":\"table\"}],\"barpolar\":[{\"marker\":{\"line\":{\"color\":\"#E5ECF6\",\"width\":0.5},\"pattern\":{\"fillmode\":\"overlay\",\"size\":10,\"solidity\":0.2}},\"type\":\"barpolar\"}],\"pie\":[{\"automargin\":true,\"type\":\"pie\"}]},\"layout\":{\"autotypenumbers\":\"strict\",\"colorway\":[\"#636efa\",\"#EF553B\",\"#00cc96\",\"#ab63fa\",\"#FFA15A\",\"#19d3f3\",\"#FF6692\",\"#B6E880\",\"#FF97FF\",\"#FECB52\"],\"font\":{\"color\":\"#2a3f5f\"},\"hovermode\":\"closest\",\"hoverlabel\":{\"align\":\"left\"},\"paper_bgcolor\":\"white\",\"plot_bgcolor\":\"#E5ECF6\",\"polar\":{\"bgcolor\":\"#E5ECF6\",\"angularaxis\":{\"gridcolor\":\"white\",\"linecolor\":\"white\",\"ticks\":\"\"},\"radialaxis\":{\"gridcolor\":\"white\",\"linecolor\":\"white\",\"ticks\":\"\"}},\"ternary\":{\"bgcolor\":\"#E5ECF6\",\"aaxis\":{\"gridcolor\":\"white\",\"linecolor\":\"white\",\"ticks\":\"\"},\"baxis\":{\"gridcolor\":\"white\",\"linecolor\":\"white\",\"ticks\":\"\"},\"caxis\":{\"gridcolor\":\"white\",\"linecolor\":\"white\",\"ticks\":\"\"}},\"coloraxis\":{\"colorbar\":{\"outlinewidth\":0,\"ticks\":\"\"}},\"colorscale\":{\"sequential\":[[0.0,\"#0d0887\"],[0.1111111111111111,\"#46039f\"],[0.2222222222222222,\"#7201a8\"],[0.3333333333333333,\"#9c179e\"],[0.4444444444444444,\"#bd3786\"],[0.5555555555555556,\"#d8576b\"],[0.6666666666666666,\"#ed7953\"],[0.7777777777777778,\"#fb9f3a\"],[0.8888888888888888,\"#fdca26\"],[1.0,\"#f0f921\"]],\"sequentialminus\":[[0.0,\"#0d0887\"],[0.1111111111111111,\"#46039f\"],[0.2222222222222222,\"#7201a8\"],[0.3333333333333333,\"#9c179e\"],[0.4444444444444444,\"#bd3786\"],[0.5555555555555556,\"#d8576b\"],[0.6666666666666666,\"#ed7953\"],[0.7777777777777778,\"#fb9f3a\"],[0.8888888888888888,\"#fdca26\"],[1.0,\"#f0f921\"]],\"diverging\":[[0,\"#8e0152\"],[0.1,\"#c51b7d\"],[0.2,\"#de77ae\"],[0.3,\"#f1b6da\"],[0.4,\"#fde0ef\"],[0.5,\"#f7f7f7\"],[0.6,\"#e6f5d0\"],[0.7,\"#b8e186\"],[0.8,\"#7fbc41\"],[0.9,\"#4d9221\"],[1,\"#276419\"]]},\"xaxis\":{\"gridcolor\":\"white\",\"linecolor\":\"white\",\"ticks\":\"\",\"title\":{\"standoff\":15},\"zerolinecolor\":\"white\",\"automargin\":true,\"zerolinewidth\":2},\"yaxis\":{\"gridcolor\":\"white\",\"linecolor\":\"white\",\"ticks\":\"\",\"title\":{\"standoff\":15},\"zerolinecolor\":\"white\",\"automargin\":true,\"zerolinewidth\":2},\"scene\":{\"xaxis\":{\"backgroundcolor\":\"#E5ECF6\",\"gridcolor\":\"white\",\"linecolor\":\"white\",\"showbackground\":true,\"ticks\":\"\",\"zerolinecolor\":\"white\",\"gridwidth\":2},\"yaxis\":{\"backgroundcolor\":\"#E5ECF6\",\"gridcolor\":\"white\",\"linecolor\":\"white\",\"showbackground\":true,\"ticks\":\"\",\"zerolinecolor\":\"white\",\"gridwidth\":2},\"zaxis\":{\"backgroundcolor\":\"#E5ECF6\",\"gridcolor\":\"white\",\"linecolor\":\"white\",\"showbackground\":true,\"ticks\":\"\",\"zerolinecolor\":\"white\",\"gridwidth\":2}},\"shapedefaults\":{\"line\":{\"color\":\"#2a3f5f\"}},\"annotationdefaults\":{\"arrowcolor\":\"#2a3f5f\",\"arrowhead\":0,\"arrowwidth\":1},\"geo\":{\"bgcolor\":\"white\",\"landcolor\":\"#E5ECF6\",\"subunitcolor\":\"white\",\"showland\":true,\"showlakes\":true,\"lakecolor\":\"white\"},\"title\":{\"x\":0.05},\"mapbox\":{\"style\":\"light\"}}},\"xaxis\":{\"anchor\":\"y\",\"domain\":[0.0,1.0],\"title\":{\"text\":\"Investor Name\"},\"categoryorder\":\"array\",\"categoryarray\":[\"Accel\",\"Andreessen Horowitz\",\"Tiger Global Management\",\"Sequoia Capital\",\"Insight Partners\",\"Sequoia Capital China\",\"Lightspeed Venture Partners\",\"General Catalyst\",\"Index Ventures\",\"SoftBank Group\",\"Bessemer Venture Partners\",\"General Atlantic\",\"Tencent Holdings\",\"Google Ventures\",\"IDG Capital\"]},\"yaxis\":{\"anchor\":\"x\",\"domain\":[0.0,1.0],\"title\":{\"text\":\"Number of Unicorns\"}},\"legend\":{\"title\":{\"text\":\"Most Common Industry\"},\"tracegroupgap\":0},\"title\":{\"text\":\"Number of Unicorns and Most Common Industry of Top 15 Investors\"},\"barmode\":\"relative\"},                        {\"responsive\": true}                    ).then(function(){\n",
       "                            \n",
       "var gd = document.getElementById('1b0c4306-9106-46e6-9437-1e29bc57e55a');\n",
       "var x = new MutationObserver(function (mutations, observer) {{\n",
       "        var display = window.getComputedStyle(gd).display;\n",
       "        if (!display || display === 'none') {{\n",
       "            console.log([gd, 'removed!']);\n",
       "            Plotly.purge(gd);\n",
       "            observer.disconnect();\n",
       "        }}\n",
       "}});\n",
       "\n",
       "// Listen for the removal of the full notebook cells\n",
       "var notebookContainer = gd.closest('#notebook-container');\n",
       "if (notebookContainer) {{\n",
       "    x.observe(notebookContainer, {childList: true});\n",
       "}}\n",
       "\n",
       "// Listen for the clearing of the current output cell\n",
       "var outputEl = gd.closest('.output');\n",
       "if (outputEl) {{\n",
       "    x.observe(outputEl, {childList: true});\n",
       "}}\n",
       "\n",
       "                        })                };                });            </script>        </div>"
      ]
     },
     "metadata": {},
     "output_type": "display_data"
    }
   ],
   "source": [
    "# Sort the df_summary dataframe by the number of unicorns in descending order and select the top 15 investors and industries\n",
    "df_top15 = df_summary.sort_values(by='Number_of_Unicorns', ascending=False).head(15)\n",
    "\n",
    "# Create a list of the investor names sorted by the number of unicorns\n",
    "investor_order = df_top15['Investor'].tolist()\n",
    "\n",
    "# Create a bar chart using plotly express with the investor as the x-axis and the number of unicorns as the y-axis\n",
    "# Use the color argument to color the bars based on the most common industry\n",
    "# Use the category_orders argument to arrange the bars in order of the number of unicorns\n",
    "fig = px.bar(\n",
    "    df_top15,\n",
    "    x='Investor',\n",
    "    y='Number_of_Unicorns',\n",
    "    color='Most Common Industry',\n",
    "    title='Number of Unicorns and Most Common Industry of Top 15 Investors',\n",
    "    labels={\n",
    "        'Investor': 'Investor Name',\n",
    "        'Number_of_Unicorns': 'Number of Unicorns',\n",
    "        'Most Common Industry': 'Most Common Industry'\n",
    "    },\n",
    "    category_orders={\n",
    "        'Investor': investor_order\n",
    "    }\n",
    ")\n",
    "\n",
    "# Show or save the figure\n",
    "fig.show()\n"
   ]
  },
  {
   "cell_type": "markdown",
   "id": "d2ffc60e",
   "metadata": {},
   "source": [
    "### Machine Learning Models"
   ]
  },
  {
   "cell_type": "markdown",
   "id": "dfa1d1c6",
   "metadata": {},
   "source": [
    "#### Clustering Models - Valuation Invariant Macro-Data-Focused Clustering"
   ]
  },
  {
   "cell_type": "code",
   "execution_count": 86,
   "id": "56d18562",
   "metadata": {
    "scrolled": true
   },
   "outputs": [
    {
     "data": {
      "text/plain": [
       "['Date Joined',\n",
       " 'Date Since Joined',\n",
       " 'Company',\n",
       " 'Valuation ($B)',\n",
       " 'Country',\n",
       " 'City',\n",
       " 'Industry',\n",
       " 'Select Investors',\n",
       " 'Country Code',\n",
       " 'Decacorn',\n",
       " 'Hectocorn',\n",
       " 'GDP, 2006',\n",
       " 'GDP, 2007',\n",
       " 'GDP, 2008',\n",
       " 'GDP, 2009',\n",
       " 'GDP, 2010',\n",
       " 'GDP, 2011',\n",
       " 'GDP, 2012',\n",
       " 'GDP, 2013',\n",
       " 'GDP, 2014',\n",
       " 'GDP, 2015',\n",
       " 'GDP, 2016',\n",
       " 'GDP, 2017',\n",
       " 'GDP, 2018',\n",
       " 'GDP, 2019',\n",
       " 'GDP, 2020',\n",
       " 'GDP, 2021',\n",
       " 'GDP, 2022',\n",
       " 'Lending interest rate, 2006',\n",
       " 'Lending interest rate, 2007',\n",
       " 'Lending interest rate, 2008',\n",
       " 'Lending interest rate, 2009',\n",
       " 'Lending interest rate, 2010',\n",
       " 'Lending interest rate, 2011',\n",
       " 'Lending interest rate, 2012',\n",
       " 'Lending interest rate, 2013',\n",
       " 'Lending interest rate, 2014',\n",
       " 'Lending interest rate, 2015',\n",
       " 'Lending interest rate, 2016',\n",
       " 'Lending interest rate, 2017',\n",
       " 'Lending interest rate, 2018',\n",
       " 'Lending interest rate, 2019',\n",
       " 'Lending interest rate, 2020',\n",
       " 'Lending interest rate, 2021',\n",
       " 'Lending interest rate, 2022',\n",
       " 'Inflation rate, 2006',\n",
       " 'Inflation rate, 2007',\n",
       " 'Inflation rate, 2008',\n",
       " 'Inflation rate, 2009',\n",
       " 'Inflation rate, 2010',\n",
       " 'Inflation rate, 2011',\n",
       " 'Inflation rate, 2012',\n",
       " 'Inflation rate, 2013',\n",
       " 'Inflation rate, 2014',\n",
       " 'Inflation rate, 2015',\n",
       " 'Inflation rate, 2016',\n",
       " 'Inflation rate, 2017',\n",
       " 'Inflation rate, 2018',\n",
       " 'Inflation rate, 2019',\n",
       " 'Inflation rate, 2020',\n",
       " 'Inflation rate, 2021',\n",
       " 'Inflation rate, 2022',\n",
       " 'Corporation tax, 2006',\n",
       " 'Corporation tax, 2007',\n",
       " 'Corporation tax, 2008',\n",
       " 'Corporation tax, 2009',\n",
       " 'Corporation tax, 2010',\n",
       " 'Corporation tax, 2011',\n",
       " 'Corporation tax, 2012',\n",
       " 'Corporation tax, 2013',\n",
       " 'Corporation tax, 2014',\n",
       " 'Corporation tax, 2015',\n",
       " 'Corporation tax, 2016',\n",
       " 'Corporation tax, 2017',\n",
       " 'Corporation tax, 2018',\n",
       " 'Corporation tax, 2019',\n",
       " 'Corporation tax, 2020',\n",
       " 'Corporation tax, 2021',\n",
       " 'Corporation tax, 2022',\n",
       " 'GDP, 2006 Growth',\n",
       " 'GDP, 2007 Growth',\n",
       " 'GDP, 2008 Growth',\n",
       " 'GDP, 2009 Growth',\n",
       " 'GDP, 2010 Growth',\n",
       " 'GDP, 2011 Growth',\n",
       " 'GDP, 2012 Growth',\n",
       " 'GDP, 2013 Growth',\n",
       " 'GDP, 2014 Growth',\n",
       " 'GDP, 2015 Growth',\n",
       " 'GDP, 2016 Growth',\n",
       " 'GDP, 2017 Growth',\n",
       " 'GDP, 2018 Growth',\n",
       " 'GDP, 2019 Growth',\n",
       " 'GDP, 2020 Growth',\n",
       " 'GDP, 2021 Growth',\n",
       " 'GDP, 2022 Growth',\n",
       " 'Mean_GDP_Growth',\n",
       " 'Variance_GDP_Growth',\n",
       " 'Mean_Lending_Rate',\n",
       " 'Mean_Inflation_Rate',\n",
       " 'Mean_Corporation_Tax_Rate',\n",
       " 'Year Joined']"
      ]
     },
     "execution_count": 86,
     "metadata": {},
     "output_type": "execute_result"
    }
   ],
   "source": [
    "df.columns.tolist()"
   ]
  },
  {
   "cell_type": "code",
   "execution_count": 89,
   "id": "0645b440",
   "metadata": {},
   "outputs": [
    {
     "data": {
      "text/plain": [
       "array(['Media & Entertainment', 'Industrials', 'Consumer & Retail',\n",
       "       'Financial Services', 'Enterprise Tech',\n",
       "       'Healthcare & Life Sciences', 'Insurance'], dtype=object)"
      ]
     },
     "execution_count": 89,
     "metadata": {},
     "output_type": "execute_result"
    }
   ],
   "source": [
    "df['Industry'].unique()"
   ]
  },
  {
   "cell_type": "code",
   "execution_count": 198,
   "id": "cbfbbaa5",
   "metadata": {},
   "outputs": [],
   "source": [
    "clustering_features = ['GDP, 2022' ,'Mean_GDP_Growth', 'Mean_Corporation_Tax_Rate']"
   ]
  },
  {
   "cell_type": "code",
   "execution_count": 199,
   "id": "2b5bce16",
   "metadata": {},
   "outputs": [],
   "source": [
    "data = df[clustering_features]"
   ]
  },
  {
   "cell_type": "code",
   "execution_count": 200,
   "id": "fdd991c7",
   "metadata": {},
   "outputs": [
    {
     "data": {
      "text/html": [
       "<div>\n",
       "<style scoped>\n",
       "    .dataframe tbody tr th:only-of-type {\n",
       "        vertical-align: middle;\n",
       "    }\n",
       "\n",
       "    .dataframe tbody tr th {\n",
       "        vertical-align: top;\n",
       "    }\n",
       "\n",
       "    .dataframe thead th {\n",
       "        text-align: right;\n",
       "    }\n",
       "</style>\n",
       "<table border=\"1\" class=\"dataframe\">\n",
       "  <thead>\n",
       "    <tr style=\"text-align: right;\">\n",
       "      <th></th>\n",
       "      <th>GDP, 2022</th>\n",
       "      <th>Mean_GDP_Growth</th>\n",
       "      <th>Mean_Corporation_Tax_Rate</th>\n",
       "    </tr>\n",
       "  </thead>\n",
       "  <tbody>\n",
       "    <tr>\n",
       "      <th>0</th>\n",
       "      <td>1.796317e+13</td>\n",
       "      <td>12.800046</td>\n",
       "      <td>66.171429</td>\n",
       "    </tr>\n",
       "    <tr>\n",
       "      <th>1</th>\n",
       "      <td>2.546270e+13</td>\n",
       "      <td>3.939294</td>\n",
       "      <td>42.814286</td>\n",
       "    </tr>\n",
       "    <tr>\n",
       "      <th>2</th>\n",
       "      <td>1.796317e+13</td>\n",
       "      <td>12.800046</td>\n",
       "      <td>66.171429</td>\n",
       "    </tr>\n",
       "    <tr>\n",
       "      <th>3</th>\n",
       "      <td>2.546270e+13</td>\n",
       "      <td>3.939294</td>\n",
       "      <td>42.814286</td>\n",
       "    </tr>\n",
       "    <tr>\n",
       "      <th>4</th>\n",
       "      <td>1.675419e+12</td>\n",
       "      <td>5.843877</td>\n",
       "      <td>48.092857</td>\n",
       "    </tr>\n",
       "    <tr>\n",
       "      <th>...</th>\n",
       "      <td>...</td>\n",
       "      <td>...</td>\n",
       "      <td>...</td>\n",
       "    </tr>\n",
       "    <tr>\n",
       "      <th>1216</th>\n",
       "      <td>3.385090e+12</td>\n",
       "      <td>8.714447</td>\n",
       "      <td>54.414286</td>\n",
       "    </tr>\n",
       "    <tr>\n",
       "      <th>1217</th>\n",
       "      <td>2.546270e+13</td>\n",
       "      <td>3.939294</td>\n",
       "      <td>42.814286</td>\n",
       "    </tr>\n",
       "    <tr>\n",
       "      <th>1218</th>\n",
       "      <td>2.546270e+13</td>\n",
       "      <td>3.939294</td>\n",
       "      <td>42.814286</td>\n",
       "    </tr>\n",
       "    <tr>\n",
       "      <th>1219</th>\n",
       "      <td>2.546270e+13</td>\n",
       "      <td>3.939294</td>\n",
       "      <td>42.814286</td>\n",
       "    </tr>\n",
       "    <tr>\n",
       "      <th>1220</th>\n",
       "      <td>2.546270e+13</td>\n",
       "      <td>3.939294</td>\n",
       "      <td>42.814286</td>\n",
       "    </tr>\n",
       "  </tbody>\n",
       "</table>\n",
       "<p>1221 rows × 3 columns</p>\n",
       "</div>"
      ],
      "text/plain": [
       "         GDP, 2022  Mean_GDP_Growth  Mean_Corporation_Tax_Rate\n",
       "0     1.796317e+13        12.800046                  66.171429\n",
       "1     2.546270e+13         3.939294                  42.814286\n",
       "2     1.796317e+13        12.800046                  66.171429\n",
       "3     2.546270e+13         3.939294                  42.814286\n",
       "4     1.675419e+12         5.843877                  48.092857\n",
       "...            ...              ...                        ...\n",
       "1216  3.385090e+12         8.714447                  54.414286\n",
       "1217  2.546270e+13         3.939294                  42.814286\n",
       "1218  2.546270e+13         3.939294                  42.814286\n",
       "1219  2.546270e+13         3.939294                  42.814286\n",
       "1220  2.546270e+13         3.939294                  42.814286\n",
       "\n",
       "[1221 rows x 3 columns]"
      ]
     },
     "execution_count": 200,
     "metadata": {},
     "output_type": "execute_result"
    }
   ],
   "source": [
    "data"
   ]
  },
  {
   "cell_type": "code",
   "execution_count": 201,
   "id": "d27ad892",
   "metadata": {},
   "outputs": [],
   "source": [
    "data = data.dropna()"
   ]
  },
  {
   "cell_type": "code",
   "execution_count": 202,
   "id": "f6fb3801",
   "metadata": {},
   "outputs": [
    {
     "data": {
      "text/html": [
       "<div>\n",
       "<style scoped>\n",
       "    .dataframe tbody tr th:only-of-type {\n",
       "        vertical-align: middle;\n",
       "    }\n",
       "\n",
       "    .dataframe tbody tr th {\n",
       "        vertical-align: top;\n",
       "    }\n",
       "\n",
       "    .dataframe thead th {\n",
       "        text-align: right;\n",
       "    }\n",
       "</style>\n",
       "<table border=\"1\" class=\"dataframe\">\n",
       "  <thead>\n",
       "    <tr style=\"text-align: right;\">\n",
       "      <th></th>\n",
       "      <th>GDP, 2022</th>\n",
       "      <th>Mean_GDP_Growth</th>\n",
       "      <th>Mean_Corporation_Tax_Rate</th>\n",
       "    </tr>\n",
       "  </thead>\n",
       "  <tbody>\n",
       "    <tr>\n",
       "      <th>0</th>\n",
       "      <td>1.796317e+13</td>\n",
       "      <td>12.800046</td>\n",
       "      <td>66.171429</td>\n",
       "    </tr>\n",
       "    <tr>\n",
       "      <th>1</th>\n",
       "      <td>2.546270e+13</td>\n",
       "      <td>3.939294</td>\n",
       "      <td>42.814286</td>\n",
       "    </tr>\n",
       "    <tr>\n",
       "      <th>2</th>\n",
       "      <td>1.796317e+13</td>\n",
       "      <td>12.800046</td>\n",
       "      <td>66.171429</td>\n",
       "    </tr>\n",
       "    <tr>\n",
       "      <th>3</th>\n",
       "      <td>2.546270e+13</td>\n",
       "      <td>3.939294</td>\n",
       "      <td>42.814286</td>\n",
       "    </tr>\n",
       "    <tr>\n",
       "      <th>4</th>\n",
       "      <td>1.675419e+12</td>\n",
       "      <td>5.843877</td>\n",
       "      <td>48.092857</td>\n",
       "    </tr>\n",
       "    <tr>\n",
       "      <th>...</th>\n",
       "      <td>...</td>\n",
       "      <td>...</td>\n",
       "      <td>...</td>\n",
       "    </tr>\n",
       "    <tr>\n",
       "      <th>1216</th>\n",
       "      <td>3.385090e+12</td>\n",
       "      <td>8.714447</td>\n",
       "      <td>54.414286</td>\n",
       "    </tr>\n",
       "    <tr>\n",
       "      <th>1217</th>\n",
       "      <td>2.546270e+13</td>\n",
       "      <td>3.939294</td>\n",
       "      <td>42.814286</td>\n",
       "    </tr>\n",
       "    <tr>\n",
       "      <th>1218</th>\n",
       "      <td>2.546270e+13</td>\n",
       "      <td>3.939294</td>\n",
       "      <td>42.814286</td>\n",
       "    </tr>\n",
       "    <tr>\n",
       "      <th>1219</th>\n",
       "      <td>2.546270e+13</td>\n",
       "      <td>3.939294</td>\n",
       "      <td>42.814286</td>\n",
       "    </tr>\n",
       "    <tr>\n",
       "      <th>1220</th>\n",
       "      <td>2.546270e+13</td>\n",
       "      <td>3.939294</td>\n",
       "      <td>42.814286</td>\n",
       "    </tr>\n",
       "  </tbody>\n",
       "</table>\n",
       "<p>1219 rows × 3 columns</p>\n",
       "</div>"
      ],
      "text/plain": [
       "         GDP, 2022  Mean_GDP_Growth  Mean_Corporation_Tax_Rate\n",
       "0     1.796317e+13        12.800046                  66.171429\n",
       "1     2.546270e+13         3.939294                  42.814286\n",
       "2     1.796317e+13        12.800046                  66.171429\n",
       "3     2.546270e+13         3.939294                  42.814286\n",
       "4     1.675419e+12         5.843877                  48.092857\n",
       "...            ...              ...                        ...\n",
       "1216  3.385090e+12         8.714447                  54.414286\n",
       "1217  2.546270e+13         3.939294                  42.814286\n",
       "1218  2.546270e+13         3.939294                  42.814286\n",
       "1219  2.546270e+13         3.939294                  42.814286\n",
       "1220  2.546270e+13         3.939294                  42.814286\n",
       "\n",
       "[1219 rows x 3 columns]"
      ]
     },
     "execution_count": 202,
     "metadata": {},
     "output_type": "execute_result"
    }
   ],
   "source": [
    "data"
   ]
  },
  {
   "cell_type": "code",
   "execution_count": 203,
   "id": "09ff6e96",
   "metadata": {},
   "outputs": [],
   "source": [
    "data = ((data - data.min()) / (data.max() - data.min())) * 10 + 1"
   ]
  },
  {
   "cell_type": "code",
   "execution_count": 204,
   "id": "1109644b",
   "metadata": {},
   "outputs": [
    {
     "data": {
      "text/html": [
       "<div>\n",
       "<style scoped>\n",
       "    .dataframe tbody tr th:only-of-type {\n",
       "        vertical-align: middle;\n",
       "    }\n",
       "\n",
       "    .dataframe tbody tr th {\n",
       "        vertical-align: top;\n",
       "    }\n",
       "\n",
       "    .dataframe thead th {\n",
       "        text-align: right;\n",
       "    }\n",
       "</style>\n",
       "<table border=\"1\" class=\"dataframe\">\n",
       "  <thead>\n",
       "    <tr style=\"text-align: right;\">\n",
       "      <th></th>\n",
       "      <th>GDP, 2022</th>\n",
       "      <th>Mean_GDP_Growth</th>\n",
       "      <th>Mean_Corporation_Tax_Rate</th>\n",
       "    </tr>\n",
       "  </thead>\n",
       "  <tbody>\n",
       "    <tr>\n",
       "      <th>count</th>\n",
       "      <td>1219.000000</td>\n",
       "      <td>1219.000000</td>\n",
       "      <td>1219.000000</td>\n",
       "    </tr>\n",
       "    <tr>\n",
       "      <th>mean</th>\n",
       "      <td>7.648750</td>\n",
       "      <td>5.606582</td>\n",
       "      <td>4.216995</td>\n",
       "    </tr>\n",
       "    <tr>\n",
       "      <th>std</th>\n",
       "      <td>4.122026</td>\n",
       "      <td>2.531064</td>\n",
       "      <td>1.182804</td>\n",
       "    </tr>\n",
       "    <tr>\n",
       "      <th>min</th>\n",
       "      <td>1.000000</td>\n",
       "      <td>1.000000</td>\n",
       "      <td>1.000000</td>\n",
       "    </tr>\n",
       "    <tr>\n",
       "      <th>25%</th>\n",
       "      <td>2.328890</td>\n",
       "      <td>4.552848</td>\n",
       "      <td>3.865437</td>\n",
       "    </tr>\n",
       "    <tr>\n",
       "      <th>50%</th>\n",
       "      <td>11.000000</td>\n",
       "      <td>4.552848</td>\n",
       "      <td>3.865437</td>\n",
       "    </tr>\n",
       "    <tr>\n",
       "      <th>75%</th>\n",
       "      <td>11.000000</td>\n",
       "      <td>5.938637</td>\n",
       "      <td>4.755420</td>\n",
       "    </tr>\n",
       "    <tr>\n",
       "      <th>max</th>\n",
       "      <td>11.000000</td>\n",
       "      <td>11.000000</td>\n",
       "      <td>11.000000</td>\n",
       "    </tr>\n",
       "  </tbody>\n",
       "</table>\n",
       "</div>"
      ],
      "text/plain": [
       "         GDP, 2022  Mean_GDP_Growth  Mean_Corporation_Tax_Rate\n",
       "count  1219.000000      1219.000000                1219.000000\n",
       "mean      7.648750         5.606582                   4.216995\n",
       "std       4.122026         2.531064                   1.182804\n",
       "min       1.000000         1.000000                   1.000000\n",
       "25%       2.328890         4.552848                   3.865437\n",
       "50%      11.000000         4.552848                   3.865437\n",
       "75%      11.000000         5.938637                   4.755420\n",
       "max      11.000000        11.000000                  11.000000"
      ]
     },
     "execution_count": 204,
     "metadata": {},
     "output_type": "execute_result"
    }
   ],
   "source": [
    "data.describe()"
   ]
  },
  {
   "cell_type": "code",
   "execution_count": 205,
   "id": "25da453a",
   "metadata": {},
   "outputs": [],
   "source": [
    "def random_centroids(data,k):\n",
    "    centroids =[]\n",
    "    for i in range (k):\n",
    "        centroid = data.apply(lambda column: float(column.sample()))\n",
    "        centroids.append(centroid)\n",
    "    return pd.concat(centroids,axis=1)\n",
    "    "
   ]
  },
  {
   "cell_type": "code",
   "execution_count": 213,
   "id": "7b4c6fa3",
   "metadata": {},
   "outputs": [
    {
     "data": {
      "text/html": [
       "<div>\n",
       "<style scoped>\n",
       "    .dataframe tbody tr th:only-of-type {\n",
       "        vertical-align: middle;\n",
       "    }\n",
       "\n",
       "    .dataframe tbody tr th {\n",
       "        vertical-align: top;\n",
       "    }\n",
       "\n",
       "    .dataframe thead th {\n",
       "        text-align: right;\n",
       "    }\n",
       "</style>\n",
       "<table border=\"1\" class=\"dataframe\">\n",
       "  <thead>\n",
       "    <tr style=\"text-align: right;\">\n",
       "      <th></th>\n",
       "      <th>0</th>\n",
       "      <th>1</th>\n",
       "      <th>2</th>\n",
       "      <th>3</th>\n",
       "    </tr>\n",
       "  </thead>\n",
       "  <tbody>\n",
       "    <tr>\n",
       "      <th>GDP, 2022</th>\n",
       "      <td>8.054516</td>\n",
       "      <td>1.109672</td>\n",
       "      <td>2.661182</td>\n",
       "      <td>2.598753</td>\n",
       "    </tr>\n",
       "    <tr>\n",
       "      <th>Mean_GDP_Growth</th>\n",
       "      <td>4.552848</td>\n",
       "      <td>11.000000</td>\n",
       "      <td>4.552848</td>\n",
       "      <td>3.125583</td>\n",
       "    </tr>\n",
       "    <tr>\n",
       "      <th>Mean_Corporation_Tax_Rate</th>\n",
       "      <td>3.551628</td>\n",
       "      <td>3.865437</td>\n",
       "      <td>3.865437</td>\n",
       "      <td>3.865437</td>\n",
       "    </tr>\n",
       "  </tbody>\n",
       "</table>\n",
       "</div>"
      ],
      "text/plain": [
       "                                  0          1         2         3\n",
       "GDP, 2022                  8.054516   1.109672  2.661182  2.598753\n",
       "Mean_GDP_Growth            4.552848  11.000000  4.552848  3.125583\n",
       "Mean_Corporation_Tax_Rate  3.551628   3.865437  3.865437  3.865437"
      ]
     },
     "execution_count": 213,
     "metadata": {},
     "output_type": "execute_result"
    }
   ],
   "source": [
    "centroids = random_centroids(data, 4)\n",
    "centroids"
   ]
  },
  {
   "cell_type": "code",
   "execution_count": 214,
   "id": "8c0ddb5e",
   "metadata": {},
   "outputs": [
    {
     "data": {
      "text/html": [
       "<div>\n",
       "<style scoped>\n",
       "    .dataframe tbody tr th:only-of-type {\n",
       "        vertical-align: middle;\n",
       "    }\n",
       "\n",
       "    .dataframe tbody tr th {\n",
       "        vertical-align: top;\n",
       "    }\n",
       "\n",
       "    .dataframe thead th {\n",
       "        text-align: right;\n",
       "    }\n",
       "</style>\n",
       "<table border=\"1\" class=\"dataframe\">\n",
       "  <thead>\n",
       "    <tr style=\"text-align: right;\">\n",
       "      <th></th>\n",
       "      <th>GDP, 2022</th>\n",
       "      <th>Mean_GDP_Growth</th>\n",
       "      <th>Mean_Corporation_Tax_Rate</th>\n",
       "    </tr>\n",
       "  </thead>\n",
       "  <tbody>\n",
       "    <tr>\n",
       "      <th>0</th>\n",
       "      <td>8.054516</td>\n",
       "      <td>11.000000</td>\n",
       "      <td>6.268612</td>\n",
       "    </tr>\n",
       "    <tr>\n",
       "      <th>1</th>\n",
       "      <td>11.000000</td>\n",
       "      <td>4.552848</td>\n",
       "      <td>3.865437</td>\n",
       "    </tr>\n",
       "    <tr>\n",
       "      <th>2</th>\n",
       "      <td>8.054516</td>\n",
       "      <td>11.000000</td>\n",
       "      <td>6.268612</td>\n",
       "    </tr>\n",
       "    <tr>\n",
       "      <th>3</th>\n",
       "      <td>11.000000</td>\n",
       "      <td>4.552848</td>\n",
       "      <td>3.865437</td>\n",
       "    </tr>\n",
       "    <tr>\n",
       "      <th>4</th>\n",
       "      <td>1.657407</td>\n",
       "      <td>5.938637</td>\n",
       "      <td>4.408540</td>\n",
       "    </tr>\n",
       "    <tr>\n",
       "      <th>...</th>\n",
       "      <td>...</td>\n",
       "      <td>...</td>\n",
       "      <td>...</td>\n",
       "    </tr>\n",
       "    <tr>\n",
       "      <th>1216</th>\n",
       "      <td>2.328890</td>\n",
       "      <td>8.027286</td>\n",
       "      <td>5.058940</td>\n",
       "    </tr>\n",
       "    <tr>\n",
       "      <th>1217</th>\n",
       "      <td>11.000000</td>\n",
       "      <td>4.552848</td>\n",
       "      <td>3.865437</td>\n",
       "    </tr>\n",
       "    <tr>\n",
       "      <th>1218</th>\n",
       "      <td>11.000000</td>\n",
       "      <td>4.552848</td>\n",
       "      <td>3.865437</td>\n",
       "    </tr>\n",
       "    <tr>\n",
       "      <th>1219</th>\n",
       "      <td>11.000000</td>\n",
       "      <td>4.552848</td>\n",
       "      <td>3.865437</td>\n",
       "    </tr>\n",
       "    <tr>\n",
       "      <th>1220</th>\n",
       "      <td>11.000000</td>\n",
       "      <td>4.552848</td>\n",
       "      <td>3.865437</td>\n",
       "    </tr>\n",
       "  </tbody>\n",
       "</table>\n",
       "<p>1219 rows × 3 columns</p>\n",
       "</div>"
      ],
      "text/plain": [
       "      GDP, 2022  Mean_GDP_Growth  Mean_Corporation_Tax_Rate\n",
       "0      8.054516        11.000000                   6.268612\n",
       "1     11.000000         4.552848                   3.865437\n",
       "2      8.054516        11.000000                   6.268612\n",
       "3     11.000000         4.552848                   3.865437\n",
       "4      1.657407         5.938637                   4.408540\n",
       "...         ...              ...                        ...\n",
       "1216   2.328890         8.027286                   5.058940\n",
       "1217  11.000000         4.552848                   3.865437\n",
       "1218  11.000000         4.552848                   3.865437\n",
       "1219  11.000000         4.552848                   3.865437\n",
       "1220  11.000000         4.552848                   3.865437\n",
       "\n",
       "[1219 rows x 3 columns]"
      ]
     },
     "execution_count": 214,
     "metadata": {},
     "output_type": "execute_result"
    }
   ],
   "source": [
    "data"
   ]
  },
  {
   "cell_type": "code",
   "execution_count": 215,
   "id": "ad1a4ae9",
   "metadata": {},
   "outputs": [],
   "source": [
    "def get_labels(data, centroids):\n",
    "    distances = centroids.apply(lambda column: np.sqrt(((data - column) ** 2).sum(axis=1)))\n",
    "    return distances.idxmin(axis=1)"
   ]
  },
  {
   "cell_type": "code",
   "execution_count": 216,
   "id": "b89c05cf",
   "metadata": {
    "scrolled": true
   },
   "outputs": [],
   "source": [
    "labels = get_labels(data,centroids)"
   ]
  },
  {
   "cell_type": "code",
   "execution_count": 217,
   "id": "c926aad9",
   "metadata": {},
   "outputs": [
    {
     "data": {
      "text/plain": [
       "0    829\n",
       "3    161\n",
       "2    148\n",
       "1     81\n",
       "dtype: int64"
      ]
     },
     "execution_count": 217,
     "metadata": {},
     "output_type": "execute_result"
    }
   ],
   "source": [
    "labels.value_counts()"
   ]
  },
  {
   "cell_type": "code",
   "execution_count": 192,
   "id": "fe0a719f",
   "metadata": {},
   "outputs": [],
   "source": [
    "def new_centroids(data,labels,k):\n",
    "        centroids = data.groupby(labels).apply(lambda column: np.exp(np.log(column).mean())).T\n",
    "        return centroids"
   ]
  },
  {
   "cell_type": "code",
   "execution_count": 193,
   "id": "a3aa8998",
   "metadata": {},
   "outputs": [],
   "source": [
    "from sklearn.decomposition import PCA\n",
    "import matplotlib.pyplot as plt\n",
    "from IPython.display import clear_output"
   ]
  },
  {
   "cell_type": "code",
   "execution_count": 296,
   "id": "35d9a20e",
   "metadata": {},
   "outputs": [],
   "source": [
    "def plot_clusters(data, labels, centroids, iteration):\n",
    "    pca = PCA(n_components=2)\n",
    "    data_2d = pca.fit_transform(data)\n",
    "    centroids_2d = pca.transform(centroids.T)\n",
    "    clear_output(wait=True)\n",
    "    plt.title(f'Iteration {iteration}')\n",
    "    plt.scatter(x=data_2d[:,0], y=data_2d[:,1], c=labels)\n",
    "    plt.scatter(x=centroids_2d[:,0], y=centroids_2d[:,1])\n",
    "    plt.show()"
   ]
  },
  {
   "cell_type": "code",
   "execution_count": 297,
   "id": "074b7082",
   "metadata": {},
   "outputs": [
    {
     "ename": "AttributeError",
     "evalue": "'dict' object has no attribute 'apply'",
     "output_type": "error",
     "traceback": [
      "\u001b[0;31m---------------------------------------------------------------------------\u001b[0m",
      "\u001b[0;31mAttributeError\u001b[0m                            Traceback (most recent call last)",
      "\u001b[0;32m/var/folders/qm/41v4pccs7bz2kwmbyfkprfgr0000gn/T/ipykernel_13366/2401757536.py\u001b[0m in \u001b[0;36m<module>\u001b[0;34m\u001b[0m\n\u001b[1;32m      2\u001b[0m \u001b[0mcentroid_count\u001b[0m \u001b[0;34m=\u001b[0m \u001b[0;36m4\u001b[0m\u001b[0;34m\u001b[0m\u001b[0;34m\u001b[0m\u001b[0m\n\u001b[1;32m      3\u001b[0m \u001b[0;34m\u001b[0m\u001b[0m\n\u001b[0;32m----> 4\u001b[0;31m \u001b[0mcentroids\u001b[0m \u001b[0;34m=\u001b[0m \u001b[0mrandom_centroids\u001b[0m\u001b[0;34m(\u001b[0m\u001b[0mdata\u001b[0m\u001b[0;34m,\u001b[0m \u001b[0mcentroid_count\u001b[0m\u001b[0;34m)\u001b[0m\u001b[0;34m\u001b[0m\u001b[0;34m\u001b[0m\u001b[0m\n\u001b[0m\u001b[1;32m      5\u001b[0m \u001b[0mold_centroids\u001b[0m \u001b[0;34m=\u001b[0m \u001b[0mpd\u001b[0m\u001b[0;34m.\u001b[0m\u001b[0mDataFrame\u001b[0m\u001b[0;34m(\u001b[0m\u001b[0;34m)\u001b[0m\u001b[0;34m\u001b[0m\u001b[0;34m\u001b[0m\u001b[0m\n\u001b[1;32m      6\u001b[0m \u001b[0miteration\u001b[0m \u001b[0;34m=\u001b[0m \u001b[0;36m1\u001b[0m\u001b[0;34m\u001b[0m\u001b[0;34m\u001b[0m\u001b[0m\n",
      "\u001b[0;32m/var/folders/qm/41v4pccs7bz2kwmbyfkprfgr0000gn/T/ipykernel_13366/3013870845.py\u001b[0m in \u001b[0;36mrandom_centroids\u001b[0;34m(data, k)\u001b[0m\n\u001b[1;32m      2\u001b[0m     \u001b[0mcentroids\u001b[0m \u001b[0;34m=\u001b[0m\u001b[0;34m[\u001b[0m\u001b[0;34m]\u001b[0m\u001b[0;34m\u001b[0m\u001b[0;34m\u001b[0m\u001b[0m\n\u001b[1;32m      3\u001b[0m     \u001b[0;32mfor\u001b[0m \u001b[0mi\u001b[0m \u001b[0;32min\u001b[0m \u001b[0mrange\u001b[0m \u001b[0;34m(\u001b[0m\u001b[0mk\u001b[0m\u001b[0;34m)\u001b[0m\u001b[0;34m:\u001b[0m\u001b[0;34m\u001b[0m\u001b[0;34m\u001b[0m\u001b[0m\n\u001b[0;32m----> 4\u001b[0;31m         \u001b[0mcentroid\u001b[0m \u001b[0;34m=\u001b[0m \u001b[0mdata\u001b[0m\u001b[0;34m.\u001b[0m\u001b[0mapply\u001b[0m\u001b[0;34m(\u001b[0m\u001b[0;32mlambda\u001b[0m \u001b[0mcolumn\u001b[0m\u001b[0;34m:\u001b[0m \u001b[0mfloat\u001b[0m\u001b[0;34m(\u001b[0m\u001b[0mcolumn\u001b[0m\u001b[0;34m.\u001b[0m\u001b[0msample\u001b[0m\u001b[0;34m(\u001b[0m\u001b[0;34m)\u001b[0m\u001b[0;34m)\u001b[0m\u001b[0;34m)\u001b[0m\u001b[0;34m\u001b[0m\u001b[0;34m\u001b[0m\u001b[0m\n\u001b[0m\u001b[1;32m      5\u001b[0m         \u001b[0mcentroids\u001b[0m\u001b[0;34m.\u001b[0m\u001b[0mappend\u001b[0m\u001b[0;34m(\u001b[0m\u001b[0mcentroid\u001b[0m\u001b[0;34m)\u001b[0m\u001b[0;34m\u001b[0m\u001b[0;34m\u001b[0m\u001b[0m\n\u001b[1;32m      6\u001b[0m     \u001b[0;32mreturn\u001b[0m \u001b[0mpd\u001b[0m\u001b[0;34m.\u001b[0m\u001b[0mconcat\u001b[0m\u001b[0;34m(\u001b[0m\u001b[0mcentroids\u001b[0m\u001b[0;34m,\u001b[0m\u001b[0maxis\u001b[0m\u001b[0;34m=\u001b[0m\u001b[0;36m1\u001b[0m\u001b[0;34m)\u001b[0m\u001b[0;34m\u001b[0m\u001b[0;34m\u001b[0m\u001b[0m\n",
      "\u001b[0;31mAttributeError\u001b[0m: 'dict' object has no attribute 'apply'"
     ]
    }
   ],
   "source": [
    "max_iterations = 100\n",
    "centroid_count = 4\n",
    "\n",
    "centroids = random_centroids(data, centroid_count)\n",
    "old_centroids = pd.DataFrame()\n",
    "iteration = 1\n",
    "\n",
    "while iteration < max_iterations and not centroids.equals(old_centroids):\n",
    "    old_centroids = centroids\n",
    "    \n",
    "    labels = get_labels(data, centroids)\n",
    "    centroids = new_centroids(data, labels, centroid_count)\n",
    "    plot_clusters(data, labels, centroids, iteration)\n",
    "    iteration += 1"
   ]
  },
  {
   "cell_type": "code",
   "execution_count": 298,
   "id": "7885fcea",
   "metadata": {},
   "outputs": [
    {
     "data": {
      "text/html": [
       "<div>\n",
       "<style scoped>\n",
       "    .dataframe tbody tr th:only-of-type {\n",
       "        vertical-align: middle;\n",
       "    }\n",
       "\n",
       "    .dataframe tbody tr th {\n",
       "        vertical-align: top;\n",
       "    }\n",
       "\n",
       "    .dataframe thead th {\n",
       "        text-align: right;\n",
       "    }\n",
       "</style>\n",
       "<table border=\"1\" class=\"dataframe\">\n",
       "  <thead>\n",
       "    <tr style=\"text-align: right;\">\n",
       "      <th></th>\n",
       "      <th>0</th>\n",
       "      <th>1</th>\n",
       "      <th>2</th>\n",
       "      <th>3</th>\n",
       "    </tr>\n",
       "  </thead>\n",
       "  <tbody>\n",
       "    <tr>\n",
       "      <th>GDP, 2022</th>\n",
       "      <td>1.839035</td>\n",
       "      <td>8.054516</td>\n",
       "      <td>11.000000</td>\n",
       "      <td>1.654390</td>\n",
       "    </tr>\n",
       "    <tr>\n",
       "      <th>Mean_GDP_Growth</th>\n",
       "      <td>3.119715</td>\n",
       "      <td>11.000000</td>\n",
       "      <td>4.552848</td>\n",
       "      <td>7.115736</td>\n",
       "    </tr>\n",
       "    <tr>\n",
       "      <th>Mean_Corporation_Tax_Rate</th>\n",
       "      <td>3.534669</td>\n",
       "      <td>6.268612</td>\n",
       "      <td>3.865437</td>\n",
       "      <td>3.700158</td>\n",
       "    </tr>\n",
       "  </tbody>\n",
       "</table>\n",
       "</div>"
      ],
      "text/plain": [
       "                                  0          1          2         3\n",
       "GDP, 2022                  1.839035   8.054516  11.000000  1.654390\n",
       "Mean_GDP_Growth            3.119715  11.000000   4.552848  7.115736\n",
       "Mean_Corporation_Tax_Rate  3.534669   6.268612   3.865437  3.700158"
      ]
     },
     "execution_count": 298,
     "metadata": {},
     "output_type": "execute_result"
    }
   ],
   "source": [
    "centroids\n"
   ]
  },
  {
   "cell_type": "code",
   "execution_count": null,
   "id": "8a495ae2",
   "metadata": {},
   "outputs": [],
   "source": []
  }
 ],
 "metadata": {
  "kernelspec": {
   "display_name": "Python 3 (ipykernel)",
   "language": "python",
   "name": "python3"
  },
  "language_info": {
   "codemirror_mode": {
    "name": "ipython",
    "version": 3
   },
   "file_extension": ".py",
   "mimetype": "text/x-python",
   "name": "python",
   "nbconvert_exporter": "python",
   "pygments_lexer": "ipython3",
   "version": "3.9.13"
  }
 },
 "nbformat": 4,
 "nbformat_minor": 5
}
